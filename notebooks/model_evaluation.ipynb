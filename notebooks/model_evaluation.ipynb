{
 "cells": [
  {
   "attachments": {},
   "cell_type": "markdown",
   "metadata": {},
   "source": [
    "# Model evaluation\n",
    "\n",
    "In this notebook, I will compare the accuracy metrics of models"
   ]
  },
  {
   "cell_type": "code",
   "execution_count": 1,
   "metadata": {
    "execution": {
     "iopub.execute_input": "2023-08-06T08:38:10.062275Z",
     "iopub.status.busy": "2023-08-06T08:38:10.061739Z",
     "iopub.status.idle": "2023-08-06T08:38:10.098621Z",
     "shell.execute_reply": "2023-08-06T08:38:10.097715Z",
     "shell.execute_reply.started": "2023-08-06T08:38:10.062245Z"
    }
   },
   "outputs": [],
   "source": [
    "%load_ext autoreload\n",
    "%autoreload 2\n",
    "\n",
    "import sys\n",
    "\n",
    "sys.path.append(\"..\")"
   ]
  },
  {
   "cell_type": "code",
   "execution_count": 2,
   "metadata": {
    "execution": {
     "iopub.execute_input": "2023-08-06T08:38:10.213751Z",
     "iopub.status.busy": "2023-08-06T08:38:10.213198Z",
     "iopub.status.idle": "2023-08-06T08:38:12.708943Z",
     "shell.execute_reply": "2023-08-06T08:38:12.708638Z",
     "shell.execute_reply.started": "2023-08-06T08:38:10.213722Z"
    }
   },
   "outputs": [],
   "source": [
    "import matplotlib.pyplot as plt\n",
    "import numpy as np\n",
    "import pandas as pd\n",
    "import seaborn as sns"
   ]
  },
  {
   "cell_type": "code",
   "execution_count": 3,
   "metadata": {
    "execution": {
     "iopub.execute_input": "2023-08-06T08:38:12.709857Z",
     "iopub.status.busy": "2023-08-06T08:38:12.709721Z",
     "iopub.status.idle": "2023-08-06T08:38:12.737893Z",
     "shell.execute_reply": "2023-08-06T08:38:12.737566Z",
     "shell.execute_reply.started": "2023-08-06T08:38:12.709848Z"
    }
   },
   "outputs": [],
   "source": [
    "import scienceplots  # noqa # pylint: disable=unused-import\n",
    "\n",
    "plt.style.use([\"science\", \"ieee\", \"default\"])\n",
    "plt.rcParams.update({\"axes.grid\": True})"
   ]
  },
  {
   "cell_type": "code",
   "execution_count": 4,
   "metadata": {
    "execution": {
     "iopub.execute_input": "2023-08-06T08:38:12.738591Z",
     "iopub.status.busy": "2023-08-06T08:38:12.738460Z",
     "iopub.status.idle": "2023-08-06T08:38:12.760203Z",
     "shell.execute_reply": "2023-08-06T08:38:12.759844Z",
     "shell.execute_reply.started": "2023-08-06T08:38:12.738581Z"
    }
   },
   "outputs": [],
   "source": [
    "from tqdm.auto import tqdm"
   ]
  },
  {
   "cell_type": "markdown",
   "metadata": {},
   "source": [
    "## Prepare dataloader"
   ]
  },
  {
   "cell_type": "code",
   "execution_count": 5,
   "metadata": {
    "execution": {
     "iopub.execute_input": "2023-08-06T08:38:12.761482Z",
     "iopub.status.busy": "2023-08-06T08:38:12.761298Z",
     "iopub.status.idle": "2023-08-06T08:38:12.778818Z",
     "shell.execute_reply": "2023-08-06T08:38:12.778414Z",
     "shell.execute_reply.started": "2023-08-06T08:38:12.761436Z"
    }
   },
   "outputs": [],
   "source": [
    "from pathlib import Path\n",
    "\n",
    "ROOT_DATA_DIR = Path(\"../data/\")"
   ]
  },
  {
   "cell_type": "code",
   "execution_count": 6,
   "metadata": {
    "execution": {
     "iopub.execute_input": "2023-08-06T08:38:12.779473Z",
     "iopub.status.busy": "2023-08-06T08:38:12.779348Z",
     "iopub.status.idle": "2023-08-06T08:38:14.541557Z",
     "shell.execute_reply": "2023-08-06T08:38:14.541148Z",
     "shell.execute_reply.started": "2023-08-06T08:38:12.779464Z"
    }
   },
   "outputs": [],
   "source": [
    "from collections import defaultdict\n",
    "\n",
    "import torch\n",
    "from pytorch_lightning import Trainer, seed_everything\n",
    "from sklearn.preprocessing import MinMaxScaler\n",
    "from sklearn.utils.class_weight import compute_class_weight\n",
    "from torch import Tensor, nn\n",
    "from torch.utils.data import DataLoader, TensorDataset\n",
    "\n",
    "from src.utils import get_metrics\n",
    "\n",
    "\n",
    "def seed_init_fn(seed=1):\n",
    "    import random\n",
    "\n",
    "    import numpy as np\n",
    "    import torch\n",
    "\n",
    "    np.random.seed(seed)\n",
    "    random.seed(seed)\n",
    "    torch.manual_seed(seed)"
   ]
  },
  {
   "cell_type": "code",
   "execution_count": 14,
   "metadata": {
    "execution": {
     "iopub.execute_input": "2023-08-06T08:38:27.333352Z",
     "iopub.status.busy": "2023-08-06T08:38:27.332733Z",
     "iopub.status.idle": "2023-08-06T08:38:27.403513Z",
     "shell.execute_reply": "2023-08-06T08:38:27.403096Z",
     "shell.execute_reply.started": "2023-08-06T08:38:27.333298Z"
    }
   },
   "outputs": [],
   "source": [
    "def train_loop(dataloader, model, loss_fn, optimizer):\n",
    "    size = len(dataloader.dataset)\n",
    "    model.train()\n",
    "    for batch, (x_batch, y_batch) in enumerate(dataloader):\n",
    "        y_pred = model(x_batch)\n",
    "\n",
    "        loss = loss_fn(y_pred, y_batch)\n",
    "\n",
    "        optimizer.zero_grad()\n",
    "        loss.backward()\n",
    "        optimizer.step()\n",
    "    return res_dict\n",
    "\n",
    "\n",
    "def test_loop(dataloader, model, loss_fn):\n",
    "    res_dict = {}\n",
    "    model.eval()\n",
    "    size = len(dataloader.dataset)\n",
    "    num_batches = len(dataloader)\n",
    "    test_loss, correct = 0, 0\n",
    "\n",
    "    all_y = []\n",
    "    all_y_pred = []\n",
    "    with torch.no_grad():\n",
    "        for x_batch, y_batch in dataloader:\n",
    "            y_pred = model(x_batch)\n",
    "            test_loss += loss_fn(y_pred, y_batch).item()\n",
    "            all_y.append(y_batch)\n",
    "\n",
    "            # convert sigmoid to labels\n",
    "            y_pred = y_pred.reshape(-1)\n",
    "            y_pred = (y_pred > 0.5).int()\n",
    "            all_y_pred.append(y_pred)\n",
    "\n",
    "    test_loss /= num_batches\n",
    "    res_dict[\"loss\"] = test_loss\n",
    "    all_y = torch.cat(all_y)\n",
    "    all_y_pred = torch.cat(all_y_pred)\n",
    "    res_dict = res_dict | get_metrics(y_true=all_y, y_pred=all_y_pred)\n",
    "    return res_dict"
   ]
  },
  {
   "cell_type": "markdown",
   "metadata": {},
   "source": [
    "take only 1 dataset, 1 concrete time series for now..."
   ]
  },
  {
   "cell_type": "code",
   "execution_count": 15,
   "metadata": {
    "execution": {
     "iopub.execute_input": "2023-08-06T08:38:27.667561Z",
     "iopub.status.busy": "2023-08-06T08:38:27.667073Z",
     "iopub.status.idle": "2023-08-06T08:38:27.726556Z",
     "shell.execute_reply": "2023-08-06T08:38:27.726117Z",
     "shell.execute_reply.started": "2023-08-06T08:38:27.667530Z"
    }
   },
   "outputs": [],
   "source": [
    "DATA_DIR = ROOT_DATA_DIR / \"KPI-Anomaly-Detection/Preliminary_dataset\""
   ]
  },
  {
   "cell_type": "code",
   "execution_count": 16,
   "metadata": {
    "execution": {
     "iopub.execute_input": "2023-08-06T08:38:27.852111Z",
     "iopub.status.busy": "2023-08-06T08:38:27.851345Z",
     "iopub.status.idle": "2023-08-06T08:38:28.059204Z",
     "shell.execute_reply": "2023-08-06T08:38:28.058729Z",
     "shell.execute_reply.started": "2023-08-06T08:38:27.852050Z"
    }
   },
   "outputs": [],
   "source": [
    "df = pd.read_parquet(DATA_DIR / \"train.parquet\")\n",
    "df.rename(columns={\"label\": \"target\"}, inplace=True)\n",
    "df = df[df[\"KPI ID\"] == \"02e99bd4f6cfb33f\"].copy()\n",
    "df = df[df.index > 1.49 * 1e9].copy()\n",
    "df = df.query(\"timestamp < 1496538120\").copy()\n",
    "df[\"time\"] = df.index - df.index[0]\n",
    "# df[\"value\"] = df[\"value\"].diff()\n",
    "# df = df.query('stock==1 & day==0 & train==1')\n",
    "# df.value = df.value.pct_change()\n",
    "df.dropna(inplace=True)"
   ]
  },
  {
   "cell_type": "code",
   "execution_count": 17,
   "metadata": {
    "execution": {
     "iopub.execute_input": "2023-08-06T08:38:28.061275Z",
     "iopub.status.busy": "2023-08-06T08:38:28.060993Z",
     "iopub.status.idle": "2023-08-06T08:38:28.098633Z",
     "shell.execute_reply": "2023-08-06T08:38:28.098277Z",
     "shell.execute_reply.started": "2023-08-06T08:38:28.061261Z"
    }
   },
   "outputs": [],
   "source": [
    "def convert_to_windows(x, window_size):\n",
    "    # convert input time series x to\n",
    "    # time series of lags, first window_size observations are dropped\n",
    "    windows = []\n",
    "    for i in range(window_size, len(x)):\n",
    "        w = x[i - window_size : i]\n",
    "        windows.append(w)\n",
    "    windows = np.array(windows)\n",
    "    return windows\n",
    "\n",
    "\n",
    "# TODO: maybe make this a general function...\n",
    "t = df.copy()\n",
    "# # for col in ['value', 'target']:\n",
    "# for col in [\"value\"]:\n",
    "#     for lag in range(0, window_size):\n",
    "#         t[f\"lag_{col}_{lag}\"] = t[col].shift(lag)\n",
    "# t = t.dropna()\n",
    "# tr_cols = [c for c in t.columns if \"lag\" in c]\n",
    "# # remove target from train columns\n",
    "# try:\n",
    "#     tr_cols.pop(tr_cols.index(\"lag_target_0\"))\n",
    "# except:\n",
    "#     pass\n",
    "# df = t"
   ]
  },
  {
   "cell_type": "code",
   "execution_count": 18,
   "metadata": {
    "execution": {
     "iopub.execute_input": "2023-08-06T08:38:28.275400Z",
     "iopub.status.busy": "2023-08-06T08:38:28.274693Z",
     "iopub.status.idle": "2023-08-06T08:38:28.353217Z",
     "shell.execute_reply": "2023-08-06T08:38:28.352870Z",
     "shell.execute_reply.started": "2023-08-06T08:38:28.275367Z"
    }
   },
   "outputs": [],
   "source": [
    "df[\"value_diff\"] = df[\"value\"].diff()\n",
    "tr_cols = [\"value\", \"value_diff\"]\n",
    "df = df.dropna()"
   ]
  },
  {
   "cell_type": "code",
   "execution_count": 19,
   "metadata": {
    "execution": {
     "iopub.execute_input": "2023-08-06T08:38:28.553237Z",
     "iopub.status.busy": "2023-08-06T08:38:28.552772Z",
     "iopub.status.idle": "2023-08-06T08:38:28.609670Z",
     "shell.execute_reply": "2023-08-06T08:38:28.609177Z",
     "shell.execute_reply.started": "2023-08-06T08:38:28.553198Z"
    }
   },
   "outputs": [],
   "source": [
    "# fig, axs = plt.subplots(1, 2, figsize=(8, 4))\n",
    "# plt.subplot(1, 2, 1)\n",
    "# plt.plot(df.value.diff())\n",
    "# plt.subplot(1, 2, 2)\n",
    "# plt.hist(df.value)\n",
    "# plt.yscale(\"log\")\n",
    "# plt.tight_layout();"
   ]
  },
  {
   "cell_type": "code",
   "execution_count": 20,
   "metadata": {
    "execution": {
     "iopub.execute_input": "2023-08-06T08:38:28.887817Z",
     "iopub.status.busy": "2023-08-06T08:38:28.887425Z",
     "iopub.status.idle": "2023-08-06T08:38:28.948461Z",
     "shell.execute_reply": "2023-08-06T08:38:28.948058Z",
     "shell.execute_reply.started": "2023-08-06T08:38:28.887792Z"
    }
   },
   "outputs": [],
   "source": [
    "window_size = 8\n",
    "train_proportion = 0.9\n",
    "batch_size = 16\n",
    "learning_rate = 1e-5\n",
    "epochs = 30"
   ]
  },
  {
   "cell_type": "code",
   "execution_count": 21,
   "metadata": {
    "execution": {
     "iopub.execute_input": "2023-08-06T08:38:29.126700Z",
     "iopub.status.busy": "2023-08-06T08:38:29.126228Z",
     "iopub.status.idle": "2023-08-06T08:38:29.211299Z",
     "shell.execute_reply": "2023-08-06T08:38:29.210937Z",
     "shell.execute_reply.started": "2023-08-06T08:38:29.126616Z"
    }
   },
   "outputs": [],
   "source": [
    "x = df[tr_cols].values.copy()\n",
    "scaler = MinMaxScaler()\n",
    "x = scaler.fit_transform(x)\n",
    "# x_scaled = x\n",
    "x = convert_to_windows(x, window_size)\n",
    "y = df[\"target\"].values\n",
    "y = y[window_size:]\n",
    "\n",
    "# class_weights = compute_class_weight('balanced', classes=[0, 1], y=y.ravel())\n",
    "# class_weights = class_weights / class_weights.sum()\n",
    "\n",
    "x = torch.Tensor(x)\n",
    "y = torch.Tensor(y)\n",
    "\n",
    "train_idx = int(len(x) * train_proportion)\n",
    "# train_idx = int(1.495 * 1e9)\n",
    "\n",
    "tr, va = x[:train_idx], x[train_idx:]\n",
    "# x = np.hstack([x, y.reshape(-1, 1)])\n",
    "# y = y.reshape(-1, 1)\n",
    "ytr, yva = y[:train_idx], y[train_idx:]\n",
    "tr_dataset = TensorDataset(tr, ytr)\n",
    "va_dataset = TensorDataset(va, yva)\n",
    "\n",
    "# weights = torch.where(ytr.ravel() == 0, class_weights[0], class_weights[1])\n",
    "\n",
    "# TODO: maybe add test dataset\n",
    "\n",
    "# debug print\n",
    "# print(ytr.mean(), yva.mean())"
   ]
  },
  {
   "cell_type": "code",
   "execution_count": 22,
   "metadata": {
    "execution": {
     "iopub.execute_input": "2023-08-06T08:38:30.866176Z",
     "iopub.status.busy": "2023-08-06T08:38:30.865555Z",
     "iopub.status.idle": "2023-08-06T08:38:31.872642Z",
     "shell.execute_reply": "2023-08-06T08:38:31.844382Z",
     "shell.execute_reply.started": "2023-08-06T08:38:30.866135Z"
    }
   },
   "outputs": [
    {
     "data": {
      "image/png": "[encoded data removed]",
      "text/plain": [
       "<Figure size 800x400 with 2 Axes>"
      ]
     },
     "metadata": {},
     "output_type": "display_data"
    }
   ],
   "source": [
    "fig, axs = plt.subplots(1, 2, figsize=(8, 4))\n",
    "plt.sca(axs[0])\n",
    "plt.plot(tr[:, 0, 0])\n",
    "plt.sca(axs[1])\n",
    "plt.plot(tr[:, 0, 1])\n",
    "fig.tight_layout();"
   ]
  },
  {
   "cell_type": "markdown",
   "metadata": {},
   "source": [
    "## Evaluate models"
   ]
  },
  {
   "cell_type": "code",
   "execution_count": 52,
   "metadata": {
    "execution": {
     "iopub.execute_input": "2023-08-06T09:43:31.313506Z",
     "iopub.status.busy": "2023-08-06T09:43:31.312988Z",
     "iopub.status.idle": "2023-08-06T09:43:31.385620Z",
     "shell.execute_reply": "2023-08-06T09:43:31.385220Z",
     "shell.execute_reply.started": "2023-08-06T09:43:31.313472Z"
    }
   },
   "outputs": [],
   "source": [
    "from src.transformer import TransformerAnomalyDetector, TransformerEncoder"
   ]
  },
  {
   "cell_type": "markdown",
   "metadata": {},
   "source": [
    "### Scaled Dot-Product"
   ]
  },
  {
   "cell_type": "code",
   "execution_count": 99,
   "metadata": {
    "execution": {
     "iopub.execute_input": "2023-08-06T10:15:46.933510Z",
     "iopub.status.busy": "2023-08-06T10:15:46.932855Z",
     "iopub.status.idle": "2023-08-06T10:15:47.006318Z",
     "shell.execute_reply": "2023-08-06T10:15:47.005922Z",
     "shell.execute_reply.started": "2023-08-06T10:15:46.933472Z"
    }
   },
   "outputs": [],
   "source": [
    "window_size = 8\n",
    "train_proportion = 0.9\n",
    "batch_size = 2056\n",
    "epochs = 200"
   ]
  },
  {
   "cell_type": "code",
   "execution_count": 100,
   "metadata": {
    "execution": {
     "iopub.execute_input": "2023-08-06T10:15:47.672369Z",
     "iopub.status.busy": "2023-08-06T10:15:47.671555Z",
     "iopub.status.idle": "2023-08-06T10:15:47.744225Z",
     "shell.execute_reply": "2023-08-06T10:15:47.743883Z",
     "shell.execute_reply.started": "2023-08-06T10:15:47.672269Z"
    }
   },
   "outputs": [
    {
     "name": "stderr",
     "output_type": "stream",
     "text": [
      "Global seed set to 1\n"
     ]
    }
   ],
   "source": [
    "seed_everything(1)\n",
    "\n",
    "# TODO: sampling might be useful for some datasets\n",
    "# sampler = torch.utils.data.sampler.WeightedRandomSampler(weights, len(weights))\n",
    "# tr_dl = DataLoader(tr_dataset, batch_size=batch_size, shuffle=False, sampler=sampler)\n",
    "\n",
    "tr_dl = DataLoader(tr_dataset, batch_size=batch_size, shuffle=False)\n",
    "va_dl = DataLoader(va_dataset, batch_size=batch_size, shuffle=True)"
   ]
  },
  {
   "cell_type": "markdown",
   "metadata": {},
   "source": [
    "> **TODO**: add positional enocding"
   ]
  },
  {
   "cell_type": "markdown",
   "metadata": {},
   "source": [
    "See the code for Anomaly BERT -> implement sequences windows for tensors -> unsqueeze before supplying to the model"
   ]
  },
  {
   "cell_type": "code",
   "execution_count": 101,
   "metadata": {
    "execution": {
     "iopub.execute_input": "2023-08-06T10:15:48.246546Z",
     "iopub.status.busy": "2023-08-06T10:15:48.245723Z",
     "iopub.status.idle": "2023-08-06T10:15:48.323425Z",
     "shell.execute_reply": "2023-08-06T10:15:48.323032Z",
     "shell.execute_reply.started": "2023-08-06T10:15:48.246481Z"
    }
   },
   "outputs": [],
   "source": [
    "input_dim = len(tr_cols)\n",
    "out_dim = 1\n",
    "\n",
    "num_layers = 2\n",
    "block_input_dim = 16\n",
    "block_embed_dim = block_input_dim  # implicitly set in the block\n",
    "block_num_heads = 4\n",
    "block_dim_feedforward = 2 * block_input_dim\n",
    "block_args = {\n",
    "    \"input_dim\": block_input_dim,\n",
    "    \"num_heads\": block_num_heads,\n",
    "    \"dim_feedforward\": block_dim_feedforward,\n",
    "}\n",
    "\n",
    "tf_enc = TransformerEncoder(num_layers=num_layers, **block_args)\n",
    "# xx = torch.rand(batch_size, window_size, input_dim)\n",
    "\n",
    "# front_linear = nn.Linear(input_dim, block_input_dim)\n",
    "# last_linear = nn.Linear(block_input_dim, out_dim)\n",
    "# xx = front_linear(xx)\n",
    "# xx = tf_enc(xx)\n",
    "# last_linear(xx).shape"
   ]
  },
  {
   "cell_type": "code",
   "execution_count": 102,
   "metadata": {
    "execution": {
     "iopub.execute_input": "2023-08-06T10:15:48.443372Z",
     "iopub.status.busy": "2023-08-06T10:15:48.442928Z",
     "iopub.status.idle": "2023-08-06T10:15:48.508740Z",
     "shell.execute_reply": "2023-08-06T10:15:48.508401Z",
     "shell.execute_reply.started": "2023-08-06T10:15:48.443338Z"
    }
   },
   "outputs": [
    {
     "name": "stderr",
     "output_type": "stream",
     "text": [
      "Global seed set to 1\n"
     ]
    }
   ],
   "source": [
    "seed_everything(1)\n",
    "\n",
    "input_dim = len(tr_cols)\n",
    "\n",
    "block_args = {\n",
    "    \"input_dim\": 16,\n",
    "    \"num_heads\": 4,\n",
    "    \"dim_feedforward\": 2 * 16,\n",
    "    \"num_layers\": 2,\n",
    "}\n",
    "positional_encoder_args = {\n",
    "    \"enable\": False,\n",
    "    \"max_len\": window_size,\n",
    "}\n",
    "\n",
    "# convert the above params to a dict\n",
    "model_params = {\n",
    "    \"input_dim\": input_dim,\n",
    "    \"block_input_dim\": block_args[\"input_dim\"],\n",
    "    \"block_args\": block_args,\n",
    "    \"num_layers\": block_args[\"num_layers\"],\n",
    "    \"positional_encoder_args\": positional_encoder_args,\n",
    "    \"learning_rate\": 1e-5,\n",
    "    \"dropout\": 0.0,\n",
    "}\n",
    "\n",
    "model = TransformerAnomalyDetector(\n",
    "    **model_params,\n",
    ")"
   ]
  },
  {
   "cell_type": "code",
   "execution_count": 103,
   "metadata": {
    "execution": {
     "iopub.execute_input": "2023-08-06T10:15:48.994490Z",
     "iopub.status.busy": "2023-08-06T10:15:48.993788Z",
     "iopub.status.idle": "2023-08-06T10:15:49.065498Z",
     "shell.execute_reply": "2023-08-06T10:15:49.065094Z",
     "shell.execute_reply.started": "2023-08-06T10:15:48.994443Z"
    }
   },
   "outputs": [],
   "source": [
    "# xx = torch.rand(batch_size, window_size, input_dim)\n",
    "# print(xx.shape)\n",
    "# model(xx)"
   ]
  },
  {
   "cell_type": "code",
   "execution_count": 104,
   "metadata": {
    "execution": {
     "iopub.execute_input": "2023-08-06T10:15:49.506110Z",
     "iopub.status.busy": "2023-08-06T10:15:49.505581Z",
     "iopub.status.idle": "2023-08-06T10:15:49.578238Z",
     "shell.execute_reply": "2023-08-06T10:15:49.577873Z",
     "shell.execute_reply.started": "2023-08-06T10:15:49.506074Z"
    }
   },
   "outputs": [],
   "source": [
    "# loss_fn = nn.BCELoss()\n",
    "loss_fn = nn.BCEWithLogitsLoss()\n",
    "optimizer = torch.optim.Adam(model.parameters(), lr=learning_rate)"
   ]
  },
  {
   "cell_type": "code",
   "execution_count": 105,
   "metadata": {
    "execution": {
     "iopub.execute_input": "2023-08-06T10:15:49.981903Z",
     "iopub.status.busy": "2023-08-06T10:15:49.981095Z",
     "iopub.status.idle": "2023-08-06T10:19:06.112543Z",
     "shell.execute_reply": "2023-08-06T10:19:06.112181Z",
     "shell.execute_reply.started": "2023-08-06T10:15:49.981847Z"
    }
   },
   "outputs": [
    {
     "name": "stderr",
     "output_type": "stream",
     "text": [
      "Global seed set to 1\n"
     ]
    },
    {
     "data": {
      "application/vnd.jupyter.widget-view+json": {
       "model_id": "3a97ad4f22764fda93d34d9e646d2ea9",
       "version_major": 2,
       "version_minor": 0
      },
      "text/plain": [
       "  0%|          | 0/200 [00:00<?, ?it/s]"
      ]
     },
     "metadata": {},
     "output_type": "display_data"
    },
    {
     "name": "stdout",
     "output_type": "stream",
     "text": [
      "0\n",
      "train {'loss': 0.9809569205556598, 'precision': 0.03677578250161402, 'recall': 0.9987012987012988, 'auc': 0.4993506493506494, 'f1': 0.07093932335508867}\n",
      "val {'loss': 0.9558567404747009, 'precision': 0.08067986230636832, 'recall': 1.0, 'auc': 0.5, 'f1': 0.14931315946645432}\n",
      "\n",
      "1\n",
      "train {'loss': 0.9654961767650786, 'precision': 0.033618868810138466, 'recall': 0.7441558441558441, 'auc': 0.4631957633509156, 'f1': 0.06433142472212867}\n",
      "val {'loss': 0.9440948963165283, 'precision': 0.07534406344763238, 'recall': 0.8613333333333333, 'auc': 0.4668239332241204, 'f1': 0.1385671385671386}\n",
      "\n",
      "2\n",
      "train {'loss': 0.9501937400727045, 'precision': 0.021856027753686037, 'recall': 0.08181818181818182, 'auc': 0.4709167864630467, 'f1': 0.03449691991786448}\n",
      "val {'loss': 0.9293591777483622, 'precision': 0.13054830287206268, 'recall': 0.13333333333333333, 'auc': 0.5277010687261097, 'f1': 0.13192612137203166}\n",
      "\n",
      "3\n",
      "train {'loss': 0.9348564346631368, 'precision': 0.8888888888888888, 'recall': 0.005194805194805195, 'auc': 0.502584990413603, 'f1': 0.010329244673983216}\n",
      "val {'loss': 0.9135475953420004, 'precision': 1.0, 'recall': 0.013333333333333334, 'auc': 0.5066666666666667, 'f1': 0.02631578947368421}\n",
      "\n",
      "4\n",
      "train {'loss': 0.9194440728142148, 'precision': 0.0, 'recall': 0.0, 'auc': 0.5, 'f1': 0.0}\n",
      "val {'loss': 0.9003920157750448, 'precision': 0.0, 'recall': 0.0, 'auc': 0.5, 'f1': 0.0}\n",
      "\n",
      "5\n",
      "train {'loss': 0.9039069442521959, 'precision': 0.0, 'recall': 0.0, 'auc': 0.5, 'f1': 0.0}\n",
      "val {'loss': 0.8873341679573059, 'precision': 0.0, 'recall': 0.0, 'auc': 0.5, 'f1': 0.0}\n",
      "\n",
      "6\n",
      "train {'loss': 0.8882036606470743, 'precision': 0.0, 'recall': 0.0, 'auc': 0.5, 'f1': 0.0}\n",
      "val {'loss': 0.8708141644795736, 'precision': 0.0, 'recall': 0.0, 'auc': 0.5, 'f1': 0.0}\n",
      "\n",
      "7\n",
      "train {'loss': 0.8725090395836603, 'precision': 0.0, 'recall': 0.0, 'auc': 0.5, 'f1': 0.0}\n",
      "val {'loss': 0.856823742389679, 'precision': 0.0, 'recall': 0.0, 'auc': 0.5, 'f1': 0.0}\n",
      "\n",
      "8\n",
      "train {'loss': 0.856820407367888, 'precision': 0.0, 'recall': 0.0, 'auc': 0.5, 'f1': 0.0}\n",
      "val {'loss': 0.8420887589454651, 'precision': 0.0, 'recall': 0.0, 'auc': 0.5, 'f1': 0.0}\n",
      "\n",
      "9\n",
      "train {'loss': 0.8411682815778823, 'precision': 0.0, 'recall': 0.0, 'auc': 0.5, 'f1': 0.0}\n",
      "val {'loss': 0.8275318145751953, 'precision': 0.0, 'recall': 0.0, 'auc': 0.5, 'f1': 0.0}\n",
      "\n",
      "10\n",
      "train {'loss': 0.8255929492768788, 'precision': 0.0, 'recall': 0.0, 'auc': 0.5, 'f1': 0.0}\n",
      "val {'loss': 0.8142011761665344, 'precision': 0.0, 'recall': 0.0, 'auc': 0.5, 'f1': 0.0}\n",
      "\n",
      "11\n",
      "train {'loss': 0.8100783257257371, 'precision': 0.0, 'recall': 0.0, 'auc': 0.5, 'f1': 0.0}\n",
      "val {'loss': 0.7998464306195577, 'precision': 0.0, 'recall': 0.0, 'auc': 0.5, 'f1': 0.0}\n",
      "\n",
      "12\n",
      "train {'loss': 0.7946357471602303, 'precision': 0.0, 'recall': 0.0, 'auc': 0.5, 'f1': 0.0}\n",
      "val {'loss': 0.7857600053151449, 'precision': 0.0, 'recall': 0.0, 'auc': 0.5, 'f1': 0.0}\n",
      "\n",
      "13\n",
      "train {'loss': 0.7792800154004779, 'precision': 0.0, 'recall': 0.0, 'auc': 0.5, 'f1': 0.0}\n",
      "val {'loss': 0.771345297495524, 'precision': 0.0, 'recall': 0.0, 'auc': 0.5, 'f1': 0.0}\n",
      "\n",
      "14\n",
      "train {'loss': 0.764022673879351, 'precision': 0.0, 'recall': 0.0, 'auc': 0.5, 'f1': 0.0}\n",
      "val {'loss': 0.7577095230420431, 'precision': 0.0, 'recall': 0.0, 'auc': 0.5, 'f1': 0.0}\n",
      "\n",
      "15\n",
      "train {'loss': 0.74887501341956, 'precision': 0.0, 'recall': 0.0, 'auc': 0.5, 'f1': 0.0}\n",
      "val {'loss': 0.7442942063013712, 'precision': 0.0, 'recall': 0.0, 'auc': 0.5, 'f1': 0.0}\n",
      "\n",
      "16\n",
      "train {'loss': 0.7338471951938811, 'precision': 0.0, 'recall': 0.0, 'auc': 0.5, 'f1': 0.0}\n",
      "val {'loss': 0.7304567297299703, 'precision': 0.0, 'recall': 0.0, 'auc': 0.5, 'f1': 0.0}\n",
      "\n",
      "17\n",
      "train {'loss': 0.7189493378003439, 'precision': 0.0, 'recall': 0.0, 'auc': 0.5, 'f1': 0.0}\n",
      "val {'loss': 0.7170202930768331, 'precision': 0.0, 'recall': 0.0, 'auc': 0.5, 'f1': 0.0}\n",
      "\n",
      "18\n",
      "train {'loss': 0.704191715944381, 'precision': 0.0, 'recall': 0.0, 'auc': 0.5, 'f1': 0.0}\n",
      "val {'loss': 0.7034470836321512, 'precision': 0.0, 'recall': 0.0, 'auc': 0.5, 'f1': 0.0}\n",
      "\n",
      "19\n",
      "train {'loss': 0.6895848172051566, 'precision': 0.0, 'recall': 0.0, 'auc': 0.5, 'f1': 0.0}\n",
      "val {'loss': 0.6902259786923727, 'precision': 0.0, 'recall': 0.0, 'auc': 0.5, 'f1': 0.0}\n",
      "\n",
      "20\n",
      "train {'loss': 0.6751403042248317, 'precision': 0.0, 'recall': 0.0, 'auc': 0.5, 'f1': 0.0}\n",
      "val {'loss': 0.6772265036900839, 'precision': 0.0, 'recall': 0.0, 'auc': 0.5, 'f1': 0.0}\n",
      "\n",
      "21\n",
      "train {'loss': 0.6608682672182719, 'precision': 0.0, 'recall': 0.0, 'auc': 0.5, 'f1': 0.0}\n",
      "val {'loss': 0.6643399198849996, 'precision': 0.0, 'recall': 0.0, 'auc': 0.5, 'f1': 0.0}\n",
      "\n",
      "22\n",
      "train {'loss': 0.6467796819550651, 'precision': 0.0, 'recall': 0.0, 'auc': 0.5, 'f1': 0.0}\n",
      "val {'loss': 0.6521984934806824, 'precision': 0.0, 'recall': 0.0, 'auc': 0.5, 'f1': 0.0}\n",
      "\n",
      "23\n",
      "train {'loss': 0.6328850161461603, 'precision': 0.0, 'recall': 0.0, 'auc': 0.5, 'f1': 0.0}\n",
      "val {'loss': 0.6395288705825806, 'precision': 0.0, 'recall': 0.0, 'auc': 0.5, 'f1': 0.0}\n",
      "\n",
      "24\n",
      "train {'loss': 0.6191952058247158, 'precision': 0.0, 'recall': 0.0, 'auc': 0.5, 'f1': 0.0}\n",
      "val {'loss': 0.626817544301351, 'precision': 0.0, 'recall': 0.0, 'auc': 0.5, 'f1': 0.0}\n",
      "\n",
      "25\n",
      "train {'loss': 0.605721272173382, 'precision': 0.0, 'recall': 0.0, 'auc': 0.5, 'f1': 0.0}\n",
      "val {'loss': 0.6149580677350363, 'precision': 0.0, 'recall': 0.0, 'auc': 0.5, 'f1': 0.0}\n",
      "\n",
      "26\n",
      "train {'loss': 0.5924741767701649, 'precision': 0.0, 'recall': 0.0, 'auc': 0.5, 'f1': 0.0}\n",
      "val {'loss': 0.6031105319658915, 'precision': 0.0, 'recall': 0.0, 'auc': 0.5, 'f1': 0.0}\n",
      "\n",
      "27\n",
      "train {'loss': 0.5794659994897389, 'precision': 0.0, 'recall': 0.0, 'auc': 0.5, 'f1': 0.0}\n",
      "val {'loss': 0.5920210282007853, 'precision': 0.0, 'recall': 0.0, 'auc': 0.5, 'f1': 0.0}\n",
      "\n",
      "28\n",
      "train {'loss': 0.5667112583205813, 'precision': 0.0, 'recall': 0.0, 'auc': 0.5, 'f1': 0.0}\n",
      "val {'loss': 0.5816914637883505, 'precision': 0.0, 'recall': 0.0, 'auc': 0.5, 'f1': 0.0}\n",
      "\n",
      "29\n",
      "train {'loss': 0.5542283256848654, 'precision': 0.0, 'recall': 0.0, 'auc': 0.5, 'f1': 0.0}\n",
      "val {'loss': 0.5688046018282572, 'precision': 0.0, 'recall': 0.0, 'auc': 0.5, 'f1': 0.0}\n",
      "\n",
      "30\n",
      "train {'loss': 0.5420338653382801, 'precision': 0.0, 'recall': 0.0, 'auc': 0.5, 'f1': 0.0}\n",
      "val {'loss': 0.5566544930140177, 'precision': 0.0, 'recall': 0.0, 'auc': 0.5, 'f1': 0.0}\n",
      "\n",
      "31\n",
      "train {'loss': 0.5301372295334226, 'precision': 0.0, 'recall': 0.0, 'auc': 0.5, 'f1': 0.0}\n",
      "val {'loss': 0.5473257700602213, 'precision': 0.0, 'recall': 0.0, 'auc': 0.5, 'f1': 0.0}\n",
      "\n",
      "32\n",
      "train {'loss': 0.5185426814215524, 'precision': 0.0, 'recall': 0.0, 'auc': 0.5, 'f1': 0.0}\n",
      "val {'loss': 0.5374767978986105, 'precision': 0.0, 'recall': 0.0, 'auc': 0.5, 'f1': 0.0}\n",
      "\n",
      "33\n",
      "train {'loss': 0.5072512683414278, 'precision': 0.0, 'recall': 0.0, 'auc': 0.5, 'f1': 0.0}\n",
      "val {'loss': 0.5256606141726176, 'precision': 0.0, 'recall': 0.0, 'auc': 0.5, 'f1': 0.0}\n",
      "\n",
      "34\n",
      "train {'loss': 0.49626424482890535, 'precision': 0.0, 'recall': 0.0, 'auc': 0.5, 'f1': 0.0}\n",
      "val {'loss': 0.5177389780680338, 'precision': 0.0, 'recall': 0.0, 'auc': 0.5, 'f1': 0.0}\n",
      "\n",
      "35\n",
      "train {'loss': 0.4855827632404509, 'precision': 0.0, 'recall': 0.0, 'auc': 0.5, 'f1': 0.0}\n",
      "val {'loss': 0.5098320643107096, 'precision': 0.0, 'recall': 0.0, 'auc': 0.5, 'f1': 0.0}\n",
      "\n",
      "36\n",
      "train {'loss': 0.47520811501003446, 'precision': 0.0, 'recall': 0.0, 'auc': 0.5, 'f1': 0.0}\n",
      "val {'loss': 0.49788349866867065, 'precision': 0.0, 'recall': 0.0, 'auc': 0.5, 'f1': 0.0}\n",
      "\n",
      "37\n",
      "train {'loss': 0.46514186405000235, 'precision': 0.0, 'recall': 0.0, 'auc': 0.5, 'f1': 0.0}\n",
      "val {'loss': 0.4949656029542287, 'precision': 0.0, 'recall': 0.0, 'auc': 0.5, 'f1': 0.0}\n",
      "\n",
      "38\n",
      "train {'loss': 0.4553833178111485, 'precision': 0.0, 'recall': 0.0, 'auc': 0.5, 'f1': 0.0}\n",
      "val {'loss': 0.48256032665570575, 'precision': 0.0, 'recall': 0.0, 'auc': 0.5, 'f1': 0.0}\n",
      "\n",
      "39\n",
      "train {'loss': 0.4459325869878133, 'precision': 0.0, 'recall': 0.0, 'auc': 0.5, 'f1': 0.0}\n",
      "val {'loss': 0.47472869356473285, 'precision': 0.0, 'recall': 0.0, 'auc': 0.5, 'f1': 0.0}\n",
      "\n",
      "40\n",
      "train {'loss': 0.4367909388882773, 'precision': 0.0, 'recall': 0.0, 'auc': 0.5, 'f1': 0.0}\n",
      "val {'loss': 0.4653256336847941, 'precision': 0.0, 'recall': 0.0, 'auc': 0.5, 'f1': 0.0}\n",
      "\n",
      "41\n",
      "train {'loss': 0.42795993600572857, 'precision': 0.0, 'recall': 0.0, 'auc': 0.5, 'f1': 0.0}\n",
      "val {'loss': 0.4577657679716746, 'precision': 0.0, 'recall': 0.0, 'auc': 0.5, 'f1': 0.0}\n",
      "\n",
      "42\n",
      "train {'loss': 0.4194369599932716, 'precision': 0.0, 'recall': 0.0, 'auc': 0.5, 'f1': 0.0}\n",
      "val {'loss': 0.4535068968931834, 'precision': 0.0, 'recall': 0.0, 'auc': 0.5, 'f1': 0.0}\n",
      "\n",
      "43\n",
      "train {'loss': 0.4112166137922378, 'precision': 0.0, 'recall': 0.0, 'auc': 0.5, 'f1': 0.0}\n",
      "val {'loss': 0.4466635485490163, 'precision': 0.0, 'recall': 0.0, 'auc': 0.5, 'f1': 0.0}\n",
      "\n",
      "44\n",
      "train {'loss': 0.40329005178951083, 'precision': 0.0, 'recall': 0.0, 'auc': 0.5, 'f1': 0.0}\n",
      "val {'loss': 0.4396759867668152, 'precision': 0.0, 'recall': 0.0, 'auc': 0.5, 'f1': 0.0}\n",
      "\n",
      "45\n",
      "train {'loss': 0.39564537576266695, 'precision': 0.0, 'recall': 0.0, 'auc': 0.5, 'f1': 0.0}\n",
      "val {'loss': 0.4332998792330424, 'precision': 0.0, 'recall': 0.0, 'auc': 0.5, 'f1': 0.0}\n",
      "\n",
      "46\n",
      "train {'loss': 0.3882729084718795, 'precision': 0.0, 'recall': 0.0, 'auc': 0.5, 'f1': 0.0}\n",
      "val {'loss': 0.4279902180035909, 'precision': 0.0, 'recall': 0.0, 'auc': 0.5, 'f1': 0.0}\n",
      "\n",
      "47\n",
      "train {'loss': 0.3811659458137694, 'precision': 0.0, 'recall': 0.0, 'auc': 0.5, 'f1': 0.0}\n",
      "val {'loss': 0.4205784598986308, 'precision': 0.0, 'recall': 0.0, 'auc': 0.5, 'f1': 0.0}\n",
      "\n",
      "48\n",
      "train {'loss': 0.3743200770446232, 'precision': 0.0, 'recall': 0.0, 'auc': 0.5, 'f1': 0.0}\n",
      "val {'loss': 0.41326723496119183, 'precision': 0.0, 'recall': 0.0, 'auc': 0.5, 'f1': 0.0}\n",
      "\n",
      "49\n",
      "train {'loss': 0.36773145624569487, 'precision': 0.0, 'recall': 0.0, 'auc': 0.5, 'f1': 0.0}\n",
      "val {'loss': 0.4082299768924713, 'precision': 0.0, 'recall': 0.0, 'auc': 0.5, 'f1': 0.0}\n",
      "\n",
      "50\n",
      "train {'loss': 0.3613857002485366, 'precision': 0.0, 'recall': 0.0, 'auc': 0.5, 'f1': 0.0}\n",
      "val {'loss': 0.40649672349294025, 'precision': 0.0, 'recall': 0.0, 'auc': 0.5, 'f1': 0.0}\n",
      "\n",
      "51\n",
      "train {'loss': 0.35527452258836656, 'precision': 0.0, 'recall': 0.0, 'auc': 0.5, 'f1': 0.0}\n",
      "val {'loss': 0.3957785765329997, 'precision': 0.0, 'recall': 0.0, 'auc': 0.5, 'f1': 0.0}\n",
      "\n",
      "52\n",
      "train {'loss': 0.34939049113364445, 'precision': 0.0, 'recall': 0.0, 'auc': 0.5, 'f1': 0.0}\n",
      "val {'loss': 0.3914216061433156, 'precision': 0.0, 'recall': 0.0, 'auc': 0.5, 'f1': 0.0}\n",
      "\n",
      "53\n",
      "train {'loss': 0.3437260545435406, 'precision': 0.0, 'recall': 0.0, 'auc': 0.5, 'f1': 0.0}\n",
      "val {'loss': 0.3863106369972229, 'precision': 0.0, 'recall': 0.0, 'auc': 0.5, 'f1': 0.0}\n",
      "\n",
      "54\n",
      "train {'loss': 0.33827361322584604, 'precision': 0.0, 'recall': 0.0, 'auc': 0.5, 'f1': 0.0}\n",
      "val {'loss': 0.3866613209247589, 'precision': 0.0, 'recall': 0.0, 'auc': 0.5, 'f1': 0.0}\n",
      "\n",
      "55\n",
      "train {'loss': 0.3330255164986565, 'precision': 0.0, 'recall': 0.0, 'auc': 0.5, 'f1': 0.0}\n",
      "val {'loss': 0.3815340002377828, 'precision': 0.0, 'recall': 0.0, 'auc': 0.5, 'f1': 0.0}\n",
      "\n",
      "56\n",
      "train {'loss': 0.32797410232680185, 'precision': 0.0, 'recall': 0.0, 'auc': 0.5, 'f1': 0.0}\n",
      "val {'loss': 0.37753068407376605, 'precision': 0.0, 'recall': 0.0, 'auc': 0.5, 'f1': 0.0}\n",
      "\n",
      "57\n",
      "train {'loss': 0.3231117512498583, 'precision': 0.0, 'recall': 0.0, 'auc': 0.5, 'f1': 0.0}\n",
      "val {'loss': 0.3660119871298472, 'precision': 0.0, 'recall': 0.0, 'auc': 0.5, 'f1': 0.0}\n",
      "\n",
      "58\n",
      "train {'loss': 0.31843147249448867, 'precision': 0.0, 'recall': 0.0, 'auc': 0.5, 'f1': 0.0}\n",
      "val {'loss': 0.36532790462176007, 'precision': 0.0, 'recall': 0.0, 'auc': 0.5, 'f1': 0.0}\n",
      "\n",
      "59\n",
      "train {'loss': 0.31392568207922433, 'precision': 0.0, 'recall': 0.0, 'auc': 0.5, 'f1': 0.0}\n",
      "val {'loss': 0.36864787340164185, 'precision': 0.0, 'recall': 0.0, 'auc': 0.5, 'f1': 0.0}\n",
      "\n",
      "60\n",
      "train {'loss': 0.3095871593270983, 'precision': 0.0, 'recall': 0.0, 'auc': 0.5, 'f1': 0.0}\n",
      "val {'loss': 0.36103305220603943, 'precision': 0.0, 'recall': 0.0, 'auc': 0.5, 'f1': 0.0}\n",
      "\n",
      "61\n",
      "train {'loss': 0.30540813008944195, 'precision': 0.0, 'recall': 0.0, 'auc': 0.5, 'f1': 0.0}\n",
      "val {'loss': 0.35335999727249146, 'precision': 0.0, 'recall': 0.0, 'auc': 0.5, 'f1': 0.0}\n",
      "\n",
      "62\n",
      "train {'loss': 0.3013815922396524, 'precision': 0.0, 'recall': 0.0, 'auc': 0.5, 'f1': 0.0}\n",
      "val {'loss': 0.3535127143065135, 'precision': 0.0, 'recall': 0.0, 'auc': 0.5, 'f1': 0.0}\n",
      "\n",
      "63\n",
      "train {'loss': 0.2975012503919147, 'precision': 0.0, 'recall': 0.0, 'auc': 0.5, 'f1': 0.0}\n",
      "val {'loss': 0.3505035936832428, 'precision': 0.0, 'recall': 0.0, 'auc': 0.5, 'f1': 0.0}\n",
      "\n",
      "64\n",
      "train {'loss': 0.2937608730225336, 'precision': 0.0, 'recall': 0.0, 'auc': 0.5, 'f1': 0.0}\n",
      "val {'loss': 0.35403815905253094, 'precision': 0.0, 'recall': 0.0, 'auc': 0.5, 'f1': 0.0}\n",
      "\n",
      "65\n",
      "train {'loss': 0.29015661705107915, 'precision': 0.0, 'recall': 0.0, 'auc': 0.5, 'f1': 0.0}\n",
      "val {'loss': 0.35075733065605164, 'precision': 0.0, 'recall': 0.0, 'auc': 0.5, 'f1': 0.0}\n",
      "\n",
      "66\n",
      "train {'loss': 0.28668674258958726, 'precision': 0.0, 'recall': 0.0, 'auc': 0.5, 'f1': 0.0}\n",
      "val {'loss': 0.34221169352531433, 'precision': 0.0, 'recall': 0.0, 'auc': 0.5, 'f1': 0.0}\n",
      "\n",
      "67\n",
      "train {'loss': 0.28334547863120124, 'precision': 0.0, 'recall': 0.0, 'auc': 0.5, 'f1': 0.0}\n",
      "val {'loss': 0.3439113001028697, 'precision': 0.0, 'recall': 0.0, 'auc': 0.5, 'f1': 0.0}\n",
      "\n",
      "68\n",
      "train {'loss': 0.2801278006462824, 'precision': 0.0, 'recall': 0.0, 'auc': 0.5, 'f1': 0.0}\n",
      "val {'loss': 0.3366090456644694, 'precision': 0.0, 'recall': 0.0, 'auc': 0.5, 'f1': 0.0}\n",
      "\n",
      "69\n",
      "train {'loss': 0.27702807386716205, 'precision': 0.0, 'recall': 0.0, 'auc': 0.5, 'f1': 0.0}\n",
      "val {'loss': 0.3379619022210439, 'precision': 0.0, 'recall': 0.0, 'auc': 0.5, 'f1': 0.0}\n",
      "\n",
      "70\n",
      "train {'loss': 0.2740398893753688, 'precision': 0.0, 'recall': 0.0, 'auc': 0.5, 'f1': 0.0}\n",
      "val {'loss': 0.33453736702601117, 'precision': 0.0, 'recall': 0.0, 'auc': 0.5, 'f1': 0.0}\n",
      "\n",
      "71\n",
      "train {'loss': 0.27115544818696524, 'precision': 0.0, 'recall': 0.0, 'auc': 0.5, 'f1': 0.0}\n",
      "val {'loss': 0.33629921078681946, 'precision': 0.0, 'recall': 0.0, 'auc': 0.5, 'f1': 0.0}\n",
      "\n",
      "72\n",
      "train {'loss': 0.26836943271614255, 'precision': 0.0, 'recall': 0.0, 'auc': 0.5, 'f1': 0.0}\n",
      "val {'loss': 0.33106030027071637, 'precision': 0.0, 'recall': 0.0, 'auc': 0.5, 'f1': 0.0}\n",
      "\n",
      "73\n",
      "train {'loss': 0.2656802386045456, 'precision': 0.0, 'recall': 0.0, 'auc': 0.5, 'f1': 0.0}\n",
      "val {'loss': 0.3218768835067749, 'precision': 0.0, 'recall': 0.0, 'auc': 0.5, 'f1': 0.0}\n",
      "\n",
      "74\n",
      "train {'loss': 0.2630860237848191, 'precision': 0.0, 'recall': 0.0, 'auc': 0.5, 'f1': 0.0}\n",
      "val {'loss': 0.3278653124968211, 'precision': 0.0, 'recall': 0.0, 'auc': 0.5, 'f1': 0.0}\n",
      "\n",
      "75\n",
      "train {'loss': 0.26058372429439, 'precision': 0.0, 'recall': 0.0, 'auc': 0.5, 'f1': 0.0}\n",
      "val {'loss': 0.32474808891614276, 'precision': 0.0, 'recall': 0.0, 'auc': 0.5, 'f1': 0.0}\n",
      "\n",
      "76\n",
      "train {'loss': 0.2581699135757628, 'precision': 0.0, 'recall': 0.0, 'auc': 0.5, 'f1': 0.0}\n",
      "val {'loss': 0.3243929247061412, 'precision': 0.0, 'recall': 0.0, 'auc': 0.5, 'f1': 0.0}\n",
      "\n",
      "77\n",
      "train {'loss': 0.25584093800612856, 'precision': 0.0, 'recall': 0.0, 'auc': 0.5, 'f1': 0.0}\n",
      "val {'loss': 0.3200385272502899, 'precision': 0.0, 'recall': 0.0, 'auc': 0.5, 'f1': 0.0}\n",
      "\n",
      "78\n",
      "train {'loss': 0.25359323833669933, 'precision': 0.0, 'recall': 0.0, 'auc': 0.5, 'f1': 0.0}\n",
      "val {'loss': 0.3149272898832957, 'precision': 0.0, 'recall': 0.0, 'auc': 0.5, 'f1': 0.0}\n",
      "\n",
      "79\n",
      "train {'loss': 0.25142366119793486, 'precision': 0.0, 'recall': 0.0, 'auc': 0.5, 'f1': 0.0}\n",
      "val {'loss': 0.3217892050743103, 'precision': 0.0, 'recall': 0.0, 'auc': 0.5, 'f1': 0.0}\n",
      "\n",
      "80\n",
      "train {'loss': 0.24933359523614249, 'precision': 0.0, 'recall': 0.0, 'auc': 0.5, 'f1': 0.0}\n",
      "val {'loss': 0.3154180844624837, 'precision': 0.0, 'recall': 0.0, 'auc': 0.5, 'f1': 0.0}\n",
      "\n",
      "81\n",
      "train {'loss': 0.24731601987566268, 'precision': 0.0, 'recall': 0.0, 'auc': 0.5, 'f1': 0.0}\n",
      "val {'loss': 0.3118782738844554, 'precision': 0.0, 'recall': 0.0, 'auc': 0.5, 'f1': 0.0}\n",
      "\n",
      "82\n",
      "train {'loss': 0.24536603902067458, 'precision': 0.0, 'recall': 0.0, 'auc': 0.5, 'f1': 0.0}\n",
      "val {'loss': 0.30980629722277325, 'precision': 0.0, 'recall': 0.0, 'auc': 0.5, 'f1': 0.0}\n",
      "\n",
      "83\n",
      "train {'loss': 0.24347720614501409, 'precision': 0.0, 'recall': 0.0, 'auc': 0.5, 'f1': 0.0}\n",
      "val {'loss': 0.31792397300402325, 'precision': 0.0, 'recall': 0.0, 'auc': 0.5, 'f1': 0.0}\n",
      "\n",
      "84\n",
      "train {'loss': 0.2416418797913052, 'precision': 0.0, 'recall': 0.0, 'auc': 0.5, 'f1': 0.0}\n",
      "val {'loss': 0.3145292301972707, 'precision': 0.0, 'recall': 0.0, 'auc': 0.5, 'f1': 0.0}\n",
      "\n",
      "85\n",
      "train {'loss': 0.2398300397963751, 'precision': 0.0, 'recall': 0.0, 'auc': 0.5, 'f1': 0.0}\n",
      "val {'loss': 0.30893199642499286, 'precision': 0.0, 'recall': 0.0, 'auc': 0.5, 'f1': 0.0}\n",
      "\n",
      "86\n",
      "train {'loss': 0.2380487940141133, 'precision': 0.0, 'recall': 0.0, 'auc': 0.5, 'f1': 0.0}\n",
      "val {'loss': 0.30770880977312726, 'precision': 0.0, 'recall': 0.0, 'auc': 0.5, 'f1': 0.0}\n",
      "\n",
      "87\n",
      "train {'loss': 0.23632026002520606, 'precision': 0.0, 'recall': 0.0, 'auc': 0.5, 'f1': 0.0}\n",
      "val {'loss': 0.307275911172231, 'precision': 0.0, 'recall': 0.0, 'auc': 0.5, 'f1': 0.0}\n",
      "\n",
      "88\n",
      "train {'loss': 0.2346360200927371, 'precision': 0.0, 'recall': 0.0, 'auc': 0.5, 'f1': 0.0}\n",
      "val {'loss': 0.3062032163143158, 'precision': 0.0, 'recall': 0.0, 'auc': 0.5, 'f1': 0.0}\n",
      "\n",
      "89\n",
      "train {'loss': 0.23299047421841396, 'precision': 0.0, 'recall': 0.0, 'auc': 0.5, 'f1': 0.0}\n",
      "val {'loss': 0.3051182230313619, 'precision': 0.0, 'recall': 0.0, 'auc': 0.5, 'f1': 0.0}\n",
      "\n",
      "90\n",
      "train {'loss': 0.23139640192190805, 'precision': 0.0, 'recall': 0.0, 'auc': 0.5, 'f1': 0.0}\n",
      "val {'loss': 0.30870646238327026, 'precision': 0.0, 'recall': 0.0, 'auc': 0.5, 'f1': 0.0}\n",
      "\n",
      "91\n",
      "train {'loss': 0.22985349808420455, 'precision': 0.0, 'recall': 0.0, 'auc': 0.5, 'f1': 0.0}\n",
      "val {'loss': 0.30544430017471313, 'precision': 0.0, 'recall': 0.0, 'auc': 0.5, 'f1': 0.0}\n",
      "\n",
      "92\n",
      "train {'loss': 0.2283595126299631, 'precision': 0.0, 'recall': 0.0, 'auc': 0.5, 'f1': 0.0}\n",
      "val {'loss': 0.3138999144236247, 'precision': 0.0, 'recall': 0.0, 'auc': 0.5, 'f1': 0.0}\n",
      "\n",
      "93\n",
      "train {'loss': 0.2269127070903778, 'precision': 0.0, 'recall': 0.0, 'auc': 0.5, 'f1': 0.0}\n",
      "val {'loss': 0.294190913438797, 'precision': 0.0, 'recall': 0.0, 'auc': 0.5, 'f1': 0.0}\n",
      "\n",
      "94\n",
      "train {'loss': 0.2255112819728397, 'precision': 0.0, 'recall': 0.0, 'auc': 0.5, 'f1': 0.0}\n",
      "val {'loss': 0.300388365983963, 'precision': 0.0, 'recall': 0.0, 'auc': 0.5, 'f1': 0.0}\n",
      "\n",
      "95\n",
      "train {'loss': 0.22415338243756974, 'precision': 0.0, 'recall': 0.0, 'auc': 0.5, 'f1': 0.0}\n",
      "val {'loss': 0.3011538585027059, 'precision': 0.0, 'recall': 0.0, 'auc': 0.5, 'f1': 0.0}\n",
      "\n",
      "96\n",
      "train {'loss': 0.22283728278818585, 'precision': 0.0, 'recall': 0.0, 'auc': 0.5, 'f1': 0.0}\n",
      "val {'loss': 0.29311564564704895, 'precision': 0.0, 'recall': 0.0, 'auc': 0.5, 'f1': 0.0}\n",
      "\n",
      "97\n",
      "train {'loss': 0.22156128642104922, 'precision': 0.0, 'recall': 0.0, 'auc': 0.5, 'f1': 0.0}\n",
      "val {'loss': 0.30201152960459393, 'precision': 0.0, 'recall': 0.0, 'auc': 0.5, 'f1': 0.0}\n",
      "\n",
      "98\n",
      "train {'loss': 0.22031159911836898, 'precision': 0.0, 'recall': 0.0, 'auc': 0.5, 'f1': 0.0}\n",
      "val {'loss': 0.2980546752611796, 'precision': 0.0, 'recall': 0.0, 'auc': 0.5, 'f1': 0.0}\n",
      "\n",
      "99\n",
      "train {'loss': 0.21902032764185042, 'precision': 0.0, 'recall': 0.0, 'auc': 0.5, 'f1': 0.0}\n",
      "val {'loss': 0.3054416875044505, 'precision': 0.0, 'recall': 0.0, 'auc': 0.5, 'f1': 0.0}\n",
      "\n",
      "100\n",
      "train {'loss': 0.2177258517060961, 'precision': 0.0, 'recall': 0.0, 'auc': 0.5, 'f1': 0.0}\n",
      "val {'loss': 0.29652588566144306, 'precision': 0.0, 'recall': 0.0, 'auc': 0.5, 'f1': 0.0}\n",
      "\n",
      "101\n",
      "train {'loss': 0.2164822192419143, 'precision': 0.0, 'recall': 0.0, 'auc': 0.5, 'f1': 0.0}\n",
      "val {'loss': 0.28664906819661456, 'precision': 0.0, 'recall': 0.0, 'auc': 0.5, 'f1': 0.0}\n",
      "\n",
      "102\n",
      "train {'loss': 0.21528227343445733, 'precision': 0.0, 'recall': 0.0, 'auc': 0.5, 'f1': 0.0}\n",
      "val {'loss': 0.30005447069803876, 'precision': 0.0, 'recall': 0.0, 'auc': 0.5, 'f1': 0.0}\n",
      "\n",
      "103\n",
      "train {'loss': 0.2141195840778805, 'precision': 0.0, 'recall': 0.0, 'auc': 0.5, 'f1': 0.0}\n",
      "val {'loss': 0.29693371057510376, 'precision': 0.0, 'recall': 0.0, 'auc': 0.5, 'f1': 0.0}\n",
      "\n",
      "104\n",
      "train {'loss': 0.21299342456318082, 'precision': 0.0, 'recall': 0.0, 'auc': 0.5, 'f1': 0.0}\n",
      "val {'loss': 0.29626229405403137, 'precision': 0.0, 'recall': 0.0, 'auc': 0.5, 'f1': 0.0}\n",
      "\n",
      "105\n",
      "train {'loss': 0.21189706098465694, 'precision': 0.0, 'recall': 0.0, 'auc': 0.5, 'f1': 0.0}\n",
      "val {'loss': 0.2905799349149068, 'precision': 0.0, 'recall': 0.0, 'auc': 0.5, 'f1': 0.0}\n",
      "\n",
      "106\n",
      "train {'loss': 0.2108171433210373, 'precision': 0.0, 'recall': 0.0, 'auc': 0.5, 'f1': 0.0}\n",
      "val {'loss': 0.2985467116038005, 'precision': 0.0, 'recall': 0.0, 'auc': 0.5, 'f1': 0.0}\n",
      "\n",
      "107\n",
      "train {'loss': 0.20975187775634585, 'precision': 0.0, 'recall': 0.0, 'auc': 0.5, 'f1': 0.0}\n",
      "val {'loss': 0.28770087162653607, 'precision': 0.0, 'recall': 0.0, 'auc': 0.5, 'f1': 0.0}\n",
      "\n",
      "108\n",
      "train {'loss': 0.20871582130591074, 'precision': 0.0, 'recall': 0.0, 'auc': 0.5, 'f1': 0.0}\n",
      "val {'loss': 0.29402388135592145, 'precision': 0.0, 'recall': 0.0, 'auc': 0.5, 'f1': 0.0}\n",
      "\n",
      "109\n",
      "train {'loss': 0.20771181796278274, 'precision': 0.0, 'recall': 0.0, 'auc': 0.5, 'f1': 0.0}\n",
      "val {'loss': 0.29786603649457294, 'precision': 0.0, 'recall': 0.0, 'auc': 0.5, 'f1': 0.0}\n",
      "\n",
      "110\n",
      "train {'loss': 0.20673831232956477, 'precision': 0.0, 'recall': 0.0, 'auc': 0.5, 'f1': 0.0}\n",
      "val {'loss': 0.2877623538176219, 'precision': 0.0, 'recall': 0.0, 'auc': 0.5, 'f1': 0.0}\n",
      "\n",
      "111\n",
      "train {'loss': 0.20579386608941214, 'precision': 0.0, 'recall': 0.0, 'auc': 0.5, 'f1': 0.0}\n",
      "val {'loss': 0.2959687411785126, 'precision': 0.0, 'recall': 0.0, 'auc': 0.5, 'f1': 0.0}\n",
      "\n",
      "112\n",
      "train {'loss': 0.20487719064667112, 'precision': 0.0, 'recall': 0.0, 'auc': 0.5, 'f1': 0.0}\n",
      "val {'loss': 0.29028337200482685, 'precision': 0.0, 'recall': 0.0, 'auc': 0.5, 'f1': 0.0}\n",
      "\n",
      "113\n",
      "train {'loss': 0.20398721524647304, 'precision': 0.0, 'recall': 0.0, 'auc': 0.5, 'f1': 0.0}\n",
      "val {'loss': 0.2924739420413971, 'precision': 0.0, 'recall': 0.0, 'auc': 0.5, 'f1': 0.0}\n",
      "\n",
      "114\n",
      "train {'loss': 0.20312284855615526, 'precision': 0.0, 'recall': 0.0, 'auc': 0.5, 'f1': 0.0}\n",
      "val {'loss': 0.2795388996601105, 'precision': 0.0, 'recall': 0.0, 'auc': 0.5, 'f1': 0.0}\n",
      "\n",
      "115\n",
      "train {'loss': 0.20228305529980434, 'precision': 0.0, 'recall': 0.0, 'auc': 0.5, 'f1': 0.0}\n",
      "val {'loss': 0.28804829716682434, 'precision': 0.0, 'recall': 0.0, 'auc': 0.5, 'f1': 0.0}\n",
      "\n",
      "116\n",
      "train {'loss': 0.20146695772806802, 'precision': 0.0, 'recall': 0.0, 'auc': 0.5, 'f1': 0.0}\n",
      "val {'loss': 0.2876232862472534, 'precision': 0.0, 'recall': 0.0, 'auc': 0.5, 'f1': 0.0}\n",
      "\n",
      "117\n",
      "train {'loss': 0.2006735915229434, 'precision': 0.0, 'recall': 0.0, 'auc': 0.5, 'f1': 0.0}\n",
      "val {'loss': 0.28181469440460205, 'precision': 0.0, 'recall': 0.0, 'auc': 0.5, 'f1': 0.0}\n",
      "\n",
      "118\n",
      "train {'loss': 0.1999020959649767, 'precision': 0.0, 'recall': 0.0, 'auc': 0.5, 'f1': 0.0}\n",
      "val {'loss': 0.2886822124322255, 'precision': 0.0, 'recall': 0.0, 'auc': 0.5, 'f1': 0.0}\n",
      "\n",
      "119\n",
      "train {'loss': 0.19915166000525156, 'precision': 0.0, 'recall': 0.0, 'auc': 0.5, 'f1': 0.0}\n",
      "val {'loss': 0.2837817966938019, 'precision': 0.0, 'recall': 0.0, 'auc': 0.5, 'f1': 0.0}\n",
      "\n",
      "120\n",
      "train {'loss': 0.19842150736422765, 'precision': 0.0, 'recall': 0.0, 'auc': 0.5, 'f1': 0.0}\n",
      "val {'loss': 0.29348422090212506, 'precision': 0.0, 'recall': 0.0, 'auc': 0.5, 'f1': 0.0}\n",
      "\n",
      "121\n",
      "train {'loss': 0.19771087311563038, 'precision': 0.0, 'recall': 0.0, 'auc': 0.5, 'f1': 0.0}\n",
      "val {'loss': 0.2941506306330363, 'precision': 0.0, 'recall': 0.0, 'auc': 0.5, 'f1': 0.0}\n",
      "\n",
      "122\n",
      "train {'loss': 0.19701900368645078, 'precision': 0.0, 'recall': 0.0, 'auc': 0.5, 'f1': 0.0}\n",
      "val {'loss': 0.289230356613795, 'precision': 0.0, 'recall': 0.0, 'auc': 0.5, 'f1': 0.0}\n",
      "\n",
      "123\n",
      "train {'loss': 0.19634524342559634, 'precision': 0.0, 'recall': 0.0, 'auc': 0.5, 'f1': 0.0}\n",
      "val {'loss': 0.2870479424794515, 'precision': 0.0, 'recall': 0.0, 'auc': 0.5, 'f1': 0.0}\n",
      "\n",
      "124\n",
      "train {'loss': 0.19568896932261332, 'precision': 0.0, 'recall': 0.0, 'auc': 0.5, 'f1': 0.0}\n",
      "val {'loss': 0.2746434062719345, 'precision': 0.0, 'recall': 0.0, 'auc': 0.5, 'f1': 0.0}\n",
      "\n",
      "125\n",
      "train {'loss': 0.1950494987624032, 'precision': 0.0, 'recall': 0.0, 'auc': 0.5, 'f1': 0.0}\n",
      "val {'loss': 0.27808596690495807, 'precision': 0.0, 'recall': 0.0, 'auc': 0.5, 'f1': 0.0}\n",
      "\n",
      "126\n",
      "train {'loss': 0.19442621370156607, 'precision': 0.0, 'recall': 0.0, 'auc': 0.5, 'f1': 0.0}\n",
      "val {'loss': 0.28908733526865643, 'precision': 0.0, 'recall': 0.0, 'auc': 0.5, 'f1': 0.0}\n",
      "\n",
      "127\n",
      "train {'loss': 0.19381857734350932, 'precision': 0.0, 'recall': 0.0, 'auc': 0.5, 'f1': 0.0}\n",
      "val {'loss': 0.2784309883912404, 'precision': 0.0, 'recall': 0.0, 'auc': 0.5, 'f1': 0.0}\n",
      "\n",
      "128\n",
      "train {'loss': 0.19322600251152403, 'precision': 0.0, 'recall': 0.0, 'auc': 0.5, 'f1': 0.0}\n",
      "val {'loss': 0.28197654088338214, 'precision': 0.0, 'recall': 0.0, 'auc': 0.5, 'f1': 0.0}\n",
      "\n",
      "129\n",
      "train {'loss': 0.19264796411707288, 'precision': 0.0, 'recall': 0.0, 'auc': 0.5, 'f1': 0.0}\n",
      "val {'loss': 0.2874019245306651, 'precision': 0.0, 'recall': 0.0, 'auc': 0.5, 'f1': 0.0}\n",
      "\n",
      "130\n",
      "train {'loss': 0.19208392855666934, 'precision': 0.0, 'recall': 0.0, 'auc': 0.5, 'f1': 0.0}\n",
      "val {'loss': 0.2853020926316579, 'precision': 0.0, 'recall': 0.0, 'auc': 0.5, 'f1': 0.0}\n",
      "\n",
      "131\n",
      "train {'loss': 0.19153340373720443, 'precision': 0.0, 'recall': 0.0, 'auc': 0.5, 'f1': 0.0}\n",
      "val {'loss': 0.28120143214861554, 'precision': 0.0, 'recall': 0.0, 'auc': 0.5, 'f1': 0.0}\n",
      "\n",
      "132\n",
      "train {'loss': 0.19099593694720948, 'precision': 0.0, 'recall': 0.0, 'auc': 0.5, 'f1': 0.0}\n",
      "val {'loss': 0.2799714505672455, 'precision': 0.0, 'recall': 0.0, 'auc': 0.5, 'f1': 0.0}\n",
      "\n",
      "133\n",
      "train {'loss': 0.1904711113089607, 'precision': 0.0, 'recall': 0.0, 'auc': 0.5, 'f1': 0.0}\n",
      "val {'loss': 0.27687357862790424, 'precision': 0.0, 'recall': 0.0, 'auc': 0.5, 'f1': 0.0}\n",
      "\n",
      "134\n",
      "train {'loss': 0.18995841592550278, 'precision': 0.0, 'recall': 0.0, 'auc': 0.5, 'f1': 0.0}\n",
      "val {'loss': 0.2843982179959615, 'precision': 0.0, 'recall': 0.0, 'auc': 0.5, 'f1': 0.0}\n",
      "\n",
      "135\n",
      "train {'loss': 0.18945749565249398, 'precision': 0.0, 'recall': 0.0, 'auc': 0.5, 'f1': 0.0}\n",
      "val {'loss': 0.2919243971506755, 'precision': 0.0, 'recall': 0.0, 'auc': 0.5, 'f1': 0.0}\n",
      "\n",
      "136\n",
      "train {'loss': 0.18896797796090445, 'precision': 0.0, 'recall': 0.0, 'auc': 0.5, 'f1': 0.0}\n",
      "val {'loss': 0.29277852177619934, 'precision': 0.0, 'recall': 0.0, 'auc': 0.5, 'f1': 0.0}\n",
      "\n",
      "137\n",
      "train {'loss': 0.18848944348948343, 'precision': 0.0, 'recall': 0.0, 'auc': 0.5, 'f1': 0.0}\n",
      "val {'loss': 0.28289279341697693, 'precision': 0.0, 'recall': 0.0, 'auc': 0.5, 'f1': 0.0}\n",
      "\n",
      "138\n",
      "train {'loss': 0.188021505517619, 'precision': 0.0, 'recall': 0.0, 'auc': 0.5, 'f1': 0.0}\n",
      "val {'loss': 0.28758687774340314, 'precision': 0.0, 'recall': 0.0, 'auc': 0.5, 'f1': 0.0}\n",
      "\n",
      "139\n",
      "train {'loss': 0.1875638167063395, 'precision': 0.0, 'recall': 0.0, 'auc': 0.5, 'f1': 0.0}\n",
      "val {'loss': 0.2815121610959371, 'precision': 0.0, 'recall': 0.0, 'auc': 0.5, 'f1': 0.0}\n",
      "\n",
      "140\n",
      "train {'loss': 0.18711610386768976, 'precision': 0.0, 'recall': 0.0, 'auc': 0.5, 'f1': 0.0}\n",
      "val {'loss': 0.2814633349577586, 'precision': 0.0, 'recall': 0.0, 'auc': 0.5, 'f1': 0.0}\n",
      "\n",
      "141\n",
      "train {'loss': 0.18667793380362646, 'precision': 0.0, 'recall': 0.0, 'auc': 0.5, 'f1': 0.0}\n",
      "val {'loss': 0.27926496664683026, 'precision': 0.0, 'recall': 0.0, 'auc': 0.5, 'f1': 0.0}\n",
      "\n",
      "142\n",
      "train {'loss': 0.18624906029020036, 'precision': 0.0, 'recall': 0.0, 'auc': 0.5, 'f1': 0.0}\n",
      "val {'loss': 0.28999410072962445, 'precision': 0.0, 'recall': 0.0, 'auc': 0.5, 'f1': 0.0}\n",
      "\n",
      "143\n",
      "train {'loss': 0.18582915692102342, 'precision': 0.0, 'recall': 0.0, 'auc': 0.5, 'f1': 0.0}\n",
      "val {'loss': 0.2869578997294108, 'precision': 0.0, 'recall': 0.0, 'auc': 0.5, 'f1': 0.0}\n",
      "\n",
      "144\n",
      "train {'loss': 0.18541794625066577, 'precision': 0.0, 'recall': 0.0, 'auc': 0.5, 'f1': 0.0}\n",
      "val {'loss': 0.29072994987169903, 'precision': 0.0, 'recall': 0.0, 'auc': 0.5, 'f1': 0.0}\n",
      "\n",
      "145\n",
      "train {'loss': 0.185015123514902, 'precision': 0.0, 'recall': 0.0, 'auc': 0.5, 'f1': 0.0}\n",
      "val {'loss': 0.2796694537003835, 'precision': 0.0, 'recall': 0.0, 'auc': 0.5, 'f1': 0.0}\n",
      "\n",
      "146\n",
      "train {'loss': 0.18462043397483371, 'precision': 0.0, 'recall': 0.0, 'auc': 0.5, 'f1': 0.0}\n",
      "val {'loss': 0.2835431794325511, 'precision': 0.0, 'recall': 0.0, 'auc': 0.5, 'f1': 0.0}\n",
      "\n",
      "147\n",
      "train {'loss': 0.18423369101115636, 'precision': 0.0, 'recall': 0.0, 'auc': 0.5, 'f1': 0.0}\n",
      "val {'loss': 0.27835267782211304, 'precision': 0.0, 'recall': 0.0, 'auc': 0.5, 'f1': 0.0}\n",
      "\n",
      "148\n",
      "train {'loss': 0.18385455402589979, 'precision': 0.0, 'recall': 0.0, 'auc': 0.5, 'f1': 0.0}\n",
      "val {'loss': 0.2763146460056305, 'precision': 0.0, 'recall': 0.0, 'auc': 0.5, 'f1': 0.0}\n",
      "\n",
      "149\n",
      "train {'loss': 0.18348280517827897, 'precision': 0.0, 'recall': 0.0, 'auc': 0.5, 'f1': 0.0}\n",
      "val {'loss': 0.2862347463766734, 'precision': 0.0, 'recall': 0.0, 'auc': 0.5, 'f1': 0.0}\n",
      "\n",
      "150\n",
      "train {'loss': 0.18311811877148493, 'precision': 0.0, 'recall': 0.0, 'auc': 0.5, 'f1': 0.0}\n",
      "val {'loss': 0.2709281196196874, 'precision': 0.0, 'recall': 0.0, 'auc': 0.5, 'f1': 0.0}\n",
      "\n",
      "151\n",
      "train {'loss': 0.18275998958519526, 'precision': 0.0, 'recall': 0.0, 'auc': 0.5, 'f1': 0.0}\n",
      "val {'loss': 0.2789251208305359, 'precision': 0.0, 'recall': 0.0, 'auc': 0.5, 'f1': 0.0}\n",
      "\n",
      "152\n",
      "train {'loss': 0.18240790565808615, 'precision': 0.0, 'recall': 0.0, 'auc': 0.5, 'f1': 0.0}\n",
      "val {'loss': 0.27474215626716614, 'precision': 0.0, 'recall': 0.0, 'auc': 0.5, 'f1': 0.0}\n",
      "\n",
      "153\n",
      "train {'loss': 0.1820611964379038, 'precision': 0.0, 'recall': 0.0, 'auc': 0.5, 'f1': 0.0}\n",
      "val {'loss': 0.2899230619271596, 'precision': 0.0, 'recall': 0.0, 'auc': 0.5, 'f1': 0.0}\n",
      "\n",
      "154\n",
      "train {'loss': 0.18171906506731397, 'precision': 0.0, 'recall': 0.0, 'auc': 0.5, 'f1': 0.0}\n",
      "val {'loss': 0.2672757754723231, 'precision': 0.0, 'recall': 0.0, 'auc': 0.5, 'f1': 0.0}\n",
      "\n",
      "155\n",
      "train {'loss': 0.1813808629910151, 'precision': 0.0, 'recall': 0.0, 'auc': 0.5, 'f1': 0.0}\n",
      "val {'loss': 0.26818587879339856, 'precision': 0.0, 'recall': 0.0, 'auc': 0.5, 'f1': 0.0}\n",
      "\n",
      "156\n",
      "train {'loss': 0.1810465824036371, 'precision': 0.0, 'recall': 0.0, 'auc': 0.5, 'f1': 0.0}\n",
      "val {'loss': 0.2867334981759389, 'precision': 0.0, 'recall': 0.0, 'auc': 0.5, 'f1': 0.0}\n",
      "\n",
      "157\n",
      "train {'loss': 0.18071763004575456, 'precision': 0.0, 'recall': 0.0, 'auc': 0.5, 'f1': 0.0}\n",
      "val {'loss': 0.27839739123980206, 'precision': 0.0, 'recall': 0.0, 'auc': 0.5, 'f1': 0.0}\n",
      "\n",
      "158\n",
      "train {'loss': 0.18039491169509433, 'precision': 0.0, 'recall': 0.0, 'auc': 0.5, 'f1': 0.0}\n",
      "val {'loss': 0.2885854144891103, 'precision': 0.0, 'recall': 0.0, 'auc': 0.5, 'f1': 0.0}\n",
      "\n",
      "159\n",
      "train {'loss': 0.18007828685499372, 'precision': 0.0, 'recall': 0.0, 'auc': 0.5, 'f1': 0.0}\n",
      "val {'loss': 0.2771459420522054, 'precision': 0.0, 'recall': 0.0, 'auc': 0.5, 'f1': 0.0}\n",
      "\n",
      "160\n",
      "train {'loss': 0.179767536620299, 'precision': 0.0, 'recall': 0.0, 'auc': 0.5, 'f1': 0.0}\n",
      "val {'loss': 0.2802242736021678, 'precision': 0.0, 'recall': 0.0, 'auc': 0.5, 'f1': 0.0}\n",
      "\n",
      "161\n",
      "train {'loss': 0.17946242541074753, 'precision': 0.0, 'recall': 0.0, 'auc': 0.5, 'f1': 0.0}\n",
      "val {'loss': 0.2738419274489085, 'precision': 0.0, 'recall': 0.0, 'auc': 0.5, 'f1': 0.0}\n",
      "\n",
      "162\n",
      "train {'loss': 0.17916276305913925, 'precision': 0.0, 'recall': 0.0, 'auc': 0.5, 'f1': 0.0}\n",
      "val {'loss': 0.28421442707379657, 'precision': 0.0, 'recall': 0.0, 'auc': 0.5, 'f1': 0.0}\n",
      "\n",
      "163\n",
      "train {'loss': 0.17886832995074137, 'precision': 0.0, 'recall': 0.0, 'auc': 0.5, 'f1': 0.0}\n",
      "val {'loss': 0.28307677308718365, 'precision': 0.0, 'recall': 0.0, 'auc': 0.5, 'f1': 0.0}\n",
      "\n",
      "164\n",
      "train {'loss': 0.1785790597399076, 'precision': 0.0, 'recall': 0.0, 'auc': 0.5, 'f1': 0.0}\n",
      "val {'loss': 0.2839384774367015, 'precision': 0.0, 'recall': 0.0, 'auc': 0.5, 'f1': 0.0}\n",
      "\n",
      "165\n",
      "train {'loss': 0.17829476048549017, 'precision': 0.0, 'recall': 0.0, 'auc': 0.5, 'f1': 0.0}\n",
      "val {'loss': 0.27872520685195923, 'precision': 0.0, 'recall': 0.0, 'auc': 0.5, 'f1': 0.0}\n",
      "\n",
      "166\n",
      "train {'loss': 0.17801534810236522, 'precision': 0.0, 'recall': 0.0, 'auc': 0.5, 'f1': 0.0}\n",
      "val {'loss': 0.2776460846265157, 'precision': 0.0, 'recall': 0.0, 'auc': 0.5, 'f1': 0.0}\n",
      "\n",
      "167\n",
      "train {'loss': 0.17774065938733874, 'precision': 0.0, 'recall': 0.0, 'auc': 0.5, 'f1': 0.0}\n",
      "val {'loss': 0.27021606763203937, 'precision': 0.0, 'recall': 0.0, 'auc': 0.5, 'f1': 0.0}\n",
      "\n",
      "168\n",
      "train {'loss': 0.17747062515644801, 'precision': 0.0, 'recall': 0.0, 'auc': 0.5, 'f1': 0.0}\n",
      "val {'loss': 0.28067414959271747, 'precision': 0.0, 'recall': 0.0, 'auc': 0.5, 'f1': 0.0}\n",
      "\n",
      "169\n",
      "train {'loss': 0.17720506091912588, 'precision': 0.0, 'recall': 0.0, 'auc': 0.5, 'f1': 0.0}\n",
      "val {'loss': 0.27644747495651245, 'precision': 0.0, 'recall': 0.0, 'auc': 0.5, 'f1': 0.0}\n",
      "\n",
      "170\n",
      "train {'loss': 0.17694391842399324, 'precision': 0.0, 'recall': 0.0, 'auc': 0.5, 'f1': 0.0}\n",
      "val {'loss': 0.277364045381546, 'precision': 0.0, 'recall': 0.0, 'auc': 0.5, 'f1': 0.0}\n",
      "\n",
      "171\n",
      "train {'loss': 0.17668704653070086, 'precision': 0.0, 'recall': 0.0, 'auc': 0.5, 'f1': 0.0}\n",
      "val {'loss': 0.278386652469635, 'precision': 0.0, 'recall': 0.0, 'auc': 0.5, 'f1': 0.0}\n",
      "\n",
      "172\n",
      "train {'loss': 0.1764343845702353, 'precision': 0.0, 'recall': 0.0, 'auc': 0.5, 'f1': 0.0}\n",
      "val {'loss': 0.2857588032881419, 'precision': 0.0, 'recall': 0.0, 'auc': 0.5, 'f1': 0.0}\n",
      "\n",
      "173\n",
      "train {'loss': 0.17618581191414878, 'precision': 0.0, 'recall': 0.0, 'auc': 0.5, 'f1': 0.0}\n",
      "val {'loss': 0.2932298680146535, 'precision': 0.0, 'recall': 0.0, 'auc': 0.5, 'f1': 0.0}\n",
      "\n",
      "174\n",
      "train {'loss': 0.17594125618537268, 'precision': 0.0, 'recall': 0.0, 'auc': 0.5, 'f1': 0.0}\n",
      "val {'loss': 0.28361494342486065, 'precision': 0.0, 'recall': 0.0, 'auc': 0.5, 'f1': 0.0}\n",
      "\n",
      "175\n",
      "train {'loss': 0.17570062691257113, 'precision': 0.0, 'recall': 0.0, 'auc': 0.5, 'f1': 0.0}\n",
      "val {'loss': 0.2846168875694275, 'precision': 0.0, 'recall': 0.0, 'auc': 0.5, 'f1': 0.0}\n",
      "\n",
      "176\n",
      "train {'loss': 0.17546377650329045, 'precision': 0.0, 'recall': 0.0, 'auc': 0.5, 'f1': 0.0}\n",
      "val {'loss': 0.28677240014076233, 'precision': 0.0, 'recall': 0.0, 'auc': 0.5, 'f1': 0.0}\n",
      "\n",
      "177\n",
      "train {'loss': 0.17523069573300226, 'precision': 0.0, 'recall': 0.0, 'auc': 0.5, 'f1': 0.0}\n",
      "val {'loss': 0.28139270345369977, 'precision': 0.0, 'recall': 0.0, 'auc': 0.5, 'f1': 0.0}\n",
      "\n",
      "178\n",
      "train {'loss': 0.17500124481462298, 'precision': 0.0, 'recall': 0.0, 'auc': 0.5, 'f1': 0.0}\n",
      "val {'loss': 0.28668232758839923, 'precision': 0.0, 'recall': 0.0, 'auc': 0.5, 'f1': 0.0}\n",
      "\n",
      "179\n",
      "train {'loss': 0.17477537230366752, 'precision': 0.0, 'recall': 0.0, 'auc': 0.5, 'f1': 0.0}\n",
      "val {'loss': 0.2791706621646881, 'precision': 0.0, 'recall': 0.0, 'auc': 0.5, 'f1': 0.0}\n",
      "\n",
      "180\n",
      "train {'loss': 0.17455301185448965, 'precision': 0.0, 'recall': 0.0, 'auc': 0.5, 'f1': 0.0}\n",
      "val {'loss': 0.2715389281511307, 'precision': 0.0, 'recall': 0.0, 'auc': 0.5, 'f1': 0.0}\n",
      "\n",
      "181\n",
      "train {'loss': 0.17433404461258933, 'precision': 0.0, 'recall': 0.0, 'auc': 0.5, 'f1': 0.0}\n",
      "val {'loss': 0.29212867220242816, 'precision': 0.0, 'recall': 0.0, 'auc': 0.5, 'f1': 0.0}\n",
      "\n",
      "182\n",
      "train {'loss': 0.1741184209074293, 'precision': 0.0, 'recall': 0.0, 'auc': 0.5, 'f1': 0.0}\n",
      "val {'loss': 0.27149630586306256, 'precision': 0.0, 'recall': 0.0, 'auc': 0.5, 'f1': 0.0}\n",
      "\n",
      "183\n",
      "train {'loss': 0.17390604671977816, 'precision': 0.0, 'recall': 0.0, 'auc': 0.5, 'f1': 0.0}\n",
      "val {'loss': 0.2779436409473419, 'precision': 0.0, 'recall': 0.0, 'auc': 0.5, 'f1': 0.0}\n",
      "\n",
      "184\n",
      "train {'loss': 0.1736969075032643, 'precision': 0.0, 'recall': 0.0, 'auc': 0.5, 'f1': 0.0}\n",
      "val {'loss': 0.2801157236099243, 'precision': 0.0, 'recall': 0.0, 'auc': 0.5, 'f1': 0.0}\n",
      "\n",
      "185\n",
      "train {'loss': 0.1734909046263922, 'precision': 0.0, 'recall': 0.0, 'auc': 0.5, 'f1': 0.0}\n",
      "val {'loss': 0.2756848136583964, 'precision': 0.0, 'recall': 0.0, 'auc': 0.5, 'f1': 0.0}\n",
      "\n",
      "186\n",
      "train {'loss': 0.17328797316267378, 'precision': 0.0, 'recall': 0.0, 'auc': 0.5, 'f1': 0.0}\n",
      "val {'loss': 0.27680522203445435, 'precision': 0.0, 'recall': 0.0, 'auc': 0.5, 'f1': 0.0}\n",
      "\n",
      "187\n",
      "train {'loss': 0.17308804463772548, 'precision': 0.0, 'recall': 0.0, 'auc': 0.5, 'f1': 0.0}\n",
      "val {'loss': 0.28874707221984863, 'precision': 0.0, 'recall': 0.0, 'auc': 0.5, 'f1': 0.0}\n",
      "\n",
      "188\n",
      "train {'loss': 0.17289105412505923, 'precision': 0.0, 'recall': 0.0, 'auc': 0.5, 'f1': 0.0}\n",
      "val {'loss': 0.27999622623125714, 'precision': 0.0, 'recall': 0.0, 'auc': 0.5, 'f1': 0.0}\n",
      "\n",
      "189\n",
      "train {'loss': 0.1726969579855601, 'precision': 0.0, 'recall': 0.0, 'auc': 0.5, 'f1': 0.0}\n",
      "val {'loss': 0.29312680164972943, 'precision': 0.0, 'recall': 0.0, 'auc': 0.5, 'f1': 0.0}\n",
      "\n",
      "190\n",
      "train {'loss': 0.17250568029426394, 'precision': 0.0, 'recall': 0.0, 'auc': 0.5, 'f1': 0.0}\n",
      "val {'loss': 0.27884166439374286, 'precision': 0.0, 'recall': 0.0, 'auc': 0.5, 'f1': 0.0}\n",
      "\n",
      "191\n",
      "train {'loss': 0.17231716641357966, 'precision': 0.0, 'recall': 0.0, 'auc': 0.5, 'f1': 0.0}\n",
      "val {'loss': 0.274454265832901, 'precision': 0.0, 'recall': 0.0, 'auc': 0.5, 'f1': 0.0}\n",
      "\n",
      "192\n",
      "train {'loss': 0.17213135602928342, 'precision': 0.0, 'recall': 0.0, 'auc': 0.5, 'f1': 0.0}\n",
      "val {'loss': 0.2810579637686412, 'precision': 0.0, 'recall': 0.0, 'auc': 0.5, 'f1': 0.0}\n",
      "\n",
      "193\n",
      "train {'loss': 0.17194819947083792, 'precision': 0.0, 'recall': 0.0, 'auc': 0.5, 'f1': 0.0}\n",
      "val {'loss': 0.2788853645324707, 'precision': 0.0, 'recall': 0.0, 'auc': 0.5, 'f1': 0.0}\n",
      "\n",
      "194\n",
      "train {'loss': 0.17176765097039087, 'precision': 0.0, 'recall': 0.0, 'auc': 0.5, 'f1': 0.0}\n",
      "val {'loss': 0.28771401445070904, 'precision': 0.0, 'recall': 0.0, 'auc': 0.5, 'f1': 0.0}\n",
      "\n",
      "195\n",
      "train {'loss': 0.17158963211945125, 'precision': 0.0, 'recall': 0.0, 'auc': 0.5, 'f1': 0.0}\n",
      "val {'loss': 0.2744123538335164, 'precision': 0.0, 'recall': 0.0, 'auc': 0.5, 'f1': 0.0}\n",
      "\n",
      "196\n",
      "train {'loss': 0.1714141301455952, 'precision': 0.0, 'recall': 0.0, 'auc': 0.5, 'f1': 0.0}\n",
      "val {'loss': 0.27436965703964233, 'precision': 0.0, 'recall': 0.0, 'auc': 0.5, 'f1': 0.0}\n",
      "\n",
      "197\n",
      "train {'loss': 0.17124107338133313, 'precision': 0.0, 'recall': 0.0, 'auc': 0.5, 'f1': 0.0}\n",
      "val {'loss': 0.27767321467399597, 'precision': 0.0, 'recall': 0.0, 'auc': 0.5, 'f1': 0.0}\n",
      "\n",
      "198\n",
      "train {'loss': 0.17107040896302178, 'precision': 0.0, 'recall': 0.0, 'auc': 0.5, 'f1': 0.0}\n",
      "val {'loss': 0.27547487616539, 'precision': 0.0, 'recall': 0.0, 'auc': 0.5, 'f1': 0.0}\n",
      "\n",
      "199\n",
      "train {'loss': 0.1709021031856537, 'precision': 0.0, 'recall': 0.0, 'auc': 0.5, 'f1': 0.0}\n",
      "val {'loss': 0.28213199973106384, 'precision': 0.0, 'recall': 0.0, 'auc': 0.5, 'f1': 0.0}\n",
      "\n"
     ]
    }
   ],
   "source": [
    "seed_everything(1)\n",
    "\n",
    "res_dict = {}\n",
    "res_dict[\"tr_metrics\"] = []\n",
    "res_dict[\"va_metrics\"] = []\n",
    "verbose = True\n",
    "for epoch in tqdm(range(epochs)):\n",
    "    if verbose:\n",
    "        print(epoch)\n",
    "    _ = train_loop(\n",
    "        dataloader=tr_dl,\n",
    "        model=model,\n",
    "        loss_fn=loss_fn,\n",
    "        optimizer=optimizer,\n",
    "    )\n",
    "    curr_metrics = test_loop(dataloader=tr_dl, model=model, loss_fn=loss_fn)\n",
    "    if verbose:\n",
    "        print(\"train\", curr_metrics)\n",
    "    res_dict[\"tr_metrics\"].append(curr_metrics)\n",
    "    curr_metrics = test_loop(dataloader=va_dl, model=model, loss_fn=loss_fn)\n",
    "    if verbose:\n",
    "        print(\"val\", curr_metrics)\n",
    "    res_dict[\"va_metrics\"].append(curr_metrics)\n",
    "\n",
    "    if verbose:\n",
    "        print()  # empty line\n",
    "\n",
    "res_dict[\"tr_metrics\"] = pd.DataFrame(res_dict[\"tr_metrics\"])\n",
    "res_dict[\"va_metrics\"] = pd.DataFrame(res_dict[\"va_metrics\"])"
   ]
  },
  {
   "cell_type": "code",
   "execution_count": 106,
   "metadata": {
    "execution": {
     "iopub.execute_input": "2023-08-06T10:19:16.088926Z",
     "iopub.status.busy": "2023-08-06T10:19:16.088310Z",
     "iopub.status.idle": "2023-08-06T10:19:16.504540Z",
     "shell.execute_reply": "2023-08-06T10:19:16.504152Z",
     "shell.execute_reply.started": "2023-08-06T10:19:16.088893Z"
    }
   },
   "outputs": [
    {
     "data": {
      "image/png": "[encoded data removed]",
      "text/plain": [
       "<Figure size 800x800 with 4 Axes>"
      ]
     },
     "metadata": {},
     "output_type": "display_data"
    }
   ],
   "source": [
    "fig, axs = plt.subplots(2, 2, figsize=(8, 8))\n",
    "\n",
    "plt.sca(axs[0, 0])\n",
    "plt.plot(res_dict[\"tr_metrics\"][\"loss\"], label=\"Train\")\n",
    "plt.plot(res_dict[\"va_metrics\"][\"loss\"], label=\"Validation\")\n",
    "plt.title(\"Loss\")\n",
    "plt.xlabel(\"Epoch\")\n",
    "plt.legend()\n",
    "plt.sca(axs[0, 1])\n",
    "plt.plot(res_dict[\"tr_metrics\"][\"f1\"], label=\"Train\")\n",
    "plt.plot(res_dict[\"va_metrics\"][\"f1\"], label=\"Validation\")\n",
    "plt.title(\"F1\")\n",
    "plt.xlabel(\"Epoch\")\n",
    "plt.legend()\n",
    "plt.sca(axs[1, 0])\n",
    "plt.plot(res_dict[\"tr_metrics\"][\"precision\"], label=\"Train\")\n",
    "plt.plot(res_dict[\"va_metrics\"][\"precision\"], label=\"Validation\")\n",
    "plt.title(\"Precision\")\n",
    "plt.xlabel(\"Epoch\")\n",
    "plt.legend()\n",
    "plt.sca(axs[1, 1])\n",
    "plt.plot(res_dict[\"tr_metrics\"][\"recall\"], label=\"Train\")\n",
    "plt.plot(res_dict[\"va_metrics\"][\"recall\"], label=\"Validation\")\n",
    "plt.title(\"Recall\")\n",
    "plt.xlabel(\"Epoch\")\n",
    "plt.legend()\n",
    "fig.tight_layout();"
   ]
  },
  {
   "cell_type": "markdown",
   "metadata": {
    "execution": {
     "iopub.execute_input": "2023-07-31T16:23:56.909701Z",
     "iopub.status.busy": "2023-07-31T16:23:56.908105Z",
     "iopub.status.idle": "2023-07-31T16:23:56.967905Z",
     "shell.execute_reply": "2023-07-31T16:23:56.967481Z",
     "shell.execute_reply.started": "2023-07-31T16:23:56.909650Z"
    }
   },
   "source": [
    "## Linear attention"
   ]
  },
  {
   "cell_type": "markdown",
   "metadata": {},
   "source": [
    "implementation: https://github.com/idiap/fast-transformers\n",
    "\n",
    "paper: https://arxiv.org/pdf/2006.16236.pdf"
   ]
  },
  {
   "cell_type": "code",
   "execution_count": 272,
   "metadata": {
    "execution": {
     "iopub.execute_input": "2023-08-05T19:57:22.585780Z",
     "iopub.status.busy": "2023-08-05T19:57:22.584953Z",
     "iopub.status.idle": "2023-08-05T19:57:23.431185Z",
     "shell.execute_reply": "2023-08-05T19:57:23.430696Z",
     "shell.execute_reply.started": "2023-08-05T19:57:22.585717Z"
    }
   },
   "outputs": [],
   "source": [
    "from src.transformer import LinearTransformer"
   ]
  },
  {
   "cell_type": "code",
   "execution_count": 273,
   "metadata": {
    "execution": {
     "iopub.execute_input": "2023-08-05T19:57:23.432459Z",
     "iopub.status.busy": "2023-08-05T19:57:23.432340Z",
     "iopub.status.idle": "2023-08-05T19:57:23.462619Z",
     "shell.execute_reply": "2023-08-05T19:57:23.462179Z",
     "shell.execute_reply.started": "2023-08-05T19:57:23.432450Z"
    }
   },
   "outputs": [],
   "source": [
    "window_size = 8\n",
    "train_proportion = 0.9\n",
    "batch_size = 16\n",
    "learning_rate = 1e-3 / 2\n",
    "epochs = 30\n",
    "\n",
    "input_dim = len(tr_cols)\n",
    "embed_dim = 8\n",
    "num_heads = 1"
   ]
  },
  {
   "cell_type": "code",
   "execution_count": 283,
   "metadata": {
    "execution": {
     "iopub.execute_input": "2023-08-05T20:12:36.414517Z",
     "iopub.status.busy": "2023-08-05T20:12:36.413862Z",
     "iopub.status.idle": "2023-08-05T20:12:36.511842Z",
     "shell.execute_reply": "2023-08-05T20:12:36.511391Z",
     "shell.execute_reply.started": "2023-08-05T20:12:36.414475Z"
    }
   },
   "outputs": [
    {
     "name": "stderr",
     "output_type": "stream",
     "text": [
      "Global seed set to 1\n"
     ]
    }
   ],
   "source": [
    "seed_everything(1)\n",
    "\n",
    "# TODO: sampling might be useful for some datasets\n",
    "# sampler = torch.utils.data.sampler.WeightedRandomSampler(weights, len(weights))\n",
    "# tr_dl = DataLoader(tr_dataset, batch_size=batch_size, shuffle=False, sampler=sampler)\n",
    "\n",
    "tr_dl = DataLoader(tr_dataset, batch_size=batch_size, shuffle=False)\n",
    "va_dl = DataLoader(va_dataset, batch_size=batch_size, shuffle=True)"
   ]
  },
  {
   "cell_type": "code",
   "execution_count": 284,
   "metadata": {
    "execution": {
     "iopub.execute_input": "2023-08-05T20:12:36.644605Z",
     "iopub.status.busy": "2023-08-05T20:12:36.644078Z",
     "iopub.status.idle": "2023-08-05T20:12:36.711016Z",
     "shell.execute_reply": "2023-08-05T20:12:36.710665Z",
     "shell.execute_reply.started": "2023-08-05T20:12:36.644571Z"
    }
   },
   "outputs": [
    {
     "name": "stderr",
     "output_type": "stream",
     "text": [
      "Global seed set to 1\n"
     ]
    }
   ],
   "source": [
    "seed_everything(1)\n",
    "model = LinearTransformer(input_dim=input_dim, num_heads=num_heads, embed_dim=embed_dim)"
   ]
  },
  {
   "cell_type": "code",
   "execution_count": 276,
   "metadata": {
    "execution": {
     "iopub.execute_input": "2023-08-05T19:57:23.522469Z",
     "iopub.status.busy": "2023-08-05T19:57:23.522364Z",
     "iopub.status.idle": "2023-08-05T19:57:23.554501Z",
     "shell.execute_reply": "2023-08-05T19:57:23.554143Z",
     "shell.execute_reply.started": "2023-08-05T19:57:23.522458Z"
    }
   },
   "outputs": [
    {
     "data": {
      "text/plain": [
       "LinearTransformer(\n",
       "  (linear_transformer): TransformerEncoder(\n",
       "    (layers): ModuleList(\n",
       "      (0): TransformerEncoderLayer(\n",
       "        (attention): AttentionLayer(\n",
       "          (inner_attention): LinearAttention(\n",
       "            (feature_map): ActivationFunctionFeatureMap()\n",
       "          )\n",
       "          (query_projection): Linear(in_features=8, out_features=8, bias=True)\n",
       "          (key_projection): Linear(in_features=8, out_features=8, bias=True)\n",
       "          (value_projection): Linear(in_features=8, out_features=8, bias=True)\n",
       "          (out_projection): Linear(in_features=8, out_features=8, bias=True)\n",
       "        )\n",
       "        (linear1): Linear(in_features=8, out_features=8, bias=True)\n",
       "        (linear2): Linear(in_features=8, out_features=8, bias=True)\n",
       "        (norm1): LayerNorm((8,), eps=1e-05, elementwise_affine=True)\n",
       "        (norm2): LayerNorm((8,), eps=1e-05, elementwise_affine=True)\n",
       "        (dropout): Dropout(p=0.1, inplace=False)\n",
       "      )\n",
       "    )\n",
       "    (norm): LayerNorm((8,), eps=1e-05, elementwise_affine=True)\n",
       "  )\n",
       "  (fc_input): Linear(in_features=2, out_features=8, bias=True)\n",
       "  (fc): Linear(in_features=8, out_features=1, bias=True)\n",
       ")"
      ]
     },
     "execution_count": 276,
     "metadata": {},
     "output_type": "execute_result"
    }
   ],
   "source": [
    "model"
   ]
  },
  {
   "cell_type": "code",
   "execution_count": 277,
   "metadata": {
    "execution": {
     "iopub.execute_input": "2023-08-05T19:57:23.596700Z",
     "iopub.status.busy": "2023-08-05T19:57:23.596506Z",
     "iopub.status.idle": "2023-08-05T19:57:23.651891Z",
     "shell.execute_reply": "2023-08-05T19:57:23.651503Z",
     "shell.execute_reply.started": "2023-08-05T19:57:23.596686Z"
    }
   },
   "outputs": [],
   "source": [
    "# loss_fn = nn.BCELoss()\n",
    "loss_fn = nn.BCEWithLogitsLoss()\n",
    "optimizer = torch.optim.Adam(model.parameters(), lr=learning_rate)"
   ]
  },
  {
   "cell_type": "code",
   "execution_count": 278,
   "metadata": {
    "execution": {
     "iopub.execute_input": "2023-08-05T19:57:24.327132Z",
     "iopub.status.busy": "2023-08-05T19:57:24.326665Z",
     "iopub.status.idle": "2023-08-05T19:59:57.772439Z",
     "shell.execute_reply": "2023-08-05T19:59:57.772066Z",
     "shell.execute_reply.started": "2023-08-05T19:57:24.327091Z"
    }
   },
   "outputs": [
    {
     "data": {
      "application/vnd.jupyter.widget-view+json": {
       "model_id": "d2ab49a6925f42ee9477fbae44643a78",
       "version_major": 2,
       "version_minor": 0
      },
      "text/plain": [
       "  0%|          | 0/30 [00:00<?, ?it/s]"
      ]
     },
     "metadata": {},
     "output_type": "display_data"
    }
   ],
   "source": [
    "seed_everything(1)\n",
    "\n",
    "res_dict = {}\n",
    "res_dict[\"tr_metrics\"] = []\n",
    "res_dict[\"va_metrics\"] = []\n",
    "verbose = True\n",
    "for epoch in tqdm(range(epochs)):\n",
    "    if verbose:\n",
    "        print(epoch)\n",
    "    _ = train_loop(\n",
    "        dataloader=tr_dl,\n",
    "        model=model,\n",
    "        loss_fn=loss_fn,\n",
    "        optimizer=optimizer,\n",
    "    )\n",
    "    curr_metrics = test_loop(dataloader=tr_dl, model=model, loss_fn=loss_fn)\n",
    "    if verbose:\n",
    "        print(\"train\", curr_metrics)\n",
    "    res_dict[\"tr_metrics\"].append(curr_metrics)\n",
    "    curr_metrics = test_loop(dataloader=va_dl, model=model, loss_fn=loss_fn)\n",
    "    if verbose:\n",
    "        print(\"val\", curr_metrics)\n",
    "    res_dict[\"va_metrics\"].append(curr_metrics)\n",
    "\n",
    "    if verbose:\n",
    "        print()  # empty line\n",
    "\n",
    "res_dict[\"tr_metrics\"] = pd.DataFrame(res_dict[\"tr_metrics\"])\n",
    "res_dict[\"va_metrics\"] = pd.DataFrame(res_dict[\"va_metrics\"])"
   ]
  },
  {
   "cell_type": "code",
   "execution_count": 279,
   "metadata": {
    "execution": {
     "iopub.execute_input": "2023-08-05T20:01:14.704498Z",
     "iopub.status.busy": "2023-08-05T20:01:14.704009Z",
     "iopub.status.idle": "2023-08-05T20:01:15.094751Z",
     "shell.execute_reply": "2023-08-05T20:01:15.094426Z",
     "shell.execute_reply.started": "2023-08-05T20:01:14.704472Z"
    }
   },
   "outputs": [
    {
     "data": {
      "image/png": "[encoded data removed]",
      "text/plain": [
       "<Figure size 800x800 with 4 Axes>"
      ]
     },
     "metadata": {},
     "output_type": "display_data"
    }
   ],
   "source": [
    "fig, axs = plt.subplots(2, 2, figsize=(8, 8))\n",
    "\n",
    "plt.sca(axs[0, 0])\n",
    "plt.plot(res_dict[\"tr_metrics\"][\"loss\"], label=\"Train\")\n",
    "plt.plot(res_dict[\"va_metrics\"][\"loss\"], label=\"Validation\")\n",
    "plt.title(\"Loss\")\n",
    "plt.xlabel(\"Epoch\")\n",
    "plt.legend()\n",
    "plt.sca(axs[0, 1])\n",
    "plt.plot(res_dict[\"tr_metrics\"][\"f1\"], label=\"Train\")\n",
    "plt.plot(res_dict[\"va_metrics\"][\"f1\"], label=\"Validation\")\n",
    "plt.title(\"F1\")\n",
    "plt.xlabel(\"Epoch\")\n",
    "plt.legend()\n",
    "plt.sca(axs[1, 0])\n",
    "plt.plot(res_dict[\"tr_metrics\"][\"precision\"], label=\"Train\")\n",
    "plt.plot(res_dict[\"va_metrics\"][\"precision\"], label=\"Validation\")\n",
    "plt.title(\"Precision\")\n",
    "plt.xlabel(\"Epoch\")\n",
    "plt.legend()\n",
    "plt.sca(axs[1, 1])\n",
    "plt.plot(res_dict[\"tr_metrics\"][\"recall\"], label=\"Train\")\n",
    "plt.plot(res_dict[\"va_metrics\"][\"recall\"], label=\"Validation\")\n",
    "plt.title(\"Recall\")\n",
    "plt.xlabel(\"Epoch\")\n",
    "plt.legend()\n",
    "fig.tight_layout();"
   ]
  },
  {
   "cell_type": "code",
   "execution_count": null,
   "metadata": {},
   "outputs": [],
   "source": []
  }
 ],
 "metadata": {
  "kernelspec": {
   "display_name": "Python 3 (ipykernel)",
   "language": "python",
   "name": "python3"
  },
  "language_info": {
   "codemirror_mode": {
    "name": "ipython",
    "version": 3
   },
   "file_extension": ".py",
   "mimetype": "text/x-python",
   "name": "python",
   "nbconvert_exporter": "python",
   "pygments_lexer": "ipython3",
   "version": "3.10.12"
  }
 },
 "nbformat": 4,
 "nbformat_minor": 4
}
