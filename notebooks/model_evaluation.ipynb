{
 "cells": [
  {
   "attachments": {},
   "cell_type": "markdown",
   "metadata": {},
   "source": [
    "# Model evaluation\n",
    "\n",
    "In this notebook, I will compare the accuracy metrics of models"
   ]
  },
  {
   "cell_type": "code",
   "execution_count": 1,
   "metadata": {
    "execution": {
     "iopub.execute_input": "2023-08-05T10:23:55.902401Z",
     "iopub.status.busy": "2023-08-05T10:23:55.901424Z",
     "iopub.status.idle": "2023-08-05T10:23:55.941017Z",
     "shell.execute_reply": "2023-08-05T10:23:55.940488Z",
     "shell.execute_reply.started": "2023-08-05T10:23:55.902296Z"
    }
   },
   "outputs": [],
   "source": [
    "%load_ext autoreload\n",
    "%autoreload 2\n",
    "\n",
    "import sys\n",
    "\n",
    "sys.path.append(\"..\")"
   ]
  },
  {
   "cell_type": "code",
   "execution_count": 2,
   "metadata": {
    "execution": {
     "iopub.execute_input": "2023-08-05T10:23:56.326677Z",
     "iopub.status.busy": "2023-08-05T10:23:56.326135Z",
     "iopub.status.idle": "2023-08-05T10:23:58.782601Z",
     "shell.execute_reply": "2023-08-05T10:23:58.782288Z",
     "shell.execute_reply.started": "2023-08-05T10:23:56.326640Z"
    }
   },
   "outputs": [],
   "source": [
    "import matplotlib.pyplot as plt\n",
    "import numpy as np\n",
    "import pandas as pd\n",
    "import seaborn as sns"
   ]
  },
  {
   "cell_type": "code",
   "execution_count": 3,
   "metadata": {
    "execution": {
     "iopub.execute_input": "2023-08-05T10:23:58.783541Z",
     "iopub.status.busy": "2023-08-05T10:23:58.783397Z",
     "iopub.status.idle": "2023-08-05T10:23:58.808343Z",
     "shell.execute_reply": "2023-08-05T10:23:58.808015Z",
     "shell.execute_reply.started": "2023-08-05T10:23:58.783532Z"
    }
   },
   "outputs": [],
   "source": [
    "import scienceplots  # noqa # pylint: disable=unused-import\n",
    "\n",
    "plt.style.use([\"science\", \"ieee\", \"default\"])\n",
    "plt.rcParams.update({\"axes.grid\": True})"
   ]
  },
  {
   "cell_type": "code",
   "execution_count": 4,
   "metadata": {
    "execution": {
     "iopub.execute_input": "2023-08-05T10:23:58.809448Z",
     "iopub.status.busy": "2023-08-05T10:23:58.809284Z",
     "iopub.status.idle": "2023-08-05T10:23:58.830271Z",
     "shell.execute_reply": "2023-08-05T10:23:58.829963Z",
     "shell.execute_reply.started": "2023-08-05T10:23:58.809437Z"
    }
   },
   "outputs": [],
   "source": [
    "from tqdm.auto import tqdm"
   ]
  },
  {
   "cell_type": "markdown",
   "metadata": {},
   "source": [
    "## Prepare dataloader"
   ]
  },
  {
   "cell_type": "code",
   "execution_count": 5,
   "metadata": {
    "execution": {
     "iopub.execute_input": "2023-08-05T10:24:00.741696Z",
     "iopub.status.busy": "2023-08-05T10:24:00.740452Z",
     "iopub.status.idle": "2023-08-05T10:24:00.781727Z",
     "shell.execute_reply": "2023-08-05T10:24:00.781283Z",
     "shell.execute_reply.started": "2023-08-05T10:24:00.741643Z"
    }
   },
   "outputs": [],
   "source": [
    "from pathlib import Path\n",
    "\n",
    "ROOT_DATA_DIR = Path(\"../data/\")"
   ]
  },
  {
   "cell_type": "code",
   "execution_count": 6,
   "metadata": {
    "execution": {
     "iopub.execute_input": "2023-08-05T10:24:01.376298Z",
     "iopub.status.busy": "2023-08-05T10:24:01.375851Z",
     "iopub.status.idle": "2023-08-05T10:24:02.658400Z",
     "shell.execute_reply": "2023-08-05T10:24:02.658101Z",
     "shell.execute_reply.started": "2023-08-05T10:24:01.376266Z"
    }
   },
   "outputs": [],
   "source": [
    "from collections import defaultdict\n",
    "\n",
    "import torch\n",
    "from sklearn.preprocessing import MinMaxScaler\n",
    "from sklearn.utils.class_weight import compute_class_weight\n",
    "from torch import Tensor, nn\n",
    "from torch.utils.data import DataLoader, TensorDataset\n",
    "\n",
    "from src.utils import get_metrics\n",
    "\n",
    "\n",
    "def seed_init_fn(seed=1):\n",
    "    import random\n",
    "\n",
    "    import numpy as np\n",
    "    import torch\n",
    "\n",
    "    np.random.seed(seed)\n",
    "    random.seed(seed)\n",
    "    torch.manual_seed(seed)"
   ]
  },
  {
   "cell_type": "code",
   "execution_count": 200,
   "metadata": {
    "execution": {
     "iopub.execute_input": "2023-08-05T19:39:58.651251Z",
     "iopub.status.busy": "2023-08-05T19:39:58.650764Z",
     "iopub.status.idle": "2023-08-05T19:39:58.703614Z",
     "shell.execute_reply": "2023-08-05T19:39:58.703114Z",
     "shell.execute_reply.started": "2023-08-05T19:39:58.651221Z"
    }
   },
   "outputs": [],
   "source": [
    "def train_loop(dataloader, model, loss_fn, optimizer):\n",
    "    size = len(dataloader.dataset)\n",
    "    model.train()\n",
    "    for batch, (x_batch, y_batch) in enumerate(dataloader):\n",
    "        y_pred = model(x_batch)\n",
    "\n",
    "        loss = loss_fn(y_pred, y_batch)\n",
    "\n",
    "        optimizer.zero_grad()\n",
    "        loss.backward()\n",
    "        optimizer.step()\n",
    "    return res_dict\n",
    "\n",
    "\n",
    "def test_loop(dataloader, model, loss_fn):\n",
    "    res_dict = {}\n",
    "    model.eval()\n",
    "    size = len(dataloader.dataset)\n",
    "    num_batches = len(dataloader)\n",
    "    test_loss, correct = 0, 0\n",
    "\n",
    "    all_y = []\n",
    "    all_y_pred = []\n",
    "    with torch.no_grad():\n",
    "        for x_batch, y_batch in dataloader:\n",
    "            y_pred = model(x_batch)\n",
    "            test_loss += loss_fn(y_pred, y_batch).item()\n",
    "            all_y.append(y_batch)\n",
    "\n",
    "            # convert sigmoid to labels\n",
    "            y_pred = y_pred.reshape(-1)\n",
    "            y_pred = (y_pred > 0.5).int()\n",
    "            all_y_pred.append(y_pred)\n",
    "\n",
    "    test_loss /= num_batches\n",
    "    res_dict[\"loss\"] = test_loss\n",
    "    all_y = torch.cat(all_y)\n",
    "    all_y_pred = torch.cat(all_y_pred)\n",
    "    res_dict = res_dict | get_metrics(y_true=all_y, y_pred=all_y_pred)\n",
    "    return res_dict"
   ]
  },
  {
   "cell_type": "markdown",
   "metadata": {},
   "source": [
    "take only 1 dataset, 1 concrete time series for now..."
   ]
  },
  {
   "cell_type": "code",
   "execution_count": 201,
   "metadata": {
    "execution": {
     "iopub.execute_input": "2023-08-05T19:39:58.974205Z",
     "iopub.status.busy": "2023-08-05T19:39:58.973693Z",
     "iopub.status.idle": "2023-08-05T19:39:59.025687Z",
     "shell.execute_reply": "2023-08-05T19:39:59.024497Z",
     "shell.execute_reply.started": "2023-08-05T19:39:58.974166Z"
    }
   },
   "outputs": [],
   "source": [
    "DATA_DIR = ROOT_DATA_DIR / \"KPI-Anomaly-Detection/Preliminary_dataset\""
   ]
  },
  {
   "cell_type": "code",
   "execution_count": 202,
   "metadata": {
    "execution": {
     "iopub.execute_input": "2023-08-05T19:39:59.124153Z",
     "iopub.status.busy": "2023-08-05T19:39:59.123764Z",
     "iopub.status.idle": "2023-08-05T19:39:59.345618Z",
     "shell.execute_reply": "2023-08-05T19:39:59.345246Z",
     "shell.execute_reply.started": "2023-08-05T19:39:59.124126Z"
    }
   },
   "outputs": [],
   "source": [
    "df = pd.read_parquet(DATA_DIR / \"train.parquet\")\n",
    "df.rename(columns={\"label\": \"target\"}, inplace=True)\n",
    "df = df[df[\"KPI ID\"] == \"02e99bd4f6cfb33f\"].copy()\n",
    "df = df[df.index > 1.49 * 1e9].copy()\n",
    "df = df.query(\"timestamp < 1496538120\").copy()\n",
    "df[\"time\"] = df.index - df.index[0]\n",
    "# df[\"value\"] = df[\"value\"].diff()\n",
    "# df = df.query('stock==1 & day==0 & train==1')\n",
    "# df.value = df.value.pct_change()\n",
    "df.dropna(inplace=True)"
   ]
  },
  {
   "cell_type": "code",
   "execution_count": 203,
   "metadata": {
    "execution": {
     "iopub.execute_input": "2023-08-05T19:39:59.347183Z",
     "iopub.status.busy": "2023-08-05T19:39:59.346843Z",
     "iopub.status.idle": "2023-08-05T19:39:59.375481Z",
     "shell.execute_reply": "2023-08-05T19:39:59.375076Z",
     "shell.execute_reply.started": "2023-08-05T19:39:59.347156Z"
    }
   },
   "outputs": [],
   "source": [
    "def convert_to_windows(x, window_size):\n",
    "    # convert input time series x to\n",
    "    # time series of lags, first window_size observations are dropped\n",
    "    windows = []\n",
    "    for i in range(window_size, len(x)):\n",
    "        w = x[i - window_size : i]\n",
    "        windows.append(w)\n",
    "    windows = np.array(windows)\n",
    "    return windows\n",
    "\n",
    "# TODO: maybe make this a general function...\n",
    "t = df.copy()\n",
    "# # for col in ['value', 'target']:\n",
    "# for col in [\"value\"]:\n",
    "#     for lag in range(0, window_size):\n",
    "#         t[f\"lag_{col}_{lag}\"] = t[col].shift(lag)\n",
    "# t = t.dropna()\n",
    "# tr_cols = [c for c in t.columns if \"lag\" in c]\n",
    "# # remove target from train columns\n",
    "# try:\n",
    "#     tr_cols.pop(tr_cols.index(\"lag_target_0\"))\n",
    "# except:\n",
    "#     pass\n",
    "# df = t"
   ]
  },
  {
   "cell_type": "code",
   "execution_count": 204,
   "metadata": {
    "execution": {
     "iopub.execute_input": "2023-08-05T19:39:59.462117Z",
     "iopub.status.busy": "2023-08-05T19:39:59.461742Z",
     "iopub.status.idle": "2023-08-05T19:39:59.501255Z",
     "shell.execute_reply": "2023-08-05T19:39:59.500924Z",
     "shell.execute_reply.started": "2023-08-05T19:39:59.462096Z"
    }
   },
   "outputs": [],
   "source": [
    "df['value_diff'] = df['value'].diff()\n",
    "tr_cols = ['value', 'value_diff']\n",
    "df = df.dropna()"
   ]
  },
  {
   "cell_type": "code",
   "execution_count": 205,
   "metadata": {
    "execution": {
     "iopub.execute_input": "2023-08-05T19:39:59.635993Z",
     "iopub.status.busy": "2023-08-05T19:39:59.635640Z",
     "iopub.status.idle": "2023-08-05T19:39:59.674652Z",
     "shell.execute_reply": "2023-08-05T19:39:59.673990Z",
     "shell.execute_reply.started": "2023-08-05T19:39:59.635977Z"
    }
   },
   "outputs": [],
   "source": [
    "# fig, axs = plt.subplots(1, 2, figsize=(8, 4))\n",
    "# plt.subplot(1, 2, 1)\n",
    "# plt.plot(df.value.diff())\n",
    "# plt.subplot(1, 2, 2)\n",
    "# plt.hist(df.value)\n",
    "# plt.yscale(\"log\")\n",
    "# plt.tight_layout();"
   ]
  },
  {
   "cell_type": "code",
   "execution_count": 206,
   "metadata": {
    "execution": {
     "iopub.execute_input": "2023-08-05T19:40:00.015118Z",
     "iopub.status.busy": "2023-08-05T19:40:00.014693Z",
     "iopub.status.idle": "2023-08-05T19:40:00.090773Z",
     "shell.execute_reply": "2023-08-05T19:40:00.090366Z",
     "shell.execute_reply.started": "2023-08-05T19:40:00.015092Z"
    }
   },
   "outputs": [],
   "source": [
    "x = df[tr_cols].values.copy()\n",
    "scaler = MinMaxScaler()\n",
    "x = scaler.fit_transform(x)\n",
    "# x_scaled = x\n",
    "x = convert_to_windows(x, window_size)\n",
    "y = df[\"target\"].values\n",
    "y = y[window_size:]\n",
    "\n",
    "# class_weights = compute_class_weight('balanced', classes=[0, 1], y=y.ravel())\n",
    "# class_weights = class_weights / class_weights.sum()\n",
    "\n",
    "x = torch.Tensor(x)\n",
    "y = torch.Tensor(y)\n",
    "\n",
    "train_idx = int(len(x) * train_proportion)\n",
    "# train_idx = int(1.495 * 1e9)\n",
    "\n",
    "tr, va = x[:train_idx], x[train_idx:]\n",
    "# x = np.hstack([x, y.reshape(-1, 1)])\n",
    "# y = y.reshape(-1, 1)\n",
    "ytr, yva = y[:train_idx], y[train_idx:]\n",
    "tr_dataset = TensorDataset(tr, ytr)\n",
    "va_dataset = TensorDataset(va, yva)\n",
    "\n",
    "# weights = torch.where(ytr.ravel() == 0, class_weights[0], class_weights[1])\n",
    "\n",
    "# TODO: maybe add test dataset\n",
    "\n",
    "# debug print\n",
    "# print(ytr.mean(), yva.mean())"
   ]
  },
  {
   "cell_type": "code",
   "execution_count": 207,
   "metadata": {
    "execution": {
     "iopub.execute_input": "2023-08-05T19:40:00.238620Z",
     "iopub.status.busy": "2023-08-05T19:40:00.238095Z",
     "iopub.status.idle": "2023-08-05T19:40:01.211441Z",
     "shell.execute_reply": "2023-08-05T19:40:01.211154Z",
     "shell.execute_reply.started": "2023-08-05T19:40:00.238488Z"
    }
   },
   "outputs": [
    {
     "data": {
      "image/png": "[encoded data removed]",
      "text/plain": [
       "<Figure size 800x400 with 2 Axes>"
      ]
     },
     "metadata": {},
     "output_type": "display_data"
    }
   ],
   "source": [
    "fig, axs = plt.subplots(1, 2, figsize=(8, 4))\n",
    "plt.sca(axs[0])\n",
    "plt.plot(tr[:, 0, 0])\n",
    "plt.sca(axs[1])\n",
    "plt.plot(tr[:, 0, 1])\n",
    "fig.tight_layout();"
   ]
  },
  {
   "cell_type": "markdown",
   "metadata": {},
   "source": [
    "## Evaluate models"
   ]
  },
  {
   "cell_type": "code",
   "execution_count": 208,
   "metadata": {
    "execution": {
     "iopub.execute_input": "2023-08-05T19:40:01.212249Z",
     "iopub.status.busy": "2023-08-05T19:40:01.212159Z",
     "iopub.status.idle": "2023-08-05T19:40:01.245325Z",
     "shell.execute_reply": "2023-08-05T19:40:01.244984Z",
     "shell.execute_reply.started": "2023-08-05T19:40:01.212240Z"
    }
   },
   "outputs": [],
   "source": [
    "from src.transformer import TransformerEncoder\n",
    "from src.transformer import TransformerAnomalyDetector"
   ]
  },
  {
   "cell_type": "markdown",
   "metadata": {},
   "source": [
    "### Scaled Dot-Product"
   ]
  },
  {
   "cell_type": "code",
   "execution_count": 243,
   "metadata": {
    "execution": {
     "iopub.execute_input": "2023-08-05T19:51:02.176746Z",
     "iopub.status.busy": "2023-08-05T19:51:02.175790Z",
     "iopub.status.idle": "2023-08-05T19:51:02.228772Z",
     "shell.execute_reply": "2023-08-05T19:51:02.228344Z",
     "shell.execute_reply.started": "2023-08-05T19:51:02.176677Z"
    }
   },
   "outputs": [],
   "source": [
    "seed_init_fn(1)\n",
    "\n",
    "# TODO: sampling might be useful for some datasets\n",
    "# sampler = torch.utils.data.sampler.WeightedRandomSampler(weights, len(weights))\n",
    "# tr_dl = DataLoader(tr_dataset, batch_size=batch_size, shuffle=False, sampler=sampler)\n",
    "\n",
    "tr_dl = DataLoader(tr_dataset, batch_size=batch_size, shuffle=False)\n",
    "va_dl = DataLoader(va_dataset, batch_size=batch_size, shuffle=True)"
   ]
  },
  {
   "cell_type": "markdown",
   "metadata": {},
   "source": [
    "> **TODO**: add positional enocding"
   ]
  },
  {
   "cell_type": "markdown",
   "metadata": {},
   "source": [
    "See the code for Anomaly BERT -> implement sequences windows for tensors -> unsqueeze before supplying to the model"
   ]
  },
  {
   "cell_type": "code",
   "execution_count": 244,
   "metadata": {
    "execution": {
     "iopub.execute_input": "2023-08-05T19:51:02.750682Z",
     "iopub.status.busy": "2023-08-05T19:51:02.750182Z",
     "iopub.status.idle": "2023-08-05T19:51:02.821527Z",
     "shell.execute_reply": "2023-08-05T19:51:02.821068Z",
     "shell.execute_reply.started": "2023-08-05T19:51:02.750647Z"
    }
   },
   "outputs": [],
   "source": [
    "input_dim = len(tr_cols)\n",
    "out_dim = 1\n",
    "\n",
    "num_layers = 2\n",
    "block_input_dim = 16\n",
    "block_embed_dim = block_input_dim  # implicitly set in the block\n",
    "block_num_heads = 4\n",
    "block_dim_feedforward = 2 * block_input_dim\n",
    "block_args = {\n",
    "    'input_dim': block_input_dim,\n",
    "    'num_heads': block_num_heads,\n",
    "    'dim_feedforward': block_dim_feedforward,\n",
    "}\n",
    "\n",
    "tf_enc = TransformerEncoder(num_layers=num_layers, **block_args)\n",
    "# xx = torch.rand(batch_size, window_size, input_dim)\n",
    "\n",
    "# front_linear = nn.Linear(input_dim, block_input_dim)\n",
    "# last_linear = nn.Linear(block_input_dim, out_dim)\n",
    "# xx = front_linear(xx)\n",
    "# xx = tf_enc(xx)\n",
    "# last_linear(xx).shape"
   ]
  },
  {
   "cell_type": "code",
   "execution_count": 245,
   "metadata": {
    "execution": {
     "iopub.execute_input": "2023-08-05T19:51:02.923676Z",
     "iopub.status.busy": "2023-08-05T19:51:02.923182Z",
     "iopub.status.idle": "2023-08-05T19:51:02.969260Z",
     "shell.execute_reply": "2023-08-05T19:51:02.968764Z",
     "shell.execute_reply.started": "2023-08-05T19:51:02.923644Z"
    }
   },
   "outputs": [],
   "source": [
    "window_size = 8\n",
    "train_proportion = 0.9\n",
    "batch_size = 16\n",
    "learning_rate = 1e-5\n",
    "epochs = 30"
   ]
  },
  {
   "cell_type": "code",
   "execution_count": 246,
   "metadata": {
    "execution": {
     "iopub.execute_input": "2023-08-05T19:51:03.111845Z",
     "iopub.status.busy": "2023-08-05T19:51:03.111206Z",
     "iopub.status.idle": "2023-08-05T19:51:03.160217Z",
     "shell.execute_reply": "2023-08-05T19:51:03.159728Z",
     "shell.execute_reply.started": "2023-08-05T19:51:03.111793Z"
    }
   },
   "outputs": [],
   "source": [
    "seed_init_fn(1)\n",
    "\n",
    "input_dim = len(tr_cols)\n",
    "\n",
    "num_layers = 2\n",
    "block_input_dim = 16\n",
    "block_embed_dim = block_input_dim  # implicitly set in the block\n",
    "block_num_heads = 4\n",
    "block_dim_feedforward = 2 * block_input_dim\n",
    "block_args = {\n",
    "    'input_dim': block_input_dim,\n",
    "    'num_heads': block_num_heads,\n",
    "    'dim_feedforward': block_dim_feedforward,\n",
    "    'num_layers': num_layers,\n",
    "}\n",
    "positional_encoder_args = {\n",
    "    'max_len': window_size,\n",
    "}\n",
    "\n",
    "model = TransformerAnomalyDetector(\n",
    "    input_dim=input_dim, num_layers=num_layers, block_input_dim=block_input_dim, block_args=block_args, positional_encoder_args=positional_encoder_args)"
   ]
  },
  {
   "cell_type": "code",
   "execution_count": 247,
   "metadata": {
    "execution": {
     "iopub.execute_input": "2023-08-05T19:51:03.339143Z",
     "iopub.status.busy": "2023-08-05T19:51:03.338325Z",
     "iopub.status.idle": "2023-08-05T19:51:03.386400Z",
     "shell.execute_reply": "2023-08-05T19:51:03.385373Z",
     "shell.execute_reply.started": "2023-08-05T19:51:03.339081Z"
    }
   },
   "outputs": [],
   "source": [
    "# xx = torch.rand(batch_size, window_size, input_dim)\n",
    "# print(xx.shape)\n",
    "# model(xx)"
   ]
  },
  {
   "cell_type": "code",
   "execution_count": 248,
   "metadata": {
    "execution": {
     "iopub.execute_input": "2023-08-05T19:51:04.628571Z",
     "iopub.status.busy": "2023-08-05T19:51:04.628206Z",
     "iopub.status.idle": "2023-08-05T19:51:04.666982Z",
     "shell.execute_reply": "2023-08-05T19:51:04.664988Z",
     "shell.execute_reply.started": "2023-08-05T19:51:04.628545Z"
    }
   },
   "outputs": [],
   "source": [
    "# loss_fn = nn.BCELoss()\n",
    "loss_fn = nn.BCEWithLogitsLoss()\n",
    "optimizer = torch.optim.Adam(model.parameters(), lr=learning_rate)"
   ]
  },
  {
   "cell_type": "code",
   "execution_count": 249,
   "metadata": {
    "execution": {
     "iopub.execute_input": "2023-08-05T19:51:05.761046Z",
     "iopub.status.busy": "2023-08-05T19:51:05.760631Z",
     "iopub.status.idle": "2023-08-05T19:54:30.164809Z",
     "shell.execute_reply": "2023-08-05T19:54:30.164483Z",
     "shell.execute_reply.started": "2023-08-05T19:51:05.761017Z"
    }
   },
   "outputs": [
    {
     "data": {
      "application/vnd.jupyter.widget-view+json": {
       "model_id": "707937ae4df74bfebc83108b4b0630a6",
       "version_major": 2,
       "version_minor": 0
      },
      "text/plain": [
       "  0%|          | 0/30 [00:00<?, ?it/s]"
      ]
     },
     "metadata": {},
     "output_type": "display_data"
    },
    {
     "name": "stdout",
     "output_type": "stream",
     "text": [
      "0\n",
      "train {'loss': 0.21362086457885124, 'precision': 0.0, 'recall': 0.0, 'auc': 0.5, 'f1': 0.0}\n",
      "val {'loss': 0.2949151003995712, 'precision': 0.0, 'recall': 0.0, 'auc': 0.5, 'f1': 0.0}\n",
      "\n",
      "1\n",
      "train {'loss': 0.17639477704897488, 'precision': 0.0, 'recall': 0.0, 'auc': 0.5, 'f1': 0.0}\n",
      "val {'loss': 0.2800250615143694, 'precision': 0.0, 'recall': 0.0, 'auc': 0.5, 'f1': 0.0}\n",
      "\n",
      "2\n",
      "train {'loss': 0.1677873912306578, 'precision': 0.0, 'recall': 0.0, 'auc': 0.5, 'f1': 0.0}\n",
      "val {'loss': 0.28072228776835084, 'precision': 0.0, 'recall': 0.0, 'auc': 0.5, 'f1': 0.0}\n",
      "\n",
      "3\n",
      "train {'loss': 0.164353453723091, 'precision': 0.0, 'recall': 0.0, 'auc': 0.5, 'f1': 0.0}\n",
      "val {'loss': 0.2823721777737345, 'precision': 0.0, 'recall': 0.0, 'auc': 0.5, 'f1': 0.0}\n",
      "\n",
      "4\n",
      "train {'loss': 0.16240406867512877, 'precision': 0.0, 'recall': 0.0, 'auc': 0.5, 'f1': 0.0}\n",
      "val {'loss': 0.2846253928808412, 'precision': 0.0, 'recall': 0.0, 'auc': 0.5, 'f1': 0.0}\n",
      "\n",
      "5\n",
      "train {'loss': 0.16106482119639365, 'precision': 0.0, 'recall': 0.0, 'auc': 0.5, 'f1': 0.0}\n",
      "val {'loss': 0.28565641894578114, 'precision': 0.0, 'recall': 0.0, 'auc': 0.5, 'f1': 0.0}\n",
      "\n",
      "6\n",
      "train {'loss': 0.16009861476115125, 'precision': 0.0, 'recall': 0.0, 'auc': 0.5, 'f1': 0.0}\n",
      "val {'loss': 0.28723075898857053, 'precision': 0.0, 'recall': 0.0, 'auc': 0.5, 'f1': 0.0}\n",
      "\n",
      "7\n",
      "train {'loss': 0.15939216825087835, 'precision': 0.0, 'recall': 0.0, 'auc': 0.5, 'f1': 0.0}\n",
      "val {'loss': 0.2899822521045855, 'precision': 0.0, 'recall': 0.0, 'auc': 0.5, 'f1': 0.0}\n",
      "\n",
      "8\n",
      "train {'loss': 0.15886888643634073, 'precision': 0.0, 'recall': 0.0, 'auc': 0.5, 'f1': 0.0}\n",
      "val {'loss': 0.29072641297099516, 'precision': 0.0, 'recall': 0.0, 'auc': 0.5, 'f1': 0.0}\n",
      "\n",
      "9\n",
      "train {'loss': 0.15847498284226716, 'precision': 0.0, 'recall': 0.0, 'auc': 0.5, 'f1': 0.0}\n",
      "val {'loss': 0.2919727911423777, 'precision': 0.0, 'recall': 0.0, 'auc': 0.5, 'f1': 0.0}\n",
      "\n",
      "10\n",
      "train {'loss': 0.15817247561871003, 'precision': 0.0, 'recall': 0.0, 'auc': 0.5, 'f1': 0.0}\n",
      "val {'loss': 0.2924261425343371, 'precision': 0.0, 'recall': 0.0, 'auc': 0.5, 'f1': 0.0}\n",
      "\n",
      "11\n",
      "train {'loss': 0.15793529713943932, 'precision': 0.0, 'recall': 0.0, 'auc': 0.5, 'f1': 0.0}\n",
      "val {'loss': 0.2934040415430397, 'precision': 0.0, 'recall': 0.0, 'auc': 0.5, 'f1': 0.0}\n",
      "\n",
      "12\n",
      "train {'loss': 0.15774320327201552, 'precision': 0.0, 'recall': 0.0, 'auc': 0.5, 'f1': 0.0}\n",
      "val {'loss': 0.2942557589781448, 'precision': 0.0, 'recall': 0.0, 'auc': 0.5, 'f1': 0.0}\n",
      "\n",
      "13\n",
      "train {'loss': 0.15758115888588192, 'precision': 0.0, 'recall': 0.0, 'auc': 0.5, 'f1': 0.0}\n",
      "val {'loss': 0.295655364881164, 'precision': 0.0, 'recall': 0.0, 'auc': 0.5, 'f1': 0.0}\n",
      "\n",
      "14\n",
      "train {'loss': 0.1574389692509936, 'precision': 0.0, 'recall': 0.0, 'auc': 0.5, 'f1': 0.0}\n",
      "val {'loss': 0.2955960162828878, 'precision': 0.0, 'recall': 0.0, 'auc': 0.5, 'f1': 0.0}\n",
      "\n",
      "15\n",
      "train {'loss': 0.15730680785816684, 'precision': 0.0, 'recall': 0.0, 'auc': 0.5, 'f1': 0.0}\n",
      "val {'loss': 0.296096199809788, 'precision': 0.0, 'recall': 0.0, 'auc': 0.5, 'f1': 0.0}\n",
      "\n",
      "16\n",
      "train {'loss': 0.1571774208560506, 'precision': 0.0, 'recall': 0.0, 'auc': 0.5, 'f1': 0.0}\n",
      "val {'loss': 0.2971669986869666, 'precision': 0.0, 'recall': 0.0, 'auc': 0.5, 'f1': 0.0}\n",
      "\n",
      "17\n",
      "train {'loss': 0.1570430945850162, 'precision': 0.0, 'recall': 0.0, 'auc': 0.5, 'f1': 0.0}\n",
      "val {'loss': 0.2967449117490311, 'precision': 0.0, 'recall': 0.0, 'auc': 0.5, 'f1': 0.0}\n",
      "\n",
      "18\n",
      "train {'loss': 0.15690111712065924, 'precision': 0.0, 'recall': 0.0, 'auc': 0.5, 'f1': 0.0}\n",
      "val {'loss': 0.29690338334523114, 'precision': 0.0, 'recall': 0.0, 'auc': 0.5, 'f1': 0.0}\n",
      "\n",
      "19\n",
      "train {'loss': 0.1567592219162416, 'precision': 0.0, 'recall': 0.0, 'auc': 0.5, 'f1': 0.0}\n",
      "val {'loss': 0.2970449111946055, 'precision': 0.0, 'recall': 0.0, 'auc': 0.5, 'f1': 0.0}\n",
      "\n",
      "20\n",
      "train {'loss': 0.15660882555803407, 'precision': 0.0, 'recall': 0.0, 'auc': 0.5, 'f1': 0.0}\n",
      "val {'loss': 0.2971176191191493, 'precision': 0.0, 'recall': 0.0, 'auc': 0.5, 'f1': 0.0}\n",
      "\n",
      "21\n",
      "train {'loss': 0.1564451183243024, 'precision': 0.0, 'recall': 0.0, 'auc': 0.5, 'f1': 0.0}\n",
      "val {'loss': 0.29711091084424984, 'precision': 0.0, 'recall': 0.0, 'auc': 0.5, 'f1': 0.0}\n",
      "\n",
      "22\n",
      "train {'loss': 0.1562658017095073, 'precision': 0.0, 'recall': 0.0, 'auc': 0.5, 'f1': 0.0}\n",
      "val {'loss': 0.2977176300822869, 'precision': 0.0, 'recall': 0.0, 'auc': 0.5, 'f1': 0.0}\n",
      "\n",
      "23\n",
      "train {'loss': 0.15607228424961592, 'precision': 0.0, 'recall': 0.0, 'auc': 0.5, 'f1': 0.0}\n",
      "val {'loss': 0.29759056596053424, 'precision': 0.0, 'recall': 0.0, 'auc': 0.5, 'f1': 0.0}\n",
      "\n",
      "24\n",
      "train {'loss': 0.15586959533450387, 'precision': 0.0, 'recall': 0.0, 'auc': 0.5, 'f1': 0.0}\n",
      "val {'loss': 0.2967475160341902, 'precision': 0.0, 'recall': 0.0, 'auc': 0.5, 'f1': 0.0}\n",
      "\n",
      "25\n",
      "train {'loss': 0.15563843164852356, 'precision': 0.0, 'recall': 0.0, 'auc': 0.5, 'f1': 0.0}\n",
      "val {'loss': 0.2965088110429929, 'precision': 0.0, 'recall': 0.0, 'auc': 0.5, 'f1': 0.0}\n",
      "\n",
      "26\n",
      "train {'loss': 0.15538784574543418, 'precision': 0.0, 'recall': 0.0, 'auc': 0.5, 'f1': 0.0}\n",
      "val {'loss': 0.29622550752922844, 'precision': 0.0, 'recall': 0.0, 'auc': 0.5, 'f1': 0.0}\n",
      "\n",
      "27\n",
      "train {'loss': 0.15511638662608962, 'precision': 0.0, 'recall': 0.0, 'auc': 0.5, 'f1': 0.0}\n",
      "val {'loss': 0.29799755770213826, 'precision': 0.0, 'recall': 0.0, 'auc': 0.5, 'f1': 0.0}\n",
      "\n",
      "28\n",
      "train {'loss': 0.15482526162657786, 'precision': 0.0, 'recall': 0.0, 'auc': 0.5, 'f1': 0.0}\n",
      "val {'loss': 0.29554443995874774, 'precision': 0.0, 'recall': 0.0, 'auc': 0.5, 'f1': 0.0}\n",
      "\n",
      "29\n",
      "train {'loss': 0.1545150794641791, 'precision': 0.0, 'recall': 0.0, 'auc': 0.5, 'f1': 0.0}\n",
      "val {'loss': 0.295846029232765, 'precision': 0.0, 'recall': 0.0, 'auc': 0.5, 'f1': 0.0}\n",
      "\n"
     ]
    }
   ],
   "source": [
    "seed_init_fn(1)\n",
    "\n",
    "res_dict = {}\n",
    "res_dict[\"tr_metrics\"] = []\n",
    "res_dict[\"va_metrics\"] = []\n",
    "verbose = True\n",
    "for epoch in tqdm(range(epochs)):\n",
    "    if verbose:\n",
    "        print(epoch)\n",
    "    _ = train_loop(\n",
    "        dataloader=tr_dl,\n",
    "        model=model,\n",
    "        loss_fn=loss_fn,\n",
    "        optimizer=optimizer,\n",
    "    )\n",
    "    curr_metrics = test_loop(dataloader=tr_dl, model=model, loss_fn=loss_fn)\n",
    "    if verbose:\n",
    "        print(\"train\", curr_metrics)\n",
    "    res_dict[\"tr_metrics\"].append(curr_metrics)\n",
    "    curr_metrics = test_loop(dataloader=va_dl, model=model, loss_fn=loss_fn)\n",
    "    if verbose:\n",
    "        print(\"val\", curr_metrics)\n",
    "    res_dict[\"va_metrics\"].append(curr_metrics)\n",
    "\n",
    "    if verbose:\n",
    "        print()  # empty line\n",
    "\n",
    "res_dict[\"tr_metrics\"] = pd.DataFrame(res_dict[\"tr_metrics\"])\n",
    "res_dict[\"va_metrics\"] = pd.DataFrame(res_dict[\"va_metrics\"])"
   ]
  },
  {
   "cell_type": "code",
   "execution_count": 250,
   "metadata": {
    "execution": {
     "iopub.execute_input": "2023-08-05T19:55:09.539853Z",
     "iopub.status.busy": "2023-08-05T19:55:09.539038Z",
     "iopub.status.idle": "2023-08-05T19:55:09.952841Z",
     "shell.execute_reply": "2023-08-05T19:55:09.952424Z",
     "shell.execute_reply.started": "2023-08-05T19:55:09.539817Z"
    }
   },
   "outputs": [
    {
     "data": {
      "image/png": "[encoded data removed]",
      "text/plain": [
       "<Figure size 800x800 with 4 Axes>"
      ]
     },
     "metadata": {},
     "output_type": "display_data"
    }
   ],
   "source": [
    "fig, axs = plt.subplots(2, 2, figsize=(8, 8))\n",
    "\n",
    "plt.sca(axs[0, 0])\n",
    "plt.plot(res_dict[\"tr_metrics\"][\"loss\"], label=\"Train\")\n",
    "plt.plot(res_dict[\"va_metrics\"][\"loss\"], label=\"Validation\")\n",
    "plt.title(\"Loss\")\n",
    "plt.xlabel(\"Epoch\")\n",
    "plt.legend()\n",
    "plt.sca(axs[0, 1])\n",
    "plt.plot(res_dict[\"tr_metrics\"][\"f1\"], label=\"Train\")\n",
    "plt.plot(res_dict[\"va_metrics\"][\"f1\"], label=\"Validation\")\n",
    "plt.title(\"F1\")\n",
    "plt.xlabel(\"Epoch\")\n",
    "plt.legend()\n",
    "plt.sca(axs[1, 0])\n",
    "plt.plot(res_dict[\"tr_metrics\"][\"precision\"], label=\"Train\")\n",
    "plt.plot(res_dict[\"va_metrics\"][\"precision\"], label=\"Validation\")\n",
    "plt.title(\"Precision\")\n",
    "plt.xlabel(\"Epoch\")\n",
    "plt.legend()\n",
    "plt.sca(axs[1, 1])\n",
    "plt.plot(res_dict[\"tr_metrics\"][\"recall\"], label=\"Train\")\n",
    "plt.plot(res_dict[\"va_metrics\"][\"recall\"], label=\"Validation\")\n",
    "plt.title(\"Recall\")\n",
    "plt.xlabel(\"Epoch\")\n",
    "plt.legend()\n",
    "fig.tight_layout();"
   ]
  },
  {
   "cell_type": "markdown",
   "metadata": {
    "execution": {
     "iopub.execute_input": "2023-07-31T16:23:56.909701Z",
     "iopub.status.busy": "2023-07-31T16:23:56.908105Z",
     "iopub.status.idle": "2023-07-31T16:23:56.967905Z",
     "shell.execute_reply": "2023-07-31T16:23:56.967481Z",
     "shell.execute_reply.started": "2023-07-31T16:23:56.909650Z"
    }
   },
   "source": [
    "## Linear attention"
   ]
  },
  {
   "cell_type": "markdown",
   "metadata": {},
   "source": [
    "implementation: https://github.com/idiap/fast-transformers\n",
    "\n",
    "paper: https://arxiv.org/pdf/2006.16236.pdf"
   ]
  },
  {
   "cell_type": "code",
   "execution_count": 272,
   "metadata": {
    "execution": {
     "iopub.execute_input": "2023-08-05T19:57:22.585780Z",
     "iopub.status.busy": "2023-08-05T19:57:22.584953Z",
     "iopub.status.idle": "2023-08-05T19:57:23.431185Z",
     "shell.execute_reply": "2023-08-05T19:57:23.430696Z",
     "shell.execute_reply.started": "2023-08-05T19:57:22.585717Z"
    }
   },
   "outputs": [],
   "source": [
    "from src.transformer import LinearTransformer"
   ]
  },
  {
   "cell_type": "code",
   "execution_count": 273,
   "metadata": {
    "execution": {
     "iopub.execute_input": "2023-08-05T19:57:23.432459Z",
     "iopub.status.busy": "2023-08-05T19:57:23.432340Z",
     "iopub.status.idle": "2023-08-05T19:57:23.462619Z",
     "shell.execute_reply": "2023-08-05T19:57:23.462179Z",
     "shell.execute_reply.started": "2023-08-05T19:57:23.432450Z"
    }
   },
   "outputs": [],
   "source": [
    "window_size = 8\n",
    "train_proportion = 0.9\n",
    "batch_size = 16\n",
    "learning_rate = 1e-3 / 2\n",
    "epochs = 30\n",
    "\n",
    "input_dim = len(tr_cols)\n",
    "embed_dim = 8\n",
    "num_heads = 1"
   ]
  },
  {
   "cell_type": "code",
   "execution_count": 274,
   "metadata": {
    "execution": {
     "iopub.execute_input": "2023-08-05T19:57:23.463200Z",
     "iopub.status.busy": "2023-08-05T19:57:23.463106Z",
     "iopub.status.idle": "2023-08-05T19:57:23.492161Z",
     "shell.execute_reply": "2023-08-05T19:57:23.491630Z",
     "shell.execute_reply.started": "2023-08-05T19:57:23.463191Z"
    }
   },
   "outputs": [],
   "source": [
    "seed_init_fn(1)\n",
    "\n",
    "# TODO: sampling might be useful for some datasets\n",
    "# sampler = torch.utils.data.sampler.WeightedRandomSampler(weights, len(weights))\n",
    "# tr_dl = DataLoader(tr_dataset, batch_size=batch_size, shuffle=False, sampler=sampler)\n",
    "\n",
    "tr_dl = DataLoader(tr_dataset, batch_size=batch_size, shuffle=False)\n",
    "va_dl = DataLoader(va_dataset, batch_size=batch_size, shuffle=True)"
   ]
  },
  {
   "cell_type": "code",
   "execution_count": 275,
   "metadata": {
    "execution": {
     "iopub.execute_input": "2023-08-05T19:57:23.494036Z",
     "iopub.status.busy": "2023-08-05T19:57:23.493798Z",
     "iopub.status.idle": "2023-08-05T19:57:23.521874Z",
     "shell.execute_reply": "2023-08-05T19:57:23.521217Z",
     "shell.execute_reply.started": "2023-08-05T19:57:23.494022Z"
    }
   },
   "outputs": [],
   "source": [
    "seed_init_fn(1)\n",
    "model = LinearTransformer(input_dim=input_dim, num_heads=num_heads, embed_dim=embed_dim)"
   ]
  },
  {
   "cell_type": "code",
   "execution_count": 276,
   "metadata": {
    "execution": {
     "iopub.execute_input": "2023-08-05T19:57:23.522469Z",
     "iopub.status.busy": "2023-08-05T19:57:23.522364Z",
     "iopub.status.idle": "2023-08-05T19:57:23.554501Z",
     "shell.execute_reply": "2023-08-05T19:57:23.554143Z",
     "shell.execute_reply.started": "2023-08-05T19:57:23.522458Z"
    }
   },
   "outputs": [
    {
     "data": {
      "text/plain": [
       "LinearTransformer(\n",
       "  (linear_transformer): TransformerEncoder(\n",
       "    (layers): ModuleList(\n",
       "      (0): TransformerEncoderLayer(\n",
       "        (attention): AttentionLayer(\n",
       "          (inner_attention): LinearAttention(\n",
       "            (feature_map): ActivationFunctionFeatureMap()\n",
       "          )\n",
       "          (query_projection): Linear(in_features=8, out_features=8, bias=True)\n",
       "          (key_projection): Linear(in_features=8, out_features=8, bias=True)\n",
       "          (value_projection): Linear(in_features=8, out_features=8, bias=True)\n",
       "          (out_projection): Linear(in_features=8, out_features=8, bias=True)\n",
       "        )\n",
       "        (linear1): Linear(in_features=8, out_features=8, bias=True)\n",
       "        (linear2): Linear(in_features=8, out_features=8, bias=True)\n",
       "        (norm1): LayerNorm((8,), eps=1e-05, elementwise_affine=True)\n",
       "        (norm2): LayerNorm((8,), eps=1e-05, elementwise_affine=True)\n",
       "        (dropout): Dropout(p=0.1, inplace=False)\n",
       "      )\n",
       "    )\n",
       "    (norm): LayerNorm((8,), eps=1e-05, elementwise_affine=True)\n",
       "  )\n",
       "  (fc_input): Linear(in_features=2, out_features=8, bias=True)\n",
       "  (fc): Linear(in_features=8, out_features=1, bias=True)\n",
       ")"
      ]
     },
     "execution_count": 276,
     "metadata": {},
     "output_type": "execute_result"
    }
   ],
   "source": [
    "model"
   ]
  },
  {
   "cell_type": "code",
   "execution_count": 277,
   "metadata": {
    "execution": {
     "iopub.execute_input": "2023-08-05T19:57:23.596700Z",
     "iopub.status.busy": "2023-08-05T19:57:23.596506Z",
     "iopub.status.idle": "2023-08-05T19:57:23.651891Z",
     "shell.execute_reply": "2023-08-05T19:57:23.651503Z",
     "shell.execute_reply.started": "2023-08-05T19:57:23.596686Z"
    }
   },
   "outputs": [],
   "source": [
    "# loss_fn = nn.BCELoss()\n",
    "loss_fn = nn.BCEWithLogitsLoss()\n",
    "optimizer = torch.optim.Adam(model.parameters(), lr=learning_rate)"
   ]
  },
  {
   "cell_type": "code",
   "execution_count": 278,
   "metadata": {
    "execution": {
     "iopub.execute_input": "2023-08-05T19:57:24.327132Z",
     "iopub.status.busy": "2023-08-05T19:57:24.326665Z",
     "iopub.status.idle": "2023-08-05T19:59:57.772439Z",
     "shell.execute_reply": "2023-08-05T19:59:57.772066Z",
     "shell.execute_reply.started": "2023-08-05T19:57:24.327091Z"
    }
   },
   "outputs": [
    {
     "data": {
      "application/vnd.jupyter.widget-view+json": {
       "model_id": "d2ab49a6925f42ee9477fbae44643a78",
       "version_major": 2,
       "version_minor": 0
      },
      "text/plain": [
       "  0%|          | 0/30 [00:00<?, ?it/s]"
      ]
     },
     "metadata": {},
     "output_type": "display_data"
    }
   ],
   "source": [
    "seed_init_fn(1)\n",
    "\n",
    "res_dict = {}\n",
    "res_dict[\"tr_metrics\"] = []\n",
    "res_dict[\"va_metrics\"] = []\n",
    "verbose = True\n",
    "for epoch in tqdm(range(epochs)):\n",
    "    if verbose:\n",
    "        print(epoch)\n",
    "    _ = train_loop(\n",
    "        dataloader=tr_dl,\n",
    "        model=model,\n",
    "        loss_fn=loss_fn,\n",
    "        optimizer=optimizer,\n",
    "    )\n",
    "    curr_metrics = test_loop(dataloader=tr_dl, model=model, loss_fn=loss_fn)\n",
    "    if verbose:\n",
    "        print(\"train\", curr_metrics)\n",
    "    res_dict[\"tr_metrics\"].append(curr_metrics)\n",
    "    curr_metrics = test_loop(dataloader=va_dl, model=model, loss_fn=loss_fn)\n",
    "    if verbose:\n",
    "        print(\"val\", curr_metrics)\n",
    "    res_dict[\"va_metrics\"].append(curr_metrics)\n",
    "\n",
    "    if verbose:\n",
    "        print()  # empty line\n",
    "\n",
    "res_dict[\"tr_metrics\"] = pd.DataFrame(res_dict[\"tr_metrics\"])\n",
    "res_dict[\"va_metrics\"] = pd.DataFrame(res_dict[\"va_metrics\"])"
   ]
  },
  {
   "cell_type": "code",
   "execution_count": 279,
   "metadata": {
    "execution": {
     "iopub.execute_input": "2023-08-05T20:01:14.704498Z",
     "iopub.status.busy": "2023-08-05T20:01:14.704009Z",
     "iopub.status.idle": "2023-08-05T20:01:15.094751Z",
     "shell.execute_reply": "2023-08-05T20:01:15.094426Z",
     "shell.execute_reply.started": "2023-08-05T20:01:14.704472Z"
    }
   },
   "outputs": [
    {
     "data": {
      "image/png": "[encoded data removed]",
      "text/plain": [
       "<Figure size 800x800 with 4 Axes>"
      ]
     },
     "metadata": {},
     "output_type": "display_data"
    }
   ],
   "source": [
    "fig, axs = plt.subplots(2, 2, figsize=(8, 8))\n",
    "\n",
    "plt.sca(axs[0, 0])\n",
    "plt.plot(res_dict[\"tr_metrics\"][\"loss\"], label=\"Train\")\n",
    "plt.plot(res_dict[\"va_metrics\"][\"loss\"], label=\"Validation\")\n",
    "plt.title(\"Loss\")\n",
    "plt.xlabel(\"Epoch\")\n",
    "plt.legend()\n",
    "plt.sca(axs[0, 1])\n",
    "plt.plot(res_dict[\"tr_metrics\"][\"f1\"], label=\"Train\")\n",
    "plt.plot(res_dict[\"va_metrics\"][\"f1\"], label=\"Validation\")\n",
    "plt.title(\"F1\")\n",
    "plt.xlabel(\"Epoch\")\n",
    "plt.legend()\n",
    "plt.sca(axs[1, 0])\n",
    "plt.plot(res_dict[\"tr_metrics\"][\"precision\"], label=\"Train\")\n",
    "plt.plot(res_dict[\"va_metrics\"][\"precision\"], label=\"Validation\")\n",
    "plt.title(\"Precision\")\n",
    "plt.xlabel(\"Epoch\")\n",
    "plt.legend()\n",
    "plt.sca(axs[1, 1])\n",
    "plt.plot(res_dict[\"tr_metrics\"][\"recall\"], label=\"Train\")\n",
    "plt.plot(res_dict[\"va_metrics\"][\"recall\"], label=\"Validation\")\n",
    "plt.title(\"Recall\")\n",
    "plt.xlabel(\"Epoch\")\n",
    "plt.legend()\n",
    "fig.tight_layout();"
   ]
  },
  {
   "cell_type": "code",
   "execution_count": null,
   "metadata": {},
   "outputs": [],
   "source": []
  }
 ],
 "metadata": {
  "kernelspec": {
   "display_name": "Python 3 (ipykernel)",
   "language": "python",
   "name": "python3"
  },
  "language_info": {
   "codemirror_mode": {
    "name": "ipython",
    "version": 3
   },
   "file_extension": ".py",
   "mimetype": "text/x-python",
   "name": "python",
   "nbconvert_exporter": "python",
   "pygments_lexer": "ipython3",
   "version": "3.10.12"
  }
 },
 "nbformat": 4,
 "nbformat_minor": 4
}
