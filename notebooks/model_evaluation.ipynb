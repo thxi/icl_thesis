{
 "cells": [
  {
   "attachments": {},
   "cell_type": "markdown",
   "metadata": {},
   "source": [
    "# Model evaluation\n",
    "\n",
    "In this notebook, I will compare the accuracy metrics of models"
   ]
  },
  {
   "cell_type": "code",
   "execution_count": 33,
   "metadata": {
    "execution": {
     "iopub.execute_input": "2023-07-31T15:31:26.243296Z",
     "iopub.status.busy": "2023-07-31T15:31:26.242790Z",
     "iopub.status.idle": "2023-07-31T15:31:26.291969Z",
     "shell.execute_reply": "2023-07-31T15:31:26.291603Z",
     "shell.execute_reply.started": "2023-07-31T15:31:26.243271Z"
    }
   },
   "outputs": [
    {
     "name": "stdout",
     "output_type": "stream",
     "text": [
      "The autoreload extension is already loaded. To reload it, use:\n",
      "  %reload_ext autoreload\n"
     ]
    }
   ],
   "source": [
    "%load_ext autoreload\n",
    "%autoreload 2\n",
    "\n",
    "import sys\n",
    "\n",
    "sys.path.append(\"..\")"
   ]
  },
  {
   "cell_type": "code",
   "execution_count": 34,
   "metadata": {
    "execution": {
     "iopub.execute_input": "2023-07-31T15:31:26.441959Z",
     "iopub.status.busy": "2023-07-31T15:31:26.441488Z",
     "iopub.status.idle": "2023-07-31T15:31:26.487673Z",
     "shell.execute_reply": "2023-07-31T15:31:26.487288Z",
     "shell.execute_reply.started": "2023-07-31T15:31:26.441928Z"
    }
   },
   "outputs": [],
   "source": [
    "import matplotlib.pyplot as plt\n",
    "import numpy as np\n",
    "import pandas as pd\n",
    "import seaborn as sns"
   ]
  },
  {
   "cell_type": "code",
   "execution_count": 35,
   "metadata": {
    "execution": {
     "iopub.execute_input": "2023-07-31T15:31:26.654874Z",
     "iopub.status.busy": "2023-07-31T15:31:26.654152Z",
     "iopub.status.idle": "2023-07-31T15:31:26.699595Z",
     "shell.execute_reply": "2023-07-31T15:31:26.699166Z",
     "shell.execute_reply.started": "2023-07-31T15:31:26.654818Z"
    }
   },
   "outputs": [],
   "source": [
    "import scienceplots  # noqa # pylint: disable=unused-import\n",
    "\n",
    "plt.style.use([\"science\", \"ieee\", \"default\"])\n",
    "plt.rcParams.update({\"axes.grid\": True})"
   ]
  },
  {
   "cell_type": "code",
   "execution_count": 36,
   "metadata": {
    "execution": {
     "iopub.execute_input": "2023-07-31T15:31:26.867190Z",
     "iopub.status.busy": "2023-07-31T15:31:26.866648Z",
     "iopub.status.idle": "2023-07-31T15:31:26.912007Z",
     "shell.execute_reply": "2023-07-31T15:31:26.911615Z",
     "shell.execute_reply.started": "2023-07-31T15:31:26.867124Z"
    }
   },
   "outputs": [],
   "source": [
    "from tqdm.auto import tqdm"
   ]
  },
  {
   "cell_type": "markdown",
   "metadata": {},
   "source": [
    "## Prepare dataloader"
   ]
  },
  {
   "cell_type": "code",
   "execution_count": 37,
   "metadata": {
    "execution": {
     "iopub.execute_input": "2023-07-31T15:31:27.266362Z",
     "iopub.status.busy": "2023-07-31T15:31:27.265765Z",
     "iopub.status.idle": "2023-07-31T15:31:27.311574Z",
     "shell.execute_reply": "2023-07-31T15:31:27.311174Z",
     "shell.execute_reply.started": "2023-07-31T15:31:27.266332Z"
    }
   },
   "outputs": [],
   "source": [
    "from pathlib import Path\n",
    "\n",
    "ROOT_DATA_DIR = Path(\"../data/\")"
   ]
  },
  {
   "cell_type": "code",
   "execution_count": 72,
   "metadata": {
    "execution": {
     "iopub.execute_input": "2023-07-31T15:34:19.583415Z",
     "iopub.status.busy": "2023-07-31T15:34:19.582840Z",
     "iopub.status.idle": "2023-07-31T15:34:19.663190Z",
     "shell.execute_reply": "2023-07-31T15:34:19.662843Z",
     "shell.execute_reply.started": "2023-07-31T15:34:19.583382Z"
    }
   },
   "outputs": [],
   "source": [
    "from collections import defaultdict\n",
    "\n",
    "import torch\n",
    "from torch import Tensor, nn\n",
    "from torch.utils.data import DataLoader, TensorDataset\n",
    "\n",
    "from sklearn.preprocessing import MinMaxScaler\n",
    "from sklearn.utils.class_weight import compute_class_weight\n",
    "\n",
    "from src.utils import get_metrics\n",
    "\n",
    "def seed_init_fn(seed=1):\n",
    "    import numpy as np\n",
    "    import random\n",
    "    import torch\n",
    "    np.random.seed(seed)\n",
    "    random.seed(seed)\n",
    "    torch.manual_seed(seed)"
   ]
  },
  {
   "cell_type": "code",
   "execution_count": 73,
   "metadata": {
    "execution": {
     "iopub.execute_input": "2023-07-31T15:34:19.802995Z",
     "iopub.status.busy": "2023-07-31T15:34:19.802401Z",
     "iopub.status.idle": "2023-07-31T15:34:19.844343Z",
     "shell.execute_reply": "2023-07-31T15:34:19.843980Z",
     "shell.execute_reply.started": "2023-07-31T15:34:19.802951Z"
    }
   },
   "outputs": [],
   "source": [
    "def train_loop(dataloader, model, loss_fn, optimizer):\n",
    "    size = len(dataloader.dataset)\n",
    "    model.train()\n",
    "    for batch, (x_batch, y_batch) in enumerate(dataloader):\n",
    "        y_pred = model(x_batch)\n",
    "        \n",
    "        loss = loss_fn(y_pred, y_batch)\n",
    "        \n",
    "        optimizer.zero_grad()\n",
    "        loss.backward()\n",
    "        optimizer.step()\n",
    "    return res_dict\n",
    "\n",
    "\n",
    "def test_loop(dataloader, model, loss_fn):\n",
    "    res_dict = {}\n",
    "    model.eval()\n",
    "    size = len(dataloader.dataset)\n",
    "    num_batches = len(dataloader)\n",
    "    test_loss, correct = 0, 0\n",
    "\n",
    "    all_y = []\n",
    "    all_y_pred = []\n",
    "    with torch.no_grad():\n",
    "        for x_batch, y_batch in dataloader:\n",
    "            y_pred = model(x_batch)\n",
    "            test_loss += loss_fn(y_pred, y_batch).item()\n",
    "            all_y.append(y_batch)\n",
    "\n",
    "            # convert sigmoid to labels\n",
    "            y_pred = y_pred.reshape(-1)\n",
    "            y_pred = (y_pred > 0.5).int()\n",
    "            all_y_pred.append(y_pred)\n",
    "\n",
    "    test_loss /= num_batches\n",
    "    res_dict['loss'] = test_loss\n",
    "    all_y = torch.cat(all_y)\n",
    "    all_y_pred = torch.cat(all_y_pred)\n",
    "    res_dict = res_dict | get_metrics(y_true=all_y, y_pred=all_y_pred)\n",
    "    return res_dict"
   ]
  },
  {
   "cell_type": "code",
   "execution_count": 74,
   "metadata": {
    "execution": {
     "iopub.execute_input": "2023-07-31T15:34:19.992147Z",
     "iopub.status.busy": "2023-07-31T15:34:19.991363Z",
     "iopub.status.idle": "2023-07-31T15:34:20.040384Z",
     "shell.execute_reply": "2023-07-31T15:34:20.039950Z",
     "shell.execute_reply.started": "2023-07-31T15:34:19.992082Z"
    }
   },
   "outputs": [],
   "source": [
    "window_size = 8\n",
    "train_proportion = 0.9\n",
    "batch_size = 16\n",
    "learning_rate = 1e-3\n",
    "epochs = 50"
   ]
  },
  {
   "cell_type": "markdown",
   "metadata": {},
   "source": [
    "take only 1 dataset, 1 concrete time series for now..."
   ]
  },
  {
   "cell_type": "code",
   "execution_count": 75,
   "metadata": {
    "execution": {
     "iopub.execute_input": "2023-07-31T15:34:20.376885Z",
     "iopub.status.busy": "2023-07-31T15:34:20.376487Z",
     "iopub.status.idle": "2023-07-31T15:34:20.445973Z",
     "shell.execute_reply": "2023-07-31T15:34:20.444224Z",
     "shell.execute_reply.started": "2023-07-31T15:34:20.376857Z"
    }
   },
   "outputs": [],
   "source": [
    "DATA_DIR = ROOT_DATA_DIR / \"KPI-Anomaly-Detection/Preliminary_dataset\""
   ]
  },
  {
   "cell_type": "code",
   "execution_count": 76,
   "metadata": {
    "execution": {
     "iopub.execute_input": "2023-07-31T15:34:20.564596Z",
     "iopub.status.busy": "2023-07-31T15:34:20.564057Z",
     "iopub.status.idle": "2023-07-31T15:34:20.781628Z",
     "shell.execute_reply": "2023-07-31T15:34:20.781054Z",
     "shell.execute_reply.started": "2023-07-31T15:34:20.564566Z"
    }
   },
   "outputs": [],
   "source": [
    "df = pd.read_parquet(DATA_DIR / \"train.parquet\")\n",
    "df.rename(columns={'label': 'target'}, inplace=True)\n",
    "df = df[df[\"KPI ID\"] == \"02e99bd4f6cfb33f\"].copy()\n",
    "df = df[df.index > 1.49 * 1e9].copy()\n",
    "df = df.query(\"timestamp < 1496538120\").copy()\n",
    "df[\"time\"] = df.index - df.index[0]\n",
    "df[\"value\"] = df[\"value\"].diff()\n",
    "# df = df.query('stock==1 & day==0 & train==1')\n",
    "# df.value = df.value.pct_change()\n",
    "df.dropna(inplace=True)"
   ]
  },
  {
   "cell_type": "code",
   "execution_count": 77,
   "metadata": {
    "execution": {
     "iopub.execute_input": "2023-07-31T15:34:20.782771Z",
     "iopub.status.busy": "2023-07-31T15:34:20.782657Z",
     "iopub.status.idle": "2023-07-31T15:34:20.814702Z",
     "shell.execute_reply": "2023-07-31T15:34:20.814382Z",
     "shell.execute_reply.started": "2023-07-31T15:34:20.782761Z"
    }
   },
   "outputs": [],
   "source": [
    "# def convert_to_windows(x, window_size):\n",
    "#     # convert input time series x to\n",
    "#     # time series of lags, first window_size observations are dropped\n",
    "#     windows = []\n",
    "#     for i in range(window_size, len(x)):\n",
    "#         w = x[i - window_size : i]\n",
    "#         windows.append(w)\n",
    "#     windows = np.vstack(windows)\n",
    "#     return windows\n",
    "\n",
    "# TODO: maybe make this a general function...\n",
    "t = df.copy()\n",
    "# for col in ['value', 'target']:\n",
    "for col in ['value']:\n",
    "    for lag in range(0, window_size):\n",
    "        t[f\"lag_{col}_{lag}\"] = t[col].shift(lag)\n",
    "t = t.dropna()\n",
    "tr_cols = [c for c in t.columns if \"lag\" in c]\n",
    "# remove target from train columns\n",
    "try:\n",
    "    tr_cols.pop(tr_cols.index('lag_target_0'))\n",
    "except:\n",
    "    pass\n",
    "df = t"
   ]
  },
  {
   "cell_type": "code",
   "execution_count": 78,
   "metadata": {
    "execution": {
     "iopub.execute_input": "2023-07-31T15:34:20.940787Z",
     "iopub.status.busy": "2023-07-31T15:34:20.940472Z",
     "iopub.status.idle": "2023-07-31T15:34:20.975928Z",
     "shell.execute_reply": "2023-07-31T15:34:20.975459Z",
     "shell.execute_reply.started": "2023-07-31T15:34:20.940766Z"
    }
   },
   "outputs": [],
   "source": [
    "# fig, axs = plt.subplots(1, 2, figsize=(8, 4))\n",
    "# plt.subplot(1, 2, 1)\n",
    "# plt.plot(df.value.diff())\n",
    "# plt.subplot(1, 2, 2)\n",
    "# plt.hist(df.value)\n",
    "# plt.yscale(\"log\")\n",
    "# plt.tight_layout();"
   ]
  },
  {
   "cell_type": "code",
   "execution_count": 79,
   "metadata": {
    "execution": {
     "iopub.execute_input": "2023-07-31T15:34:21.115835Z",
     "iopub.status.busy": "2023-07-31T15:34:21.115225Z",
     "iopub.status.idle": "2023-07-31T15:34:21.157637Z",
     "shell.execute_reply": "2023-07-31T15:34:21.157162Z",
     "shell.execute_reply.started": "2023-07-31T15:34:21.115789Z"
    }
   },
   "outputs": [],
   "source": [
    "x = df[tr_cols].values.copy()\n",
    "scaler = MinMaxScaler()\n",
    "x = scaler.fit_transform(x)\n",
    "# x_scaled = x\n",
    "# x = convert_to_windows(x, window_size)\n",
    "y = df[\"target\"].values\n",
    "\n",
    "# class_weights = compute_class_weight('balanced', classes=[0, 1], y=y.ravel())\n",
    "# class_weights = class_weights / class_weights.sum()\n",
    "\n",
    "x = torch.Tensor(x)\n",
    "y = torch.Tensor(y)\n",
    "\n",
    "train_idx = int(len(x) * train_proportion)\n",
    "# train_idx = int(1.495 * 1e9)\n",
    "\n",
    "tr, va = x[:train_idx], x[train_idx:]\n",
    "# x = np.hstack([x, y.reshape(-1, 1)])\n",
    "y = y.reshape(-1, 1)\n",
    "ytr, yva = y[:train_idx], y[train_idx:]\n",
    "tr_dataset = TensorDataset(tr, ytr)\n",
    "va_dataset = TensorDataset(va, yva)\n",
    "\n",
    "# weights = torch.where(ytr.ravel() == 0, class_weights[0], class_weights[1])\n",
    "\n",
    "# TODO: maybe add test dataset\n",
    "\n",
    "# debug print\n",
    "# print(ytr.mean(), yva.mean())"
   ]
  },
  {
   "cell_type": "code",
   "execution_count": 80,
   "metadata": {
    "execution": {
     "iopub.execute_input": "2023-07-31T15:34:21.290001Z",
     "iopub.status.busy": "2023-07-31T15:34:21.289323Z",
     "iopub.status.idle": "2023-07-31T15:34:21.355120Z",
     "shell.execute_reply": "2023-07-31T15:34:21.354775Z",
     "shell.execute_reply.started": "2023-07-31T15:34:21.289949Z"
    }
   },
   "outputs": [],
   "source": [
    "seed_init_fn(1)\n",
    "\n",
    "# TODO: sampling might be useful for some datasets\n",
    "# sampler = torch.utils.data.sampler.WeightedRandomSampler(weights, len(weights))  \n",
    "# tr_dl = DataLoader(tr_dataset, batch_size=batch_size, shuffle=False, sampler=sampler)\n",
    "\n",
    "tr_dl = DataLoader(tr_dataset, batch_size=batch_size, shuffle=False)\n",
    "va_dl = DataLoader(va_dataset, batch_size=batch_size, shuffle=True)"
   ]
  },
  {
   "cell_type": "code",
   "execution_count": 81,
   "metadata": {
    "execution": {
     "iopub.execute_input": "2023-07-31T15:34:21.479736Z",
     "iopub.status.busy": "2023-07-31T15:34:21.479378Z",
     "iopub.status.idle": "2023-07-31T15:34:21.521110Z",
     "shell.execute_reply": "2023-07-31T15:34:21.520588Z",
     "shell.execute_reply.started": "2023-07-31T15:34:21.479710Z"
    }
   },
   "outputs": [],
   "source": [
    "from src.transformer import MultiheadAttention, Transformer\n",
    "\n",
    "input_dim = len(tr_cols)\n",
    "embed_dim = 20\n",
    "num_heads = 4\n",
    "\n",
    "model = Transformer(input_dim, embed_dim, num_heads, output_dim=1)"
   ]
  },
  {
   "cell_type": "code",
   "execution_count": 82,
   "metadata": {
    "execution": {
     "iopub.execute_input": "2023-07-31T15:34:21.880995Z",
     "iopub.status.busy": "2023-07-31T15:34:21.880433Z",
     "iopub.status.idle": "2023-07-31T15:34:21.928595Z",
     "shell.execute_reply": "2023-07-31T15:34:21.928222Z",
     "shell.execute_reply.started": "2023-07-31T15:34:21.880949Z"
    }
   },
   "outputs": [],
   "source": [
    "loss_fn = nn.BCELoss()\n",
    "optimizer = torch.optim.Adam(model.parameters(), lr=learning_rate)"
   ]
  },
  {
   "cell_type": "code",
   "execution_count": 83,
   "metadata": {
    "execution": {
     "iopub.execute_input": "2023-07-31T15:34:22.229914Z",
     "iopub.status.busy": "2023-07-31T15:34:22.229383Z",
     "iopub.status.idle": "2023-07-31T15:35:32.171585Z",
     "shell.execute_reply": "2023-07-31T15:35:32.171229Z",
     "shell.execute_reply.started": "2023-07-31T15:34:22.229870Z"
    }
   },
   "outputs": [
    {
     "data": {
      "application/vnd.jupyter.widget-view+json": {
       "model_id": "8fbca33d162b463aae3e9f4543a2efbf",
       "version_major": 2,
       "version_minor": 0
      },
      "text/plain": [
       "  0%|          | 0/50 [00:00<?, ?it/s]"
      ]
     },
     "metadata": {},
     "output_type": "display_data"
    }
   ],
   "source": [
    "seed_init_fn(1)\n",
    "\n",
    "res_dict = {}\n",
    "res_dict[\"tr_metrics\"] = []\n",
    "res_dict[\"va_metrics\"] = []\n",
    "verbose = False\n",
    "for t in tqdm(range(epochs)):\n",
    "    _ = train_loop(\n",
    "        dataloader=tr_dl,\n",
    "        model=model,\n",
    "        loss_fn=loss_fn,\n",
    "        optimizer=optimizer,\n",
    "    )\n",
    "    curr_metrics = test_loop(dataloader=tr_dl, model=model, loss_fn=loss_fn)\n",
    "    if verbose:\n",
    "        print('train', curr_metrics)\n",
    "    res_dict[\"tr_metrics\"].append(curr_metrics)\n",
    "    curr_metrics = test_loop(dataloader=va_dl, model=model, loss_fn=loss_fn)\n",
    "    if verbose:\n",
    "        print('val', curr_metrics)\n",
    "    res_dict[\"va_metrics\"].append(curr_metrics)\n",
    "    \n",
    "res_dict['tr_metrics'] = pd.DataFrame(res_dict['tr_metrics'])\n",
    "res_dict['va_metrics'] = pd.DataFrame(res_dict['va_metrics'])"
   ]
  },
  {
   "cell_type": "code",
   "execution_count": 84,
   "metadata": {
    "execution": {
     "iopub.execute_input": "2023-07-31T15:35:32.172520Z",
     "iopub.status.busy": "2023-07-31T15:35:32.172403Z",
     "iopub.status.idle": "2023-07-31T15:35:32.421499Z",
     "shell.execute_reply": "2023-07-31T15:35:32.421127Z",
     "shell.execute_reply.started": "2023-07-31T15:35:32.172510Z"
    }
   },
   "outputs": [
    {
     "data": {
      "image/png": "[encoded data removed]",
      "text/plain": [
       "<Figure size 1200x600 with 2 Axes>"
      ]
     },
     "metadata": {},
     "output_type": "display_data"
    }
   ],
   "source": [
    "fig, axs = plt.subplots(1, 2, figsize=(12, 6))\n",
    "\n",
    "plt.sca(axs[0])\n",
    "plt.plot(res_dict[\"tr_metrics\"]['loss'], label='Train')\n",
    "# plt.plot(res_dict[\"va_metrics\"]['loss'], label='Validation')\n",
    "plt.title('Loss')\n",
    "plt.xlabel('Epoch')\n",
    "plt.legend()\n",
    "plt.sca(axs[1])\n",
    "plt.plot(res_dict[\"tr_metrics\"]['f1'], label='Train')\n",
    "# plt.plot(res_dict[\"va_metrics\"]['f1'], label='Validation')\n",
    "plt.title('F1')\n",
    "plt.xlabel('Epoch')\n",
    "plt.legend()\n",
    "fig.tight_layout();"
   ]
  },
  {
   "cell_type": "code",
   "execution_count": null,
   "metadata": {},
   "outputs": [],
   "source": []
  },
  {
   "cell_type": "code",
   "execution_count": null,
   "metadata": {},
   "outputs": [],
   "source": []
  },
  {
   "cell_type": "code",
   "execution_count": null,
   "metadata": {},
   "outputs": [],
   "source": []
  },
  {
   "cell_type": "code",
   "execution_count": null,
   "metadata": {},
   "outputs": [],
   "source": []
  }
 ],
 "metadata": {
  "kernelspec": {
   "display_name": "Python 3 (ipykernel)",
   "language": "python",
   "name": "python3"
  },
  "language_info": {
   "codemirror_mode": {
    "name": "ipython",
    "version": 3
   },
   "file_extension": ".py",
   "mimetype": "text/x-python",
   "name": "python",
   "nbconvert_exporter": "python",
   "pygments_lexer": "ipython3",
   "version": "3.10.12"
  }
 },
 "nbformat": 4,
 "nbformat_minor": 4
}
