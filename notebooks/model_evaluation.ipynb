{
 "cells": [
  {
   "attachments": {},
   "cell_type": "markdown",
   "metadata": {},
   "source": [
    "# Model evaluation\n",
    "\n",
    "In this notebook, I will compare the accuracy metrics of models"
   ]
  },
  {
   "cell_type": "code",
   "execution_count": 1,
   "metadata": {
    "execution": {
     "iopub.execute_input": "2023-08-06T08:38:10.062275Z",
     "iopub.status.busy": "2023-08-06T08:38:10.061739Z",
     "iopub.status.idle": "2023-08-06T08:38:10.098621Z",
     "shell.execute_reply": "2023-08-06T08:38:10.097715Z",
     "shell.execute_reply.started": "2023-08-06T08:38:10.062245Z"
    }
   },
   "outputs": [],
   "source": [
    "%load_ext autoreload\n",
    "%autoreload 2\n",
    "\n",
    "import sys\n",
    "\n",
    "sys.path.append(\"..\")"
   ]
  },
  {
   "cell_type": "code",
   "execution_count": 2,
   "metadata": {
    "execution": {
     "iopub.execute_input": "2023-08-06T08:38:10.213751Z",
     "iopub.status.busy": "2023-08-06T08:38:10.213198Z",
     "iopub.status.idle": "2023-08-06T08:38:12.708943Z",
     "shell.execute_reply": "2023-08-06T08:38:12.708638Z",
     "shell.execute_reply.started": "2023-08-06T08:38:10.213722Z"
    }
   },
   "outputs": [],
   "source": [
    "import matplotlib.pyplot as plt\n",
    "import numpy as np\n",
    "import pandas as pd\n",
    "import seaborn as sns"
   ]
  },
  {
   "cell_type": "code",
   "execution_count": 3,
   "metadata": {
    "execution": {
     "iopub.execute_input": "2023-08-06T08:38:12.709857Z",
     "iopub.status.busy": "2023-08-06T08:38:12.709721Z",
     "iopub.status.idle": "2023-08-06T08:38:12.737893Z",
     "shell.execute_reply": "2023-08-06T08:38:12.737566Z",
     "shell.execute_reply.started": "2023-08-06T08:38:12.709848Z"
    }
   },
   "outputs": [],
   "source": [
    "import scienceplots  # noqa # pylint: disable=unused-import\n",
    "\n",
    "plt.style.use([\"science\", \"ieee\", \"default\"])\n",
    "plt.rcParams.update({\"axes.grid\": True})"
   ]
  },
  {
   "cell_type": "code",
   "execution_count": 4,
   "metadata": {
    "execution": {
     "iopub.execute_input": "2023-08-06T08:38:12.738591Z",
     "iopub.status.busy": "2023-08-06T08:38:12.738460Z",
     "iopub.status.idle": "2023-08-06T08:38:12.760203Z",
     "shell.execute_reply": "2023-08-06T08:38:12.759844Z",
     "shell.execute_reply.started": "2023-08-06T08:38:12.738581Z"
    }
   },
   "outputs": [],
   "source": [
    "from tqdm.auto import tqdm"
   ]
  },
  {
   "cell_type": "markdown",
   "metadata": {},
   "source": [
    "## Prepare dataloader"
   ]
  },
  {
   "cell_type": "code",
   "execution_count": 5,
   "metadata": {
    "execution": {
     "iopub.execute_input": "2023-08-06T08:38:12.761482Z",
     "iopub.status.busy": "2023-08-06T08:38:12.761298Z",
     "iopub.status.idle": "2023-08-06T08:38:12.778818Z",
     "shell.execute_reply": "2023-08-06T08:38:12.778414Z",
     "shell.execute_reply.started": "2023-08-06T08:38:12.761436Z"
    }
   },
   "outputs": [],
   "source": [
    "from pathlib import Path\n",
    "\n",
    "ROOT_DATA_DIR = Path(\"../data/\")"
   ]
  },
  {
   "cell_type": "code",
   "execution_count": 6,
   "metadata": {
    "execution": {
     "iopub.execute_input": "2023-08-06T08:38:12.779473Z",
     "iopub.status.busy": "2023-08-06T08:38:12.779348Z",
     "iopub.status.idle": "2023-08-06T08:38:14.541557Z",
     "shell.execute_reply": "2023-08-06T08:38:14.541148Z",
     "shell.execute_reply.started": "2023-08-06T08:38:12.779464Z"
    }
   },
   "outputs": [],
   "source": [
    "from collections import defaultdict\n",
    "\n",
    "import torch\n",
    "from pytorch_lightning import Trainer, seed_everything\n",
    "from sklearn.preprocessing import MinMaxScaler\n",
    "from sklearn.utils.class_weight import compute_class_weight\n",
    "from torch import Tensor, nn\n",
    "from torch.utils.data import DataLoader, TensorDataset\n",
    "\n",
    "from src.utils import get_metrics\n",
    "\n",
    "\n",
    "def seed_init_fn(seed=1):\n",
    "    import random\n",
    "\n",
    "    import numpy as np\n",
    "    import torch\n",
    "\n",
    "    np.random.seed(seed)\n",
    "    random.seed(seed)\n",
    "    torch.manual_seed(seed)"
   ]
  },
  {
   "cell_type": "code",
   "execution_count": 14,
   "metadata": {
    "execution": {
     "iopub.execute_input": "2023-08-06T08:38:27.333352Z",
     "iopub.status.busy": "2023-08-06T08:38:27.332733Z",
     "iopub.status.idle": "2023-08-06T08:38:27.403513Z",
     "shell.execute_reply": "2023-08-06T08:38:27.403096Z",
     "shell.execute_reply.started": "2023-08-06T08:38:27.333298Z"
    }
   },
   "outputs": [],
   "source": [
    "def train_loop(dataloader, model, loss_fn, optimizer):\n",
    "    size = len(dataloader.dataset)\n",
    "    model.train()\n",
    "    for batch, (x_batch, y_batch) in enumerate(dataloader):\n",
    "        y_pred = model(x_batch)\n",
    "\n",
    "        loss = loss_fn(y_pred, y_batch)\n",
    "\n",
    "        optimizer.zero_grad()\n",
    "        loss.backward()\n",
    "        optimizer.step()\n",
    "    return res_dict\n",
    "\n",
    "\n",
    "def test_loop(dataloader, model, loss_fn):\n",
    "    res_dict = {}\n",
    "    model.eval()\n",
    "    size = len(dataloader.dataset)\n",
    "    num_batches = len(dataloader)\n",
    "    test_loss, correct = 0, 0\n",
    "\n",
    "    all_y = []\n",
    "    all_y_pred = []\n",
    "    with torch.no_grad():\n",
    "        for x_batch, y_batch in dataloader:\n",
    "            y_pred = model(x_batch)\n",
    "            test_loss += loss_fn(y_pred, y_batch).item()\n",
    "            all_y.append(y_batch)\n",
    "\n",
    "            # convert sigmoid to labels\n",
    "            y_pred = y_pred.reshape(-1)\n",
    "            y_pred = (y_pred > 0.5).int()\n",
    "            all_y_pred.append(y_pred)\n",
    "\n",
    "    test_loss /= num_batches\n",
    "    res_dict[\"loss\"] = test_loss\n",
    "    all_y = torch.cat(all_y)\n",
    "    all_y_pred = torch.cat(all_y_pred)\n",
    "    res_dict = res_dict | get_metrics(y_true=all_y, y_pred=all_y_pred)\n",
    "    return res_dict"
   ]
  },
  {
   "cell_type": "markdown",
   "metadata": {},
   "source": [
    "take only 1 dataset, 1 concrete time series for now..."
   ]
  },
  {
   "cell_type": "code",
   "execution_count": 15,
   "metadata": {
    "execution": {
     "iopub.execute_input": "2023-08-06T08:38:27.667561Z",
     "iopub.status.busy": "2023-08-06T08:38:27.667073Z",
     "iopub.status.idle": "2023-08-06T08:38:27.726556Z",
     "shell.execute_reply": "2023-08-06T08:38:27.726117Z",
     "shell.execute_reply.started": "2023-08-06T08:38:27.667530Z"
    }
   },
   "outputs": [],
   "source": [
    "DATA_DIR = ROOT_DATA_DIR / \"KPI-Anomaly-Detection/Preliminary_dataset\""
   ]
  },
  {
   "cell_type": "code",
   "execution_count": 16,
   "metadata": {
    "execution": {
     "iopub.execute_input": "2023-08-06T08:38:27.852111Z",
     "iopub.status.busy": "2023-08-06T08:38:27.851345Z",
     "iopub.status.idle": "2023-08-06T08:38:28.059204Z",
     "shell.execute_reply": "2023-08-06T08:38:28.058729Z",
     "shell.execute_reply.started": "2023-08-06T08:38:27.852050Z"
    }
   },
   "outputs": [],
   "source": [
    "df = pd.read_parquet(DATA_DIR / \"train.parquet\")\n",
    "df.rename(columns={\"label\": \"target\"}, inplace=True)\n",
    "df = df[df[\"KPI ID\"] == \"02e99bd4f6cfb33f\"].copy()\n",
    "df = df[df.index > 1.49 * 1e9].copy()\n",
    "df = df.query(\"timestamp < 1496538120\").copy()\n",
    "df[\"time\"] = df.index - df.index[0]\n",
    "# df[\"value\"] = df[\"value\"].diff()\n",
    "# df = df.query('stock==1 & day==0 & train==1')\n",
    "# df.value = df.value.pct_change()\n",
    "df.dropna(inplace=True)"
   ]
  },
  {
   "cell_type": "code",
   "execution_count": 17,
   "metadata": {
    "execution": {
     "iopub.execute_input": "2023-08-06T08:38:28.061275Z",
     "iopub.status.busy": "2023-08-06T08:38:28.060993Z",
     "iopub.status.idle": "2023-08-06T08:38:28.098633Z",
     "shell.execute_reply": "2023-08-06T08:38:28.098277Z",
     "shell.execute_reply.started": "2023-08-06T08:38:28.061261Z"
    }
   },
   "outputs": [],
   "source": [
    "def convert_to_windows(x, window_size):\n",
    "    # convert input time series x to\n",
    "    # time series of lags, first window_size observations are dropped\n",
    "    windows = []\n",
    "    for i in range(window_size, len(x)):\n",
    "        w = x[i - window_size : i]\n",
    "        windows.append(w)\n",
    "    windows = np.array(windows)\n",
    "    return windows\n",
    "\n",
    "\n",
    "# TODO: maybe make this a general function...\n",
    "t = df.copy()\n",
    "# # for col in ['value', 'target']:\n",
    "# for col in [\"value\"]:\n",
    "#     for lag in range(0, window_size):\n",
    "#         t[f\"lag_{col}_{lag}\"] = t[col].shift(lag)\n",
    "# t = t.dropna()\n",
    "# tr_cols = [c for c in t.columns if \"lag\" in c]\n",
    "# # remove target from train columns\n",
    "# try:\n",
    "#     tr_cols.pop(tr_cols.index(\"lag_target_0\"))\n",
    "# except:\n",
    "#     pass\n",
    "# df = t"
   ]
  },
  {
   "cell_type": "code",
   "execution_count": 18,
   "metadata": {
    "execution": {
     "iopub.execute_input": "2023-08-06T08:38:28.275400Z",
     "iopub.status.busy": "2023-08-06T08:38:28.274693Z",
     "iopub.status.idle": "2023-08-06T08:38:28.353217Z",
     "shell.execute_reply": "2023-08-06T08:38:28.352870Z",
     "shell.execute_reply.started": "2023-08-06T08:38:28.275367Z"
    }
   },
   "outputs": [],
   "source": [
    "df[\"value_diff\"] = df[\"value\"].diff()\n",
    "tr_cols = [\"value\", \"value_diff\"]\n",
    "df = df.dropna()"
   ]
  },
  {
   "cell_type": "code",
   "execution_count": 19,
   "metadata": {
    "execution": {
     "iopub.execute_input": "2023-08-06T08:38:28.553237Z",
     "iopub.status.busy": "2023-08-06T08:38:28.552772Z",
     "iopub.status.idle": "2023-08-06T08:38:28.609670Z",
     "shell.execute_reply": "2023-08-06T08:38:28.609177Z",
     "shell.execute_reply.started": "2023-08-06T08:38:28.553198Z"
    }
   },
   "outputs": [],
   "source": [
    "# fig, axs = plt.subplots(1, 2, figsize=(8, 4))\n",
    "# plt.subplot(1, 2, 1)\n",
    "# plt.plot(df.value.diff())\n",
    "# plt.subplot(1, 2, 2)\n",
    "# plt.hist(df.value)\n",
    "# plt.yscale(\"log\")\n",
    "# plt.tight_layout();"
   ]
  },
  {
   "cell_type": "code",
   "execution_count": 20,
   "metadata": {
    "execution": {
     "iopub.execute_input": "2023-08-06T08:38:28.887817Z",
     "iopub.status.busy": "2023-08-06T08:38:28.887425Z",
     "iopub.status.idle": "2023-08-06T08:38:28.948461Z",
     "shell.execute_reply": "2023-08-06T08:38:28.948058Z",
     "shell.execute_reply.started": "2023-08-06T08:38:28.887792Z"
    }
   },
   "outputs": [],
   "source": [
    "window_size = 8\n",
    "train_proportion = 0.9\n",
    "batch_size = 16\n",
    "learning_rate = 1e-5\n",
    "epochs = 30"
   ]
  },
  {
   "cell_type": "code",
   "execution_count": 21,
   "metadata": {
    "execution": {
     "iopub.execute_input": "2023-08-06T08:38:29.126700Z",
     "iopub.status.busy": "2023-08-06T08:38:29.126228Z",
     "iopub.status.idle": "2023-08-06T08:38:29.211299Z",
     "shell.execute_reply": "2023-08-06T08:38:29.210937Z",
     "shell.execute_reply.started": "2023-08-06T08:38:29.126616Z"
    }
   },
   "outputs": [],
   "source": [
    "x = df[tr_cols].values.copy()\n",
    "scaler = MinMaxScaler()\n",
    "x = scaler.fit_transform(x)\n",
    "# x_scaled = x\n",
    "x = convert_to_windows(x, window_size)\n",
    "y = df[\"target\"].values\n",
    "y = y[window_size:]\n",
    "\n",
    "# class_weights = compute_class_weight('balanced', classes=[0, 1], y=y.ravel())\n",
    "# class_weights = class_weights / class_weights.sum()\n",
    "\n",
    "x = torch.Tensor(x)\n",
    "y = torch.Tensor(y)\n",
    "\n",
    "train_idx = int(len(x) * train_proportion)\n",
    "# train_idx = int(1.495 * 1e9)\n",
    "\n",
    "tr, va = x[:train_idx], x[train_idx:]\n",
    "# x = np.hstack([x, y.reshape(-1, 1)])\n",
    "# y = y.reshape(-1, 1)\n",
    "ytr, yva = y[:train_idx], y[train_idx:]\n",
    "tr_dataset = TensorDataset(tr, ytr)\n",
    "va_dataset = TensorDataset(va, yva)\n",
    "\n",
    "# weights = torch.where(ytr.ravel() == 0, class_weights[0], class_weights[1])\n",
    "\n",
    "# TODO: maybe add test dataset\n",
    "\n",
    "# debug print\n",
    "# print(ytr.mean(), yva.mean())"
   ]
  },
  {
   "cell_type": "code",
   "execution_count": 22,
   "metadata": {
    "execution": {
     "iopub.execute_input": "2023-08-06T08:38:30.866176Z",
     "iopub.status.busy": "2023-08-06T08:38:30.865555Z",
     "iopub.status.idle": "2023-08-06T08:38:31.872642Z",
     "shell.execute_reply": "2023-08-06T08:38:31.844382Z",
     "shell.execute_reply.started": "2023-08-06T08:38:30.866135Z"
    }
   },
   "outputs": [
    {
     "data": {
      "image/png": "[encoded data removed]",
      "text/plain": [
       "<Figure size 800x400 with 2 Axes>"
      ]
     },
     "metadata": {},
     "output_type": "display_data"
    }
   ],
   "source": [
    "fig, axs = plt.subplots(1, 2, figsize=(8, 4))\n",
    "plt.sca(axs[0])\n",
    "plt.plot(tr[:, 0, 0])\n",
    "plt.sca(axs[1])\n",
    "plt.plot(tr[:, 0, 1])\n",
    "fig.tight_layout();"
   ]
  },
  {
   "cell_type": "markdown",
   "metadata": {},
   "source": [
    "## Evaluate models"
   ]
  },
  {
   "cell_type": "code",
   "execution_count": 23,
   "metadata": {
    "execution": {
     "iopub.execute_input": "2023-08-06T08:39:02.283035Z",
     "iopub.status.busy": "2023-08-06T08:39:02.282368Z",
     "iopub.status.idle": "2023-08-06T08:39:03.287967Z",
     "shell.execute_reply": "2023-08-06T08:39:03.287572Z",
     "shell.execute_reply.started": "2023-08-06T08:39:02.282988Z"
    }
   },
   "outputs": [],
   "source": [
    "from src.transformer import TransformerAnomalyDetector, TransformerEncoder"
   ]
  },
  {
   "cell_type": "markdown",
   "metadata": {},
   "source": [
    "### Scaled Dot-Product"
   ]
  },
  {
   "cell_type": "code",
   "execution_count": 24,
   "metadata": {
    "execution": {
     "iopub.execute_input": "2023-08-06T08:39:03.289038Z",
     "iopub.status.busy": "2023-08-06T08:39:03.288738Z",
     "iopub.status.idle": "2023-08-06T08:39:03.332782Z",
     "shell.execute_reply": "2023-08-06T08:39:03.332456Z",
     "shell.execute_reply.started": "2023-08-06T08:39:03.289029Z"
    }
   },
   "outputs": [
    {
     "name": "stderr",
     "output_type": "stream",
     "text": [
      "Global seed set to 1\n"
     ]
    }
   ],
   "source": [
    "seed_everything(1)\n",
    "\n",
    "# TODO: sampling might be useful for some datasets\n",
    "# sampler = torch.utils.data.sampler.WeightedRandomSampler(weights, len(weights))\n",
    "# tr_dl = DataLoader(tr_dataset, batch_size=batch_size, shuffle=False, sampler=sampler)\n",
    "\n",
    "tr_dl = DataLoader(tr_dataset, batch_size=batch_size, shuffle=False)\n",
    "va_dl = DataLoader(va_dataset, batch_size=batch_size, shuffle=True)"
   ]
  },
  {
   "cell_type": "markdown",
   "metadata": {},
   "source": [
    "> **TODO**: add positional enocding"
   ]
  },
  {
   "cell_type": "markdown",
   "metadata": {},
   "source": [
    "See the code for Anomaly BERT -> implement sequences windows for tensors -> unsqueeze before supplying to the model"
   ]
  },
  {
   "cell_type": "code",
   "execution_count": 41,
   "metadata": {
    "execution": {
     "iopub.execute_input": "2023-08-06T09:19:24.114844Z",
     "iopub.status.busy": "2023-08-06T09:19:24.114203Z",
     "iopub.status.idle": "2023-08-06T09:19:24.203437Z",
     "shell.execute_reply": "2023-08-06T09:19:24.203032Z",
     "shell.execute_reply.started": "2023-08-06T09:19:24.114784Z"
    }
   },
   "outputs": [],
   "source": [
    "input_dim = len(tr_cols)\n",
    "out_dim = 1\n",
    "\n",
    "num_layers = 2\n",
    "block_input_dim = 16\n",
    "block_embed_dim = block_input_dim  # implicitly set in the block\n",
    "block_num_heads = 4\n",
    "block_dim_feedforward = 2 * block_input_dim\n",
    "block_args = {\n",
    "    \"input_dim\": block_input_dim,\n",
    "    \"num_heads\": block_num_heads,\n",
    "    \"dim_feedforward\": block_dim_feedforward,\n",
    "}\n",
    "\n",
    "tf_enc = TransformerEncoder(num_layers=num_layers, **block_args)\n",
    "# xx = torch.rand(batch_size, window_size, input_dim)\n",
    "\n",
    "# front_linear = nn.Linear(input_dim, block_input_dim)\n",
    "# last_linear = nn.Linear(block_input_dim, out_dim)\n",
    "# xx = front_linear(xx)\n",
    "# xx = tf_enc(xx)\n",
    "# last_linear(xx).shape"
   ]
  },
  {
   "cell_type": "code",
   "execution_count": 42,
   "metadata": {
    "execution": {
     "iopub.execute_input": "2023-08-06T09:19:24.313767Z",
     "iopub.status.busy": "2023-08-06T09:19:24.313312Z",
     "iopub.status.idle": "2023-08-06T09:19:24.379541Z",
     "shell.execute_reply": "2023-08-06T09:19:24.378940Z",
     "shell.execute_reply.started": "2023-08-06T09:19:24.313724Z"
    }
   },
   "outputs": [],
   "source": [
    "window_size = 8\n",
    "train_proportion = 0.9\n",
    "batch_size = 16\n",
    "learning_rate = 1e-5\n",
    "epochs = 150"
   ]
  },
  {
   "cell_type": "code",
   "execution_count": 43,
   "metadata": {
    "execution": {
     "iopub.execute_input": "2023-08-06T09:19:26.045169Z",
     "iopub.status.busy": "2023-08-06T09:19:26.044397Z",
     "iopub.status.idle": "2023-08-06T09:19:26.117157Z",
     "shell.execute_reply": "2023-08-06T09:19:26.116779Z",
     "shell.execute_reply.started": "2023-08-06T09:19:26.045100Z"
    }
   },
   "outputs": [
    {
     "name": "stderr",
     "output_type": "stream",
     "text": [
      "Global seed set to 1\n"
     ]
    }
   ],
   "source": [
    "seed_everything(1)\n",
    "\n",
    "input_dim = len(tr_cols)\n",
    "\n",
    "num_layers = 2\n",
    "block_input_dim = 16\n",
    "block_embed_dim = block_input_dim  # implicitly set in the block\n",
    "block_num_heads = 4\n",
    "block_dim_feedforward = 2 * block_input_dim\n",
    "block_args = {\n",
    "    \"input_dim\": block_input_dim,\n",
    "    \"num_heads\": block_num_heads,\n",
    "    \"dim_feedforward\": block_dim_feedforward,\n",
    "    \"num_layers\": num_layers,\n",
    "}\n",
    "positional_encoder_args = {\n",
    "    \"enable\": False,\n",
    "    \"max_len\": window_size,\n",
    "}\n",
    "\n",
    "model = TransformerAnomalyDetector(\n",
    "    input_dim=input_dim,\n",
    "    num_layers=num_layers,\n",
    "    block_input_dim=block_input_dim,\n",
    "    block_args=block_args,\n",
    "    positional_encoder_args=positional_encoder_args,\n",
    ")"
   ]
  },
  {
   "cell_type": "code",
   "execution_count": 46,
   "metadata": {
    "execution": {
     "iopub.execute_input": "2023-08-06T09:19:35.940971Z",
     "iopub.status.busy": "2023-08-06T09:19:35.940486Z",
     "iopub.status.idle": "2023-08-06T09:19:36.012718Z",
     "shell.execute_reply": "2023-08-06T09:19:36.012244Z",
     "shell.execute_reply.started": "2023-08-06T09:19:35.940940Z"
    }
   },
   "outputs": [],
   "source": [
    "# xx = torch.rand(batch_size, window_size, input_dim)\n",
    "# print(xx.shape)\n",
    "# model(xx)"
   ]
  },
  {
   "cell_type": "code",
   "execution_count": 47,
   "metadata": {
    "execution": {
     "iopub.execute_input": "2023-08-06T09:19:36.174670Z",
     "iopub.status.busy": "2023-08-06T09:19:36.173839Z",
     "iopub.status.idle": "2023-08-06T09:19:36.245197Z",
     "shell.execute_reply": "2023-08-06T09:19:36.244598Z",
     "shell.execute_reply.started": "2023-08-06T09:19:36.174576Z"
    }
   },
   "outputs": [],
   "source": [
    "# loss_fn = nn.BCELoss()\n",
    "loss_fn = nn.BCEWithLogitsLoss()\n",
    "optimizer = torch.optim.Adam(model.parameters(), lr=learning_rate)"
   ]
  },
  {
   "cell_type": "code",
   "execution_count": 48,
   "metadata": {
    "execution": {
     "iopub.execute_input": "2023-08-06T09:19:36.731336Z",
     "iopub.status.busy": "2023-08-06T09:19:36.730822Z",
     "iopub.status.idle": "2023-08-06T09:36:10.868749Z",
     "shell.execute_reply": "2023-08-06T09:36:10.868303Z",
     "shell.execute_reply.started": "2023-08-06T09:19:36.731307Z"
    }
   },
   "outputs": [
    {
     "name": "stderr",
     "output_type": "stream",
     "text": [
      "Global seed set to 1\n"
     ]
    },
    {
     "data": {
      "application/vnd.jupyter.widget-view+json": {
       "model_id": "b1b3c58e9350438b9c7d31b422e7d5d1",
       "version_major": 2,
       "version_minor": 0
      },
      "text/plain": [
       "  0%|          | 0/150 [00:00<?, ?it/s]"
      ]
     },
     "metadata": {},
     "output_type": "display_data"
    },
    {
     "name": "stdout",
     "output_type": "stream",
     "text": [
      "0\n",
      "train {'loss': 0.21289598242919136, 'precision': 0.0, 'recall': 0.0, 'auc': 0.5, 'f1': 0.0}\n",
      "val {'loss': 0.29446814006956173, 'precision': 0.0, 'recall': 0.0, 'auc': 0.5, 'f1': 0.0}\n",
      "\n",
      "1\n",
      "train {'loss': 0.17606665085724682, 'precision': 0.0, 'recall': 0.0, 'auc': 0.5, 'f1': 0.0}\n",
      "val {'loss': 0.27996983517383794, 'precision': 0.0, 'recall': 0.0, 'auc': 0.5, 'f1': 0.0}\n",
      "\n",
      "2\n",
      "train {'loss': 0.16759063915136485, 'precision': 0.0, 'recall': 0.0, 'auc': 0.5, 'f1': 0.0}\n",
      "val {'loss': 0.2806532265189587, 'precision': 0.0, 'recall': 0.0, 'auc': 0.5, 'f1': 0.0}\n",
      "\n",
      "3\n",
      "train {'loss': 0.16400290104719456, 'precision': 0.0, 'recall': 0.0, 'auc': 0.5, 'f1': 0.0}\n",
      "val {'loss': 0.28238981222266596, 'precision': 0.0, 'recall': 0.0, 'auc': 0.5, 'f1': 0.0}\n",
      "\n",
      "4\n",
      "train {'loss': 0.16203799960933848, 'precision': 0.0, 'recall': 0.0, 'auc': 0.5, 'f1': 0.0}\n",
      "val {'loss': 0.2847118588913347, 'precision': 0.0, 'recall': 0.0, 'auc': 0.5, 'f1': 0.0}\n",
      "\n",
      "5\n",
      "train {'loss': 0.16074118568535606, 'precision': 0.0, 'recall': 0.0, 'auc': 0.5, 'f1': 0.0}\n",
      "val {'loss': 0.28572944016595886, 'precision': 0.0, 'recall': 0.0, 'auc': 0.5, 'f1': 0.0}\n",
      "\n",
      "6\n",
      "train {'loss': 0.1598041335031014, 'precision': 0.0, 'recall': 0.0, 'auc': 0.5, 'f1': 0.0}\n",
      "val {'loss': 0.2872501163906658, 'precision': 0.0, 'recall': 0.0, 'auc': 0.5, 'f1': 0.0}\n",
      "\n",
      "7\n",
      "train {'loss': 0.15910644425248818, 'precision': 0.0, 'recall': 0.0, 'auc': 0.5, 'f1': 0.0}\n",
      "val {'loss': 0.2899180237344655, 'precision': 0.0, 'recall': 0.0, 'auc': 0.5, 'f1': 0.0}\n",
      "\n",
      "8\n",
      "train {'loss': 0.15857149994210287, 'precision': 0.0, 'recall': 0.0, 'auc': 0.5, 'f1': 0.0}\n",
      "val {'loss': 0.2905441001057625, 'precision': 0.0, 'recall': 0.0, 'auc': 0.5, 'f1': 0.0}\n",
      "\n",
      "9\n",
      "train {'loss': 0.15814464522757965, 'precision': 0.0, 'recall': 0.0, 'auc': 0.5, 'f1': 0.0}\n",
      "val {'loss': 0.29163161185138003, 'precision': 0.0, 'recall': 0.0, 'auc': 0.5, 'f1': 0.0}\n",
      "\n",
      "10\n",
      "train {'loss': 0.1577840641286301, 'precision': 0.0, 'recall': 0.0, 'auc': 0.5, 'f1': 0.0}\n",
      "val {'loss': 0.29187663979956374, 'precision': 0.0, 'recall': 0.0, 'auc': 0.5, 'f1': 0.0}\n",
      "\n",
      "11\n",
      "train {'loss': 0.1574539958877744, 'precision': 0.0, 'recall': 0.0, 'auc': 0.5, 'f1': 0.0}\n",
      "val {'loss': 0.2925620649995673, 'precision': 0.0, 'recall': 0.0, 'auc': 0.5, 'f1': 0.0}\n",
      "\n",
      "12\n",
      "train {'loss': 0.15712940635753891, 'precision': 0.0, 'recall': 0.0, 'auc': 0.5, 'f1': 0.0}\n",
      "val {'loss': 0.29302451143815755, 'precision': 0.0, 'recall': 0.0, 'auc': 0.5, 'f1': 0.0}\n",
      "\n",
      "13\n",
      "train {'loss': 0.15678475098577546, 'precision': 0.0, 'recall': 0.0, 'auc': 0.5, 'f1': 0.0}\n",
      "val {'loss': 0.29390889997642067, 'precision': 0.0, 'recall': 0.0, 'auc': 0.5, 'f1': 0.0}\n",
      "\n",
      "14\n",
      "train {'loss': 0.1564010937841411, 'precision': 0.0, 'recall': 0.0, 'auc': 0.5, 'f1': 0.0}\n",
      "val {'loss': 0.2932019043982643, 'precision': 0.0, 'recall': 0.0, 'auc': 0.5, 'f1': 0.0}\n",
      "\n",
      "15\n",
      "train {'loss': 0.15596312013694869, 'precision': 0.0, 'recall': 0.0, 'auc': 0.5, 'f1': 0.0}\n",
      "val {'loss': 0.2929099089757274, 'precision': 0.0, 'recall': 0.0, 'auc': 0.5, 'f1': 0.0}\n",
      "\n",
      "16\n",
      "train {'loss': 0.15545858785527164, 'precision': 0.0, 'recall': 0.0, 'auc': 0.5, 'f1': 0.0}\n",
      "val {'loss': 0.29304636186596866, 'precision': 0.0, 'recall': 0.0, 'auc': 0.5, 'f1': 0.0}\n",
      "\n",
      "17\n",
      "train {'loss': 0.15487690740952578, 'precision': 0.0, 'recall': 0.0, 'auc': 0.5, 'f1': 0.0}\n",
      "val {'loss': 0.29161621578985064, 'precision': 0.0, 'recall': 0.0, 'auc': 0.5, 'f1': 0.0}\n",
      "\n",
      "18\n",
      "train {'loss': 0.15420836590048048, 'precision': 0.0, 'recall': 0.0, 'auc': 0.5, 'f1': 0.0}\n",
      "val {'loss': 0.29063857732103865, 'precision': 0.0, 'recall': 0.0, 'auc': 0.5, 'f1': 0.0}\n",
      "\n",
      "19\n",
      "train {'loss': 0.1534396063966795, 'precision': 0.0, 'recall': 0.0, 'auc': 0.5, 'f1': 0.0}\n",
      "val {'loss': 0.28938757731896086, 'precision': 0.0, 'recall': 0.0, 'auc': 0.5, 'f1': 0.0}\n",
      "\n",
      "20\n",
      "train {'loss': 0.1525778217809795, 'precision': 0.0, 'recall': 0.0, 'auc': 0.5, 'f1': 0.0}\n",
      "val {'loss': 0.2879839513924523, 'precision': 0.0, 'recall': 0.0, 'auc': 0.5, 'f1': 0.0}\n",
      "\n",
      "21\n",
      "train {'loss': 0.15165601356215805, 'precision': 0.0, 'recall': 0.0, 'auc': 0.5, 'f1': 0.0}\n",
      "val {'loss': 0.28651673240503905, 'precision': 0.0, 'recall': 0.0, 'auc': 0.5, 'f1': 0.0}\n",
      "\n",
      "22\n",
      "train {'loss': 0.15066091424850397, 'precision': 0.0, 'recall': 0.0, 'auc': 0.5, 'f1': 0.0}\n",
      "val {'loss': 0.2856094283003783, 'precision': 0.0, 'recall': 0.0, 'auc': 0.5, 'f1': 0.0}\n",
      "\n",
      "23\n",
      "train {'loss': 0.14959276403573377, 'precision': 0.0, 'recall': 0.0, 'auc': 0.5, 'f1': 0.0}\n",
      "val {'loss': 0.2838918527402624, 'precision': 0.0, 'recall': 0.0, 'auc': 0.5, 'f1': 0.0}\n",
      "\n",
      "24\n",
      "train {'loss': 0.14845624582253414, 'precision': 0.0, 'recall': 0.0, 'auc': 0.5, 'f1': 0.0}\n",
      "val {'loss': 0.28138866715926897, 'precision': 0.0, 'recall': 0.0, 'auc': 0.5, 'f1': 0.0}\n",
      "\n",
      "25\n",
      "train {'loss': 0.14725280885229083, 'precision': 0.0, 'recall': 0.0, 'auc': 0.5, 'f1': 0.0}\n",
      "val {'loss': 0.27941629196488366, 'precision': 0.0, 'recall': 0.0, 'auc': 0.5, 'f1': 0.0}\n",
      "\n",
      "26\n",
      "train {'loss': 0.14597145549086504, 'precision': 0.0, 'recall': 0.0, 'auc': 0.5, 'f1': 0.0}\n",
      "val {'loss': 0.2772407145191407, 'precision': 0.0, 'recall': 0.0, 'auc': 0.5, 'f1': 0.0}\n",
      "\n",
      "27\n",
      "train {'loss': 0.14459620328803918, 'precision': 0.0, 'recall': 0.0, 'auc': 0.5, 'f1': 0.0}\n",
      "val {'loss': 0.27689014002040696, 'precision': 0.0, 'recall': 0.0, 'auc': 0.5, 'f1': 0.0}\n",
      "\n",
      "28\n",
      "train {'loss': 0.14308573118130966, 'precision': 0.0, 'recall': 0.0, 'auc': 0.5, 'f1': 0.0}\n",
      "val {'loss': 0.2721771999003039, 'precision': 0.0, 'recall': 0.0, 'auc': 0.5, 'f1': 0.0}\n",
      "\n",
      "29\n",
      "train {'loss': 0.1414111102492974, 'precision': 0.0, 'recall': 0.0, 'auc': 0.5, 'f1': 0.0}\n",
      "val {'loss': 0.2696265407431474, 'precision': 0.0, 'recall': 0.0, 'auc': 0.5, 'f1': 0.0}\n",
      "\n",
      "30\n",
      "train {'loss': 0.13955908123825625, 'precision': 0.0, 'recall': 0.0, 'auc': 0.5, 'f1': 0.0}\n",
      "val {'loss': 0.26627810911957134, 'precision': 0.0, 'recall': 0.0, 'auc': 0.5, 'f1': 0.0}\n",
      "\n",
      "31\n",
      "train {'loss': 0.137463595035508, 'precision': 0.0, 'recall': 0.0, 'auc': 0.5, 'f1': 0.0}\n",
      "val {'loss': 0.2616675465825395, 'precision': 0.0, 'recall': 0.0, 'auc': 0.5, 'f1': 0.0}\n",
      "\n",
      "32\n",
      "train {'loss': 0.13510281922240108, 'precision': 0.0, 'recall': 0.0, 'auc': 0.5, 'f1': 0.0}\n",
      "val {'loss': 0.2575198323033827, 'precision': 0.0, 'recall': 0.0, 'auc': 0.5, 'f1': 0.0}\n",
      "\n",
      "33\n",
      "train {'loss': 0.13241461828399476, 'precision': 0.0, 'recall': 0.0, 'auc': 0.5, 'f1': 0.0}\n",
      "val {'loss': 0.2515649111986263, 'precision': 0.0, 'recall': 0.0, 'auc': 0.5, 'f1': 0.0}\n",
      "\n",
      "34\n",
      "train {'loss': 0.1293729767181954, 'precision': 0.0, 'recall': 0.0, 'auc': 0.5, 'f1': 0.0}\n",
      "val {'loss': 0.2453846458819314, 'precision': 0.0, 'recall': 0.0, 'auc': 0.5, 'f1': 0.0}\n",
      "\n",
      "35\n",
      "train {'loss': 0.1259245139460472, 'precision': 0.0, 'recall': 0.0, 'auc': 0.5, 'f1': 0.0}\n",
      "val {'loss': 0.23940689848332675, 'precision': 0.0, 'recall': 0.0, 'auc': 0.5, 'f1': 0.0}\n",
      "\n",
      "36\n",
      "train {'loss': 0.12207102832578938, 'precision': 1.0, 'recall': 0.001948051948051948, 'auc': 0.500974025974026, 'f1': 0.0038885288399222295}\n",
      "val {'loss': 0.23003326325046852, 'precision': 0.0, 'recall': 0.0, 'auc': 0.5, 'f1': 0.0}\n",
      "\n",
      "37\n",
      "train {'loss': 0.11786035542478236, 'precision': 1.0, 'recall': 0.005194805194805195, 'auc': 0.5025974025974026, 'f1': 0.0103359173126615}\n",
      "val {'loss': 0.22092743319718494, 'precision': 0.0, 'recall': 0.0, 'auc': 0.5, 'f1': 0.0}\n",
      "\n",
      "38\n",
      "train {'loss': 0.11337110898425402, 'precision': 0.9047619047619048, 'recall': 0.012337662337662338, 'auc': 0.506144006801232, 'f1': 0.024343369634849458}\n",
      "val {'loss': 0.21191605841068878, 'precision': 0.0, 'recall': 0.0, 'auc': 0.5, 'f1': 0.0}\n",
      "\n",
      "39\n",
      "train {'loss': 0.10867893900800647, 'precision': 0.82, 'recall': 0.026623376623376622, 'auc': 0.5131999786574918, 'f1': 0.05157232704402515}\n",
      "val {'loss': 0.20076039317304017, 'precision': 1.0, 'recall': 0.037333333333333336, 'auc': 0.5186666666666667, 'f1': 0.07197943444730077}\n",
      "\n",
      "40\n",
      "train {'loss': 0.10395094372621398, 'precision': 0.8850574712643678, 'recall': 0.05, 'auc': 0.5248758781620039, 'f1': 0.09465273509526737}\n",
      "val {'loss': 0.19033923409111106, 'precision': 1.0, 'recall': 0.064, 'auc': 0.532, 'f1': 0.12030075187969924}\n",
      "\n",
      "41\n",
      "train {'loss': 0.09949162526465183, 'precision': 0.9193548387096774, 'recall': 0.07402597402597402, 'auc': 0.5368888651749909, 'f1': 0.13701923076923078}\n",
      "val {'loss': 0.18103198880246518, 'precision': 1.0, 'recall': 0.112, 'auc': 0.556, 'f1': 0.2014388489208633}\n",
      "\n",
      "42\n",
      "train {'loss': 0.09538058631119262, 'precision': 0.9471153846153846, 'recall': 0.1279220779220779, 'auc': 0.5638245049392432, 'f1': 0.22540045766590386}\n",
      "val {'loss': 0.17146611913616203, 'precision': 1.0, 'recall': 0.144, 'auc': 0.572, 'f1': 0.2517482517482518}\n",
      "\n",
      "43\n",
      "train {'loss': 0.09169835830036074, 'precision': 0.9396825396825397, 'recall': 0.19220779220779222, 'auc': 0.5958680646117034, 'f1': 0.31913746630727763}\n",
      "val {'loss': 0.16363415146355367, 'precision': 1.0, 'recall': 0.18933333333333333, 'auc': 0.5946666666666667, 'f1': 0.3183856502242152}\n",
      "\n",
      "44\n",
      "train {'loss': 0.08848907283059083, 'precision': 0.9318734793187348, 'recall': 0.2487012987012987, 'auc': 0.6240031082042601, 'f1': 0.3926191696565864}\n",
      "val {'loss': 0.15682036427723378, 'precision': 1.0, 'recall': 0.2613333333333333, 'auc': 0.6306666666666667, 'f1': 0.41437632135306546}\n",
      "\n",
      "45\n",
      "train {'loss': 0.08577280158074409, 'precision': 0.9302325581395349, 'recall': 0.3116883116883117, 'auc': 0.6553973172273697, 'f1': 0.46692607003891046}\n",
      "val {'loss': 0.15248112319376564, 'precision': 1.0, 'recall': 0.3253333333333333, 'auc': 0.6626666666666666, 'f1': 0.4909456740442656}\n",
      "\n",
      "46\n",
      "train {'loss': 0.08352695360538202, 'precision': 0.9337979094076655, 'recall': 0.34805194805194806, 'auc': 0.6735543110415886, 'f1': 0.5070955534531694}\n",
      "val {'loss': 0.14645206279527792, 'precision': 0.9927536231884058, 'recall': 0.36533333333333334, 'auc': 0.6825496528590373, 'f1': 0.5341130604288499}\n",
      "\n",
      "47\n",
      "train {'loss': 0.08167935106062488, 'precision': 0.9242902208201893, 'recall': 0.38051948051948054, 'auc': 0.6896639554373586, 'f1': 0.5390984360625575}\n",
      "val {'loss': 0.1425143061077728, 'precision': 0.96, 'recall': 0.384, 'auc': 0.6912979171542242, 'f1': 0.5485714285714286}\n",
      "\n",
      "48\n",
      "train {'loss': 0.08016595318336282, 'precision': 0.9258202567760342, 'recall': 0.42142857142857143, 'auc': 0.7100688521567056, 'f1': 0.5792057117358322}\n",
      "val {'loss': 0.13993433331654653, 'precision': 0.9595375722543352, 'recall': 0.44266666666666665, 'auc': 0.7205142366799283, 'f1': 0.6058394160583942}\n",
      "\n",
      "49\n",
      "train {'loss': 0.0789362400791208, 'precision': 0.9222520107238605, 'recall': 0.44675324675324674, 'auc': 0.7226567167162455, 'f1': 0.6019247594050744}\n",
      "val {'loss': 0.13647415125070467, 'precision': 0.9629629629629629, 'recall': 0.48533333333333334, 'auc': 0.7418475700132616, 'f1': 0.6453900709219859}\n",
      "\n",
      "50\n",
      "train {'loss': 0.07793807093582779, 'precision': 0.9244791666666666, 'recall': 0.461038961038961, 'auc': 0.7297995738591028, 'f1': 0.6152512998266898}\n",
      "val {'loss': 0.1341168940598561, 'precision': 0.9642857142857143, 'recall': 0.504, 'auc': 0.7511809033465948, 'f1': 0.6619964973730297}\n",
      "\n",
      "51\n",
      "train {'loss': 0.07712158883473598, 'precision': 0.9173967459324155, 'recall': 0.475974025974026, 'auc': 0.7371678088562382, 'f1': 0.6267635741769988}\n",
      "val {'loss': 0.13213445651713004, 'precision': 0.9653465346534653, 'recall': 0.52, 'auc': 0.7591809033465949, 'f1': 0.6759098786828422}\n",
      "\n",
      "52\n",
      "train {'loss': 0.0764645971459363, 'precision': 0.9163591635916359, 'recall': 0.4837662337662338, 'auc': 0.741039088384743, 'f1': 0.6332341691457714}\n",
      "val {'loss': 0.1305052676234919, 'precision': 0.9658536585365853, 'recall': 0.528, 'auc': 0.7631809033465949, 'f1': 0.6827586206896552}\n",
      "\n",
      "53\n",
      "train {'loss': 0.07591689762309502, 'precision': 0.9138349514563107, 'recall': 0.488961038961039, 'auc': 0.7435992544307467, 'f1': 0.6370558375634517}\n",
      "val {'loss': 0.1291417776514165, 'precision': 0.9663461538461539, 'recall': 0.536, 'auc': 0.767180903346595, 'f1': 0.6895368782161235}\n",
      "\n",
      "54\n",
      "train {'loss': 0.0754557357530602, 'precision': 0.9150717703349283, 'recall': 0.4967532467532468, 'auc': 0.7474953583268504, 'f1': 0.6439393939393939}\n",
      "val {'loss': 0.1279570159559935, 'precision': 0.9665071770334929, 'recall': 0.5386666666666666, 'auc': 0.7685142366799281, 'f1': 0.6917808219178081}\n",
      "\n",
      "55\n",
      "train {'loss': 0.07507110762145504, 'precision': 0.9146919431279621, 'recall': 0.5012987012987012, 'auc': 0.7497556734157781, 'f1': 0.6476510067114093}\n",
      "val {'loss': 0.1270033677278208, 'precision': 0.9672897196261683, 'recall': 0.552, 'auc': 0.7751809033465948, 'f1': 0.702886247877759}\n",
      "\n",
      "56\n",
      "train {'loss': 0.07473855888575755, 'precision': 0.9140164899882215, 'recall': 0.5038961038961038, 'auc': 0.7510419625306799, 'f1': 0.6496442025952281}\n",
      "val {'loss': 0.12625113924920456, 'precision': 0.9672897196261683, 'recall': 0.552, 'auc': 0.7751809033465948, 'f1': 0.702886247877759}\n",
      "\n",
      "57\n",
      "train {'loss': 0.07444762574778135, 'precision': 0.9126891734575088, 'recall': 0.509090909090909, 'auc': 0.7536145407604832, 'f1': 0.6536056690287618}\n",
      "val {'loss': 0.12529983267002448, 'precision': 0.9672897196261683, 'recall': 0.552, 'auc': 0.7751809033465948, 'f1': 0.702886247877759}\n",
      "\n",
      "58\n",
      "train {'loss': 0.0741892753556576, 'precision': 0.9121387283236995, 'recall': 0.5123376623376623, 'auc': 0.7552255052000603, 'f1': 0.6561330561330562}\n",
      "val {'loss': 0.12458316218812031, 'precision': 0.9675925925925926, 'recall': 0.5573333333333333, 'auc': 0.7778475700132615, 'f1': 0.7072758037225043}\n",
      "\n",
      "59\n",
      "train {'loss': 0.07396143919527502, 'precision': 0.9126436781609195, 'recall': 0.5155844155844156, 'auc': 0.7568488818234369, 'f1': 0.6589211618257261}\n",
      "val {'loss': 0.12398939847920563, 'precision': 0.967741935483871, 'recall': 0.56, 'auc': 0.7791809033465948, 'f1': 0.7094594594594595}\n",
      "\n",
      "60\n",
      "train {'loss': 0.07375590272843496, 'precision': 0.911697247706422, 'recall': 0.5162337662337663, 'auc': 0.7571611449643126, 'f1': 0.6592039800995025}\n",
      "val {'loss': 0.12513407587179357, 'precision': 0.9678899082568807, 'recall': 0.5626666666666666, 'auc': 0.7805142366799281, 'f1': 0.7116357504215852}\n",
      "\n",
      "61\n",
      "train {'loss': 0.07356513003756697, 'precision': 0.9080590238365494, 'recall': 0.5194805194805194, 'auc': 0.7587348728524906, 'f1': 0.6608839322593969}\n",
      "val {'loss': 0.12279909020417795, 'precision': 0.9678899082568807, 'recall': 0.5626666666666666, 'auc': 0.7805142366799281, 'f1': 0.7116357504215852}\n",
      "\n",
      "62\n",
      "train {'loss': 0.07339237031367249, 'precision': 0.905511811023622, 'recall': 0.5227272727272727, 'auc': 0.7603210129244684, 'f1': 0.6628242074927954}\n",
      "val {'loss': 0.12229027113432378, 'precision': 0.9680365296803652, 'recall': 0.5653333333333334, 'auc': 0.7818475700132616, 'f1': 0.7138047138047138}\n",
      "\n",
      "63\n",
      "train {'loss': 0.07323548731510973, 'precision': 0.9049217002237137, 'recall': 0.5253246753246753, 'auc': 0.7616073020393701, 'f1': 0.6647493837304848}\n",
      "val {'loss': 0.12185431246188089, 'precision': 0.9680365296803652, 'recall': 0.5653333333333334, 'auc': 0.7818475700132616, 'f1': 0.7138047138047138}\n",
      "\n",
      "64\n",
      "train {'loss': 0.0730912222453217, 'precision': 0.904550499445061, 'recall': 0.5292207792207793, 'auc': 0.7635429418036225, 'f1': 0.6677591151167555}\n",
      "val {'loss': 0.1214119547616396, 'precision': 0.9680365296803652, 'recall': 0.5653333333333334, 'auc': 0.7818475700132616, 'f1': 0.7138047138047138}\n",
      "\n",
      "65\n",
      "train {'loss': 0.07295539522838908, 'precision': 0.9026548672566371, 'recall': 0.5298701298701298, 'auc': 0.7638427927606986, 'f1': 0.6677577741407529}\n",
      "val {'loss': 0.1213130601249712, 'precision': 0.9680365296803652, 'recall': 0.5653333333333334, 'auc': 0.7818475700132616, 'f1': 0.7138047138047138}\n",
      "\n",
      "66\n",
      "train {'loss': 0.07282935918965067, 'precision': 0.9019823788546255, 'recall': 0.5318181818181819, 'auc': 0.7648044065509249, 'f1': 0.6691176470588235}\n",
      "val {'loss': 0.12063776269951944, 'precision': 0.9681818181818181, 'recall': 0.568, 'auc': 0.7831809033465948, 'f1': 0.7159663865546219}\n",
      "\n",
      "67\n",
      "train {'loss': 0.07271125818171283, 'precision': 0.9020902090209021, 'recall': 0.5324675324675324, 'auc': 0.7651290818756002, 'f1': 0.6696610861576153}\n",
      "val {'loss': 0.12044936283155508, 'precision': 0.9681818181818181, 'recall': 0.568, 'auc': 0.7831809033465948, 'f1': 0.7159663865546219}\n",
      "\n",
      "68\n",
      "train {'loss': 0.0726016801258217, 'precision': 0.9012074643249177, 'recall': 0.5331168831168831, 'auc': 0.765441345016476, 'f1': 0.6699306405548756}\n",
      "val {'loss': 0.11998187051925975, 'precision': 0.9681818181818181, 'recall': 0.568, 'auc': 0.7831809033465948, 'f1': 0.7159663865546219}\n",
      "\n",
      "69\n",
      "train {'loss': 0.07249405456267942, 'precision': 0.9014238773274917, 'recall': 0.5344155844155845, 'auc': 0.7660906956658267, 'f1': 0.6710150835711374}\n",
      "val {'loss': 0.11967687529137301, 'precision': 0.9681818181818181, 'recall': 0.568, 'auc': 0.7831809033465948, 'f1': 0.7159663865546219}\n",
      "\n",
      "70\n",
      "train {'loss': 0.07239417674453885, 'precision': 0.9018538713195202, 'recall': 0.537012987012987, 'auc': 0.7673893969645281, 'f1': 0.6731786731786732}\n",
      "val {'loss': 0.1193754076413631, 'precision': 0.9683257918552036, 'recall': 0.5706666666666667, 'auc': 0.7845142366799283, 'f1': 0.7181208053691276}\n",
      "\n",
      "71\n",
      "train {'loss': 0.07229683091823018, 'precision': 0.9018538713195202, 'recall': 0.537012987012987, 'auc': 0.7673893969645281, 'f1': 0.6731786731786732}\n",
      "val {'loss': 0.11907521242442257, 'precision': 0.9684684684684685, 'recall': 0.5733333333333334, 'auc': 0.7858475700132614, 'f1': 0.7202680067001676}\n",
      "\n",
      "72\n",
      "train {'loss': 0.07220518972317445, 'precision': 0.9021739130434783, 'recall': 0.538961038961039, 'auc': 0.768363422938554, 'f1': 0.6747967479674796}\n",
      "val {'loss': 0.11880092754083145, 'precision': 0.9684684684684685, 'recall': 0.5733333333333334, 'auc': 0.7858475700132614, 'f1': 0.7202680067001676}\n",
      "\n",
      "73\n",
      "train {'loss': 0.07211547056396507, 'precision': 0.9024918743228603, 'recall': 0.5409090909090909, 'auc': 0.7693374489125799, 'f1': 0.6764108810393828}\n",
      "val {'loss': 0.11854493141628776, 'precision': 0.9684684684684685, 'recall': 0.5733333333333334, 'auc': 0.7858475700132614, 'f1': 0.7202680067001676}\n",
      "\n",
      "74\n",
      "train {'loss': 0.0720299538966894, 'precision': 0.9024918743228603, 'recall': 0.5409090909090909, 'auc': 0.7693374489125799, 'f1': 0.6764108810393828}\n",
      "val {'loss': 0.11828436831466828, 'precision': 0.9684684684684685, 'recall': 0.5733333333333334, 'auc': 0.7858475700132614, 'f1': 0.7202680067001676}\n",
      "\n",
      "75\n",
      "train {'loss': 0.0719485966150785, 'precision': 0.9027027027027027, 'recall': 0.5422077922077922, 'auc': 0.7699867995619305, 'f1': 0.6774847870182557}\n",
      "val {'loss': 0.11802554315218504, 'precision': 0.9684684684684685, 'recall': 0.5733333333333334, 'auc': 0.7858475700132614, 'f1': 0.7202680067001676}\n",
      "\n",
      "76\n",
      "train {'loss': 0.07186872773889634, 'precision': 0.9030172413793104, 'recall': 0.5441558441558442, 'auc': 0.7709608255359566, 'f1': 0.6790923824959482}\n",
      "val {'loss': 0.11777034907080106, 'precision': 0.9684684684684685, 'recall': 0.5733333333333334, 'auc': 0.7858475700132614, 'f1': 0.7202680067001676}\n",
      "\n",
      "77\n",
      "train {'loss': 0.07179297202232193, 'precision': 0.9039913700107874, 'recall': 0.5441558441558442, 'auc': 0.7709732377197562, 'f1': 0.6793676530198622}\n",
      "val {'loss': 0.1175972661691561, 'precision': 0.9684684684684685, 'recall': 0.5733333333333334, 'auc': 0.7858475700132614, 'f1': 0.7202680067001676}\n",
      "\n",
      "78\n",
      "train {'loss': 0.07172045016119025, 'precision': 0.9039913700107874, 'recall': 0.5441558441558442, 'auc': 0.7709732377197562, 'f1': 0.6793676530198622}\n",
      "val {'loss': 0.1179615222925762, 'precision': 0.9684684684684685, 'recall': 0.5733333333333334, 'auc': 0.7858475700132614, 'f1': 0.7202680067001676}\n",
      "\n",
      "79\n",
      "train {'loss': 0.07164984139552882, 'precision': 0.9051724137931034, 'recall': 0.5454545454545454, 'auc': 0.7716350005529063, 'f1': 0.6807131280388978}\n",
      "val {'loss': 0.11714290186628393, 'precision': 0.9684684684684685, 'recall': 0.5733333333333334, 'auc': 0.7858475700132614, 'f1': 0.7202680067001676}\n",
      "\n",
      "80\n",
      "train {'loss': 0.07158278166184626, 'precision': 0.9053763440860215, 'recall': 0.5467532467532468, 'auc': 0.772284351202257, 'f1': 0.6817813765182186}\n",
      "val {'loss': 0.11695048731633324, 'precision': 0.9684684684684685, 'recall': 0.5733333333333334, 'auc': 0.7858475700132614, 'f1': 0.7202680067001676}\n",
      "\n",
      "81\n",
      "train {'loss': 0.07151714628280868, 'precision': 0.9055793991416309, 'recall': 0.548051948051948, 'auc': 0.7729337018516077, 'f1': 0.6828478964401294}\n",
      "val {'loss': 0.11670253370149233, 'precision': 0.9684684684684685, 'recall': 0.5733333333333334, 'auc': 0.7858475700132614, 'f1': 0.7202680067001676}\n",
      "\n",
      "82\n",
      "train {'loss': 0.07145447050065926, 'precision': 0.9055793991416309, 'recall': 0.548051948051948, 'auc': 0.7729337018516077, 'f1': 0.6828478964401294}\n",
      "val {'loss': 0.11651870303169609, 'precision': 0.9684684684684685, 'recall': 0.5733333333333334, 'auc': 0.7858475700132614, 'f1': 0.7202680067001676}\n",
      "\n",
      "83\n",
      "train {'loss': 0.07139587663240551, 'precision': 0.9065520945220193, 'recall': 0.548051948051948, 'auc': 0.7729461140354074, 'f1': 0.6831242411978956}\n",
      "val {'loss': 0.11640829223454562, 'precision': 0.9684684684684685, 'recall': 0.5733333333333334, 'auc': 0.7858475700132614, 'f1': 0.7202680067001676}\n",
      "\n",
      "84\n",
      "train {'loss': 0.07133537303118709, 'precision': 0.9066523605150214, 'recall': 0.5487012987012987, 'auc': 0.7732707893600825, 'f1': 0.6836569579288025}\n",
      "val {'loss': 0.11614092180579004, 'precision': 0.9684684684684685, 'recall': 0.5733333333333334, 'auc': 0.7858475700132614, 'f1': 0.7202680067001676}\n",
      "\n",
      "85\n",
      "train {'loss': 0.07128130955042285, 'precision': 0.9066523605150214, 'recall': 0.5487012987012987, 'auc': 0.7732707893600825, 'f1': 0.6836569579288025}\n",
      "val {'loss': 0.11677569691155784, 'precision': 0.9684684684684685, 'recall': 0.5733333333333334, 'auc': 0.7858475700132614, 'f1': 0.7202680067001676}\n",
      "\n",
      "86\n",
      "train {'loss': 0.07122646248258091, 'precision': 0.9067524115755627, 'recall': 0.5493506493506494, 'auc': 0.7735954646847578, 'f1': 0.6841892438334006}\n",
      "val {'loss': 0.11587139915617317, 'precision': 0.9684684684684685, 'recall': 0.5733333333333334, 'auc': 0.7858475700132614, 'f1': 0.7202680067001676}\n",
      "\n",
      "87\n",
      "train {'loss': 0.07117515457688967, 'precision': 0.906951871657754, 'recall': 0.5506493506493506, 'auc': 0.7742448153341086, 'f1': 0.6852525252525252}\n",
      "val {'loss': 0.11568730833213713, 'precision': 0.968609865470852, 'recall': 0.576, 'auc': 0.7871809033465949, 'f1': 0.7224080267558528}\n",
      "\n",
      "88\n",
      "train {'loss': 0.0711225208299243, 'precision': 0.907051282051282, 'recall': 0.5512987012987013, 'auc': 0.7745694906587839, 'f1': 0.68578352180937}\n",
      "val {'loss': 0.11569892165180667, 'precision': 0.968609865470852, 'recall': 0.576, 'auc': 0.7871809033465949, 'f1': 0.7224080267558528}\n",
      "\n",
      "89\n",
      "train {'loss': 0.07107215045966271, 'precision': 0.9071504802561366, 'recall': 0.551948051948052, 'auc': 0.7748941659834592, 'f1': 0.6863140896245459}\n",
      "val {'loss': 0.11538484548394572, 'precision': 0.968609865470852, 'recall': 0.576, 'auc': 0.7871809033465949, 'f1': 0.7224080267558528}\n",
      "\n",
      "90\n",
      "train {'loss': 0.07102390382579274, 'precision': 0.9073482428115016, 'recall': 0.5532467532467532, 'auc': 0.7755435166328098, 'f1': 0.6873739411052843}\n",
      "val {'loss': 0.11602433034958146, 'precision': 0.968609865470852, 'recall': 0.576, 'auc': 0.7871809033465949, 'f1': 0.7224080267558528}\n",
      "\n",
      "91\n",
      "train {'loss': 0.07097517853166677, 'precision': 0.9063829787234042, 'recall': 0.5532467532467532, 'auc': 0.7755311044490102, 'f1': 0.6870967741935483}\n",
      "val {'loss': 0.11611974398810353, 'precision': 0.968609865470852, 'recall': 0.576, 'auc': 0.7871809033465949, 'f1': 0.7224080267558528}\n",
      "\n",
      "92\n",
      "train {'loss': 0.0709286665058657, 'precision': 0.9055201698513801, 'recall': 0.5538961038961039, 'auc': 0.7758433675898859, 'f1': 0.6873489121676069}\n",
      "val {'loss': 0.11494169919671574, 'precision': 0.968609865470852, 'recall': 0.576, 'auc': 0.7871809033465949, 'f1': 0.7224080267558528}\n",
      "\n",
      "93\n",
      "train {'loss': 0.0708820151943427, 'precision': 0.9056203605514316, 'recall': 0.5545454545454546, 'auc': 0.7761680429145613, 'f1': 0.6878775674587193}\n",
      "val {'loss': 0.11483647094885867, 'precision': 0.968609865470852, 'recall': 0.576, 'auc': 0.7871809033465949, 'f1': 0.7224080267558528}\n",
      "\n",
      "94\n",
      "train {'loss': 0.07083736172463607, 'precision': 0.9056203605514316, 'recall': 0.5545454545454546, 'auc': 0.7761680429145613, 'f1': 0.6878775674587193}\n",
      "val {'loss': 0.1146822484783009, 'precision': 0.968609865470852, 'recall': 0.576, 'auc': 0.7871809033465949, 'f1': 0.7224080267558528}\n",
      "\n",
      "95\n",
      "train {'loss': 0.07079300640516807, 'precision': 0.9059196617336153, 'recall': 0.5564935064935065, 'auc': 0.7771420688885873, 'f1': 0.6894609814963797}\n",
      "val {'loss': 0.11454399114737089, 'precision': 0.968609865470852, 'recall': 0.576, 'auc': 0.7871809033465949, 'f1': 0.7224080267558528}\n",
      "\n",
      "96\n",
      "train {'loss': 0.07073758988122456, 'precision': 0.9061181434599156, 'recall': 0.5577922077922078, 'auc': 0.777791419537938, 'f1': 0.6905144694533761}\n",
      "val {'loss': 0.11431933536843951, 'precision': 0.96875, 'recall': 0.5786666666666667, 'auc': 0.7885142366799283, 'f1': 0.7245409015025042}\n",
      "\n",
      "97\n",
      "train {'loss': 0.07068779803596953, 'precision': 0.9071729957805907, 'recall': 0.5584415584415584, 'auc': 0.7781285070464129, 'f1': 0.6913183279742765}\n",
      "val {'loss': 0.11418116733566233, 'precision': 0.9688888888888889, 'recall': 0.5813333333333334, 'auc': 0.7898475700132614, 'f1': 0.7266666666666667}\n",
      "\n",
      "98\n",
      "train {'loss': 0.07064223049845199, 'precision': 0.907465825446898, 'recall': 0.5603896103896104, 'auc': 0.7791025330204389, 'f1': 0.6928944199116821}\n",
      "val {'loss': 0.11401364445219078, 'precision': 0.9688888888888889, 'recall': 0.5813333333333334, 'auc': 0.7898475700132614, 'f1': 0.7266666666666667}\n",
      "\n",
      "99\n",
      "train {'loss': 0.0705989041828316, 'precision': 0.907563025210084, 'recall': 0.561038961038961, 'auc': 0.7794272083451141, 'f1': 0.6934189406099517}\n",
      "val {'loss': 0.11386283453157063, 'precision': 0.9688888888888889, 'recall': 0.5813333333333334, 'auc': 0.7898475700132614, 'f1': 0.7266666666666667}\n",
      "\n",
      "100\n",
      "train {'loss': 0.07055327064174569, 'precision': 0.907563025210084, 'recall': 0.561038961038961, 'auc': 0.7794272083451141, 'f1': 0.6934189406099517}\n",
      "val {'loss': 0.11379811137312978, 'precision': 0.9688888888888889, 'recall': 0.5813333333333334, 'auc': 0.7898475700132614, 'f1': 0.7266666666666667}\n",
      "\n",
      "101\n",
      "train {'loss': 0.07050846879051281, 'precision': 0.9078534031413612, 'recall': 0.562987012987013, 'auc': 0.7804012343191401, 'f1': 0.6949899799599198}\n",
      "val {'loss': 0.11353742654828988, 'precision': 0.9688888888888889, 'recall': 0.5813333333333334, 'auc': 0.7898475700132614, 'f1': 0.7266666666666667}\n",
      "\n",
      "102\n",
      "train {'loss': 0.07046452580333716, 'precision': 0.9079497907949791, 'recall': 0.5636363636363636, 'auc': 0.7807259096438154, 'f1': 0.6955128205128204}\n",
      "val {'loss': 0.11338529274782927, 'precision': 0.9688888888888889, 'recall': 0.5813333333333334, 'auc': 0.7898475700132614, 'f1': 0.7266666666666667}\n",
      "\n",
      "103\n",
      "train {'loss': 0.07042285371986848, 'precision': 0.9090909090909091, 'recall': 0.564935064935065, 'auc': 0.7813876724769658, 'f1': 0.696836203444133}\n",
      "val {'loss': 0.11323607076580326, 'precision': 0.9688888888888889, 'recall': 0.5813333333333334, 'auc': 0.7898475700132614, 'f1': 0.7266666666666667}\n",
      "\n",
      "104\n",
      "train {'loss': 0.0703847086865472, 'precision': 0.9091858037578288, 'recall': 0.5655844155844156, 'auc': 0.7817123478016411, 'f1': 0.6973578863090473}\n",
      "val {'loss': 0.1131390262558365, 'precision': 0.9688888888888889, 'recall': 0.5813333333333334, 'auc': 0.7898475700132614, 'f1': 0.7266666666666667}\n",
      "\n",
      "105\n",
      "train {'loss': 0.07034726979400871, 'precision': 0.9091858037578288, 'recall': 0.5655844155844156, 'auc': 0.7817123478016411, 'f1': 0.6973578863090473}\n",
      "val {'loss': 0.1135376021185973, 'precision': 0.9688888888888889, 'recall': 0.5813333333333334, 'auc': 0.7898475700132614, 'f1': 0.7266666666666667}\n",
      "\n",
      "106\n",
      "train {'loss': 0.07031067435844504, 'precision': 0.9092805005213764, 'recall': 0.5662337662337662, 'auc': 0.7820370231263163, 'f1': 0.6978791516606643}\n",
      "val {'loss': 0.11288364802541602, 'precision': 0.9688888888888889, 'recall': 0.5813333333333334, 'auc': 0.7898475700132614, 'f1': 0.7266666666666667}\n",
      "\n",
      "107\n",
      "train {'loss': 0.07027591434376872, 'precision': 0.9095634095634095, 'recall': 0.5681818181818182, 'auc': 0.7830110491003425, 'f1': 0.6994404476418865}\n",
      "val {'loss': 0.11275883347493727, 'precision': 0.9688888888888889, 'recall': 0.5813333333333334, 'auc': 0.7898475700132614, 'f1': 0.7266666666666667}\n",
      "\n",
      "108\n",
      "train {'loss': 0.07024106114882585, 'precision': 0.9096573208722741, 'recall': 0.5688311688311688, 'auc': 0.7833357244250178, 'f1': 0.699960047942469}\n",
      "val {'loss': 0.11311234431773347, 'precision': 0.9688888888888889, 'recall': 0.5813333333333334, 'auc': 0.7898475700132614, 'f1': 0.7266666666666667}\n",
      "\n",
      "109\n",
      "train {'loss': 0.07020847509070367, 'precision': 0.9096573208722741, 'recall': 0.5688311688311688, 'auc': 0.7833357244250178, 'f1': 0.699960047942469}\n",
      "val {'loss': 0.11254023021259874, 'precision': 0.9688888888888889, 'recall': 0.5813333333333334, 'auc': 0.7898475700132614, 'f1': 0.7266666666666667}\n",
      "\n",
      "110\n",
      "train {'loss': 0.0701767800286036, 'precision': 0.9096573208722741, 'recall': 0.5688311688311688, 'auc': 0.7833357244250178, 'f1': 0.699960047942469}\n",
      "val {'loss': 0.11387924100448381, 'precision': 0.9688888888888889, 'recall': 0.5813333333333334, 'auc': 0.7898475700132614, 'f1': 0.7266666666666667}\n",
      "\n",
      "111\n",
      "train {'loss': 0.07014599732932433, 'precision': 0.9087136929460581, 'recall': 0.5688311688311688, 'auc': 0.7833233122412181, 'f1': 0.6996805111821085}\n",
      "val {'loss': 0.11236382124599875, 'precision': 0.9688888888888889, 'recall': 0.5813333333333334, 'auc': 0.7898475700132614, 'f1': 0.7266666666666667}\n",
      "\n",
      "112\n",
      "train {'loss': 0.07011705621007784, 'precision': 0.9088082901554404, 'recall': 0.5694805194805195, 'auc': 0.7836479875658934, 'f1': 0.7001996007984032}\n",
      "val {'loss': 0.11282393178515315, 'precision': 0.9688888888888889, 'recall': 0.5813333333333334, 'auc': 0.7898475700132614, 'f1': 0.7266666666666667}\n",
      "\n",
      "113\n",
      "train {'loss': 0.0700886594295479, 'precision': 0.9088082901554404, 'recall': 0.5694805194805195, 'auc': 0.7836479875658934, 'f1': 0.7001996007984032}\n",
      "val {'loss': 0.11220993098956485, 'precision': 0.9688888888888889, 'recall': 0.5813333333333334, 'auc': 0.7898475700132614, 'f1': 0.7266666666666667}\n",
      "\n",
      "114\n",
      "train {'loss': 0.0700597631256577, 'precision': 0.9088082901554404, 'recall': 0.5694805194805195, 'auc': 0.7836479875658934, 'f1': 0.7001996007984032}\n",
      "val {'loss': 0.11211075492945734, 'precision': 0.9688888888888889, 'recall': 0.5813333333333334, 'auc': 0.7898475700132614, 'f1': 0.7266666666666667}\n",
      "\n",
      "115\n",
      "train {'loss': 0.0700319321892369, 'precision': 0.9089026915113871, 'recall': 0.5701298701298702, 'auc': 0.7839726628905687, 'f1': 0.7007182761372707}\n",
      "val {'loss': 0.11204629894938077, 'precision': 0.9688888888888889, 'recall': 0.5813333333333334, 'auc': 0.7898475700132614, 'f1': 0.7266666666666667}\n",
      "\n",
      "116\n",
      "train {'loss': 0.07000421098276315, 'precision': 0.9089026915113871, 'recall': 0.5701298701298702, 'auc': 0.7839726628905687, 'f1': 0.7007182761372707}\n",
      "val {'loss': 0.111974018572308, 'precision': 0.9688888888888889, 'recall': 0.5813333333333334, 'auc': 0.7898475700132614, 'f1': 0.7266666666666667}\n",
      "\n",
      "117\n",
      "train {'loss': 0.0699773013085667, 'precision': 0.9089968976215098, 'recall': 0.5707792207792208, 'auc': 0.784297338215244, 'f1': 0.7012365376944555}\n",
      "val {'loss': 0.11263132434581563, 'precision': 0.9690265486725663, 'recall': 0.584, 'auc': 0.7911809033465949, 'f1': 0.7287853577371047}\n",
      "\n",
      "118\n",
      "train {'loss': 0.06994952171272795, 'precision': 0.9090909090909091, 'recall': 0.5714285714285714, 'auc': 0.7846220135399193, 'f1': 0.7017543859649122}\n",
      "val {'loss': 0.11182662220895802, 'precision': 0.9690265486725663, 'recall': 0.584, 'auc': 0.7911809033465949, 'f1': 0.7287853577371047}\n",
      "\n",
      "119\n",
      "train {'loss': 0.06992415550662605, 'precision': 0.9081527347781218, 'recall': 0.5714285714285714, 'auc': 0.7846096013561198, 'f1': 0.7014746911119968}\n",
      "val {'loss': 0.11251486565668098, 'precision': 0.9690265486725663, 'recall': 0.584, 'auc': 0.7911809033465949, 'f1': 0.7287853577371047}\n",
      "\n",
      "120\n",
      "train {'loss': 0.06989831438925126, 'precision': 0.9081527347781218, 'recall': 0.5714285714285714, 'auc': 0.7846096013561198, 'f1': 0.7014746911119968}\n",
      "val {'loss': 0.11165255762691069, 'precision': 0.9690265486725663, 'recall': 0.584, 'auc': 0.7911809033465949, 'f1': 0.7287853577371047}\n",
      "\n",
      "121\n",
      "train {'loss': 0.06987517776084222, 'precision': 0.9072164948453608, 'recall': 0.5714285714285714, 'auc': 0.7845971891723202, 'f1': 0.7011952191235058}\n",
      "val {'loss': 0.11159239907163321, 'precision': 0.9690265486725663, 'recall': 0.584, 'auc': 0.7911809033465949, 'f1': 0.7287853577371047}\n",
      "\n",
      "122\n",
      "train {'loss': 0.06985006140509026, 'precision': 0.9073120494335737, 'recall': 0.5720779220779221, 'auc': 0.7849218644969955, 'f1': 0.7017124651533254}\n",
      "val {'loss': 0.11153936649743096, 'precision': 0.9690265486725663, 'recall': 0.584, 'auc': 0.7911809033465949, 'f1': 0.7287853577371047}\n",
      "\n",
      "123\n",
      "train {'loss': 0.06982514885301946, 'precision': 0.9073120494335737, 'recall': 0.5720779220779221, 'auc': 0.7849218644969955, 'f1': 0.7017124651533254}\n",
      "val {'loss': 0.11142294613574072, 'precision': 0.9690265486725663, 'recall': 0.584, 'auc': 0.7911809033465949, 'f1': 0.7287853577371047}\n",
      "\n",
      "124\n",
      "train {'loss': 0.06980115446271325, 'precision': 0.9073120494335737, 'recall': 0.5720779220779221, 'auc': 0.7849218644969955, 'f1': 0.7017124651533254}\n",
      "val {'loss': 0.11138937152806938, 'precision': 0.9690265486725663, 'recall': 0.584, 'auc': 0.7911809033465949, 'f1': 0.7287853577371047}\n",
      "\n",
      "125\n",
      "train {'loss': 0.06977607190525964, 'precision': 0.9073120494335737, 'recall': 0.5720779220779221, 'auc': 0.7849218644969955, 'f1': 0.7017124651533254}\n",
      "val {'loss': 0.11127541485303354, 'precision': 0.9690265486725663, 'recall': 0.584, 'auc': 0.7911809033465949, 'f1': 0.7287853577371047}\n",
      "\n",
      "126\n",
      "train {'loss': 0.06975262807721348, 'precision': 0.9073120494335737, 'recall': 0.5720779220779221, 'auc': 0.7849218644969955, 'f1': 0.7017124651533254}\n",
      "val {'loss': 0.11124296909073349, 'precision': 0.9690265486725663, 'recall': 0.584, 'auc': 0.7911809033465949, 'f1': 0.7287853577371047}\n",
      "\n",
      "127\n",
      "train {'loss': 0.06973042633411544, 'precision': 0.9074074074074074, 'recall': 0.5727272727272728, 'auc': 0.7852465398216708, 'f1': 0.7022292993630574}\n",
      "val {'loss': 0.111306938752404, 'precision': 0.9690265486725663, 'recall': 0.584, 'auc': 0.7911809033465949, 'f1': 0.7287853577371047}\n",
      "\n",
      "128\n",
      "train {'loss': 0.06970590825816837, 'precision': 0.9074074074074074, 'recall': 0.5727272727272728, 'auc': 0.7852465398216708, 'f1': 0.7022292993630574}\n",
      "val {'loss': 0.11108094882268037, 'precision': 0.9690265486725663, 'recall': 0.584, 'auc': 0.7911809033465949, 'f1': 0.7287853577371047}\n",
      "\n",
      "129\n",
      "train {'loss': 0.06968387721832157, 'precision': 0.9074074074074074, 'recall': 0.5727272727272728, 'auc': 0.7852465398216708, 'f1': 0.7022292993630574}\n",
      "val {'loss': 0.11101990497088592, 'precision': 0.9690265486725663, 'recall': 0.584, 'auc': 0.7911809033465949, 'f1': 0.7287853577371047}\n",
      "\n",
      "130\n",
      "train {'loss': 0.06966137712929674, 'precision': 0.9074074074074074, 'recall': 0.5727272727272728, 'auc': 0.7852465398216708, 'f1': 0.7022292993630574}\n",
      "val {'loss': 0.11095233091002785, 'precision': 0.9690265486725663, 'recall': 0.584, 'auc': 0.7911809033465949, 'f1': 0.7287853577371047}\n",
      "\n",
      "131\n",
      "train {'loss': 0.06963928362550413, 'precision': 0.9074074074074074, 'recall': 0.5727272727272728, 'auc': 0.7852465398216708, 'f1': 0.7022292993630574}\n",
      "val {'loss': 0.11147775885463401, 'precision': 0.9690265486725663, 'recall': 0.584, 'auc': 0.7911809033465949, 'f1': 0.7287853577371047}\n",
      "\n",
      "132\n",
      "train {'loss': 0.0696181753780707, 'precision': 0.9074074074074074, 'recall': 0.5727272727272728, 'auc': 0.7852465398216708, 'f1': 0.7022292993630574}\n",
      "val {'loss': 0.11172772902048023, 'precision': 0.9690265486725663, 'recall': 0.584, 'auc': 0.7911809033465949, 'f1': 0.7287853577371047}\n",
      "\n",
      "133\n",
      "train {'loss': 0.06959569706672741, 'precision': 0.9075025693730729, 'recall': 0.5733766233766234, 'auc': 0.7855712151463461, 'f1': 0.7027457222443295}\n",
      "val {'loss': 0.11075204095076706, 'precision': 0.9690265486725663, 'recall': 0.584, 'auc': 0.7911809033465949, 'f1': 0.7287853577371047}\n",
      "\n",
      "134\n",
      "train {'loss': 0.06957665683590118, 'precision': 0.9075025693730729, 'recall': 0.5733766233766234, 'auc': 0.7855712151463461, 'f1': 0.7027457222443295}\n",
      "val {'loss': 0.11093961301298101, 'precision': 0.9690265486725663, 'recall': 0.584, 'auc': 0.7911809033465949, 'f1': 0.7287853577371047}\n",
      "\n",
      "135\n",
      "train {'loss': 0.06955346929311308, 'precision': 0.9084362139917695, 'recall': 0.5733766233766234, 'auc': 0.7855836273301456, 'f1': 0.7030254777070064}\n",
      "val {'loss': 0.11072080750242387, 'precision': 0.9690265486725663, 'recall': 0.584, 'auc': 0.7911809033465949, 'f1': 0.7287853577371047}\n",
      "\n",
      "136\n",
      "train {'loss': 0.06953227884564035, 'precision': 0.9084362139917695, 'recall': 0.5733766233766234, 'auc': 0.7855836273301456, 'f1': 0.7030254777070064}\n",
      "val {'loss': 0.11056611157915334, 'precision': 0.9690265486725663, 'recall': 0.584, 'auc': 0.7911809033465949, 'f1': 0.7287853577371047}\n",
      "\n",
      "137\n",
      "train {'loss': 0.06951234607368369, 'precision': 0.9084362139917695, 'recall': 0.5733766233766234, 'auc': 0.7855836273301456, 'f1': 0.7030254777070064}\n",
      "val {'loss': 0.11227491174590905, 'precision': 0.9690265486725663, 'recall': 0.584, 'auc': 0.7911809033465949, 'f1': 0.7287853577371047}\n",
      "\n",
      "138\n",
      "train {'loss': 0.0694923998211534, 'precision': 0.9084362139917695, 'recall': 0.5733766233766234, 'auc': 0.7855836273301456, 'f1': 0.7030254777070064}\n",
      "val {'loss': 0.11044302522572864, 'precision': 0.9690265486725663, 'recall': 0.584, 'auc': 0.7911809033465949, 'f1': 0.7287853577371047}\n",
      "\n",
      "139\n",
      "train {'loss': 0.06947304082188403, 'precision': 0.9084362139917695, 'recall': 0.5733766233766234, 'auc': 0.7855836273301456, 'f1': 0.7030254777070064}\n",
      "val {'loss': 0.11038646219247036, 'precision': 0.9691629955947136, 'recall': 0.5866666666666667, 'auc': 0.7925142366799283, 'f1': 0.7308970099667774}\n",
      "\n",
      "140\n",
      "train {'loss': 0.06945306754964257, 'precision': 0.9085303186022611, 'recall': 0.574025974025974, 'auc': 0.7859083026548209, 'f1': 0.7035415837644249}\n",
      "val {'loss': 0.11032911537045491, 'precision': 0.9691629955947136, 'recall': 0.5866666666666667, 'auc': 0.7925142366799283, 'f1': 0.7308970099667774}\n",
      "\n",
      "141\n",
      "train {'loss': 0.06943367557847223, 'precision': 0.9085303186022611, 'recall': 0.574025974025974, 'auc': 0.7859083026548209, 'f1': 0.7035415837644249}\n",
      "val {'loss': 0.11029018322885983, 'precision': 0.9691629955947136, 'recall': 0.5866666666666667, 'auc': 0.7925142366799283, 'f1': 0.7308970099667774}\n",
      "\n",
      "142\n",
      "train {'loss': 0.0694137256461222, 'precision': 0.9085303186022611, 'recall': 0.574025974025974, 'auc': 0.7859083026548209, 'f1': 0.7035415837644249}\n",
      "val {'loss': 0.11088141026071359, 'precision': 0.9691629955947136, 'recall': 0.5866666666666667, 'auc': 0.7925142366799283, 'f1': 0.7308970099667774}\n",
      "\n",
      "143\n",
      "train {'loss': 0.06939379393499681, 'precision': 0.9085303186022611, 'recall': 0.574025974025974, 'auc': 0.7859083026548209, 'f1': 0.7035415837644249}\n",
      "val {'loss': 0.11087520650181522, 'precision': 0.9691629955947136, 'recall': 0.5866666666666667, 'auc': 0.7925142366799283, 'f1': 0.7308970099667774}\n",
      "\n",
      "144\n",
      "train {'loss': 0.06937490161046045, 'precision': 0.9085303186022611, 'recall': 0.574025974025974, 'auc': 0.7859083026548209, 'f1': 0.7035415837644249}\n",
      "val {'loss': 0.11012821220648811, 'precision': 0.9692982456140351, 'recall': 0.5893333333333334, 'auc': 0.7938475700132614, 'f1': 0.7330016583747928}\n",
      "\n",
      "145\n",
      "train {'loss': 0.06935601569050368, 'precision': 0.9085303186022611, 'recall': 0.574025974025974, 'auc': 0.7859083026548209, 'f1': 0.7035415837644249}\n",
      "val {'loss': 0.11005677486677043, 'precision': 0.9692982456140351, 'recall': 0.5893333333333334, 'auc': 0.7938475700132614, 'f1': 0.7330016583747928}\n",
      "\n",
      "146\n",
      "train {'loss': 0.06933630883641856, 'precision': 0.9085303186022611, 'recall': 0.574025974025974, 'auc': 0.7859083026548209, 'f1': 0.7035415837644249}\n",
      "val {'loss': 0.11075815985689766, 'precision': 0.9692982456140351, 'recall': 0.5893333333333334, 'auc': 0.7938475700132614, 'f1': 0.7330016583747928}\n",
      "\n",
      "147\n",
      "train {'loss': 0.06931702778353117, 'precision': 0.9085303186022611, 'recall': 0.574025974025974, 'auc': 0.7859083026548209, 'f1': 0.7035415837644249}\n",
      "val {'loss': 0.11017059726333342, 'precision': 0.9692982456140351, 'recall': 0.5893333333333334, 'auc': 0.7938475700132614, 'f1': 0.7330016583747928}\n",
      "\n",
      "148\n",
      "train {'loss': 0.06929908959420723, 'precision': 0.9085303186022611, 'recall': 0.574025974025974, 'auc': 0.7859083026548209, 'f1': 0.7035415837644249}\n",
      "val {'loss': 0.10991344967844202, 'precision': 0.9692982456140351, 'recall': 0.5893333333333334, 'auc': 0.7938475700132614, 'f1': 0.7330016583747928}\n",
      "\n",
      "149\n",
      "train {'loss': 0.06928011843757048, 'precision': 0.9086242299794661, 'recall': 0.5746753246753247, 'auc': 0.7862329779794963, 'f1': 0.7040572792362768}\n",
      "val {'loss': 0.10986999331819873, 'precision': 0.9692982456140351, 'recall': 0.5893333333333334, 'auc': 0.7938475700132614, 'f1': 0.7330016583747928}\n",
      "\n"
     ]
    }
   ],
   "source": [
    "seed_everything(1)\n",
    "\n",
    "res_dict = {}\n",
    "res_dict[\"tr_metrics\"] = []\n",
    "res_dict[\"va_metrics\"] = []\n",
    "verbose = True\n",
    "for epoch in tqdm(range(epochs)):\n",
    "    if verbose:\n",
    "        print(epoch)\n",
    "    _ = train_loop(\n",
    "        dataloader=tr_dl,\n",
    "        model=model,\n",
    "        loss_fn=loss_fn,\n",
    "        optimizer=optimizer,\n",
    "    )\n",
    "    curr_metrics = test_loop(dataloader=tr_dl, model=model, loss_fn=loss_fn)\n",
    "    if verbose:\n",
    "        print(\"train\", curr_metrics)\n",
    "    res_dict[\"tr_metrics\"].append(curr_metrics)\n",
    "    curr_metrics = test_loop(dataloader=va_dl, model=model, loss_fn=loss_fn)\n",
    "    if verbose:\n",
    "        print(\"val\", curr_metrics)\n",
    "    res_dict[\"va_metrics\"].append(curr_metrics)\n",
    "\n",
    "    if verbose:\n",
    "        print()  # empty line\n",
    "\n",
    "res_dict[\"tr_metrics\"] = pd.DataFrame(res_dict[\"tr_metrics\"])\n",
    "res_dict[\"va_metrics\"] = pd.DataFrame(res_dict[\"va_metrics\"])"
   ]
  },
  {
   "cell_type": "code",
   "execution_count": 49,
   "metadata": {
    "execution": {
     "iopub.execute_input": "2023-08-06T09:36:38.791584Z",
     "iopub.status.busy": "2023-08-06T09:36:38.791090Z",
     "iopub.status.idle": "2023-08-06T09:36:39.577805Z",
     "shell.execute_reply": "2023-08-06T09:36:39.577442Z",
     "shell.execute_reply.started": "2023-08-06T09:36:38.791551Z"
    }
   },
   "outputs": [
    {
     "data": {
      "image/png": "[encoded data removed]",
      "text/plain": [
       "<Figure size 800x800 with 4 Axes>"
      ]
     },
     "metadata": {},
     "output_type": "display_data"
    }
   ],
   "source": [
    "fig, axs = plt.subplots(2, 2, figsize=(8, 8))\n",
    "\n",
    "plt.sca(axs[0, 0])\n",
    "plt.plot(res_dict[\"tr_metrics\"][\"loss\"], label=\"Train\")\n",
    "plt.plot(res_dict[\"va_metrics\"][\"loss\"], label=\"Validation\")\n",
    "plt.title(\"Loss\")\n",
    "plt.xlabel(\"Epoch\")\n",
    "plt.legend()\n",
    "plt.sca(axs[0, 1])\n",
    "plt.plot(res_dict[\"tr_metrics\"][\"f1\"], label=\"Train\")\n",
    "plt.plot(res_dict[\"va_metrics\"][\"f1\"], label=\"Validation\")\n",
    "plt.title(\"F1\")\n",
    "plt.xlabel(\"Epoch\")\n",
    "plt.legend()\n",
    "plt.sca(axs[1, 0])\n",
    "plt.plot(res_dict[\"tr_metrics\"][\"precision\"], label=\"Train\")\n",
    "plt.plot(res_dict[\"va_metrics\"][\"precision\"], label=\"Validation\")\n",
    "plt.title(\"Precision\")\n",
    "plt.xlabel(\"Epoch\")\n",
    "plt.legend()\n",
    "plt.sca(axs[1, 1])\n",
    "plt.plot(res_dict[\"tr_metrics\"][\"recall\"], label=\"Train\")\n",
    "plt.plot(res_dict[\"va_metrics\"][\"recall\"], label=\"Validation\")\n",
    "plt.title(\"Recall\")\n",
    "plt.xlabel(\"Epoch\")\n",
    "plt.legend()\n",
    "fig.tight_layout();"
   ]
  },
  {
   "cell_type": "markdown",
   "metadata": {
    "execution": {
     "iopub.execute_input": "2023-07-31T16:23:56.909701Z",
     "iopub.status.busy": "2023-07-31T16:23:56.908105Z",
     "iopub.status.idle": "2023-07-31T16:23:56.967905Z",
     "shell.execute_reply": "2023-07-31T16:23:56.967481Z",
     "shell.execute_reply.started": "2023-07-31T16:23:56.909650Z"
    }
   },
   "source": [
    "## Linear attention"
   ]
  },
  {
   "cell_type": "markdown",
   "metadata": {},
   "source": [
    "implementation: https://github.com/idiap/fast-transformers\n",
    "\n",
    "paper: https://arxiv.org/pdf/2006.16236.pdf"
   ]
  },
  {
   "cell_type": "code",
   "execution_count": 272,
   "metadata": {
    "execution": {
     "iopub.execute_input": "2023-08-05T19:57:22.585780Z",
     "iopub.status.busy": "2023-08-05T19:57:22.584953Z",
     "iopub.status.idle": "2023-08-05T19:57:23.431185Z",
     "shell.execute_reply": "2023-08-05T19:57:23.430696Z",
     "shell.execute_reply.started": "2023-08-05T19:57:22.585717Z"
    }
   },
   "outputs": [],
   "source": [
    "from src.transformer import LinearTransformer"
   ]
  },
  {
   "cell_type": "code",
   "execution_count": 273,
   "metadata": {
    "execution": {
     "iopub.execute_input": "2023-08-05T19:57:23.432459Z",
     "iopub.status.busy": "2023-08-05T19:57:23.432340Z",
     "iopub.status.idle": "2023-08-05T19:57:23.462619Z",
     "shell.execute_reply": "2023-08-05T19:57:23.462179Z",
     "shell.execute_reply.started": "2023-08-05T19:57:23.432450Z"
    }
   },
   "outputs": [],
   "source": [
    "window_size = 8\n",
    "train_proportion = 0.9\n",
    "batch_size = 16\n",
    "learning_rate = 1e-3 / 2\n",
    "epochs = 30\n",
    "\n",
    "input_dim = len(tr_cols)\n",
    "embed_dim = 8\n",
    "num_heads = 1"
   ]
  },
  {
   "cell_type": "code",
   "execution_count": 283,
   "metadata": {
    "execution": {
     "iopub.execute_input": "2023-08-05T20:12:36.414517Z",
     "iopub.status.busy": "2023-08-05T20:12:36.413862Z",
     "iopub.status.idle": "2023-08-05T20:12:36.511842Z",
     "shell.execute_reply": "2023-08-05T20:12:36.511391Z",
     "shell.execute_reply.started": "2023-08-05T20:12:36.414475Z"
    }
   },
   "outputs": [
    {
     "name": "stderr",
     "output_type": "stream",
     "text": [
      "Global seed set to 1\n"
     ]
    }
   ],
   "source": [
    "seed_everything(1)\n",
    "\n",
    "# TODO: sampling might be useful for some datasets\n",
    "# sampler = torch.utils.data.sampler.WeightedRandomSampler(weights, len(weights))\n",
    "# tr_dl = DataLoader(tr_dataset, batch_size=batch_size, shuffle=False, sampler=sampler)\n",
    "\n",
    "tr_dl = DataLoader(tr_dataset, batch_size=batch_size, shuffle=False)\n",
    "va_dl = DataLoader(va_dataset, batch_size=batch_size, shuffle=True)"
   ]
  },
  {
   "cell_type": "code",
   "execution_count": 284,
   "metadata": {
    "execution": {
     "iopub.execute_input": "2023-08-05T20:12:36.644605Z",
     "iopub.status.busy": "2023-08-05T20:12:36.644078Z",
     "iopub.status.idle": "2023-08-05T20:12:36.711016Z",
     "shell.execute_reply": "2023-08-05T20:12:36.710665Z",
     "shell.execute_reply.started": "2023-08-05T20:12:36.644571Z"
    }
   },
   "outputs": [
    {
     "name": "stderr",
     "output_type": "stream",
     "text": [
      "Global seed set to 1\n"
     ]
    }
   ],
   "source": [
    "seed_everything(1)\n",
    "model = LinearTransformer(input_dim=input_dim, num_heads=num_heads, embed_dim=embed_dim)"
   ]
  },
  {
   "cell_type": "code",
   "execution_count": 276,
   "metadata": {
    "execution": {
     "iopub.execute_input": "2023-08-05T19:57:23.522469Z",
     "iopub.status.busy": "2023-08-05T19:57:23.522364Z",
     "iopub.status.idle": "2023-08-05T19:57:23.554501Z",
     "shell.execute_reply": "2023-08-05T19:57:23.554143Z",
     "shell.execute_reply.started": "2023-08-05T19:57:23.522458Z"
    }
   },
   "outputs": [
    {
     "data": {
      "text/plain": [
       "LinearTransformer(\n",
       "  (linear_transformer): TransformerEncoder(\n",
       "    (layers): ModuleList(\n",
       "      (0): TransformerEncoderLayer(\n",
       "        (attention): AttentionLayer(\n",
       "          (inner_attention): LinearAttention(\n",
       "            (feature_map): ActivationFunctionFeatureMap()\n",
       "          )\n",
       "          (query_projection): Linear(in_features=8, out_features=8, bias=True)\n",
       "          (key_projection): Linear(in_features=8, out_features=8, bias=True)\n",
       "          (value_projection): Linear(in_features=8, out_features=8, bias=True)\n",
       "          (out_projection): Linear(in_features=8, out_features=8, bias=True)\n",
       "        )\n",
       "        (linear1): Linear(in_features=8, out_features=8, bias=True)\n",
       "        (linear2): Linear(in_features=8, out_features=8, bias=True)\n",
       "        (norm1): LayerNorm((8,), eps=1e-05, elementwise_affine=True)\n",
       "        (norm2): LayerNorm((8,), eps=1e-05, elementwise_affine=True)\n",
       "        (dropout): Dropout(p=0.1, inplace=False)\n",
       "      )\n",
       "    )\n",
       "    (norm): LayerNorm((8,), eps=1e-05, elementwise_affine=True)\n",
       "  )\n",
       "  (fc_input): Linear(in_features=2, out_features=8, bias=True)\n",
       "  (fc): Linear(in_features=8, out_features=1, bias=True)\n",
       ")"
      ]
     },
     "execution_count": 276,
     "metadata": {},
     "output_type": "execute_result"
    }
   ],
   "source": [
    "model"
   ]
  },
  {
   "cell_type": "code",
   "execution_count": 277,
   "metadata": {
    "execution": {
     "iopub.execute_input": "2023-08-05T19:57:23.596700Z",
     "iopub.status.busy": "2023-08-05T19:57:23.596506Z",
     "iopub.status.idle": "2023-08-05T19:57:23.651891Z",
     "shell.execute_reply": "2023-08-05T19:57:23.651503Z",
     "shell.execute_reply.started": "2023-08-05T19:57:23.596686Z"
    }
   },
   "outputs": [],
   "source": [
    "# loss_fn = nn.BCELoss()\n",
    "loss_fn = nn.BCEWithLogitsLoss()\n",
    "optimizer = torch.optim.Adam(model.parameters(), lr=learning_rate)"
   ]
  },
  {
   "cell_type": "code",
   "execution_count": 278,
   "metadata": {
    "execution": {
     "iopub.execute_input": "2023-08-05T19:57:24.327132Z",
     "iopub.status.busy": "2023-08-05T19:57:24.326665Z",
     "iopub.status.idle": "2023-08-05T19:59:57.772439Z",
     "shell.execute_reply": "2023-08-05T19:59:57.772066Z",
     "shell.execute_reply.started": "2023-08-05T19:57:24.327091Z"
    }
   },
   "outputs": [
    {
     "data": {
      "application/vnd.jupyter.widget-view+json": {
       "model_id": "d2ab49a6925f42ee9477fbae44643a78",
       "version_major": 2,
       "version_minor": 0
      },
      "text/plain": [
       "  0%|          | 0/30 [00:00<?, ?it/s]"
      ]
     },
     "metadata": {},
     "output_type": "display_data"
    }
   ],
   "source": [
    "seed_everything(1)\n",
    "\n",
    "res_dict = {}\n",
    "res_dict[\"tr_metrics\"] = []\n",
    "res_dict[\"va_metrics\"] = []\n",
    "verbose = True\n",
    "for epoch in tqdm(range(epochs)):\n",
    "    if verbose:\n",
    "        print(epoch)\n",
    "    _ = train_loop(\n",
    "        dataloader=tr_dl,\n",
    "        model=model,\n",
    "        loss_fn=loss_fn,\n",
    "        optimizer=optimizer,\n",
    "    )\n",
    "    curr_metrics = test_loop(dataloader=tr_dl, model=model, loss_fn=loss_fn)\n",
    "    if verbose:\n",
    "        print(\"train\", curr_metrics)\n",
    "    res_dict[\"tr_metrics\"].append(curr_metrics)\n",
    "    curr_metrics = test_loop(dataloader=va_dl, model=model, loss_fn=loss_fn)\n",
    "    if verbose:\n",
    "        print(\"val\", curr_metrics)\n",
    "    res_dict[\"va_metrics\"].append(curr_metrics)\n",
    "\n",
    "    if verbose:\n",
    "        print()  # empty line\n",
    "\n",
    "res_dict[\"tr_metrics\"] = pd.DataFrame(res_dict[\"tr_metrics\"])\n",
    "res_dict[\"va_metrics\"] = pd.DataFrame(res_dict[\"va_metrics\"])"
   ]
  },
  {
   "cell_type": "code",
   "execution_count": 279,
   "metadata": {
    "execution": {
     "iopub.execute_input": "2023-08-05T20:01:14.704498Z",
     "iopub.status.busy": "2023-08-05T20:01:14.704009Z",
     "iopub.status.idle": "2023-08-05T20:01:15.094751Z",
     "shell.execute_reply": "2023-08-05T20:01:15.094426Z",
     "shell.execute_reply.started": "2023-08-05T20:01:14.704472Z"
    }
   },
   "outputs": [
    {
     "data": {
      "image/png": "[encoded data removed]",
      "text/plain": [
       "<Figure size 800x800 with 4 Axes>"
      ]
     },
     "metadata": {},
     "output_type": "display_data"
    }
   ],
   "source": [
    "fig, axs = plt.subplots(2, 2, figsize=(8, 8))\n",
    "\n",
    "plt.sca(axs[0, 0])\n",
    "plt.plot(res_dict[\"tr_metrics\"][\"loss\"], label=\"Train\")\n",
    "plt.plot(res_dict[\"va_metrics\"][\"loss\"], label=\"Validation\")\n",
    "plt.title(\"Loss\")\n",
    "plt.xlabel(\"Epoch\")\n",
    "plt.legend()\n",
    "plt.sca(axs[0, 1])\n",
    "plt.plot(res_dict[\"tr_metrics\"][\"f1\"], label=\"Train\")\n",
    "plt.plot(res_dict[\"va_metrics\"][\"f1\"], label=\"Validation\")\n",
    "plt.title(\"F1\")\n",
    "plt.xlabel(\"Epoch\")\n",
    "plt.legend()\n",
    "plt.sca(axs[1, 0])\n",
    "plt.plot(res_dict[\"tr_metrics\"][\"precision\"], label=\"Train\")\n",
    "plt.plot(res_dict[\"va_metrics\"][\"precision\"], label=\"Validation\")\n",
    "plt.title(\"Precision\")\n",
    "plt.xlabel(\"Epoch\")\n",
    "plt.legend()\n",
    "plt.sca(axs[1, 1])\n",
    "plt.plot(res_dict[\"tr_metrics\"][\"recall\"], label=\"Train\")\n",
    "plt.plot(res_dict[\"va_metrics\"][\"recall\"], label=\"Validation\")\n",
    "plt.title(\"Recall\")\n",
    "plt.xlabel(\"Epoch\")\n",
    "plt.legend()\n",
    "fig.tight_layout();"
   ]
  },
  {
   "cell_type": "code",
   "execution_count": null,
   "metadata": {},
   "outputs": [],
   "source": []
  }
 ],
 "metadata": {
  "kernelspec": {
   "display_name": "Python 3 (ipykernel)",
   "language": "python",
   "name": "python3"
  },
  "language_info": {
   "codemirror_mode": {
    "name": "ipython",
    "version": 3
   },
   "file_extension": ".py",
   "mimetype": "text/x-python",
   "name": "python",
   "nbconvert_exporter": "python",
   "pygments_lexer": "ipython3",
   "version": "3.10.12"
  }
 },
 "nbformat": 4,
 "nbformat_minor": 4
}
