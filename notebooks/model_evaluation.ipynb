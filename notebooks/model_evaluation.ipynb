{
 "cells": [
  {
   "attachments": {},
   "cell_type": "markdown",
   "metadata": {},
   "source": [
    "# Model evaluation\n",
    "\n",
    "In this notebook, I will compare the accuracy metrics of models"
   ]
  },
  {
   "cell_type": "code",
   "execution_count": 1,
   "metadata": {
    "execution": {
     "iopub.execute_input": "2023-08-06T08:38:10.062275Z",
     "iopub.status.busy": "2023-08-06T08:38:10.061739Z",
     "iopub.status.idle": "2023-08-06T08:38:10.098621Z",
     "shell.execute_reply": "2023-08-06T08:38:10.097715Z",
     "shell.execute_reply.started": "2023-08-06T08:38:10.062245Z"
    }
   },
   "outputs": [],
   "source": [
    "%load_ext autoreload\n",
    "%autoreload 2\n",
    "\n",
    "import sys\n",
    "\n",
    "sys.path.append(\"..\")"
   ]
  },
  {
   "cell_type": "code",
   "execution_count": 2,
   "metadata": {
    "execution": {
     "iopub.execute_input": "2023-08-06T08:38:10.213751Z",
     "iopub.status.busy": "2023-08-06T08:38:10.213198Z",
     "iopub.status.idle": "2023-08-06T08:38:12.708943Z",
     "shell.execute_reply": "2023-08-06T08:38:12.708638Z",
     "shell.execute_reply.started": "2023-08-06T08:38:10.213722Z"
    }
   },
   "outputs": [],
   "source": [
    "import matplotlib.pyplot as plt\n",
    "import numpy as np\n",
    "import pandas as pd\n",
    "import seaborn as sns"
   ]
  },
  {
   "cell_type": "code",
   "execution_count": 3,
   "metadata": {
    "execution": {
     "iopub.execute_input": "2023-08-06T08:38:12.709857Z",
     "iopub.status.busy": "2023-08-06T08:38:12.709721Z",
     "iopub.status.idle": "2023-08-06T08:38:12.737893Z",
     "shell.execute_reply": "2023-08-06T08:38:12.737566Z",
     "shell.execute_reply.started": "2023-08-06T08:38:12.709848Z"
    }
   },
   "outputs": [],
   "source": [
    "import scienceplots  # noqa # pylint: disable=unused-import\n",
    "\n",
    "plt.style.use([\"science\", \"ieee\", \"default\"])\n",
    "plt.rcParams.update({\"axes.grid\": True})"
   ]
  },
  {
   "cell_type": "code",
   "execution_count": 4,
   "metadata": {
    "execution": {
     "iopub.execute_input": "2023-08-06T08:38:12.738591Z",
     "iopub.status.busy": "2023-08-06T08:38:12.738460Z",
     "iopub.status.idle": "2023-08-06T08:38:12.760203Z",
     "shell.execute_reply": "2023-08-06T08:38:12.759844Z",
     "shell.execute_reply.started": "2023-08-06T08:38:12.738581Z"
    }
   },
   "outputs": [],
   "source": [
    "from tqdm.auto import tqdm"
   ]
  },
  {
   "cell_type": "markdown",
   "metadata": {},
   "source": [
    "## Prepare dataloader"
   ]
  },
  {
   "cell_type": "code",
   "execution_count": 5,
   "metadata": {
    "execution": {
     "iopub.execute_input": "2023-08-06T08:38:12.761482Z",
     "iopub.status.busy": "2023-08-06T08:38:12.761298Z",
     "iopub.status.idle": "2023-08-06T08:38:12.778818Z",
     "shell.execute_reply": "2023-08-06T08:38:12.778414Z",
     "shell.execute_reply.started": "2023-08-06T08:38:12.761436Z"
    }
   },
   "outputs": [],
   "source": [
    "from pathlib import Path\n",
    "\n",
    "ROOT_DATA_DIR = Path(\"../data/\")"
   ]
  },
  {
   "cell_type": "code",
   "execution_count": 6,
   "metadata": {
    "execution": {
     "iopub.execute_input": "2023-08-06T08:38:12.779473Z",
     "iopub.status.busy": "2023-08-06T08:38:12.779348Z",
     "iopub.status.idle": "2023-08-06T08:38:14.541557Z",
     "shell.execute_reply": "2023-08-06T08:38:14.541148Z",
     "shell.execute_reply.started": "2023-08-06T08:38:12.779464Z"
    }
   },
   "outputs": [],
   "source": [
    "from collections import defaultdict\n",
    "\n",
    "import torch\n",
    "from pytorch_lightning import Trainer, seed_everything\n",
    "from sklearn.preprocessing import MinMaxScaler\n",
    "from sklearn.utils.class_weight import compute_class_weight\n",
    "from torch import Tensor, nn\n",
    "from torch.utils.data import DataLoader, TensorDataset\n",
    "\n",
    "from src.utils import get_metrics\n",
    "\n",
    "\n",
    "def seed_init_fn(seed=1):\n",
    "    import random\n",
    "\n",
    "    import numpy as np\n",
    "    import torch\n",
    "\n",
    "    np.random.seed(seed)\n",
    "    random.seed(seed)\n",
    "    torch.manual_seed(seed)"
   ]
  },
  {
   "cell_type": "code",
   "execution_count": 14,
   "metadata": {
    "execution": {
     "iopub.execute_input": "2023-08-06T08:38:27.333352Z",
     "iopub.status.busy": "2023-08-06T08:38:27.332733Z",
     "iopub.status.idle": "2023-08-06T08:38:27.403513Z",
     "shell.execute_reply": "2023-08-06T08:38:27.403096Z",
     "shell.execute_reply.started": "2023-08-06T08:38:27.333298Z"
    }
   },
   "outputs": [],
   "source": [
    "def train_loop(dataloader, model, loss_fn, optimizer):\n",
    "    size = len(dataloader.dataset)\n",
    "    model.train()\n",
    "    for batch, (x_batch, y_batch) in enumerate(dataloader):\n",
    "        y_pred = model(x_batch)\n",
    "\n",
    "        loss = loss_fn(y_pred, y_batch)\n",
    "\n",
    "        optimizer.zero_grad()\n",
    "        loss.backward()\n",
    "        optimizer.step()\n",
    "    return res_dict\n",
    "\n",
    "\n",
    "def test_loop(dataloader, model, loss_fn):\n",
    "    res_dict = {}\n",
    "    model.eval()\n",
    "    size = len(dataloader.dataset)\n",
    "    num_batches = len(dataloader)\n",
    "    test_loss, correct = 0, 0\n",
    "\n",
    "    all_y = []\n",
    "    all_y_pred = []\n",
    "    with torch.no_grad():\n",
    "        for x_batch, y_batch in dataloader:\n",
    "            y_pred = model(x_batch)\n",
    "            test_loss += loss_fn(y_pred, y_batch).item()\n",
    "            all_y.append(y_batch)\n",
    "\n",
    "            # convert sigmoid to labels\n",
    "            y_pred = y_pred.reshape(-1)\n",
    "            y_pred = (y_pred > 0.5).int()\n",
    "            all_y_pred.append(y_pred)\n",
    "\n",
    "    test_loss /= num_batches\n",
    "    res_dict[\"loss\"] = test_loss\n",
    "    all_y = torch.cat(all_y)\n",
    "    all_y_pred = torch.cat(all_y_pred)\n",
    "    res_dict = res_dict | get_metrics(y_true=all_y, y_pred=all_y_pred)\n",
    "    return res_dict"
   ]
  },
  {
   "cell_type": "markdown",
   "metadata": {},
   "source": [
    "take only 1 dataset, 1 concrete time series for now..."
   ]
  },
  {
   "cell_type": "code",
   "execution_count": 15,
   "metadata": {
    "execution": {
     "iopub.execute_input": "2023-08-06T08:38:27.667561Z",
     "iopub.status.busy": "2023-08-06T08:38:27.667073Z",
     "iopub.status.idle": "2023-08-06T08:38:27.726556Z",
     "shell.execute_reply": "2023-08-06T08:38:27.726117Z",
     "shell.execute_reply.started": "2023-08-06T08:38:27.667530Z"
    }
   },
   "outputs": [],
   "source": [
    "DATA_DIR = ROOT_DATA_DIR / \"KPI-Anomaly-Detection/Preliminary_dataset\""
   ]
  },
  {
   "cell_type": "code",
   "execution_count": 16,
   "metadata": {
    "execution": {
     "iopub.execute_input": "2023-08-06T08:38:27.852111Z",
     "iopub.status.busy": "2023-08-06T08:38:27.851345Z",
     "iopub.status.idle": "2023-08-06T08:38:28.059204Z",
     "shell.execute_reply": "2023-08-06T08:38:28.058729Z",
     "shell.execute_reply.started": "2023-08-06T08:38:27.852050Z"
    }
   },
   "outputs": [],
   "source": [
    "df = pd.read_parquet(DATA_DIR / \"train.parquet\")\n",
    "df.rename(columns={\"label\": \"target\"}, inplace=True)\n",
    "df = df[df[\"KPI ID\"] == \"02e99bd4f6cfb33f\"].copy()\n",
    "df = df[df.index > 1.49 * 1e9].copy()\n",
    "df = df.query(\"timestamp < 1496538120\").copy()\n",
    "df[\"time\"] = df.index - df.index[0]\n",
    "# df[\"value\"] = df[\"value\"].diff()\n",
    "# df = df.query('stock==1 & day==0 & train==1')\n",
    "# df.value = df.value.pct_change()\n",
    "df.dropna(inplace=True)"
   ]
  },
  {
   "cell_type": "code",
   "execution_count": 17,
   "metadata": {
    "execution": {
     "iopub.execute_input": "2023-08-06T08:38:28.061275Z",
     "iopub.status.busy": "2023-08-06T08:38:28.060993Z",
     "iopub.status.idle": "2023-08-06T08:38:28.098633Z",
     "shell.execute_reply": "2023-08-06T08:38:28.098277Z",
     "shell.execute_reply.started": "2023-08-06T08:38:28.061261Z"
    }
   },
   "outputs": [],
   "source": [
    "def convert_to_windows(x, window_size):\n",
    "    # convert input time series x to\n",
    "    # time series of lags, first window_size observations are dropped\n",
    "    windows = []\n",
    "    for i in range(window_size, len(x)):\n",
    "        w = x[i - window_size : i]\n",
    "        windows.append(w)\n",
    "    windows = np.array(windows)\n",
    "    return windows\n",
    "\n",
    "\n",
    "# TODO: maybe make this a general function...\n",
    "t = df.copy()\n",
    "# # for col in ['value', 'target']:\n",
    "# for col in [\"value\"]:\n",
    "#     for lag in range(0, window_size):\n",
    "#         t[f\"lag_{col}_{lag}\"] = t[col].shift(lag)\n",
    "# t = t.dropna()\n",
    "# tr_cols = [c for c in t.columns if \"lag\" in c]\n",
    "# # remove target from train columns\n",
    "# try:\n",
    "#     tr_cols.pop(tr_cols.index(\"lag_target_0\"))\n",
    "# except:\n",
    "#     pass\n",
    "# df = t"
   ]
  },
  {
   "cell_type": "code",
   "execution_count": 18,
   "metadata": {
    "execution": {
     "iopub.execute_input": "2023-08-06T08:38:28.275400Z",
     "iopub.status.busy": "2023-08-06T08:38:28.274693Z",
     "iopub.status.idle": "2023-08-06T08:38:28.353217Z",
     "shell.execute_reply": "2023-08-06T08:38:28.352870Z",
     "shell.execute_reply.started": "2023-08-06T08:38:28.275367Z"
    }
   },
   "outputs": [],
   "source": [
    "df[\"value_diff\"] = df[\"value\"].diff()\n",
    "tr_cols = [\"value\", \"value_diff\"]\n",
    "df = df.dropna()"
   ]
  },
  {
   "cell_type": "code",
   "execution_count": 19,
   "metadata": {
    "execution": {
     "iopub.execute_input": "2023-08-06T08:38:28.553237Z",
     "iopub.status.busy": "2023-08-06T08:38:28.552772Z",
     "iopub.status.idle": "2023-08-06T08:38:28.609670Z",
     "shell.execute_reply": "2023-08-06T08:38:28.609177Z",
     "shell.execute_reply.started": "2023-08-06T08:38:28.553198Z"
    }
   },
   "outputs": [],
   "source": [
    "# fig, axs = plt.subplots(1, 2, figsize=(8, 4))\n",
    "# plt.subplot(1, 2, 1)\n",
    "# plt.plot(df.value.diff())\n",
    "# plt.subplot(1, 2, 2)\n",
    "# plt.hist(df.value)\n",
    "# plt.yscale(\"log\")\n",
    "# plt.tight_layout();"
   ]
  },
  {
   "cell_type": "code",
   "execution_count": 20,
   "metadata": {
    "execution": {
     "iopub.execute_input": "2023-08-06T08:38:28.887817Z",
     "iopub.status.busy": "2023-08-06T08:38:28.887425Z",
     "iopub.status.idle": "2023-08-06T08:38:28.948461Z",
     "shell.execute_reply": "2023-08-06T08:38:28.948058Z",
     "shell.execute_reply.started": "2023-08-06T08:38:28.887792Z"
    }
   },
   "outputs": [],
   "source": [
    "window_size = 8\n",
    "train_proportion = 0.9\n",
    "batch_size = 16\n",
    "learning_rate = 1e-5\n",
    "epochs = 30"
   ]
  },
  {
   "cell_type": "code",
   "execution_count": 21,
   "metadata": {
    "execution": {
     "iopub.execute_input": "2023-08-06T08:38:29.126700Z",
     "iopub.status.busy": "2023-08-06T08:38:29.126228Z",
     "iopub.status.idle": "2023-08-06T08:38:29.211299Z",
     "shell.execute_reply": "2023-08-06T08:38:29.210937Z",
     "shell.execute_reply.started": "2023-08-06T08:38:29.126616Z"
    }
   },
   "outputs": [],
   "source": [
    "x = df[tr_cols].values.copy()\n",
    "scaler = MinMaxScaler()\n",
    "x = scaler.fit_transform(x)\n",
    "# x_scaled = x\n",
    "x = convert_to_windows(x, window_size)\n",
    "y = df[\"target\"].values\n",
    "y = y[window_size:]\n",
    "\n",
    "# class_weights = compute_class_weight('balanced', classes=[0, 1], y=y.ravel())\n",
    "# class_weights = class_weights / class_weights.sum()\n",
    "\n",
    "x = torch.Tensor(x)\n",
    "y = torch.Tensor(y)\n",
    "\n",
    "train_idx = int(len(x) * train_proportion)\n",
    "# train_idx = int(1.495 * 1e9)\n",
    "\n",
    "tr, va = x[:train_idx], x[train_idx:]\n",
    "# x = np.hstack([x, y.reshape(-1, 1)])\n",
    "# y = y.reshape(-1, 1)\n",
    "ytr, yva = y[:train_idx], y[train_idx:]\n",
    "tr_dataset = TensorDataset(tr, ytr)\n",
    "va_dataset = TensorDataset(va, yva)\n",
    "\n",
    "# weights = torch.where(ytr.ravel() == 0, class_weights[0], class_weights[1])\n",
    "\n",
    "# TODO: maybe add test dataset\n",
    "\n",
    "# debug print\n",
    "# print(ytr.mean(), yva.mean())"
   ]
  },
  {
   "cell_type": "code",
   "execution_count": 22,
   "metadata": {
    "execution": {
     "iopub.execute_input": "2023-08-06T08:38:30.866176Z",
     "iopub.status.busy": "2023-08-06T08:38:30.865555Z",
     "iopub.status.idle": "2023-08-06T08:38:31.872642Z",
     "shell.execute_reply": "2023-08-06T08:38:31.844382Z",
     "shell.execute_reply.started": "2023-08-06T08:38:30.866135Z"
    }
   },
   "outputs": [
    {
     "data": {
      "image/png": "[encoded data removed]",
      "text/plain": [
       "<Figure size 800x400 with 2 Axes>"
      ]
     },
     "metadata": {},
     "output_type": "display_data"
    }
   ],
   "source": [
    "fig, axs = plt.subplots(1, 2, figsize=(8, 4))\n",
    "plt.sca(axs[0])\n",
    "plt.plot(tr[:, 0, 0])\n",
    "plt.sca(axs[1])\n",
    "plt.plot(tr[:, 0, 1])\n",
    "fig.tight_layout();"
   ]
  },
  {
   "cell_type": "markdown",
   "metadata": {},
   "source": [
    "## Evaluate models"
   ]
  },
  {
   "cell_type": "code",
   "execution_count": 52,
   "metadata": {
    "execution": {
     "iopub.execute_input": "2023-08-06T09:43:31.313506Z",
     "iopub.status.busy": "2023-08-06T09:43:31.312988Z",
     "iopub.status.idle": "2023-08-06T09:43:31.385620Z",
     "shell.execute_reply": "2023-08-06T09:43:31.385220Z",
     "shell.execute_reply.started": "2023-08-06T09:43:31.313472Z"
    }
   },
   "outputs": [],
   "source": [
    "from src.transformer import TransformerAnomalyDetector, TransformerEncoder"
   ]
  },
  {
   "cell_type": "markdown",
   "metadata": {},
   "source": [
    "### Scaled Dot-Product"
   ]
  },
  {
   "cell_type": "code",
   "execution_count": 258,
   "metadata": {
    "execution": {
     "iopub.execute_input": "2023-08-06T11:26:07.764528Z",
     "iopub.status.busy": "2023-08-06T11:26:07.763984Z",
     "iopub.status.idle": "2023-08-06T11:26:07.843856Z",
     "shell.execute_reply": "2023-08-06T11:26:07.843476Z",
     "shell.execute_reply.started": "2023-08-06T11:26:07.764485Z"
    }
   },
   "outputs": [],
   "source": [
    "window_size = 8\n",
    "train_proportion = 0.9\n",
    "batch_size = 4096\n",
    "epochs = 50"
   ]
  },
  {
   "cell_type": "code",
   "execution_count": 259,
   "metadata": {
    "execution": {
     "iopub.execute_input": "2023-08-06T11:26:08.229932Z",
     "iopub.status.busy": "2023-08-06T11:26:08.229545Z",
     "iopub.status.idle": "2023-08-06T11:26:08.309158Z",
     "shell.execute_reply": "2023-08-06T11:26:08.308779Z",
     "shell.execute_reply.started": "2023-08-06T11:26:08.229906Z"
    }
   },
   "outputs": [
    {
     "name": "stderr",
     "output_type": "stream",
     "text": [
      "Global seed set to 1\n"
     ]
    }
   ],
   "source": [
    "seed_everything(1)\n",
    "\n",
    "# TODO: sampling might be useful for some datasets\n",
    "# sampler = torch.utils.data.sampler.WeightedRandomSampler(weights, len(weights))\n",
    "# tr_dl = DataLoader(tr_dataset, batch_size=batch_size, shuffle=False, sampler=sampler)\n",
    "\n",
    "tr_dl = DataLoader(tr_dataset, batch_size=batch_size, shuffle=False)\n",
    "va_dl = DataLoader(va_dataset, batch_size=batch_size, shuffle=True)"
   ]
  },
  {
   "cell_type": "markdown",
   "metadata": {},
   "source": [
    "> **TODO**: add positional enocding"
   ]
  },
  {
   "cell_type": "markdown",
   "metadata": {},
   "source": [
    "See the code for Anomaly BERT -> implement sequences windows for tensors -> unsqueeze before supplying to the model"
   ]
  },
  {
   "cell_type": "code",
   "execution_count": 260,
   "metadata": {
    "execution": {
     "iopub.execute_input": "2023-08-06T11:26:08.879393Z",
     "iopub.status.busy": "2023-08-06T11:26:08.878779Z",
     "iopub.status.idle": "2023-08-06T11:26:08.955575Z",
     "shell.execute_reply": "2023-08-06T11:26:08.955102Z",
     "shell.execute_reply.started": "2023-08-06T11:26:08.879358Z"
    }
   },
   "outputs": [],
   "source": [
    "input_dim = len(tr_cols)\n",
    "out_dim = 1\n",
    "\n",
    "num_layers = 2\n",
    "block_input_dim = 16\n",
    "block_embed_dim = block_input_dim  # implicitly set in the block\n",
    "block_num_heads = 4\n",
    "block_dim_feedforward = 2 * block_input_dim\n",
    "block_args = {\n",
    "    \"input_dim\": block_input_dim,\n",
    "    \"num_heads\": block_num_heads,\n",
    "    \"dim_feedforward\": block_dim_feedforward,\n",
    "}\n",
    "\n",
    "tf_enc = TransformerEncoder(num_layers=num_layers, **block_args)\n",
    "# xx = torch.rand(batch_size, window_size, input_dim)\n",
    "\n",
    "# front_linear = nn.Linear(input_dim, block_input_dim)\n",
    "# last_linear = nn.Linear(block_input_dim, out_dim)\n",
    "# xx = front_linear(xx)\n",
    "# xx = tf_enc(xx)\n",
    "# last_linear(xx).shape"
   ]
  },
  {
   "cell_type": "code",
   "execution_count": 261,
   "metadata": {
    "execution": {
     "iopub.execute_input": "2023-08-06T11:26:09.250414Z",
     "iopub.status.busy": "2023-08-06T11:26:09.249769Z",
     "iopub.status.idle": "2023-08-06T11:26:09.328738Z",
     "shell.execute_reply": "2023-08-06T11:26:09.328429Z",
     "shell.execute_reply.started": "2023-08-06T11:26:09.250358Z"
    }
   },
   "outputs": [
    {
     "name": "stderr",
     "output_type": "stream",
     "text": [
      "Global seed set to 1\n",
      "positional encoding disabled\n"
     ]
    }
   ],
   "source": [
    "seed_everything(1)\n",
    "\n",
    "input_dim = len(tr_cols)\n",
    "\n",
    "block_args = {\n",
    "    \"input_dim\": 16,\n",
    "    \"num_heads\": 4,\n",
    "    \"dim_feedforward\": 2 * 16,\n",
    "    \"num_layers\": 2,\n",
    "    \"enable_layer_norm\": True,\n",
    "}\n",
    "positional_encoder_args = {\n",
    "    \"enable\": False,\n",
    "    \"max_len\": window_size,\n",
    "}\n",
    "\n",
    "# convert the above params to a dict\n",
    "model_params = {\n",
    "    \"input_dim\": input_dim,\n",
    "    \"block_input_dim\": block_args[\"input_dim\"],\n",
    "    \"block_args\": block_args,\n",
    "    \"num_layers\": block_args[\"num_layers\"],\n",
    "    \"positional_encoder_args\": positional_encoder_args,\n",
    "    \"learning_rate\": 1e-3,\n",
    "    \"dropout\": 0.0,\n",
    "}\n",
    "\n",
    "model = TransformerAnomalyDetector(\n",
    "    **model_params,\n",
    ")"
   ]
  },
  {
   "cell_type": "code",
   "execution_count": 262,
   "metadata": {
    "execution": {
     "iopub.execute_input": "2023-08-06T11:26:09.574659Z",
     "iopub.status.busy": "2023-08-06T11:26:09.573890Z",
     "iopub.status.idle": "2023-08-06T11:26:09.661769Z",
     "shell.execute_reply": "2023-08-06T11:26:09.661339Z",
     "shell.execute_reply.started": "2023-08-06T11:26:09.574628Z"
    }
   },
   "outputs": [],
   "source": [
    "# xx = torch.rand(batch_size, window_size, input_dim)\n",
    "# print(xx.shape)\n",
    "# model(xx)"
   ]
  },
  {
   "cell_type": "code",
   "execution_count": 263,
   "metadata": {
    "execution": {
     "iopub.execute_input": "2023-08-06T11:26:09.897974Z",
     "iopub.status.busy": "2023-08-06T11:26:09.897561Z",
     "iopub.status.idle": "2023-08-06T11:26:09.971161Z",
     "shell.execute_reply": "2023-08-06T11:26:09.970700Z",
     "shell.execute_reply.started": "2023-08-06T11:26:09.897946Z"
    }
   },
   "outputs": [],
   "source": [
    "# loss_fn = nn.BCELoss()\n",
    "loss_fn = nn.BCEWithLogitsLoss(pos_weight=torch.tensor(5))\n",
    "# optimizer = torch.optim.Adam(model.parameters(), lr=learning_rate)\n",
    "optimizer = torch.optim.SGD(model.parameters(), lr=learning_rate)"
   ]
  },
  {
   "cell_type": "code",
   "execution_count": 264,
   "metadata": {
    "execution": {
     "iopub.execute_input": "2023-08-06T11:26:10.477289Z",
     "iopub.status.busy": "2023-08-06T11:26:10.476515Z",
     "iopub.status.idle": "2023-08-06T11:27:06.727114Z",
     "shell.execute_reply": "2023-08-06T11:27:06.726812Z",
     "shell.execute_reply.started": "2023-08-06T11:26:10.477214Z"
    }
   },
   "outputs": [
    {
     "name": "stderr",
     "output_type": "stream",
     "text": [
      "Global seed set to 1\n"
     ]
    },
    {
     "data": {
      "application/vnd.jupyter.widget-view+json": {
       "model_id": "0a4ae9221c924e93b392f328609cfcc8",
       "version_major": 2,
       "version_minor": 0
      },
      "text/plain": [
       "  0%|          | 0/50 [00:00<?, ?it/s]"
      ]
     },
     "metadata": {},
     "output_type": "display_data"
    },
    {
     "name": "stdout",
     "output_type": "stream",
     "text": [
      "0\n",
      "train {'loss': 1.0582215027375654, 'precision': 0.03682184443966239, 'recall': 1.0, 'auc': 0.5, 'f1': 0.07102829601272975}\n",
      "val {'loss': 1.1216609477996826, 'precision': 0.08067986230636832, 'recall': 1.0, 'auc': 0.5, 'f1': 0.14931315946645432}\n",
      "\n",
      "1\n",
      "train {'loss': 1.057207085869529, 'precision': 0.03682184443966239, 'recall': 1.0, 'auc': 0.5, 'f1': 0.07102829601272975}\n",
      "val {'loss': 1.113414466381073, 'precision': 0.08067986230636832, 'recall': 1.0, 'auc': 0.5, 'f1': 0.14931315946645432}\n",
      "\n",
      "2\n",
      "train {'loss': 1.056194467978044, 'precision': 0.03682184443966239, 'recall': 1.0, 'auc': 0.5, 'f1': 0.07102829601272975}\n",
      "val {'loss': 1.1111313700675964, 'precision': 0.08067986230636832, 'recall': 1.0, 'auc': 0.5, 'f1': 0.14931315946645432}\n",
      "\n",
      "3\n",
      "train {'loss': 1.0551837465979836, 'precision': 0.03682184443966239, 'recall': 1.0, 'auc': 0.5, 'f1': 0.07102829601272975}\n",
      "val {'loss': 1.118479311466217, 'precision': 0.08067986230636832, 'recall': 1.0, 'auc': 0.5, 'f1': 0.14931315946645432}\n",
      "\n",
      "4\n",
      "train {'loss': 1.0541750517758457, 'precision': 0.03682184443966239, 'recall': 1.0, 'auc': 0.5, 'f1': 0.07102829601272975}\n",
      "val {'loss': 1.114592969417572, 'precision': 0.08067986230636832, 'recall': 1.0, 'auc': 0.5, 'f1': 0.14931315946645432}\n",
      "\n",
      "5\n",
      "train {'loss': 1.0531681234186345, 'precision': 0.03682184443966239, 'recall': 1.0, 'auc': 0.5, 'f1': 0.07102829601272975}\n",
      "val {'loss': 1.106814205646515, 'precision': 0.08067986230636832, 'recall': 1.0, 'auc': 0.5, 'f1': 0.14931315946645432}\n",
      "\n",
      "6\n",
      "train {'loss': 1.0521633516658435, 'precision': 0.03682184443966239, 'recall': 1.0, 'auc': 0.5, 'f1': 0.07102829601272975}\n",
      "val {'loss': 1.1159693598747253, 'precision': 0.08067986230636832, 'recall': 1.0, 'auc': 0.5, 'f1': 0.14931315946645432}\n",
      "\n",
      "7\n",
      "train {'loss': 1.0511604222384365, 'precision': 0.03682184443966239, 'recall': 1.0, 'auc': 0.5, 'f1': 0.07102829601272975}\n",
      "val {'loss': 1.1122131943702698, 'precision': 0.08067986230636832, 'recall': 1.0, 'auc': 0.5, 'f1': 0.14931315946645432}\n",
      "\n",
      "8\n",
      "train {'loss': 1.0501594976945356, 'precision': 0.03682184443966239, 'recall': 1.0, 'auc': 0.5, 'f1': 0.07102829601272975}\n",
      "val {'loss': 1.1154094338417053, 'precision': 0.08067986230636832, 'recall': 1.0, 'auc': 0.5, 'f1': 0.14931315946645432}\n",
      "\n",
      "9\n",
      "train {'loss': 1.0491605563597246, 'precision': 0.03682184443966239, 'recall': 1.0, 'auc': 0.5, 'f1': 0.07102829601272975}\n",
      "val {'loss': 1.1187759041786194, 'precision': 0.08067986230636832, 'recall': 1.0, 'auc': 0.5, 'f1': 0.14931315946645432}\n",
      "\n",
      "10\n",
      "train {'loss': 1.04816350069913, 'precision': 0.03682184443966239, 'recall': 1.0, 'auc': 0.5, 'f1': 0.07102829601272975}\n",
      "val {'loss': 1.1098882555961609, 'precision': 0.08067986230636832, 'recall': 1.0, 'auc': 0.5, 'f1': 0.14931315946645432}\n",
      "\n",
      "11\n",
      "train {'loss': 1.0471684499220415, 'precision': 0.03682184443966239, 'recall': 1.0, 'auc': 0.5, 'f1': 0.07102829601272975}\n",
      "val {'loss': 1.1068059206008911, 'precision': 0.08067986230636832, 'recall': 1.0, 'auc': 0.5, 'f1': 0.14931315946645432}\n",
      "\n",
      "12\n",
      "train {'loss': 1.0461753390052102, 'precision': 0.03682184443966239, 'recall': 1.0, 'auc': 0.5, 'f1': 0.07102829601272975}\n",
      "val {'loss': 1.1073655486106873, 'precision': 0.08067986230636832, 'recall': 1.0, 'auc': 0.5, 'f1': 0.14931315946645432}\n",
      "\n",
      "13\n",
      "train {'loss': 1.045184151692824, 'precision': 0.03679881402132849, 'recall': 0.9993506493506493, 'auc': 0.49967532467532466, 'f1': 0.0709838107098381}\n",
      "val {'loss': 1.1119151711463928, 'precision': 0.08067986230636832, 'recall': 1.0, 'auc': 0.5, 'f1': 0.14931315946645432}\n",
      "\n",
      "14\n",
      "train {'loss': 1.044194839217446, 'precision': 0.03677578250161402, 'recall': 0.9987012987012988, 'auc': 0.4993506493506494, 'f1': 0.07093932335508867}\n",
      "val {'loss': 1.106820285320282, 'precision': 0.08067986230636832, 'recall': 1.0, 'auc': 0.5, 'f1': 0.14931315946645432}\n",
      "\n",
      "15\n",
      "train {'loss': 1.0432074828581377, 'precision': 0.03677578250161402, 'recall': 0.9987012987012988, 'auc': 0.4993506493506494, 'f1': 0.07093932335508867}\n",
      "val {'loss': 1.1010810732841492, 'precision': 0.08067986230636832, 'recall': 1.0, 'auc': 0.5, 'f1': 0.14931315946645432}\n",
      "\n",
      "16\n",
      "train {'loss': 1.0422220771962947, 'precision': 0.03675274988043998, 'recall': 0.9980519480519481, 'auc': 0.49902597402597404, 'f1': 0.07089483394833948}\n",
      "val {'loss': 1.1032164692878723, 'precision': 0.08067986230636832, 'recall': 1.0, 'auc': 0.5, 'f1': 0.14931315946645432}\n",
      "\n",
      "17\n",
      "train {'loss': 1.0412384813482112, 'precision': 0.03675274988043998, 'recall': 0.9980519480519481, 'auc': 0.49902597402597404, 'f1': 0.07089483394833948}\n",
      "val {'loss': 1.1004889607429504, 'precision': 0.08067986230636832, 'recall': 1.0, 'auc': 0.5, 'f1': 0.14931315946645432}\n",
      "\n",
      "18\n",
      "train {'loss': 1.0402568145231768, 'precision': 0.03663844645334099, 'recall': 0.9948051948051948, 'auc': 0.497415009586397, 'f1': 0.07067398625271025}\n",
      "val {'loss': 1.1024313569068909, 'precision': 0.08048203141811922, 'recall': 0.9973333333333333, 'auc': 0.49866666666666665, 'f1': 0.14894464356829948}\n",
      "\n",
      "19\n",
      "train {'loss': 1.0392770983956077, 'precision': 0.0365462807940684, 'recall': 0.9922077922077922, 'auc': 0.4961163082876957, 'f1': 0.0704959630911188}\n",
      "val {'loss': 1.0872769951820374, 'precision': 0.08028411536805855, 'recall': 0.9946666666666667, 'auc': 0.49733333333333335, 'f1': 0.14857598088030272}\n",
      "\n",
      "20\n",
      "train {'loss': 1.0382992191748186, 'precision': 0.03638494844867593, 'recall': 0.9876623376623377, 'auc': 0.49384358101496845, 'f1': 0.07018434349260548}\n",
      "val {'loss': 1.099864423274994, 'precision': 0.08028411536805855, 'recall': 0.9946666666666667, 'auc': 0.49733333333333335, 'f1': 0.14857598088030272}\n",
      "\n",
      "21\n",
      "train {'loss': 1.03732337734916, 'precision': 0.03624748779787539, 'recall': 0.9837662337662337, 'auc': 0.4919079412507161, 'f1': 0.06991877422927818}\n",
      "val {'loss': 1.098382294178009, 'precision': 0.08008611410118407, 'recall': 0.992, 'auc': 0.496, 'f1': 0.14820717131474104}\n",
      "\n",
      "22\n",
      "train {'loss': 1.0363492965698242, 'precision': 0.036109981095503604, 'recall': 0.9798701298701299, 'auc': 0.4899723014864638, 'f1': 0.06965311915806965}\n",
      "val {'loss': 1.1090282797813416, 'precision': 0.08008611410118407, 'recall': 0.992, 'auc': 0.496, 'f1': 0.14820717131474104}\n",
      "\n",
      "23\n",
      "train {'loss': 1.0353772369298069, 'precision': 0.035994639096304806, 'recall': 0.9766233766233766, 'auc': 0.4883489248630872, 'f1': 0.06943033884221217}\n",
      "val {'loss': 1.1039159297943115, 'precision': 0.079293255763844, 'recall': 0.9813333333333333, 'auc': 0.49066666666666664, 'f1': 0.14673046251993618}\n",
      "\n",
      "24\n",
      "train {'loss': 1.0344069383361123, 'precision': 0.03581260622890384, 'recall': 0.9714285714285714, 'auc': 0.4857887588170834, 'f1': 0.06907856763558286}\n",
      "val {'loss': 1.093858003616333, 'precision': 0.07889631386074585, 'recall': 0.976, 'auc': 0.488, 'f1': 0.14599122457120062}\n",
      "\n",
      "25\n",
      "train {'loss': 1.0334384603933855, 'precision': 0.035606532254202385, 'recall': 0.9655844155844155, 'auc': 0.4828915052626047, 'f1': 0.06868043046510554}\n",
      "val {'loss': 1.0963941812515259, 'precision': 0.0781182563659905, 'recall': 0.9653333333333334, 'auc': 0.482783680474296, 'f1': 0.1445398283090437}\n",
      "\n",
      "26\n",
      "train {'loss': 1.0324719168923118, 'precision': 0.035056190544652914, 'recall': 0.95, 'auc': 0.475161358389395, 'f1': 0.06761722089986828}\n",
      "val {'loss': 1.0972149968147278, 'precision': 0.07755454741844892, 'recall': 0.9573333333333334, 'auc': 0.4790177080895546, 'f1': 0.1434852118305356}\n",
      "\n",
      "27\n",
      "train {'loss': 1.0315072644840588, 'precision': 0.03389448933136553, 'recall': 0.8798701298701299, 'auc': 0.46055170222623, 'f1': 0.06527446588144616}\n",
      "val {'loss': 1.0980234146118164, 'precision': 0.07585004359197908, 'recall': 0.928, 'auc': 0.46786145565176696, 'f1': 0.14023775941970584}\n",
      "\n",
      "28\n",
      "train {'loss': 1.030544557354667, 'precision': 0.03334516835315699, 'recall': 0.7318181818181818, 'auc': 0.4603906339917809, 'f1': 0.06378402852453449}\n",
      "val {'loss': 1.1058114171028137, 'precision': 0.07564402810304449, 'recall': 0.8613333333333333, 'auc': 0.4688131679538185, 'f1': 0.13907427341227127}\n",
      "\n",
      "29\n",
      "train {'loss': 1.0295837684111162, 'precision': 0.03104958066107548, 'recall': 0.6538961038961039, 'auc': 0.43689517604506556, 'f1': 0.0592841163310962}\n",
      "val {'loss': 1.0909703373908997, 'precision': 0.07327905255366396, 'recall': 0.792, 'auc': 0.45649613854434823, 'f1': 0.13414634146341464}\n",
      "\n",
      "30\n",
      "train {'loss': 1.0286247296766802, 'precision': 0.028356225077536552, 'recall': 0.5818181818181818, 'auc': 0.40983022389322815, 'f1': 0.05407689057879172}\n",
      "val {'loss': 1.0815876126289368, 'precision': 0.06938354397730204, 'recall': 0.7173333333333334, 'auc': 0.43648084874015136, 'f1': 0.12652869238005643}\n",
      "\n",
      "31\n",
      "train {'loss': 1.027667517011816, 'precision': 0.024878680038822387, 'recall': 0.4993506493506494, 'auc': 0.3755596927710475, 'f1': 0.047395993836671806}\n",
      "val {'loss': 1.0906843543052673, 'precision': 0.06538564184681078, 'recall': 0.6533333333333333, 'auc': 0.41688431234885714, 'f1': 0.11887433284813197}\n",
      "\n",
      "32\n",
      "train {'loss': 1.0267121575095437, 'precision': 0.022872585854590996, 'recall': 0.45064935064935063, 'auc': 0.35732825003360963, 'f1': 0.04353553729377078}\n",
      "val {'loss': 1.0888164639472961, 'precision': 0.0615553723550426, 'recall': 0.5973333333333334, 'auc': 0.3990645136126063, 'f1': 0.11160936721474839}\n",
      "\n",
      "33\n",
      "train {'loss': 1.0257587432861328, 'precision': 0.020678524595676002, 'recall': 0.39935064935064934, 'auc': 0.3381580593276594, 'f1': 0.03932099357437422}\n",
      "val {'loss': 1.07817143201828, 'precision': 0.054617117117117114, 'recall': 0.5173333333333333, 'auc': 0.36573430064747636, 'f1': 0.09880315762668702}\n",
      "\n",
      "34\n",
      "train {'loss': 1.0248070846904407, 'precision': 0.01852297329805148, 'recall': 0.35, 'auc': 0.32050803068291833, 'f1': 0.03518391592414896}\n",
      "val {'loss': 1.0872246623039246, 'precision': 0.04795117698343505, 'recall': 0.44, 'auc': 0.33666276620641233, 'f1': 0.08647798742138364}\n",
      "\n",
      "35\n",
      "train {'loss': 1.0238573226061733, 'precision': 0.016723585536739076, 'recall': 0.30844155844155846, 'auc': 0.307573310065056, 'f1': 0.03172694786761513}\n",
      "val {'loss': 1.09404718875885, 'precision': 0.04181600955794504, 'recall': 0.37333333333333335, 'auc': 0.31128637179187146, 'f1': 0.07520816545796401}\n",
      "\n",
      "36\n",
      "train {'loss': 1.0229093486612493, 'precision': 0.014795157948307826, 'recall': 0.2642857142857143, 'auc': 0.29574785180561813, 'f1': 0.02802161864435953}\n",
      "val {'loss': 1.077943205833435, 'precision': 0.03734567901234568, 'recall': 0.32266666666666666, 'auc': 0.2963672673375458, 'f1': 0.0669432918395574}\n",
      "\n",
      "37\n",
      "train {'loss': 1.0219632387161255, 'precision': 0.013264151679475675, 'recall': 0.22077922077922077, 'auc': 0.2964482455458798, 'f1': 0.025024840834652045}\n",
      "val {'loss': 1.102592408657074, 'precision': 0.035596572181938034, 'recall': 0.288, 'auc': 0.3016175988766674, 'f1': 0.0633616896450572}\n",
      "\n",
      "38\n",
      "train {'loss': 1.0210189873521978, 'precision': 0.012296962466733964, 'recall': 0.17402597402597403, 'auc': 0.3198283185424163, 'f1': 0.022970772263649613}\n",
      "val {'loss': 1.0853700041770935, 'precision': 0.035823170731707314, 'recall': 0.25066666666666665, 'auc': 0.32928840003120363, 'f1': 0.06268756252084028}\n",
      "\n",
      "39\n",
      "train {'loss': 1.0200765295462175, 'precision': 0.012854907221104404, 'recall': 0.14935064935064934, 'auc': 0.3554513344064768, 'f1': 0.023672293124742692}\n",
      "val {'loss': 1.0878729820251465, 'precision': 0.040627885503231764, 'recall': 0.23466666666666666, 'auc': 0.3741786410796474, 'f1': 0.06926406926406926}\n",
      "\n",
      "40\n",
      "train {'loss': 1.019135903228413, 'precision': 0.013621285905850801, 'recall': 0.1253246753246753, 'auc': 0.3891896568788807, 'f1': 0.024571901457763064}\n",
      "val {'loss': 1.0780516862869263, 'precision': 0.043686415320167565, 'recall': 0.19466666666666665, 'auc': 0.4103452687417115, 'f1': 0.07135874877810361}\n",
      "\n",
      "41\n",
      "train {'loss': 1.0181971300732007, 'precision': 0.01451284895544463, 'recall': 0.10194805194805195, 'auc': 0.41864773448630166, 'f1': 0.025408642175109238}\n",
      "val {'loss': 1.079672634601593, 'precision': 0.052397868561278864, 'recall': 0.15733333333333333, 'auc': 0.45381293392620325, 'f1': 0.07861425716189206}\n",
      "\n",
      "42\n",
      "train {'loss': 1.0172601829875598, 'precision': 0.01750291715285881, 'recall': 0.08766233766233766, 'auc': 0.4497716399976658, 'f1': 0.029179725494434233}\n",
      "val {'loss': 1.0866735577583313, 'precision': 0.0853462157809984, 'recall': 0.14133333333333334, 'auc': 0.5042028239332241, 'f1': 0.10642570281124498}\n",
      "\n",
      "43\n",
      "train {'loss': 1.016325061971491, 'precision': 0.024414648789273564, 'recall': 0.07922077922077922, 'auc': 0.47910099358725333, 'f1': 0.037325990515527}\n",
      "val {'loss': 1.0861760377883911, 'precision': 0.18532818532818532, 'recall': 0.128, 'auc': 0.5393100865902177, 'f1': 0.15141955835962145}\n",
      "\n",
      "44\n",
      "train {'loss': 1.015391620722684, 'precision': 0.0371900826446281, 'recall': 0.07012987012987013, 'auc': 0.5003604691612039, 'f1': 0.048604860486048604}\n",
      "val {'loss': 1.085439145565033, 'precision': 0.38461538461538464, 'recall': 0.09333333333333334, 'auc': 0.5401138934394258, 'f1': 0.15021459227467812}\n",
      "\n",
      "45\n",
      "train {'loss': 1.0144600488922813, 'precision': 0.06750741839762611, 'recall': 0.05909090909090909, 'auc': 0.5139433395093351, 'f1': 0.06301939058171745}\n",
      "val {'loss': 1.0847145318984985, 'precision': 0.8157894736842105, 'recall': 0.08266666666666667, 'auc': 0.5405142366799283, 'f1': 0.15012106537530265}\n",
      "\n",
      "46\n",
      "train {'loss': 1.0135302435268054, 'precision': 0.14534883720930233, 'recall': 0.048701298701298704, 'auc': 0.5188768762950179, 'f1': 0.07295719844357977}\n",
      "val {'loss': 1.0861703157424927, 'precision': 1.0, 'recall': 0.06933333333333333, 'auc': 0.5346666666666666, 'f1': 0.12967581047381546}\n",
      "\n",
      "47\n",
      "train {'loss': 1.0126021721146323, 'precision': 0.29064039408866993, 'recall': 0.03831168831168831, 'auc': 0.5173684896886992, 'f1': 0.06769936890418818}\n",
      "val {'loss': 1.0799739956855774, 'precision': 1.0, 'recall': 0.058666666666666666, 'auc': 0.5293333333333333, 'f1': 0.11083123425692695}\n",
      "\n",
      "48\n",
      "train {'loss': 1.0116758942604065, 'precision': 0.48514851485148514, 'recall': 0.031818181818181815, 'auc': 0.5152636573515107, 'f1': 0.05971968312004874}\n",
      "val {'loss': 1.0746731162071228, 'precision': 1.0, 'recall': 0.050666666666666665, 'auc': 0.5253333333333333, 'f1': 0.09644670050761421}\n",
      "\n",
      "49\n",
      "train {'loss': 1.010751415382732, 'precision': 0.6197183098591549, 'recall': 0.02857142857142857, 'auc': 0.5139505853231245, 'f1': 0.05462445685909373}\n",
      "val {'loss': 1.0771564841270447, 'precision': 1.0, 'recall': 0.034666666666666665, 'auc': 0.5173333333333333, 'f1': 0.06701030927835051}\n",
      "\n"
     ]
    }
   ],
   "source": [
    "seed_everything(1)\n",
    "\n",
    "res_dict = {}\n",
    "res_dict[\"tr_metrics\"] = []\n",
    "res_dict[\"va_metrics\"] = []\n",
    "verbose = True\n",
    "for epoch in tqdm(range(epochs)):\n",
    "    if verbose:\n",
    "        print(epoch)\n",
    "    _ = train_loop(\n",
    "        dataloader=tr_dl,\n",
    "        model=model,\n",
    "        loss_fn=loss_fn,\n",
    "        optimizer=optimizer,\n",
    "    )\n",
    "    curr_metrics = test_loop(dataloader=tr_dl, model=model, loss_fn=loss_fn)\n",
    "    if verbose:\n",
    "        print(\"train\", curr_metrics)\n",
    "    res_dict[\"tr_metrics\"].append(curr_metrics)\n",
    "    curr_metrics = test_loop(dataloader=va_dl, model=model, loss_fn=loss_fn)\n",
    "    if verbose:\n",
    "        print(\"val\", curr_metrics)\n",
    "    res_dict[\"va_metrics\"].append(curr_metrics)\n",
    "\n",
    "    if verbose:\n",
    "        print()  # empty line\n",
    "\n",
    "res_dict[\"tr_metrics\"] = pd.DataFrame(res_dict[\"tr_metrics\"])\n",
    "res_dict[\"va_metrics\"] = pd.DataFrame(res_dict[\"va_metrics\"])"
   ]
  },
  {
   "cell_type": "code",
   "execution_count": null,
   "metadata": {
    "execution": {
     "iopub.execute_input": "2023-08-06T11:27:50.701250Z",
     "iopub.status.busy": "2023-08-06T11:27:50.700433Z"
    }
   },
   "outputs": [],
   "source": [
    "fig, axs = plt.subplots(2, 2, figsize=(8, 8))\n",
    "\n",
    "plt.sca(axs[0, 0])\n",
    "plt.plot(res_dict[\"tr_metrics\"][\"loss\"], label=\"Train\")\n",
    "plt.plot(res_dict[\"va_metrics\"][\"loss\"], label=\"Validation\")\n",
    "plt.title(\"Loss\")\n",
    "plt.xlabel(\"Epoch\")\n",
    "plt.legend()\n",
    "plt.sca(axs[0, 1])\n",
    "plt.plot(res_dict[\"tr_metrics\"][\"f1\"], label=\"Train\")\n",
    "plt.plot(res_dict[\"va_metrics\"][\"f1\"], label=\"Validation\")\n",
    "plt.title(\"F1\")\n",
    "plt.xlabel(\"Epoch\")\n",
    "plt.legend()\n",
    "plt.sca(axs[1, 0])\n",
    "plt.plot(res_dict[\"tr_metrics\"][\"precision\"], label=\"Train\")\n",
    "plt.plot(res_dict[\"va_metrics\"][\"precision\"], label=\"Validation\")\n",
    "plt.title(\"Precision\")\n",
    "plt.xlabel(\"Epoch\")\n",
    "plt.legend()\n",
    "plt.sca(axs[1, 1])\n",
    "plt.plot(res_dict[\"tr_metrics\"][\"recall\"], label=\"Train\")\n",
    "plt.plot(res_dict[\"va_metrics\"][\"recall\"], label=\"Validation\")\n",
    "plt.title(\"Recall\")\n",
    "plt.xlabel(\"Epoch\")\n",
    "plt.legend()\n",
    "fig.tight_layout();"
   ]
  },
  {
   "cell_type": "markdown",
   "metadata": {
    "execution": {
     "iopub.execute_input": "2023-07-31T16:23:56.909701Z",
     "iopub.status.busy": "2023-07-31T16:23:56.908105Z",
     "iopub.status.idle": "2023-07-31T16:23:56.967905Z",
     "shell.execute_reply": "2023-07-31T16:23:56.967481Z",
     "shell.execute_reply.started": "2023-07-31T16:23:56.909650Z"
    }
   },
   "source": [
    "## Linear attention"
   ]
  },
  {
   "cell_type": "markdown",
   "metadata": {},
   "source": [
    "implementation: https://github.com/idiap/fast-transformers\n",
    "\n",
    "paper: https://arxiv.org/pdf/2006.16236.pdf"
   ]
  },
  {
   "cell_type": "code",
   "execution_count": 272,
   "metadata": {
    "execution": {
     "iopub.execute_input": "2023-08-05T19:57:22.585780Z",
     "iopub.status.busy": "2023-08-05T19:57:22.584953Z",
     "iopub.status.idle": "2023-08-05T19:57:23.431185Z",
     "shell.execute_reply": "2023-08-05T19:57:23.430696Z",
     "shell.execute_reply.started": "2023-08-05T19:57:22.585717Z"
    }
   },
   "outputs": [],
   "source": [
    "from src.transformer import LinearTransformer"
   ]
  },
  {
   "cell_type": "code",
   "execution_count": 273,
   "metadata": {
    "execution": {
     "iopub.execute_input": "2023-08-05T19:57:23.432459Z",
     "iopub.status.busy": "2023-08-05T19:57:23.432340Z",
     "iopub.status.idle": "2023-08-05T19:57:23.462619Z",
     "shell.execute_reply": "2023-08-05T19:57:23.462179Z",
     "shell.execute_reply.started": "2023-08-05T19:57:23.432450Z"
    }
   },
   "outputs": [],
   "source": [
    "window_size = 8\n",
    "train_proportion = 0.9\n",
    "batch_size = 16\n",
    "learning_rate = 1e-3 / 2\n",
    "epochs = 30\n",
    "\n",
    "input_dim = len(tr_cols)\n",
    "embed_dim = 8\n",
    "num_heads = 1"
   ]
  },
  {
   "cell_type": "code",
   "execution_count": 283,
   "metadata": {
    "execution": {
     "iopub.execute_input": "2023-08-05T20:12:36.414517Z",
     "iopub.status.busy": "2023-08-05T20:12:36.413862Z",
     "iopub.status.idle": "2023-08-05T20:12:36.511842Z",
     "shell.execute_reply": "2023-08-05T20:12:36.511391Z",
     "shell.execute_reply.started": "2023-08-05T20:12:36.414475Z"
    }
   },
   "outputs": [
    {
     "name": "stderr",
     "output_type": "stream",
     "text": [
      "Global seed set to 1\n"
     ]
    }
   ],
   "source": [
    "seed_everything(1)\n",
    "\n",
    "# TODO: sampling might be useful for some datasets\n",
    "# sampler = torch.utils.data.sampler.WeightedRandomSampler(weights, len(weights))\n",
    "# tr_dl = DataLoader(tr_dataset, batch_size=batch_size, shuffle=False, sampler=sampler)\n",
    "\n",
    "tr_dl = DataLoader(tr_dataset, batch_size=batch_size, shuffle=False)\n",
    "va_dl = DataLoader(va_dataset, batch_size=batch_size, shuffle=True)"
   ]
  },
  {
   "cell_type": "code",
   "execution_count": 284,
   "metadata": {
    "execution": {
     "iopub.execute_input": "2023-08-05T20:12:36.644605Z",
     "iopub.status.busy": "2023-08-05T20:12:36.644078Z",
     "iopub.status.idle": "2023-08-05T20:12:36.711016Z",
     "shell.execute_reply": "2023-08-05T20:12:36.710665Z",
     "shell.execute_reply.started": "2023-08-05T20:12:36.644571Z"
    }
   },
   "outputs": [
    {
     "name": "stderr",
     "output_type": "stream",
     "text": [
      "Global seed set to 1\n"
     ]
    }
   ],
   "source": [
    "seed_everything(1)\n",
    "model = LinearTransformer(input_dim=input_dim, num_heads=num_heads, embed_dim=embed_dim)"
   ]
  },
  {
   "cell_type": "code",
   "execution_count": 276,
   "metadata": {
    "execution": {
     "iopub.execute_input": "2023-08-05T19:57:23.522469Z",
     "iopub.status.busy": "2023-08-05T19:57:23.522364Z",
     "iopub.status.idle": "2023-08-05T19:57:23.554501Z",
     "shell.execute_reply": "2023-08-05T19:57:23.554143Z",
     "shell.execute_reply.started": "2023-08-05T19:57:23.522458Z"
    }
   },
   "outputs": [
    {
     "data": {
      "text/plain": [
       "LinearTransformer(\n",
       "  (linear_transformer): TransformerEncoder(\n",
       "    (layers): ModuleList(\n",
       "      (0): TransformerEncoderLayer(\n",
       "        (attention): AttentionLayer(\n",
       "          (inner_attention): LinearAttention(\n",
       "            (feature_map): ActivationFunctionFeatureMap()\n",
       "          )\n",
       "          (query_projection): Linear(in_features=8, out_features=8, bias=True)\n",
       "          (key_projection): Linear(in_features=8, out_features=8, bias=True)\n",
       "          (value_projection): Linear(in_features=8, out_features=8, bias=True)\n",
       "          (out_projection): Linear(in_features=8, out_features=8, bias=True)\n",
       "        )\n",
       "        (linear1): Linear(in_features=8, out_features=8, bias=True)\n",
       "        (linear2): Linear(in_features=8, out_features=8, bias=True)\n",
       "        (norm1): LayerNorm((8,), eps=1e-05, elementwise_affine=True)\n",
       "        (norm2): LayerNorm((8,), eps=1e-05, elementwise_affine=True)\n",
       "        (dropout): Dropout(p=0.1, inplace=False)\n",
       "      )\n",
       "    )\n",
       "    (norm): LayerNorm((8,), eps=1e-05, elementwise_affine=True)\n",
       "  )\n",
       "  (fc_input): Linear(in_features=2, out_features=8, bias=True)\n",
       "  (fc): Linear(in_features=8, out_features=1, bias=True)\n",
       ")"
      ]
     },
     "execution_count": 276,
     "metadata": {},
     "output_type": "execute_result"
    }
   ],
   "source": [
    "model"
   ]
  },
  {
   "cell_type": "code",
   "execution_count": 277,
   "metadata": {
    "execution": {
     "iopub.execute_input": "2023-08-05T19:57:23.596700Z",
     "iopub.status.busy": "2023-08-05T19:57:23.596506Z",
     "iopub.status.idle": "2023-08-05T19:57:23.651891Z",
     "shell.execute_reply": "2023-08-05T19:57:23.651503Z",
     "shell.execute_reply.started": "2023-08-05T19:57:23.596686Z"
    }
   },
   "outputs": [],
   "source": [
    "# loss_fn = nn.BCELoss()\n",
    "loss_fn = nn.BCEWithLogitsLoss()\n",
    "optimizer = torch.optim.Adam(model.parameters(), lr=learning_rate)"
   ]
  },
  {
   "cell_type": "code",
   "execution_count": 278,
   "metadata": {
    "execution": {
     "iopub.execute_input": "2023-08-05T19:57:24.327132Z",
     "iopub.status.busy": "2023-08-05T19:57:24.326665Z",
     "iopub.status.idle": "2023-08-05T19:59:57.772439Z",
     "shell.execute_reply": "2023-08-05T19:59:57.772066Z",
     "shell.execute_reply.started": "2023-08-05T19:57:24.327091Z"
    }
   },
   "outputs": [
    {
     "data": {
      "application/vnd.jupyter.widget-view+json": {
       "model_id": "d2ab49a6925f42ee9477fbae44643a78",
       "version_major": 2,
       "version_minor": 0
      },
      "text/plain": [
       "  0%|          | 0/30 [00:00<?, ?it/s]"
      ]
     },
     "metadata": {},
     "output_type": "display_data"
    }
   ],
   "source": [
    "seed_everything(1)\n",
    "\n",
    "res_dict = {}\n",
    "res_dict[\"tr_metrics\"] = []\n",
    "res_dict[\"va_metrics\"] = []\n",
    "verbose = True\n",
    "for epoch in tqdm(range(epochs)):\n",
    "    if verbose:\n",
    "        print(epoch)\n",
    "    _ = train_loop(\n",
    "        dataloader=tr_dl,\n",
    "        model=model,\n",
    "        loss_fn=loss_fn,\n",
    "        optimizer=optimizer,\n",
    "    )\n",
    "    curr_metrics = test_loop(dataloader=tr_dl, model=model, loss_fn=loss_fn)\n",
    "    if verbose:\n",
    "        print(\"train\", curr_metrics)\n",
    "    res_dict[\"tr_metrics\"].append(curr_metrics)\n",
    "    curr_metrics = test_loop(dataloader=va_dl, model=model, loss_fn=loss_fn)\n",
    "    if verbose:\n",
    "        print(\"val\", curr_metrics)\n",
    "    res_dict[\"va_metrics\"].append(curr_metrics)\n",
    "\n",
    "    if verbose:\n",
    "        print()  # empty line\n",
    "\n",
    "res_dict[\"tr_metrics\"] = pd.DataFrame(res_dict[\"tr_metrics\"])\n",
    "res_dict[\"va_metrics\"] = pd.DataFrame(res_dict[\"va_metrics\"])"
   ]
  },
  {
   "cell_type": "code",
   "execution_count": 279,
   "metadata": {
    "execution": {
     "iopub.execute_input": "2023-08-05T20:01:14.704498Z",
     "iopub.status.busy": "2023-08-05T20:01:14.704009Z",
     "iopub.status.idle": "2023-08-05T20:01:15.094751Z",
     "shell.execute_reply": "2023-08-05T20:01:15.094426Z",
     "shell.execute_reply.started": "2023-08-05T20:01:14.704472Z"
    }
   },
   "outputs": [
    {
     "data": {
      "image/png": "[encoded data removed]",
      "text/plain": [
       "<Figure size 800x800 with 4 Axes>"
      ]
     },
     "metadata": {},
     "output_type": "display_data"
    }
   ],
   "source": [
    "fig, axs = plt.subplots(2, 2, figsize=(8, 8))\n",
    "\n",
    "plt.sca(axs[0, 0])\n",
    "plt.plot(res_dict[\"tr_metrics\"][\"loss\"], label=\"Train\")\n",
    "plt.plot(res_dict[\"va_metrics\"][\"loss\"], label=\"Validation\")\n",
    "plt.title(\"Loss\")\n",
    "plt.xlabel(\"Epoch\")\n",
    "plt.legend()\n",
    "plt.sca(axs[0, 1])\n",
    "plt.plot(res_dict[\"tr_metrics\"][\"f1\"], label=\"Train\")\n",
    "plt.plot(res_dict[\"va_metrics\"][\"f1\"], label=\"Validation\")\n",
    "plt.title(\"F1\")\n",
    "plt.xlabel(\"Epoch\")\n",
    "plt.legend()\n",
    "plt.sca(axs[1, 0])\n",
    "plt.plot(res_dict[\"tr_metrics\"][\"precision\"], label=\"Train\")\n",
    "plt.plot(res_dict[\"va_metrics\"][\"precision\"], label=\"Validation\")\n",
    "plt.title(\"Precision\")\n",
    "plt.xlabel(\"Epoch\")\n",
    "plt.legend()\n",
    "plt.sca(axs[1, 1])\n",
    "plt.plot(res_dict[\"tr_metrics\"][\"recall\"], label=\"Train\")\n",
    "plt.plot(res_dict[\"va_metrics\"][\"recall\"], label=\"Validation\")\n",
    "plt.title(\"Recall\")\n",
    "plt.xlabel(\"Epoch\")\n",
    "plt.legend()\n",
    "fig.tight_layout();"
   ]
  },
  {
   "cell_type": "code",
   "execution_count": null,
   "metadata": {},
   "outputs": [],
   "source": []
  }
 ],
 "metadata": {
  "kernelspec": {
   "display_name": "Python 3 (ipykernel)",
   "language": "python",
   "name": "python3"
  },
  "language_info": {
   "codemirror_mode": {
    "name": "ipython",
    "version": 3
   },
   "file_extension": ".py",
   "mimetype": "text/x-python",
   "name": "python",
   "nbconvert_exporter": "python",
   "pygments_lexer": "ipython3",
   "version": "3.10.12"
  }
 },
 "nbformat": 4,
 "nbformat_minor": 4
}
