{
 "cells": [
  {
   "attachments": {},
   "cell_type": "markdown",
   "metadata": {},
   "source": [
    "# Model evaluation\n",
    "\n",
    "In this notebook, I will compare the accuracy metrics of models"
   ]
  },
  {
   "cell_type": "code",
   "execution_count": 1,
   "metadata": {
    "execution": {
     "iopub.execute_input": "2023-08-06T08:38:10.062275Z",
     "iopub.status.busy": "2023-08-06T08:38:10.061739Z",
     "iopub.status.idle": "2023-08-06T08:38:10.098621Z",
     "shell.execute_reply": "2023-08-06T08:38:10.097715Z",
     "shell.execute_reply.started": "2023-08-06T08:38:10.062245Z"
    }
   },
   "outputs": [],
   "source": [
    "%load_ext autoreload\n",
    "%autoreload 2\n",
    "\n",
    "import sys\n",
    "\n",
    "sys.path.append(\"..\")"
   ]
  },
  {
   "cell_type": "code",
   "execution_count": 2,
   "metadata": {
    "execution": {
     "iopub.execute_input": "2023-08-06T08:38:10.213751Z",
     "iopub.status.busy": "2023-08-06T08:38:10.213198Z",
     "iopub.status.idle": "2023-08-06T08:38:12.708943Z",
     "shell.execute_reply": "2023-08-06T08:38:12.708638Z",
     "shell.execute_reply.started": "2023-08-06T08:38:10.213722Z"
    }
   },
   "outputs": [],
   "source": [
    "import matplotlib.pyplot as plt\n",
    "import numpy as np\n",
    "import pandas as pd\n",
    "import seaborn as sns"
   ]
  },
  {
   "cell_type": "code",
   "execution_count": 3,
   "metadata": {
    "execution": {
     "iopub.execute_input": "2023-08-06T08:38:12.709857Z",
     "iopub.status.busy": "2023-08-06T08:38:12.709721Z",
     "iopub.status.idle": "2023-08-06T08:38:12.737893Z",
     "shell.execute_reply": "2023-08-06T08:38:12.737566Z",
     "shell.execute_reply.started": "2023-08-06T08:38:12.709848Z"
    }
   },
   "outputs": [],
   "source": [
    "import scienceplots  # noqa # pylint: disable=unused-import\n",
    "\n",
    "plt.style.use([\"science\", \"ieee\", \"default\"])\n",
    "plt.rcParams.update({\"axes.grid\": True})"
   ]
  },
  {
   "cell_type": "code",
   "execution_count": 4,
   "metadata": {
    "execution": {
     "iopub.execute_input": "2023-08-06T08:38:12.738591Z",
     "iopub.status.busy": "2023-08-06T08:38:12.738460Z",
     "iopub.status.idle": "2023-08-06T08:38:12.760203Z",
     "shell.execute_reply": "2023-08-06T08:38:12.759844Z",
     "shell.execute_reply.started": "2023-08-06T08:38:12.738581Z"
    }
   },
   "outputs": [],
   "source": [
    "from tqdm.auto import tqdm"
   ]
  },
  {
   "cell_type": "markdown",
   "metadata": {},
   "source": [
    "## Prepare dataloader"
   ]
  },
  {
   "cell_type": "code",
   "execution_count": 5,
   "metadata": {
    "execution": {
     "iopub.execute_input": "2023-08-06T08:38:12.761482Z",
     "iopub.status.busy": "2023-08-06T08:38:12.761298Z",
     "iopub.status.idle": "2023-08-06T08:38:12.778818Z",
     "shell.execute_reply": "2023-08-06T08:38:12.778414Z",
     "shell.execute_reply.started": "2023-08-06T08:38:12.761436Z"
    }
   },
   "outputs": [],
   "source": [
    "from pathlib import Path\n",
    "\n",
    "ROOT_DATA_DIR = Path(\"../data/\")"
   ]
  },
  {
   "cell_type": "code",
   "execution_count": 6,
   "metadata": {
    "execution": {
     "iopub.execute_input": "2023-08-06T08:38:12.779473Z",
     "iopub.status.busy": "2023-08-06T08:38:12.779348Z",
     "iopub.status.idle": "2023-08-06T08:38:14.541557Z",
     "shell.execute_reply": "2023-08-06T08:38:14.541148Z",
     "shell.execute_reply.started": "2023-08-06T08:38:12.779464Z"
    }
   },
   "outputs": [],
   "source": [
    "from collections import defaultdict\n",
    "\n",
    "import torch\n",
    "from pytorch_lightning import Trainer, seed_everything\n",
    "from sklearn.preprocessing import MinMaxScaler\n",
    "from sklearn.utils.class_weight import compute_class_weight\n",
    "from torch import Tensor, nn\n",
    "from torch.utils.data import DataLoader, TensorDataset\n",
    "\n",
    "from src.utils import get_metrics\n",
    "\n",
    "\n",
    "def seed_init_fn(seed=1):\n",
    "    import random\n",
    "\n",
    "    import numpy as np\n",
    "    import torch\n",
    "\n",
    "    np.random.seed(seed)\n",
    "    random.seed(seed)\n",
    "    torch.manual_seed(seed)"
   ]
  },
  {
   "cell_type": "code",
   "execution_count": 14,
   "metadata": {
    "execution": {
     "iopub.execute_input": "2023-08-06T08:38:27.333352Z",
     "iopub.status.busy": "2023-08-06T08:38:27.332733Z",
     "iopub.status.idle": "2023-08-06T08:38:27.403513Z",
     "shell.execute_reply": "2023-08-06T08:38:27.403096Z",
     "shell.execute_reply.started": "2023-08-06T08:38:27.333298Z"
    }
   },
   "outputs": [],
   "source": [
    "def train_loop(dataloader, model, loss_fn, optimizer):\n",
    "    size = len(dataloader.dataset)\n",
    "    model.train()\n",
    "    for batch, (x_batch, y_batch) in enumerate(dataloader):\n",
    "        y_pred = model(x_batch)\n",
    "\n",
    "        loss = loss_fn(y_pred, y_batch)\n",
    "\n",
    "        optimizer.zero_grad()\n",
    "        loss.backward()\n",
    "        optimizer.step()\n",
    "    return res_dict\n",
    "\n",
    "\n",
    "def test_loop(dataloader, model, loss_fn):\n",
    "    res_dict = {}\n",
    "    model.eval()\n",
    "    size = len(dataloader.dataset)\n",
    "    num_batches = len(dataloader)\n",
    "    test_loss, correct = 0, 0\n",
    "\n",
    "    all_y = []\n",
    "    all_y_pred = []\n",
    "    with torch.no_grad():\n",
    "        for x_batch, y_batch in dataloader:\n",
    "            y_pred = model(x_batch)\n",
    "            test_loss += loss_fn(y_pred, y_batch).item()\n",
    "            all_y.append(y_batch)\n",
    "\n",
    "            # convert sigmoid to labels\n",
    "            y_pred = y_pred.reshape(-1)\n",
    "            y_pred = (y_pred > 0.5).int()\n",
    "            all_y_pred.append(y_pred)\n",
    "\n",
    "    test_loss /= num_batches\n",
    "    res_dict[\"loss\"] = test_loss\n",
    "    all_y = torch.cat(all_y)\n",
    "    all_y_pred = torch.cat(all_y_pred)\n",
    "    res_dict = res_dict | get_metrics(y_true=all_y, y_pred=all_y_pred)\n",
    "    return res_dict"
   ]
  },
  {
   "cell_type": "markdown",
   "metadata": {},
   "source": [
    "take only 1 dataset, 1 concrete time series for now..."
   ]
  },
  {
   "cell_type": "code",
   "execution_count": 15,
   "metadata": {
    "execution": {
     "iopub.execute_input": "2023-08-06T08:38:27.667561Z",
     "iopub.status.busy": "2023-08-06T08:38:27.667073Z",
     "iopub.status.idle": "2023-08-06T08:38:27.726556Z",
     "shell.execute_reply": "2023-08-06T08:38:27.726117Z",
     "shell.execute_reply.started": "2023-08-06T08:38:27.667530Z"
    }
   },
   "outputs": [],
   "source": [
    "DATA_DIR = ROOT_DATA_DIR / \"KPI-Anomaly-Detection/Preliminary_dataset\""
   ]
  },
  {
   "cell_type": "code",
   "execution_count": 16,
   "metadata": {
    "execution": {
     "iopub.execute_input": "2023-08-06T08:38:27.852111Z",
     "iopub.status.busy": "2023-08-06T08:38:27.851345Z",
     "iopub.status.idle": "2023-08-06T08:38:28.059204Z",
     "shell.execute_reply": "2023-08-06T08:38:28.058729Z",
     "shell.execute_reply.started": "2023-08-06T08:38:27.852050Z"
    }
   },
   "outputs": [],
   "source": [
    "df = pd.read_parquet(DATA_DIR / \"train.parquet\")\n",
    "df.rename(columns={\"label\": \"target\"}, inplace=True)\n",
    "df = df[df[\"KPI ID\"] == \"02e99bd4f6cfb33f\"].copy()\n",
    "df = df[df.index > 1.49 * 1e9].copy()\n",
    "df = df.query(\"timestamp < 1496538120\").copy()\n",
    "df[\"time\"] = df.index - df.index[0]\n",
    "# df[\"value\"] = df[\"value\"].diff()\n",
    "# df = df.query('stock==1 & day==0 & train==1')\n",
    "# df.value = df.value.pct_change()\n",
    "df.dropna(inplace=True)"
   ]
  },
  {
   "cell_type": "code",
   "execution_count": 17,
   "metadata": {
    "execution": {
     "iopub.execute_input": "2023-08-06T08:38:28.061275Z",
     "iopub.status.busy": "2023-08-06T08:38:28.060993Z",
     "iopub.status.idle": "2023-08-06T08:38:28.098633Z",
     "shell.execute_reply": "2023-08-06T08:38:28.098277Z",
     "shell.execute_reply.started": "2023-08-06T08:38:28.061261Z"
    }
   },
   "outputs": [],
   "source": [
    "def convert_to_windows(x, window_size):\n",
    "    # convert input time series x to\n",
    "    # time series of lags, first window_size observations are dropped\n",
    "    windows = []\n",
    "    for i in range(window_size, len(x)):\n",
    "        w = x[i - window_size : i]\n",
    "        windows.append(w)\n",
    "    windows = np.array(windows)\n",
    "    return windows\n",
    "\n",
    "\n",
    "# TODO: maybe make this a general function...\n",
    "t = df.copy()\n",
    "# # for col in ['value', 'target']:\n",
    "# for col in [\"value\"]:\n",
    "#     for lag in range(0, window_size):\n",
    "#         t[f\"lag_{col}_{lag}\"] = t[col].shift(lag)\n",
    "# t = t.dropna()\n",
    "# tr_cols = [c for c in t.columns if \"lag\" in c]\n",
    "# # remove target from train columns\n",
    "# try:\n",
    "#     tr_cols.pop(tr_cols.index(\"lag_target_0\"))\n",
    "# except:\n",
    "#     pass\n",
    "# df = t"
   ]
  },
  {
   "cell_type": "code",
   "execution_count": 18,
   "metadata": {
    "execution": {
     "iopub.execute_input": "2023-08-06T08:38:28.275400Z",
     "iopub.status.busy": "2023-08-06T08:38:28.274693Z",
     "iopub.status.idle": "2023-08-06T08:38:28.353217Z",
     "shell.execute_reply": "2023-08-06T08:38:28.352870Z",
     "shell.execute_reply.started": "2023-08-06T08:38:28.275367Z"
    }
   },
   "outputs": [],
   "source": [
    "df[\"value_diff\"] = df[\"value\"].diff()\n",
    "tr_cols = [\"value\", \"value_diff\"]\n",
    "df = df.dropna()"
   ]
  },
  {
   "cell_type": "code",
   "execution_count": 19,
   "metadata": {
    "execution": {
     "iopub.execute_input": "2023-08-06T08:38:28.553237Z",
     "iopub.status.busy": "2023-08-06T08:38:28.552772Z",
     "iopub.status.idle": "2023-08-06T08:38:28.609670Z",
     "shell.execute_reply": "2023-08-06T08:38:28.609177Z",
     "shell.execute_reply.started": "2023-08-06T08:38:28.553198Z"
    }
   },
   "outputs": [],
   "source": [
    "# fig, axs = plt.subplots(1, 2, figsize=(8, 4))\n",
    "# plt.subplot(1, 2, 1)\n",
    "# plt.plot(df.value.diff())\n",
    "# plt.subplot(1, 2, 2)\n",
    "# plt.hist(df.value)\n",
    "# plt.yscale(\"log\")\n",
    "# plt.tight_layout();"
   ]
  },
  {
   "cell_type": "code",
   "execution_count": 20,
   "metadata": {
    "execution": {
     "iopub.execute_input": "2023-08-06T08:38:28.887817Z",
     "iopub.status.busy": "2023-08-06T08:38:28.887425Z",
     "iopub.status.idle": "2023-08-06T08:38:28.948461Z",
     "shell.execute_reply": "2023-08-06T08:38:28.948058Z",
     "shell.execute_reply.started": "2023-08-06T08:38:28.887792Z"
    }
   },
   "outputs": [],
   "source": [
    "window_size = 8\n",
    "train_proportion = 0.9\n",
    "batch_size = 16\n",
    "learning_rate = 1e-5\n",
    "epochs = 30"
   ]
  },
  {
   "cell_type": "code",
   "execution_count": 21,
   "metadata": {
    "execution": {
     "iopub.execute_input": "2023-08-06T08:38:29.126700Z",
     "iopub.status.busy": "2023-08-06T08:38:29.126228Z",
     "iopub.status.idle": "2023-08-06T08:38:29.211299Z",
     "shell.execute_reply": "2023-08-06T08:38:29.210937Z",
     "shell.execute_reply.started": "2023-08-06T08:38:29.126616Z"
    }
   },
   "outputs": [],
   "source": [
    "x = df[tr_cols].values.copy()\n",
    "scaler = MinMaxScaler()\n",
    "x = scaler.fit_transform(x)\n",
    "# x_scaled = x\n",
    "x = convert_to_windows(x, window_size)\n",
    "y = df[\"target\"].values\n",
    "y = y[window_size:]\n",
    "\n",
    "# class_weights = compute_class_weight('balanced', classes=[0, 1], y=y.ravel())\n",
    "# class_weights = class_weights / class_weights.sum()\n",
    "\n",
    "x = torch.Tensor(x)\n",
    "y = torch.Tensor(y)\n",
    "\n",
    "train_idx = int(len(x) * train_proportion)\n",
    "# train_idx = int(1.495 * 1e9)\n",
    "\n",
    "tr, va = x[:train_idx], x[train_idx:]\n",
    "# x = np.hstack([x, y.reshape(-1, 1)])\n",
    "# y = y.reshape(-1, 1)\n",
    "ytr, yva = y[:train_idx], y[train_idx:]\n",
    "tr_dataset = TensorDataset(tr, ytr)\n",
    "va_dataset = TensorDataset(va, yva)\n",
    "\n",
    "# weights = torch.where(ytr.ravel() == 0, class_weights[0], class_weights[1])\n",
    "\n",
    "# TODO: maybe add test dataset\n",
    "\n",
    "# debug print\n",
    "# print(ytr.mean(), yva.mean())"
   ]
  },
  {
   "cell_type": "code",
   "execution_count": 22,
   "metadata": {
    "execution": {
     "iopub.execute_input": "2023-08-06T08:38:30.866176Z",
     "iopub.status.busy": "2023-08-06T08:38:30.865555Z",
     "iopub.status.idle": "2023-08-06T08:38:31.872642Z",
     "shell.execute_reply": "2023-08-06T08:38:31.844382Z",
     "shell.execute_reply.started": "2023-08-06T08:38:30.866135Z"
    }
   },
   "outputs": [
    {
     "data": {
      "image/png": "[encoded data removed]",
      "text/plain": [
       "<Figure size 800x400 with 2 Axes>"
      ]
     },
     "metadata": {},
     "output_type": "display_data"
    }
   ],
   "source": [
    "fig, axs = plt.subplots(1, 2, figsize=(8, 4))\n",
    "plt.sca(axs[0])\n",
    "plt.plot(tr[:, 0, 0])\n",
    "plt.sca(axs[1])\n",
    "plt.plot(tr[:, 0, 1])\n",
    "fig.tight_layout();"
   ]
  },
  {
   "cell_type": "markdown",
   "metadata": {},
   "source": [
    "## Evaluate models"
   ]
  },
  {
   "cell_type": "code",
   "execution_count": 52,
   "metadata": {
    "execution": {
     "iopub.execute_input": "2023-08-06T09:43:31.313506Z",
     "iopub.status.busy": "2023-08-06T09:43:31.312988Z",
     "iopub.status.idle": "2023-08-06T09:43:31.385620Z",
     "shell.execute_reply": "2023-08-06T09:43:31.385220Z",
     "shell.execute_reply.started": "2023-08-06T09:43:31.313472Z"
    }
   },
   "outputs": [],
   "source": [
    "from src.transformer import TransformerAnomalyDetector, TransformerEncoder"
   ]
  },
  {
   "cell_type": "markdown",
   "metadata": {},
   "source": [
    "### Scaled Dot-Product"
   ]
  },
  {
   "cell_type": "code",
   "execution_count": 24,
   "metadata": {
    "execution": {
     "iopub.execute_input": "2023-08-06T08:39:03.289038Z",
     "iopub.status.busy": "2023-08-06T08:39:03.288738Z",
     "iopub.status.idle": "2023-08-06T08:39:03.332782Z",
     "shell.execute_reply": "2023-08-06T08:39:03.332456Z",
     "shell.execute_reply.started": "2023-08-06T08:39:03.289029Z"
    }
   },
   "outputs": [
    {
     "name": "stderr",
     "output_type": "stream",
     "text": [
      "Global seed set to 1\n"
     ]
    }
   ],
   "source": [
    "seed_everything(1)\n",
    "\n",
    "# TODO: sampling might be useful for some datasets\n",
    "# sampler = torch.utils.data.sampler.WeightedRandomSampler(weights, len(weights))\n",
    "# tr_dl = DataLoader(tr_dataset, batch_size=batch_size, shuffle=False, sampler=sampler)\n",
    "\n",
    "tr_dl = DataLoader(tr_dataset, batch_size=batch_size, shuffle=False)\n",
    "va_dl = DataLoader(va_dataset, batch_size=batch_size, shuffle=True)"
   ]
  },
  {
   "cell_type": "markdown",
   "metadata": {},
   "source": [
    "> **TODO**: add positional enocding"
   ]
  },
  {
   "cell_type": "markdown",
   "metadata": {},
   "source": [
    "See the code for Anomaly BERT -> implement sequences windows for tensors -> unsqueeze before supplying to the model"
   ]
  },
  {
   "cell_type": "code",
   "execution_count": 41,
   "metadata": {
    "execution": {
     "iopub.execute_input": "2023-08-06T09:19:24.114844Z",
     "iopub.status.busy": "2023-08-06T09:19:24.114203Z",
     "iopub.status.idle": "2023-08-06T09:19:24.203437Z",
     "shell.execute_reply": "2023-08-06T09:19:24.203032Z",
     "shell.execute_reply.started": "2023-08-06T09:19:24.114784Z"
    }
   },
   "outputs": [],
   "source": [
    "input_dim = len(tr_cols)\n",
    "out_dim = 1\n",
    "\n",
    "num_layers = 2\n",
    "block_input_dim = 16\n",
    "block_embed_dim = block_input_dim  # implicitly set in the block\n",
    "block_num_heads = 4\n",
    "block_dim_feedforward = 2 * block_input_dim\n",
    "block_args = {\n",
    "    \"input_dim\": block_input_dim,\n",
    "    \"num_heads\": block_num_heads,\n",
    "    \"dim_feedforward\": block_dim_feedforward,\n",
    "}\n",
    "\n",
    "tf_enc = TransformerEncoder(num_layers=num_layers, **block_args)\n",
    "# xx = torch.rand(batch_size, window_size, input_dim)\n",
    "\n",
    "# front_linear = nn.Linear(input_dim, block_input_dim)\n",
    "# last_linear = nn.Linear(block_input_dim, out_dim)\n",
    "# xx = front_linear(xx)\n",
    "# xx = tf_enc(xx)\n",
    "# last_linear(xx).shape"
   ]
  },
  {
   "cell_type": "code",
   "execution_count": 63,
   "metadata": {
    "execution": {
     "iopub.execute_input": "2023-08-06T09:44:55.759897Z",
     "iopub.status.busy": "2023-08-06T09:44:55.759237Z",
     "iopub.status.idle": "2023-08-06T09:44:55.832499Z",
     "shell.execute_reply": "2023-08-06T09:44:55.832063Z",
     "shell.execute_reply.started": "2023-08-06T09:44:55.759836Z"
    }
   },
   "outputs": [],
   "source": [
    "window_size = 8\n",
    "train_proportion = 0.9\n",
    "batch_size = 16\n",
    "epochs = 25"
   ]
  },
  {
   "cell_type": "code",
   "execution_count": 64,
   "metadata": {
    "execution": {
     "iopub.execute_input": "2023-08-06T09:44:56.184671Z",
     "iopub.status.busy": "2023-08-06T09:44:56.184078Z",
     "iopub.status.idle": "2023-08-06T09:44:56.260215Z",
     "shell.execute_reply": "2023-08-06T09:44:56.259863Z",
     "shell.execute_reply.started": "2023-08-06T09:44:56.184638Z"
    }
   },
   "outputs": [
    {
     "name": "stderr",
     "output_type": "stream",
     "text": [
      "Global seed set to 1\n"
     ]
    }
   ],
   "source": [
    "seed_everything(1)\n",
    "\n",
    "input_dim = len(tr_cols)\n",
    "\n",
    "block_args = {\n",
    "    \"input_dim\": 16,\n",
    "    \"num_heads\": 4,\n",
    "    \"dim_feedforward\": 2 * 16,\n",
    "    \"num_layers\": 2,\n",
    "}\n",
    "positional_encoder_args = {\n",
    "    \"enable\": False,\n",
    "    \"max_len\": window_size,\n",
    "}\n",
    "\n",
    "# convert the above params to a dict\n",
    "model_params = {\n",
    "    \"input_dim\": input_dim,\n",
    "    \"block_input_dim\": block_args[\"input_dim\"],\n",
    "    \"block_args\": block_args,\n",
    "    \"num_layers\": block_args[\"num_layers\"],\n",
    "    \"positional_encoder_args\": positional_encoder_args,\n",
    "    \"learning_rate\": 1e-5,\n",
    "    \"dropout\": 0.0,\n",
    "}\n",
    "\n",
    "model = TransformerAnomalyDetector(\n",
    "    **model_params,\n",
    ")"
   ]
  },
  {
   "cell_type": "code",
   "execution_count": 65,
   "metadata": {
    "execution": {
     "iopub.execute_input": "2023-08-06T09:44:56.573156Z",
     "iopub.status.busy": "2023-08-06T09:44:56.572600Z",
     "iopub.status.idle": "2023-08-06T09:44:56.643431Z",
     "shell.execute_reply": "2023-08-06T09:44:56.642581Z",
     "shell.execute_reply.started": "2023-08-06T09:44:56.573121Z"
    }
   },
   "outputs": [],
   "source": [
    "# xx = torch.rand(batch_size, window_size, input_dim)\n",
    "# print(xx.shape)\n",
    "# model(xx)"
   ]
  },
  {
   "cell_type": "code",
   "execution_count": 66,
   "metadata": {
    "execution": {
     "iopub.execute_input": "2023-08-06T09:44:57.233412Z",
     "iopub.status.busy": "2023-08-06T09:44:57.232764Z",
     "iopub.status.idle": "2023-08-06T09:44:57.305067Z",
     "shell.execute_reply": "2023-08-06T09:44:57.304645Z",
     "shell.execute_reply.started": "2023-08-06T09:44:57.233360Z"
    }
   },
   "outputs": [],
   "source": [
    "# loss_fn = nn.BCELoss()\n",
    "loss_fn = nn.BCEWithLogitsLoss()\n",
    "optimizer = torch.optim.Adam(model.parameters(), lr=learning_rate)"
   ]
  },
  {
   "cell_type": "code",
   "execution_count": 69,
   "metadata": {
    "execution": {
     "iopub.execute_input": "2023-08-06T09:49:19.716776Z",
     "iopub.status.busy": "2023-08-06T09:49:19.715901Z",
     "iopub.status.idle": "2023-08-06T09:51:59.592195Z",
     "shell.execute_reply": "2023-08-06T09:51:59.591856Z",
     "shell.execute_reply.started": "2023-08-06T09:49:19.716699Z"
    }
   },
   "outputs": [
    {
     "name": "stderr",
     "output_type": "stream",
     "text": [
      "Global seed set to 1\n"
     ]
    },
    {
     "data": {
      "application/vnd.jupyter.widget-view+json": {
       "model_id": "22b715f627c44c48815fc40390f3c6b7",
       "version_major": 2,
       "version_minor": 0
      },
      "text/plain": [
       "  0%|          | 0/25 [00:00<?, ?it/s]"
      ]
     },
     "metadata": {},
     "output_type": "display_data"
    },
    {
     "name": "stdout",
     "output_type": "stream",
     "text": [
      "0\n",
      "train {'loss': 0.14725280885229083, 'precision': 0.0, 'recall': 0.0, 'auc': 0.5, 'f1': 0.0}\n",
      "val {'loss': 0.28004794747046996, 'precision': 0.0, 'recall': 0.0, 'auc': 0.5, 'f1': 0.0}\n",
      "\n",
      "1\n",
      "train {'loss': 0.14597145549086504, 'precision': 0.0, 'recall': 0.0, 'auc': 0.5, 'f1': 0.0}\n",
      "val {'loss': 0.2772395965736039, 'precision': 0.0, 'recall': 0.0, 'auc': 0.5, 'f1': 0.0}\n",
      "\n",
      "2\n",
      "train {'loss': 0.14459620328803918, 'precision': 0.0, 'recall': 0.0, 'auc': 0.5, 'f1': 0.0}\n",
      "val {'loss': 0.27484904204677674, 'precision': 0.0, 'recall': 0.0, 'auc': 0.5, 'f1': 0.0}\n",
      "\n",
      "3\n",
      "train {'loss': 0.14308573118130966, 'precision': 0.0, 'recall': 0.0, 'auc': 0.5, 'f1': 0.0}\n",
      "val {'loss': 0.27215505089239567, 'precision': 0.0, 'recall': 0.0, 'auc': 0.5, 'f1': 0.0}\n",
      "\n",
      "4\n",
      "train {'loss': 0.1414111102492974, 'precision': 0.0, 'recall': 0.0, 'auc': 0.5, 'f1': 0.0}\n",
      "val {'loss': 0.2695851412784193, 'precision': 0.0, 'recall': 0.0, 'auc': 0.5, 'f1': 0.0}\n",
      "\n",
      "5\n",
      "train {'loss': 0.13955908123825625, 'precision': 0.0, 'recall': 0.0, 'auc': 0.5, 'f1': 0.0}\n",
      "val {'loss': 0.2656884750869778, 'precision': 0.0, 'recall': 0.0, 'auc': 0.5, 'f1': 0.0}\n",
      "\n",
      "6\n",
      "train {'loss': 0.137463595035508, 'precision': 0.0, 'recall': 0.0, 'auc': 0.5, 'f1': 0.0}\n",
      "val {'loss': 0.26167773646126496, 'precision': 0.0, 'recall': 0.0, 'auc': 0.5, 'f1': 0.0}\n",
      "\n",
      "7\n",
      "train {'loss': 0.13510281922240108, 'precision': 0.0, 'recall': 0.0, 'auc': 0.5, 'f1': 0.0}\n",
      "val {'loss': 0.2581324838421906, 'precision': 0.0, 'recall': 0.0, 'auc': 0.5, 'f1': 0.0}\n",
      "\n",
      "8\n",
      "train {'loss': 0.13241461828399476, 'precision': 0.0, 'recall': 0.0, 'auc': 0.5, 'f1': 0.0}\n",
      "val {'loss': 0.25212117676908, 'precision': 0.0, 'recall': 0.0, 'auc': 0.5, 'f1': 0.0}\n",
      "\n",
      "9\n",
      "train {'loss': 0.1293729767181954, 'precision': 0.0, 'recall': 0.0, 'auc': 0.5, 'f1': 0.0}\n",
      "val {'loss': 0.24570544311757556, 'precision': 0.0, 'recall': 0.0, 'auc': 0.5, 'f1': 0.0}\n",
      "\n",
      "10\n",
      "train {'loss': 0.1259245139460472, 'precision': 0.0, 'recall': 0.0, 'auc': 0.5, 'f1': 0.0}\n",
      "val {'loss': 0.2382101212913023, 'precision': 0.0, 'recall': 0.0, 'auc': 0.5, 'f1': 0.0}\n",
      "\n",
      "11\n",
      "train {'loss': 0.12207102832578938, 'precision': 1.0, 'recall': 0.001948051948051948, 'auc': 0.500974025974026, 'f1': 0.0038885288399222295}\n",
      "val {'loss': 0.23003241282174064, 'precision': 0.0, 'recall': 0.0, 'auc': 0.5, 'f1': 0.0}\n",
      "\n",
      "12\n",
      "train {'loss': 0.11786035542478236, 'precision': 1.0, 'recall': 0.005194805194805195, 'auc': 0.5025974025974026, 'f1': 0.0103359173126615}\n",
      "val {'loss': 0.22096859577953612, 'precision': 0.0, 'recall': 0.0, 'auc': 0.5, 'f1': 0.0}\n",
      "\n",
      "13\n",
      "train {'loss': 0.11337110898425402, 'precision': 0.9047619047619048, 'recall': 0.012337662337662338, 'auc': 0.506144006801232, 'f1': 0.024343369634849458}\n",
      "val {'loss': 0.21179244548235973, 'precision': 0.0, 'recall': 0.0, 'auc': 0.5, 'f1': 0.0}\n",
      "\n",
      "14\n",
      "train {'loss': 0.10867893900800647, 'precision': 0.82, 'recall': 0.026623376623376622, 'auc': 0.5131999786574918, 'f1': 0.05157232704402515}\n",
      "val {'loss': 0.2007669991720788, 'precision': 1.0, 'recall': 0.037333333333333336, 'auc': 0.5186666666666667, 'f1': 0.07197943444730077}\n",
      "\n",
      "15\n",
      "train {'loss': 0.10395094372621398, 'precision': 0.8850574712643678, 'recall': 0.05, 'auc': 0.5248758781620039, 'f1': 0.09465273509526737}\n",
      "val {'loss': 0.19033245737840424, 'precision': 1.0, 'recall': 0.064, 'auc': 0.532, 'f1': 0.12030075187969924}\n",
      "\n",
      "16\n",
      "train {'loss': 0.09949162526465183, 'precision': 0.9193548387096774, 'recall': 0.07402597402597402, 'auc': 0.5368888651749909, 'f1': 0.13701923076923078}\n",
      "val {'loss': 0.18072915361086836, 'precision': 1.0, 'recall': 0.112, 'auc': 0.556, 'f1': 0.2014388489208633}\n",
      "\n",
      "17\n",
      "train {'loss': 0.09538058631119262, 'precision': 0.9471153846153846, 'recall': 0.1279220779220779, 'auc': 0.5638245049392432, 'f1': 0.22540045766590386}\n",
      "val {'loss': 0.17144536222827292, 'precision': 1.0, 'recall': 0.144, 'auc': 0.572, 'f1': 0.2517482517482518}\n",
      "\n",
      "18\n",
      "train {'loss': 0.09169835830036074, 'precision': 0.9396825396825397, 'recall': 0.19220779220779222, 'auc': 0.5958680646117034, 'f1': 0.31913746630727763}\n",
      "val {'loss': 0.16356523436753406, 'precision': 1.0, 'recall': 0.18933333333333333, 'auc': 0.5946666666666667, 'f1': 0.3183856502242152}\n",
      "\n",
      "19\n",
      "train {'loss': 0.08848907283059083, 'precision': 0.9318734793187348, 'recall': 0.2487012987012987, 'auc': 0.6240031082042601, 'f1': 0.3926191696565864}\n",
      "val {'loss': 0.15681722266055464, 'precision': 1.0, 'recall': 0.2613333333333333, 'auc': 0.6306666666666667, 'f1': 0.41437632135306546}\n",
      "\n",
      "20\n",
      "train {'loss': 0.08577280158074409, 'precision': 0.9302325581395349, 'recall': 0.3116883116883117, 'auc': 0.6553973172273697, 'f1': 0.46692607003891046}\n",
      "val {'loss': 0.15113398133812286, 'precision': 1.0, 'recall': 0.3253333333333333, 'auc': 0.6626666666666666, 'f1': 0.4909456740442656}\n",
      "\n",
      "21\n",
      "train {'loss': 0.08352695360538202, 'precision': 0.9337979094076655, 'recall': 0.34805194805194806, 'auc': 0.6735543110415886, 'f1': 0.5070955534531694}\n",
      "val {'loss': 0.14644582073213822, 'precision': 0.9927536231884058, 'recall': 0.36533333333333334, 'auc': 0.6825496528590373, 'f1': 0.5341130604288499}\n",
      "\n",
      "22\n",
      "train {'loss': 0.08167935106062488, 'precision': 0.9242902208201893, 'recall': 0.38051948051948054, 'auc': 0.6896639554373586, 'f1': 0.5390984360625575}\n",
      "val {'loss': 0.14329413717926265, 'precision': 0.96, 'recall': 0.384, 'auc': 0.6912979171542242, 'f1': 0.5485714285714286}\n",
      "\n",
      "23\n",
      "train {'loss': 0.08016595318336282, 'precision': 0.9258202567760342, 'recall': 0.42142857142857143, 'auc': 0.7100688521567056, 'f1': 0.5792057117358322}\n",
      "val {'loss': 0.1397258243955595, 'precision': 0.9595375722543352, 'recall': 0.44266666666666665, 'auc': 0.7205142366799283, 'f1': 0.6058394160583942}\n",
      "\n",
      "24\n",
      "train {'loss': 0.0789362400791208, 'precision': 0.9222520107238605, 'recall': 0.44675324675324674, 'auc': 0.7226567167162455, 'f1': 0.6019247594050744}\n",
      "val {'loss': 0.1364423804100334, 'precision': 0.9629629629629629, 'recall': 0.48533333333333334, 'auc': 0.7418475700132616, 'f1': 0.6453900709219859}\n",
      "\n"
     ]
    }
   ],
   "source": [
    "seed_everything(1)\n",
    "\n",
    "res_dict = {}\n",
    "res_dict[\"tr_metrics\"] = []\n",
    "res_dict[\"va_metrics\"] = []\n",
    "verbose = True\n",
    "for epoch in tqdm(range(epochs)):\n",
    "    if verbose:\n",
    "        print(epoch)\n",
    "    _ = train_loop(\n",
    "        dataloader=tr_dl,\n",
    "        model=model,\n",
    "        loss_fn=loss_fn,\n",
    "        optimizer=optimizer,\n",
    "    )\n",
    "    curr_metrics = test_loop(dataloader=tr_dl, model=model, loss_fn=loss_fn)\n",
    "    if verbose:\n",
    "        print(\"train\", curr_metrics)\n",
    "    res_dict[\"tr_metrics\"].append(curr_metrics)\n",
    "    curr_metrics = test_loop(dataloader=va_dl, model=model, loss_fn=loss_fn)\n",
    "    if verbose:\n",
    "        print(\"val\", curr_metrics)\n",
    "    res_dict[\"va_metrics\"].append(curr_metrics)\n",
    "\n",
    "    if verbose:\n",
    "        print()  # empty line\n",
    "\n",
    "res_dict[\"tr_metrics\"] = pd.DataFrame(res_dict[\"tr_metrics\"])\n",
    "res_dict[\"va_metrics\"] = pd.DataFrame(res_dict[\"va_metrics\"])"
   ]
  },
  {
   "cell_type": "code",
   "execution_count": 70,
   "metadata": {
    "execution": {
     "iopub.execute_input": "2023-08-06T09:51:59.593094Z",
     "iopub.status.busy": "2023-08-06T09:51:59.592962Z",
     "iopub.status.idle": "2023-08-06T09:51:59.990486Z",
     "shell.execute_reply": "2023-08-06T09:51:59.990160Z",
     "shell.execute_reply.started": "2023-08-06T09:51:59.593084Z"
    }
   },
   "outputs": [
    {
     "data": {
      "image/png": "[encoded data removed]",
      "text/plain": [
       "<Figure size 800x800 with 4 Axes>"
      ]
     },
     "metadata": {},
     "output_type": "display_data"
    }
   ],
   "source": [
    "fig, axs = plt.subplots(2, 2, figsize=(8, 8))\n",
    "\n",
    "plt.sca(axs[0, 0])\n",
    "plt.plot(res_dict[\"tr_metrics\"][\"loss\"], label=\"Train\")\n",
    "plt.plot(res_dict[\"va_metrics\"][\"loss\"], label=\"Validation\")\n",
    "plt.title(\"Loss\")\n",
    "plt.xlabel(\"Epoch\")\n",
    "plt.legend()\n",
    "plt.sca(axs[0, 1])\n",
    "plt.plot(res_dict[\"tr_metrics\"][\"f1\"], label=\"Train\")\n",
    "plt.plot(res_dict[\"va_metrics\"][\"f1\"], label=\"Validation\")\n",
    "plt.title(\"F1\")\n",
    "plt.xlabel(\"Epoch\")\n",
    "plt.legend()\n",
    "plt.sca(axs[1, 0])\n",
    "plt.plot(res_dict[\"tr_metrics\"][\"precision\"], label=\"Train\")\n",
    "plt.plot(res_dict[\"va_metrics\"][\"precision\"], label=\"Validation\")\n",
    "plt.title(\"Precision\")\n",
    "plt.xlabel(\"Epoch\")\n",
    "plt.legend()\n",
    "plt.sca(axs[1, 1])\n",
    "plt.plot(res_dict[\"tr_metrics\"][\"recall\"], label=\"Train\")\n",
    "plt.plot(res_dict[\"va_metrics\"][\"recall\"], label=\"Validation\")\n",
    "plt.title(\"Recall\")\n",
    "plt.xlabel(\"Epoch\")\n",
    "plt.legend()\n",
    "fig.tight_layout();"
   ]
  },
  {
   "cell_type": "markdown",
   "metadata": {
    "execution": {
     "iopub.execute_input": "2023-07-31T16:23:56.909701Z",
     "iopub.status.busy": "2023-07-31T16:23:56.908105Z",
     "iopub.status.idle": "2023-07-31T16:23:56.967905Z",
     "shell.execute_reply": "2023-07-31T16:23:56.967481Z",
     "shell.execute_reply.started": "2023-07-31T16:23:56.909650Z"
    }
   },
   "source": [
    "## Linear attention"
   ]
  },
  {
   "cell_type": "markdown",
   "metadata": {},
   "source": [
    "implementation: https://github.com/idiap/fast-transformers\n",
    "\n",
    "paper: https://arxiv.org/pdf/2006.16236.pdf"
   ]
  },
  {
   "cell_type": "code",
   "execution_count": 272,
   "metadata": {
    "execution": {
     "iopub.execute_input": "2023-08-05T19:57:22.585780Z",
     "iopub.status.busy": "2023-08-05T19:57:22.584953Z",
     "iopub.status.idle": "2023-08-05T19:57:23.431185Z",
     "shell.execute_reply": "2023-08-05T19:57:23.430696Z",
     "shell.execute_reply.started": "2023-08-05T19:57:22.585717Z"
    }
   },
   "outputs": [],
   "source": [
    "from src.transformer import LinearTransformer"
   ]
  },
  {
   "cell_type": "code",
   "execution_count": 273,
   "metadata": {
    "execution": {
     "iopub.execute_input": "2023-08-05T19:57:23.432459Z",
     "iopub.status.busy": "2023-08-05T19:57:23.432340Z",
     "iopub.status.idle": "2023-08-05T19:57:23.462619Z",
     "shell.execute_reply": "2023-08-05T19:57:23.462179Z",
     "shell.execute_reply.started": "2023-08-05T19:57:23.432450Z"
    }
   },
   "outputs": [],
   "source": [
    "window_size = 8\n",
    "train_proportion = 0.9\n",
    "batch_size = 16\n",
    "learning_rate = 1e-3 / 2\n",
    "epochs = 30\n",
    "\n",
    "input_dim = len(tr_cols)\n",
    "embed_dim = 8\n",
    "num_heads = 1"
   ]
  },
  {
   "cell_type": "code",
   "execution_count": 283,
   "metadata": {
    "execution": {
     "iopub.execute_input": "2023-08-05T20:12:36.414517Z",
     "iopub.status.busy": "2023-08-05T20:12:36.413862Z",
     "iopub.status.idle": "2023-08-05T20:12:36.511842Z",
     "shell.execute_reply": "2023-08-05T20:12:36.511391Z",
     "shell.execute_reply.started": "2023-08-05T20:12:36.414475Z"
    }
   },
   "outputs": [
    {
     "name": "stderr",
     "output_type": "stream",
     "text": [
      "Global seed set to 1\n"
     ]
    }
   ],
   "source": [
    "seed_everything(1)\n",
    "\n",
    "# TODO: sampling might be useful for some datasets\n",
    "# sampler = torch.utils.data.sampler.WeightedRandomSampler(weights, len(weights))\n",
    "# tr_dl = DataLoader(tr_dataset, batch_size=batch_size, shuffle=False, sampler=sampler)\n",
    "\n",
    "tr_dl = DataLoader(tr_dataset, batch_size=batch_size, shuffle=False)\n",
    "va_dl = DataLoader(va_dataset, batch_size=batch_size, shuffle=True)"
   ]
  },
  {
   "cell_type": "code",
   "execution_count": 284,
   "metadata": {
    "execution": {
     "iopub.execute_input": "2023-08-05T20:12:36.644605Z",
     "iopub.status.busy": "2023-08-05T20:12:36.644078Z",
     "iopub.status.idle": "2023-08-05T20:12:36.711016Z",
     "shell.execute_reply": "2023-08-05T20:12:36.710665Z",
     "shell.execute_reply.started": "2023-08-05T20:12:36.644571Z"
    }
   },
   "outputs": [
    {
     "name": "stderr",
     "output_type": "stream",
     "text": [
      "Global seed set to 1\n"
     ]
    }
   ],
   "source": [
    "seed_everything(1)\n",
    "model = LinearTransformer(input_dim=input_dim, num_heads=num_heads, embed_dim=embed_dim)"
   ]
  },
  {
   "cell_type": "code",
   "execution_count": 276,
   "metadata": {
    "execution": {
     "iopub.execute_input": "2023-08-05T19:57:23.522469Z",
     "iopub.status.busy": "2023-08-05T19:57:23.522364Z",
     "iopub.status.idle": "2023-08-05T19:57:23.554501Z",
     "shell.execute_reply": "2023-08-05T19:57:23.554143Z",
     "shell.execute_reply.started": "2023-08-05T19:57:23.522458Z"
    }
   },
   "outputs": [
    {
     "data": {
      "text/plain": [
       "LinearTransformer(\n",
       "  (linear_transformer): TransformerEncoder(\n",
       "    (layers): ModuleList(\n",
       "      (0): TransformerEncoderLayer(\n",
       "        (attention): AttentionLayer(\n",
       "          (inner_attention): LinearAttention(\n",
       "            (feature_map): ActivationFunctionFeatureMap()\n",
       "          )\n",
       "          (query_projection): Linear(in_features=8, out_features=8, bias=True)\n",
       "          (key_projection): Linear(in_features=8, out_features=8, bias=True)\n",
       "          (value_projection): Linear(in_features=8, out_features=8, bias=True)\n",
       "          (out_projection): Linear(in_features=8, out_features=8, bias=True)\n",
       "        )\n",
       "        (linear1): Linear(in_features=8, out_features=8, bias=True)\n",
       "        (linear2): Linear(in_features=8, out_features=8, bias=True)\n",
       "        (norm1): LayerNorm((8,), eps=1e-05, elementwise_affine=True)\n",
       "        (norm2): LayerNorm((8,), eps=1e-05, elementwise_affine=True)\n",
       "        (dropout): Dropout(p=0.1, inplace=False)\n",
       "      )\n",
       "    )\n",
       "    (norm): LayerNorm((8,), eps=1e-05, elementwise_affine=True)\n",
       "  )\n",
       "  (fc_input): Linear(in_features=2, out_features=8, bias=True)\n",
       "  (fc): Linear(in_features=8, out_features=1, bias=True)\n",
       ")"
      ]
     },
     "execution_count": 276,
     "metadata": {},
     "output_type": "execute_result"
    }
   ],
   "source": [
    "model"
   ]
  },
  {
   "cell_type": "code",
   "execution_count": 277,
   "metadata": {
    "execution": {
     "iopub.execute_input": "2023-08-05T19:57:23.596700Z",
     "iopub.status.busy": "2023-08-05T19:57:23.596506Z",
     "iopub.status.idle": "2023-08-05T19:57:23.651891Z",
     "shell.execute_reply": "2023-08-05T19:57:23.651503Z",
     "shell.execute_reply.started": "2023-08-05T19:57:23.596686Z"
    }
   },
   "outputs": [],
   "source": [
    "# loss_fn = nn.BCELoss()\n",
    "loss_fn = nn.BCEWithLogitsLoss()\n",
    "optimizer = torch.optim.Adam(model.parameters(), lr=learning_rate)"
   ]
  },
  {
   "cell_type": "code",
   "execution_count": 278,
   "metadata": {
    "execution": {
     "iopub.execute_input": "2023-08-05T19:57:24.327132Z",
     "iopub.status.busy": "2023-08-05T19:57:24.326665Z",
     "iopub.status.idle": "2023-08-05T19:59:57.772439Z",
     "shell.execute_reply": "2023-08-05T19:59:57.772066Z",
     "shell.execute_reply.started": "2023-08-05T19:57:24.327091Z"
    }
   },
   "outputs": [
    {
     "data": {
      "application/vnd.jupyter.widget-view+json": {
       "model_id": "d2ab49a6925f42ee9477fbae44643a78",
       "version_major": 2,
       "version_minor": 0
      },
      "text/plain": [
       "  0%|          | 0/30 [00:00<?, ?it/s]"
      ]
     },
     "metadata": {},
     "output_type": "display_data"
    }
   ],
   "source": [
    "seed_everything(1)\n",
    "\n",
    "res_dict = {}\n",
    "res_dict[\"tr_metrics\"] = []\n",
    "res_dict[\"va_metrics\"] = []\n",
    "verbose = True\n",
    "for epoch in tqdm(range(epochs)):\n",
    "    if verbose:\n",
    "        print(epoch)\n",
    "    _ = train_loop(\n",
    "        dataloader=tr_dl,\n",
    "        model=model,\n",
    "        loss_fn=loss_fn,\n",
    "        optimizer=optimizer,\n",
    "    )\n",
    "    curr_metrics = test_loop(dataloader=tr_dl, model=model, loss_fn=loss_fn)\n",
    "    if verbose:\n",
    "        print(\"train\", curr_metrics)\n",
    "    res_dict[\"tr_metrics\"].append(curr_metrics)\n",
    "    curr_metrics = test_loop(dataloader=va_dl, model=model, loss_fn=loss_fn)\n",
    "    if verbose:\n",
    "        print(\"val\", curr_metrics)\n",
    "    res_dict[\"va_metrics\"].append(curr_metrics)\n",
    "\n",
    "    if verbose:\n",
    "        print()  # empty line\n",
    "\n",
    "res_dict[\"tr_metrics\"] = pd.DataFrame(res_dict[\"tr_metrics\"])\n",
    "res_dict[\"va_metrics\"] = pd.DataFrame(res_dict[\"va_metrics\"])"
   ]
  },
  {
   "cell_type": "code",
   "execution_count": 279,
   "metadata": {
    "execution": {
     "iopub.execute_input": "2023-08-05T20:01:14.704498Z",
     "iopub.status.busy": "2023-08-05T20:01:14.704009Z",
     "iopub.status.idle": "2023-08-05T20:01:15.094751Z",
     "shell.execute_reply": "2023-08-05T20:01:15.094426Z",
     "shell.execute_reply.started": "2023-08-05T20:01:14.704472Z"
    }
   },
   "outputs": [
    {
     "data": {
      "image/png": "[encoded data removed]",
      "text/plain": [
       "<Figure size 800x800 with 4 Axes>"
      ]
     },
     "metadata": {},
     "output_type": "display_data"
    }
   ],
   "source": [
    "fig, axs = plt.subplots(2, 2, figsize=(8, 8))\n",
    "\n",
    "plt.sca(axs[0, 0])\n",
    "plt.plot(res_dict[\"tr_metrics\"][\"loss\"], label=\"Train\")\n",
    "plt.plot(res_dict[\"va_metrics\"][\"loss\"], label=\"Validation\")\n",
    "plt.title(\"Loss\")\n",
    "plt.xlabel(\"Epoch\")\n",
    "plt.legend()\n",
    "plt.sca(axs[0, 1])\n",
    "plt.plot(res_dict[\"tr_metrics\"][\"f1\"], label=\"Train\")\n",
    "plt.plot(res_dict[\"va_metrics\"][\"f1\"], label=\"Validation\")\n",
    "plt.title(\"F1\")\n",
    "plt.xlabel(\"Epoch\")\n",
    "plt.legend()\n",
    "plt.sca(axs[1, 0])\n",
    "plt.plot(res_dict[\"tr_metrics\"][\"precision\"], label=\"Train\")\n",
    "plt.plot(res_dict[\"va_metrics\"][\"precision\"], label=\"Validation\")\n",
    "plt.title(\"Precision\")\n",
    "plt.xlabel(\"Epoch\")\n",
    "plt.legend()\n",
    "plt.sca(axs[1, 1])\n",
    "plt.plot(res_dict[\"tr_metrics\"][\"recall\"], label=\"Train\")\n",
    "plt.plot(res_dict[\"va_metrics\"][\"recall\"], label=\"Validation\")\n",
    "plt.title(\"Recall\")\n",
    "plt.xlabel(\"Epoch\")\n",
    "plt.legend()\n",
    "fig.tight_layout();"
   ]
  },
  {
   "cell_type": "code",
   "execution_count": null,
   "metadata": {},
   "outputs": [],
   "source": []
  }
 ],
 "metadata": {
  "kernelspec": {
   "display_name": "Python 3 (ipykernel)",
   "language": "python",
   "name": "python3"
  },
  "language_info": {
   "codemirror_mode": {
    "name": "ipython",
    "version": 3
   },
   "file_extension": ".py",
   "mimetype": "text/x-python",
   "name": "python",
   "nbconvert_exporter": "python",
   "pygments_lexer": "ipython3",
   "version": "3.10.12"
  }
 },
 "nbformat": 4,
 "nbformat_minor": 4
}
