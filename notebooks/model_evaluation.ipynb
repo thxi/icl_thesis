{
 "cells": [
  {
   "attachments": {},
   "cell_type": "markdown",
   "metadata": {},
   "source": [
    "# Model evaluation\n",
    "\n",
    "In this notebook, I will compare the accuracy metrics of models"
   ]
  },
  {
   "cell_type": "code",
   "execution_count": 1,
   "metadata": {
    "execution": {
     "iopub.execute_input": "2023-08-09T14:37:32.374495Z",
     "iopub.status.busy": "2023-08-09T14:37:32.373138Z",
     "iopub.status.idle": "2023-08-09T14:37:32.428685Z",
     "shell.execute_reply": "2023-08-09T14:37:32.426985Z",
     "shell.execute_reply.started": "2023-08-09T14:37:32.374428Z"
    }
   },
   "outputs": [],
   "source": [
    "%load_ext autoreload\n",
    "%autoreload 2\n",
    "\n",
    "import sys\n",
    "\n",
    "sys.path.append(\"..\")"
   ]
  },
  {
   "cell_type": "code",
   "execution_count": 2,
   "metadata": {
    "execution": {
     "iopub.execute_input": "2023-08-09T14:37:32.433322Z",
     "iopub.status.busy": "2023-08-09T14:37:32.432337Z",
     "iopub.status.idle": "2023-08-09T14:37:36.875377Z",
     "shell.execute_reply": "2023-08-09T14:37:36.873930Z",
     "shell.execute_reply.started": "2023-08-09T14:37:32.433255Z"
    }
   },
   "outputs": [],
   "source": [
    "import matplotlib.pyplot as plt\n",
    "import numpy as np\n",
    "import pandas as pd\n",
    "import seaborn as sns"
   ]
  },
  {
   "cell_type": "code",
   "execution_count": 3,
   "metadata": {
    "execution": {
     "iopub.execute_input": "2023-08-09T14:37:36.878730Z",
     "iopub.status.busy": "2023-08-09T14:37:36.877775Z",
     "iopub.status.idle": "2023-08-09T14:37:36.926311Z",
     "shell.execute_reply": "2023-08-09T14:37:36.924319Z",
     "shell.execute_reply.started": "2023-08-09T14:37:36.878663Z"
    }
   },
   "outputs": [],
   "source": [
    "import scienceplots  # noqa # pylint: disable=unused-import\n",
    "\n",
    "plt.style.use([\"science\", \"ieee\", \"default\"])\n",
    "plt.rcParams.update({\"axes.grid\": True})"
   ]
  },
  {
   "cell_type": "code",
   "execution_count": 4,
   "metadata": {
    "execution": {
     "iopub.execute_input": "2023-08-09T14:37:36.931589Z",
     "iopub.status.busy": "2023-08-09T14:37:36.930915Z",
     "iopub.status.idle": "2023-08-09T14:37:36.977155Z",
     "shell.execute_reply": "2023-08-09T14:37:36.975552Z",
     "shell.execute_reply.started": "2023-08-09T14:37:36.931520Z"
    }
   },
   "outputs": [],
   "source": [
    "from tqdm.auto import tqdm"
   ]
  },
  {
   "cell_type": "markdown",
   "metadata": {},
   "source": [
    "## Prepare dataloader"
   ]
  },
  {
   "cell_type": "code",
   "execution_count": 5,
   "metadata": {
    "execution": {
     "iopub.execute_input": "2023-08-09T14:37:36.979958Z",
     "iopub.status.busy": "2023-08-09T14:37:36.978907Z",
     "iopub.status.idle": "2023-08-09T14:37:37.019314Z",
     "shell.execute_reply": "2023-08-09T14:37:37.018190Z",
     "shell.execute_reply.started": "2023-08-09T14:37:36.979897Z"
    }
   },
   "outputs": [],
   "source": [
    "from pathlib import Path\n",
    "\n",
    "ROOT_DATA_DIR = Path(\"../data/\")"
   ]
  },
  {
   "cell_type": "code",
   "execution_count": 6,
   "metadata": {
    "execution": {
     "iopub.execute_input": "2023-08-09T14:37:37.022387Z",
     "iopub.status.busy": "2023-08-09T14:37:37.021580Z",
     "iopub.status.idle": "2023-08-09T14:37:44.044465Z",
     "shell.execute_reply": "2023-08-09T14:37:44.042989Z",
     "shell.execute_reply.started": "2023-08-09T14:37:37.022345Z"
    }
   },
   "outputs": [],
   "source": [
    "from collections import defaultdict\n",
    "\n",
    "import lightning.pytorch as pl\n",
    "import torch\n",
    "from lightning.pytorch import Trainer, seed_everything\n",
    "from sklearn.preprocessing import MinMaxScaler\n",
    "from sklearn.utils.class_weight import compute_class_weight\n",
    "from torch import Tensor, nn\n",
    "from torch.utils.data import DataLoader, TensorDataset\n",
    "\n",
    "from src.utils import get_metrics"
   ]
  },
  {
   "cell_type": "code",
   "execution_count": 7,
   "metadata": {
    "execution": {
     "iopub.execute_input": "2023-08-09T14:37:44.048193Z",
     "iopub.status.busy": "2023-08-09T14:37:44.047046Z",
     "iopub.status.idle": "2023-08-09T14:37:44.136120Z",
     "shell.execute_reply": "2023-08-09T14:37:44.134265Z",
     "shell.execute_reply.started": "2023-08-09T14:37:44.048118Z"
    }
   },
   "outputs": [],
   "source": [
    "# torch.set_default_dtype(torch.float32)"
   ]
  },
  {
   "cell_type": "markdown",
   "metadata": {},
   "source": [
    "take only 1 dataset, 1 concrete time series for now..."
   ]
  },
  {
   "cell_type": "code",
   "execution_count": 8,
   "metadata": {
    "execution": {
     "iopub.execute_input": "2023-08-09T14:37:44.140252Z",
     "iopub.status.busy": "2023-08-09T14:37:44.138565Z",
     "iopub.status.idle": "2023-08-09T14:37:44.257735Z",
     "shell.execute_reply": "2023-08-09T14:37:44.255738Z",
     "shell.execute_reply.started": "2023-08-09T14:37:44.140124Z"
    }
   },
   "outputs": [],
   "source": [
    "DATA_DIR = ROOT_DATA_DIR / \"KPI-Anomaly-Detection/Preliminary_dataset\""
   ]
  },
  {
   "cell_type": "code",
   "execution_count": 9,
   "metadata": {
    "execution": {
     "iopub.execute_input": "2023-08-09T14:37:44.262213Z",
     "iopub.status.busy": "2023-08-09T14:37:44.261018Z",
     "iopub.status.idle": "2023-08-09T14:37:45.066143Z",
     "shell.execute_reply": "2023-08-09T14:37:45.064961Z",
     "shell.execute_reply.started": "2023-08-09T14:37:44.262142Z"
    }
   },
   "outputs": [],
   "source": [
    "df = pd.read_parquet(DATA_DIR / \"train.parquet\")\n",
    "df.rename(columns={\"label\": \"target\"}, inplace=True)\n",
    "df = df[df[\"KPI ID\"] == \"02e99bd4f6cfb33f\"].copy()\n",
    "df = df[df.index > 1.49 * 1e9].copy()\n",
    "df = df.query(\"timestamp < 1496538120\").copy()\n",
    "df[\"time\"] = df.index - df.index[0]\n",
    "# df[\"value\"] = df[\"value\"].diff()\n",
    "# df = df.query('stock==1 & day==0 & train==1')\n",
    "# df.value = df.value.pct_change()\n",
    "df.dropna(inplace=True)"
   ]
  },
  {
   "cell_type": "code",
   "execution_count": 10,
   "metadata": {
    "execution": {
     "iopub.execute_input": "2023-08-09T14:37:45.071078Z",
     "iopub.status.busy": "2023-08-09T14:37:45.070677Z",
     "iopub.status.idle": "2023-08-09T14:37:45.176240Z",
     "shell.execute_reply": "2023-08-09T14:37:45.174444Z",
     "shell.execute_reply.started": "2023-08-09T14:37:45.071044Z"
    }
   },
   "outputs": [],
   "source": [
    "def convert_to_windows(x, window_size):\n",
    "    # convert input time series x to\n",
    "    # time series of lags, first window_size observations are dropped\n",
    "    windows = []\n",
    "    for i in range(window_size, len(x)):\n",
    "        w = x[i - window_size : i]\n",
    "        windows.append(w)\n",
    "    windows = np.array(windows)\n",
    "    return windows"
   ]
  },
  {
   "cell_type": "code",
   "execution_count": 11,
   "metadata": {
    "execution": {
     "iopub.execute_input": "2023-08-09T14:37:45.178704Z",
     "iopub.status.busy": "2023-08-09T14:37:45.178056Z",
     "iopub.status.idle": "2023-08-09T14:37:45.277861Z",
     "shell.execute_reply": "2023-08-09T14:37:45.276203Z",
     "shell.execute_reply.started": "2023-08-09T14:37:45.178641Z"
    }
   },
   "outputs": [],
   "source": [
    "df[\"value_diff\"] = df[\"value\"].diff()\n",
    "tr_cols = [\"value\", \"value_diff\"]\n",
    "df = df.dropna()"
   ]
  },
  {
   "cell_type": "code",
   "execution_count": 12,
   "metadata": {
    "execution": {
     "iopub.execute_input": "2023-08-09T14:37:45.280433Z",
     "iopub.status.busy": "2023-08-09T14:37:45.279877Z",
     "iopub.status.idle": "2023-08-09T14:37:45.387939Z",
     "shell.execute_reply": "2023-08-09T14:37:45.386684Z",
     "shell.execute_reply.started": "2023-08-09T14:37:45.280390Z"
    }
   },
   "outputs": [],
   "source": [
    "# fig, axs = plt.subplots(1, 2, figsize=(8, 4))\n",
    "# plt.subplot(1, 2, 1)\n",
    "# plt.plot(df.value.diff())\n",
    "# plt.subplot(1, 2, 2)\n",
    "# plt.hist(df.value)\n",
    "# plt.yscale(\"log\")\n",
    "# plt.tight_layout();"
   ]
  },
  {
   "cell_type": "code",
   "execution_count": 13,
   "metadata": {
    "execution": {
     "iopub.execute_input": "2023-08-09T14:37:45.389639Z",
     "iopub.status.busy": "2023-08-09T14:37:45.389223Z",
     "iopub.status.idle": "2023-08-09T14:37:45.481703Z",
     "shell.execute_reply": "2023-08-09T14:37:45.479011Z",
     "shell.execute_reply.started": "2023-08-09T14:37:45.389588Z"
    }
   },
   "outputs": [],
   "source": [
    "window_size = 8\n",
    "train_proportion = 0.9\n",
    "batch_size = 16\n",
    "learning_rate = 1e-5\n",
    "epochs = 30"
   ]
  },
  {
   "cell_type": "code",
   "execution_count": 14,
   "metadata": {
    "execution": {
     "iopub.execute_input": "2023-08-09T14:37:45.484652Z",
     "iopub.status.busy": "2023-08-09T14:37:45.484156Z",
     "iopub.status.idle": "2023-08-09T14:37:45.682613Z",
     "shell.execute_reply": "2023-08-09T14:37:45.681351Z",
     "shell.execute_reply.started": "2023-08-09T14:37:45.484613Z"
    }
   },
   "outputs": [],
   "source": [
    "x = df[tr_cols].values.copy()\n",
    "scaler = MinMaxScaler()\n",
    "x = scaler.fit_transform(x)\n",
    "# x_scaled = x\n",
    "x = convert_to_windows(x, window_size)\n",
    "y = df[\"target\"].values\n",
    "y = y[window_size:]\n",
    "\n",
    "# class_weights = compute_class_weight('balanced', classes=[0, 1], y=y.ravel())\n",
    "# class_weights = class_weights / class_weights.sum()\n",
    "\n",
    "x = torch.Tensor(x).float()\n",
    "y = torch.Tensor(y).float()\n",
    "\n",
    "train_idx = int(len(x) * train_proportion)\n",
    "# train_idx = int(1.495 * 1e9)\n",
    "\n",
    "tr, va = x[:train_idx], x[train_idx:]\n",
    "# x = np.hstack([x, y.reshape(-1, 1)])\n",
    "# y = y.reshape(-1, 1)\n",
    "ytr, yva = y[:train_idx], y[train_idx:]\n",
    "tr_dataset = TensorDataset(tr, ytr)\n",
    "va_dataset = TensorDataset(va, yva)"
   ]
  },
  {
   "cell_type": "code",
   "execution_count": 15,
   "metadata": {
    "execution": {
     "iopub.execute_input": "2023-08-09T14:37:45.685712Z",
     "iopub.status.busy": "2023-08-09T14:37:45.684366Z",
     "iopub.status.idle": "2023-08-09T14:37:45.769874Z",
     "shell.execute_reply": "2023-08-09T14:37:45.768143Z",
     "shell.execute_reply.started": "2023-08-09T14:37:45.685655Z"
    }
   },
   "outputs": [],
   "source": [
    "# fig, axs = plt.subplots(1, 2, figsize=(8, 4))\n",
    "# plt.sca(axs[0])\n",
    "# plt.plot(tr[:, 0, 0])\n",
    "# plt.sca(axs[1])\n",
    "# plt.plot(tr[:, 0, 1])\n",
    "# fig.tight_layout();"
   ]
  },
  {
   "cell_type": "markdown",
   "metadata": {},
   "source": [
    "## Evaluate models"
   ]
  },
  {
   "cell_type": "code",
   "execution_count": 16,
   "metadata": {
    "execution": {
     "iopub.execute_input": "2023-08-09T14:37:45.772502Z",
     "iopub.status.busy": "2023-08-09T14:37:45.771893Z",
     "iopub.status.idle": "2023-08-09T14:37:45.867065Z",
     "shell.execute_reply": "2023-08-09T14:37:45.865921Z",
     "shell.execute_reply.started": "2023-08-09T14:37:45.772441Z"
    }
   },
   "outputs": [],
   "source": [
    "from src.utils import MetricTracker"
   ]
  },
  {
   "cell_type": "code",
   "execution_count": 17,
   "metadata": {
    "execution": {
     "iopub.execute_input": "2023-08-09T14:37:45.868485Z",
     "iopub.status.busy": "2023-08-09T14:37:45.868165Z",
     "iopub.status.idle": "2023-08-09T14:37:45.942277Z",
     "shell.execute_reply": "2023-08-09T14:37:45.940924Z",
     "shell.execute_reply.started": "2023-08-09T14:37:45.868453Z"
    }
   },
   "outputs": [],
   "source": [
    "from src.transformer import TransformerAnomalyDetector, TransformerEncoder"
   ]
  },
  {
   "cell_type": "markdown",
   "metadata": {},
   "source": [
    "### Scaled Dot-Product"
   ]
  },
  {
   "cell_type": "code",
   "execution_count": 18,
   "metadata": {
    "execution": {
     "iopub.execute_input": "2023-08-09T14:37:45.946235Z",
     "iopub.status.busy": "2023-08-09T14:37:45.944496Z",
     "iopub.status.idle": "2023-08-09T14:37:46.022461Z",
     "shell.execute_reply": "2023-08-09T14:37:46.020838Z",
     "shell.execute_reply.started": "2023-08-09T14:37:45.945749Z"
    }
   },
   "outputs": [],
   "source": [
    "window_size = 8\n",
    "train_proportion = 0.9\n",
    "batch_size = 2 * 4096\n",
    "epochs = 100"
   ]
  },
  {
   "cell_type": "code",
   "execution_count": 19,
   "metadata": {
    "execution": {
     "iopub.execute_input": "2023-08-09T14:37:46.024280Z",
     "iopub.status.busy": "2023-08-09T14:37:46.023888Z",
     "iopub.status.idle": "2023-08-09T14:37:46.108803Z",
     "shell.execute_reply": "2023-08-09T14:37:46.106869Z",
     "shell.execute_reply.started": "2023-08-09T14:37:46.024247Z"
    }
   },
   "outputs": [
    {
     "name": "stderr",
     "output_type": "stream",
     "text": [
      "Global seed set to 1\n"
     ]
    }
   ],
   "source": [
    "seed_everything(1)\n",
    "\n",
    "tr_dl = DataLoader(tr_dataset, batch_size=batch_size, shuffle=False)\n",
    "va_dl = DataLoader(va_dataset, batch_size=batch_size, shuffle=False)"
   ]
  },
  {
   "cell_type": "markdown",
   "metadata": {},
   "source": [
    "> **TODO**: add positional enocding"
   ]
  },
  {
   "cell_type": "code",
   "execution_count": 20,
   "metadata": {
    "execution": {
     "iopub.execute_input": "2023-08-09T14:37:46.110533Z",
     "iopub.status.busy": "2023-08-09T14:37:46.110175Z",
     "iopub.status.idle": "2023-08-09T14:37:46.207951Z",
     "shell.execute_reply": "2023-08-09T14:37:46.206536Z",
     "shell.execute_reply.started": "2023-08-09T14:37:46.110498Z"
    }
   },
   "outputs": [
    {
     "name": "stderr",
     "output_type": "stream",
     "text": [
      "Global seed set to 1\n",
      "positional encoding disabled\n",
      "layer norm disabled\n"
     ]
    }
   ],
   "source": [
    "seed_everything(1)\n",
    "\n",
    "input_dim = len(tr_cols)\n",
    "\n",
    "block_args = {\n",
    "    \"input_dim\": 8,\n",
    "    \"num_heads\": 2,\n",
    "    \"dim_feedforward\": 2 * 8,\n",
    "    \"num_layers\": 1,\n",
    "    \"enable_layer_norm\": False,\n",
    "}\n",
    "positional_encoder_args = {\n",
    "    \"enable\": False,\n",
    "    \"max_len\": window_size,\n",
    "}\n",
    "\n",
    "loss_fn = nn.BCEWithLogitsLoss(pos_weight=torch.tensor(5))\n",
    "\n",
    "model_params = {\n",
    "    \"input_dim\": input_dim,\n",
    "    \"block_input_dim\": block_args[\"input_dim\"],\n",
    "    \"block_args\": block_args,\n",
    "    \"num_layers\": block_args[\"num_layers\"],\n",
    "    \"positional_encoder_args\": positional_encoder_args,\n",
    "    \"learning_rate\": 1e-1,\n",
    "    \"dropout\": 0.0,\n",
    "    \"loss_fn\": loss_fn,\n",
    "}\n",
    "\n",
    "\n",
    "model = TransformerAnomalyDetector(\n",
    "    **model_params,\n",
    ")"
   ]
  },
  {
   "cell_type": "code",
   "execution_count": 21,
   "metadata": {
    "execution": {
     "iopub.execute_input": "2023-08-09T14:37:46.210291Z",
     "iopub.status.busy": "2023-08-09T14:37:46.209755Z",
     "iopub.status.idle": "2023-08-09T14:37:46.284327Z",
     "shell.execute_reply": "2023-08-09T14:37:46.282914Z",
     "shell.execute_reply.started": "2023-08-09T14:37:46.210253Z"
    }
   },
   "outputs": [],
   "source": [
    "# https://lightning.ai/docs/pytorch/stable/api/lightning.pytorch.callbacks.LearningRateFinder.html#learningratefinder\n",
    "\n",
    "from lightning.pytorch.callbacks import LearningRateFinder"
   ]
  },
  {
   "cell_type": "code",
   "execution_count": 22,
   "metadata": {
    "execution": {
     "iopub.execute_input": "2023-08-09T14:37:46.286902Z",
     "iopub.status.busy": "2023-08-09T14:37:46.286254Z",
     "iopub.status.idle": "2023-08-09T14:41:19.414523Z",
     "shell.execute_reply": "2023-08-09T14:41:19.413367Z",
     "shell.execute_reply.started": "2023-08-09T14:37:46.286842Z"
    }
   },
   "outputs": [
    {
     "name": "stderr",
     "output_type": "stream",
     "text": [
      "Global seed set to 1\n",
      "GPU available: True (cuda), used: True\n",
      "TPU available: False, using: 0 TPU cores\n",
      "IPU available: False, using: 0 IPUs\n",
      "HPU available: False, using: 0 HPUs\n",
      "LOCAL_RANK: 0 - CUDA_VISIBLE_DEVICES: [0]\n",
      "/home/th/Desktop/icl_thesis/env/lib/python3.10/site-packages/lightning/pytorch/trainer/connectors/data_connector.py:432: PossibleUserWarning: The dataloader, train_dataloader, does not have many workers which may be a bottleneck. Consider increasing the value of the `num_workers` argument` (try 12 which is the number of cpus on this machine) in the `DataLoader` init to improve performance.\n",
      "  rank_zero_warn(\n",
      "/home/th/Desktop/icl_thesis/env/lib/python3.10/site-packages/lightning/pytorch/trainer/connectors/data_connector.py:432: PossibleUserWarning: The dataloader, val_dataloader, does not have many workers which may be a bottleneck. Consider increasing the value of the `num_workers` argument` (try 12 which is the number of cpus on this machine) in the `DataLoader` init to improve performance.\n",
      "  rank_zero_warn(\n"
     ]
    },
    {
     "data": {
      "application/vnd.jupyter.widget-view+json": {
       "model_id": "d90673d8248541ffbd941c59e7236c64",
       "version_major": 2,
       "version_minor": 0
      },
      "text/plain": [
       "Finding best initial lr:   0%|          | 0/100 [00:00<?, ?it/s]"
      ]
     },
     "metadata": {},
     "output_type": "display_data"
    },
    {
     "name": "stderr",
     "output_type": "stream",
     "text": [
      "`Trainer.fit` stopped: `max_steps=100` reached.\n",
      "Learning rate set to 0.01445439770745928\n",
      "Restoring states from the checkpoint path at /home/th/Desktop/icl_thesis/notebooks/.lr_find_4bdf5d43-d9a5-4f79-84ef-c4374ddf9113.ckpt\n",
      "Restored all states from the checkpoint at /home/th/Desktop/icl_thesis/notebooks/.lr_find_4bdf5d43-d9a5-4f79-84ef-c4374ddf9113.ckpt\n",
      "\n",
      "  | Name                | Type               | Params\n",
      "-----------------------------------------------------------\n",
      "0 | front_linear        | Linear             | 24    \n",
      "1 | positional_encoder  | Identity           | 0     \n",
      "2 | transformer_encoder | TransformerEncoder | 544   \n",
      "3 | final_linear        | Linear             | 9     \n",
      "4 | loss_fn             | BCEWithLogitsLoss  | 0     \n",
      "-----------------------------------------------------------\n",
      "577       Trainable params\n",
      "0         Non-trainable params\n",
      "577       Total params\n",
      "0.002     Total estimated model params size (MB)\n",
      "Restored all states from the checkpoint at /home/th/Desktop/icl_thesis/notebooks/.lr_find_4bdf5d43-d9a5-4f79-84ef-c4374ddf9113.ckpt\n"
     ]
    },
    {
     "data": {
      "application/vnd.jupyter.widget-view+json": {
       "model_id": "",
       "version_major": 2,
       "version_minor": 0
      },
      "text/plain": [
       "Sanity Checking: 0it [00:00, ?it/s]"
      ]
     },
     "metadata": {},
     "output_type": "display_data"
    },
    {
     "name": "stderr",
     "output_type": "stream",
     "text": [
      "/home/th/Desktop/icl_thesis/env/lib/python3.10/site-packages/lightning/pytorch/trainer/connectors/data_connector.py:432: PossibleUserWarning: The dataloader, val_dataloader, does not have many workers which may be a bottleneck. Consider increasing the value of the `num_workers` argument` (try 12 which is the number of cpus on this machine) in the `DataLoader` init to improve performance.\n",
      "  rank_zero_warn(\n"
     ]
    },
    {
     "data": {
      "application/vnd.jupyter.widget-view+json": {
       "model_id": "e7c99b533860418f9069a632c929a667",
       "version_major": 2,
       "version_minor": 0
      },
      "text/plain": [
       "Training: 0it [00:00, ?it/s]"
      ]
     },
     "metadata": {},
     "output_type": "display_data"
    },
    {
     "data": {
      "application/vnd.jupyter.widget-view+json": {
       "model_id": "",
       "version_major": 2,
       "version_minor": 0
      },
      "text/plain": [
       "Validation: 0it [00:00, ?it/s]"
      ]
     },
     "metadata": {},
     "output_type": "display_data"
    },
    {
     "data": {
      "application/vnd.jupyter.widget-view+json": {
       "model_id": "",
       "version_major": 2,
       "version_minor": 0
      },
      "text/plain": [
       "Validation: 0it [00:00, ?it/s]"
      ]
     },
     "metadata": {},
     "output_type": "display_data"
    },
    {
     "data": {
      "application/vnd.jupyter.widget-view+json": {
       "model_id": "",
       "version_major": 2,
       "version_minor": 0
      },
      "text/plain": [
       "Validation: 0it [00:00, ?it/s]"
      ]
     },
     "metadata": {},
     "output_type": "display_data"
    },
    {
     "data": {
      "application/vnd.jupyter.widget-view+json": {
       "model_id": "",
       "version_major": 2,
       "version_minor": 0
      },
      "text/plain": [
       "Validation: 0it [00:00, ?it/s]"
      ]
     },
     "metadata": {},
     "output_type": "display_data"
    },
    {
     "data": {
      "application/vnd.jupyter.widget-view+json": {
       "model_id": "",
       "version_major": 2,
       "version_minor": 0
      },
      "text/plain": [
       "Validation: 0it [00:00, ?it/s]"
      ]
     },
     "metadata": {},
     "output_type": "display_data"
    },
    {
     "data": {
      "application/vnd.jupyter.widget-view+json": {
       "model_id": "",
       "version_major": 2,
       "version_minor": 0
      },
      "text/plain": [
       "Validation: 0it [00:00, ?it/s]"
      ]
     },
     "metadata": {},
     "output_type": "display_data"
    },
    {
     "data": {
      "application/vnd.jupyter.widget-view+json": {
       "model_id": "",
       "version_major": 2,
       "version_minor": 0
      },
      "text/plain": [
       "Validation: 0it [00:00, ?it/s]"
      ]
     },
     "metadata": {},
     "output_type": "display_data"
    },
    {
     "data": {
      "application/vnd.jupyter.widget-view+json": {
       "model_id": "",
       "version_major": 2,
       "version_minor": 0
      },
      "text/plain": [
       "Validation: 0it [00:00, ?it/s]"
      ]
     },
     "metadata": {},
     "output_type": "display_data"
    },
    {
     "data": {
      "application/vnd.jupyter.widget-view+json": {
       "model_id": "",
       "version_major": 2,
       "version_minor": 0
      },
      "text/plain": [
       "Validation: 0it [00:00, ?it/s]"
      ]
     },
     "metadata": {},
     "output_type": "display_data"
    },
    {
     "data": {
      "application/vnd.jupyter.widget-view+json": {
       "model_id": "",
       "version_major": 2,
       "version_minor": 0
      },
      "text/plain": [
       "Validation: 0it [00:00, ?it/s]"
      ]
     },
     "metadata": {},
     "output_type": "display_data"
    },
    {
     "data": {
      "application/vnd.jupyter.widget-view+json": {
       "model_id": "",
       "version_major": 2,
       "version_minor": 0
      },
      "text/plain": [
       "Validation: 0it [00:00, ?it/s]"
      ]
     },
     "metadata": {},
     "output_type": "display_data"
    },
    {
     "data": {
      "application/vnd.jupyter.widget-view+json": {
       "model_id": "",
       "version_major": 2,
       "version_minor": 0
      },
      "text/plain": [
       "Validation: 0it [00:00, ?it/s]"
      ]
     },
     "metadata": {},
     "output_type": "display_data"
    },
    {
     "data": {
      "application/vnd.jupyter.widget-view+json": {
       "model_id": "",
       "version_major": 2,
       "version_minor": 0
      },
      "text/plain": [
       "Validation: 0it [00:00, ?it/s]"
      ]
     },
     "metadata": {},
     "output_type": "display_data"
    },
    {
     "data": {
      "application/vnd.jupyter.widget-view+json": {
       "model_id": "",
       "version_major": 2,
       "version_minor": 0
      },
      "text/plain": [
       "Validation: 0it [00:00, ?it/s]"
      ]
     },
     "metadata": {},
     "output_type": "display_data"
    },
    {
     "data": {
      "application/vnd.jupyter.widget-view+json": {
       "model_id": "",
       "version_major": 2,
       "version_minor": 0
      },
      "text/plain": [
       "Validation: 0it [00:00, ?it/s]"
      ]
     },
     "metadata": {},
     "output_type": "display_data"
    },
    {
     "data": {
      "application/vnd.jupyter.widget-view+json": {
       "model_id": "",
       "version_major": 2,
       "version_minor": 0
      },
      "text/plain": [
       "Validation: 0it [00:00, ?it/s]"
      ]
     },
     "metadata": {},
     "output_type": "display_data"
    },
    {
     "data": {
      "application/vnd.jupyter.widget-view+json": {
       "model_id": "",
       "version_major": 2,
       "version_minor": 0
      },
      "text/plain": [
       "Validation: 0it [00:00, ?it/s]"
      ]
     },
     "metadata": {},
     "output_type": "display_data"
    },
    {
     "data": {
      "application/vnd.jupyter.widget-view+json": {
       "model_id": "",
       "version_major": 2,
       "version_minor": 0
      },
      "text/plain": [
       "Validation: 0it [00:00, ?it/s]"
      ]
     },
     "metadata": {},
     "output_type": "display_data"
    },
    {
     "data": {
      "application/vnd.jupyter.widget-view+json": {
       "model_id": "",
       "version_major": 2,
       "version_minor": 0
      },
      "text/plain": [
       "Validation: 0it [00:00, ?it/s]"
      ]
     },
     "metadata": {},
     "output_type": "display_data"
    },
    {
     "data": {
      "application/vnd.jupyter.widget-view+json": {
       "model_id": "",
       "version_major": 2,
       "version_minor": 0
      },
      "text/plain": [
       "Validation: 0it [00:00, ?it/s]"
      ]
     },
     "metadata": {},
     "output_type": "display_data"
    },
    {
     "data": {
      "application/vnd.jupyter.widget-view+json": {
       "model_id": "",
       "version_major": 2,
       "version_minor": 0
      },
      "text/plain": [
       "Validation: 0it [00:00, ?it/s]"
      ]
     },
     "metadata": {},
     "output_type": "display_data"
    },
    {
     "data": {
      "application/vnd.jupyter.widget-view+json": {
       "model_id": "",
       "version_major": 2,
       "version_minor": 0
      },
      "text/plain": [
       "Validation: 0it [00:00, ?it/s]"
      ]
     },
     "metadata": {},
     "output_type": "display_data"
    },
    {
     "data": {
      "application/vnd.jupyter.widget-view+json": {
       "model_id": "",
       "version_major": 2,
       "version_minor": 0
      },
      "text/plain": [
       "Validation: 0it [00:00, ?it/s]"
      ]
     },
     "metadata": {},
     "output_type": "display_data"
    },
    {
     "data": {
      "application/vnd.jupyter.widget-view+json": {
       "model_id": "",
       "version_major": 2,
       "version_minor": 0
      },
      "text/plain": [
       "Validation: 0it [00:00, ?it/s]"
      ]
     },
     "metadata": {},
     "output_type": "display_data"
    },
    {
     "data": {
      "application/vnd.jupyter.widget-view+json": {
       "model_id": "",
       "version_major": 2,
       "version_minor": 0
      },
      "text/plain": [
       "Validation: 0it [00:00, ?it/s]"
      ]
     },
     "metadata": {},
     "output_type": "display_data"
    },
    {
     "data": {
      "application/vnd.jupyter.widget-view+json": {
       "model_id": "",
       "version_major": 2,
       "version_minor": 0
      },
      "text/plain": [
       "Validation: 0it [00:00, ?it/s]"
      ]
     },
     "metadata": {},
     "output_type": "display_data"
    },
    {
     "data": {
      "application/vnd.jupyter.widget-view+json": {
       "model_id": "",
       "version_major": 2,
       "version_minor": 0
      },
      "text/plain": [
       "Validation: 0it [00:00, ?it/s]"
      ]
     },
     "metadata": {},
     "output_type": "display_data"
    },
    {
     "data": {
      "application/vnd.jupyter.widget-view+json": {
       "model_id": "",
       "version_major": 2,
       "version_minor": 0
      },
      "text/plain": [
       "Validation: 0it [00:00, ?it/s]"
      ]
     },
     "metadata": {},
     "output_type": "display_data"
    },
    {
     "data": {
      "application/vnd.jupyter.widget-view+json": {
       "model_id": "",
       "version_major": 2,
       "version_minor": 0
      },
      "text/plain": [
       "Validation: 0it [00:00, ?it/s]"
      ]
     },
     "metadata": {},
     "output_type": "display_data"
    },
    {
     "data": {
      "application/vnd.jupyter.widget-view+json": {
       "model_id": "",
       "version_major": 2,
       "version_minor": 0
      },
      "text/plain": [
       "Validation: 0it [00:00, ?it/s]"
      ]
     },
     "metadata": {},
     "output_type": "display_data"
    },
    {
     "data": {
      "application/vnd.jupyter.widget-view+json": {
       "model_id": "",
       "version_major": 2,
       "version_minor": 0
      },
      "text/plain": [
       "Validation: 0it [00:00, ?it/s]"
      ]
     },
     "metadata": {},
     "output_type": "display_data"
    },
    {
     "data": {
      "application/vnd.jupyter.widget-view+json": {
       "model_id": "",
       "version_major": 2,
       "version_minor": 0
      },
      "text/plain": [
       "Validation: 0it [00:00, ?it/s]"
      ]
     },
     "metadata": {},
     "output_type": "display_data"
    },
    {
     "data": {
      "application/vnd.jupyter.widget-view+json": {
       "model_id": "",
       "version_major": 2,
       "version_minor": 0
      },
      "text/plain": [
       "Validation: 0it [00:00, ?it/s]"
      ]
     },
     "metadata": {},
     "output_type": "display_data"
    },
    {
     "data": {
      "application/vnd.jupyter.widget-view+json": {
       "model_id": "",
       "version_major": 2,
       "version_minor": 0
      },
      "text/plain": [
       "Validation: 0it [00:00, ?it/s]"
      ]
     },
     "metadata": {},
     "output_type": "display_data"
    },
    {
     "data": {
      "application/vnd.jupyter.widget-view+json": {
       "model_id": "",
       "version_major": 2,
       "version_minor": 0
      },
      "text/plain": [
       "Validation: 0it [00:00, ?it/s]"
      ]
     },
     "metadata": {},
     "output_type": "display_data"
    },
    {
     "data": {
      "application/vnd.jupyter.widget-view+json": {
       "model_id": "",
       "version_major": 2,
       "version_minor": 0
      },
      "text/plain": [
       "Validation: 0it [00:00, ?it/s]"
      ]
     },
     "metadata": {},
     "output_type": "display_data"
    },
    {
     "data": {
      "application/vnd.jupyter.widget-view+json": {
       "model_id": "",
       "version_major": 2,
       "version_minor": 0
      },
      "text/plain": [
       "Validation: 0it [00:00, ?it/s]"
      ]
     },
     "metadata": {},
     "output_type": "display_data"
    },
    {
     "data": {
      "application/vnd.jupyter.widget-view+json": {
       "model_id": "",
       "version_major": 2,
       "version_minor": 0
      },
      "text/plain": [
       "Validation: 0it [00:00, ?it/s]"
      ]
     },
     "metadata": {},
     "output_type": "display_data"
    },
    {
     "data": {
      "application/vnd.jupyter.widget-view+json": {
       "model_id": "",
       "version_major": 2,
       "version_minor": 0
      },
      "text/plain": [
       "Validation: 0it [00:00, ?it/s]"
      ]
     },
     "metadata": {},
     "output_type": "display_data"
    },
    {
     "data": {
      "application/vnd.jupyter.widget-view+json": {
       "model_id": "",
       "version_major": 2,
       "version_minor": 0
      },
      "text/plain": [
       "Validation: 0it [00:00, ?it/s]"
      ]
     },
     "metadata": {},
     "output_type": "display_data"
    },
    {
     "data": {
      "application/vnd.jupyter.widget-view+json": {
       "model_id": "",
       "version_major": 2,
       "version_minor": 0
      },
      "text/plain": [
       "Validation: 0it [00:00, ?it/s]"
      ]
     },
     "metadata": {},
     "output_type": "display_data"
    },
    {
     "data": {
      "application/vnd.jupyter.widget-view+json": {
       "model_id": "",
       "version_major": 2,
       "version_minor": 0
      },
      "text/plain": [
       "Validation: 0it [00:00, ?it/s]"
      ]
     },
     "metadata": {},
     "output_type": "display_data"
    },
    {
     "data": {
      "application/vnd.jupyter.widget-view+json": {
       "model_id": "",
       "version_major": 2,
       "version_minor": 0
      },
      "text/plain": [
       "Validation: 0it [00:00, ?it/s]"
      ]
     },
     "metadata": {},
     "output_type": "display_data"
    },
    {
     "data": {
      "application/vnd.jupyter.widget-view+json": {
       "model_id": "",
       "version_major": 2,
       "version_minor": 0
      },
      "text/plain": [
       "Validation: 0it [00:00, ?it/s]"
      ]
     },
     "metadata": {},
     "output_type": "display_data"
    },
    {
     "data": {
      "application/vnd.jupyter.widget-view+json": {
       "model_id": "67610091c32b4b10b1eb0031c98a2d81",
       "version_major": 2,
       "version_minor": 0
      },
      "text/plain": [
       "Validation: 0it [00:00, ?it/s]"
      ]
     },
     "metadata": {},
     "output_type": "display_data"
    },
    {
     "data": {
      "application/vnd.jupyter.widget-view+json": {
       "model_id": "e149ae07bcde4c3189149d4778d2db71",
       "version_major": 2,
       "version_minor": 0
      },
      "text/plain": [
       "Validation: 0it [00:00, ?it/s]"
      ]
     },
     "metadata": {},
     "output_type": "display_data"
    },
    {
     "data": {
      "application/vnd.jupyter.widget-view+json": {
       "model_id": "0330880fb8a940d7ab3f181af6a420e9",
       "version_major": 2,
       "version_minor": 0
      },
      "text/plain": [
       "Validation: 0it [00:00, ?it/s]"
      ]
     },
     "metadata": {},
     "output_type": "display_data"
    },
    {
     "data": {
      "application/vnd.jupyter.widget-view+json": {
       "model_id": "7493d88db40344c49d95a2bf924aff4c",
       "version_major": 2,
       "version_minor": 0
      },
      "text/plain": [
       "Validation: 0it [00:00, ?it/s]"
      ]
     },
     "metadata": {},
     "output_type": "display_data"
    },
    {
     "data": {
      "application/vnd.jupyter.widget-view+json": {
       "model_id": "7c577c4049b6402da38ffbec6c4a76fc",
       "version_major": 2,
       "version_minor": 0
      },
      "text/plain": [
       "Validation: 0it [00:00, ?it/s]"
      ]
     },
     "metadata": {},
     "output_type": "display_data"
    },
    {
     "data": {
      "application/vnd.jupyter.widget-view+json": {
       "model_id": "076e3bdf10654cae8c619188591db6c0",
       "version_major": 2,
       "version_minor": 0
      },
      "text/plain": [
       "Validation: 0it [00:00, ?it/s]"
      ]
     },
     "metadata": {},
     "output_type": "display_data"
    },
    {
     "data": {
      "application/vnd.jupyter.widget-view+json": {
       "model_id": "aee14a71e3874516858edd562fdd1bd4",
       "version_major": 2,
       "version_minor": 0
      },
      "text/plain": [
       "Validation: 0it [00:00, ?it/s]"
      ]
     },
     "metadata": {},
     "output_type": "display_data"
    },
    {
     "data": {
      "application/vnd.jupyter.widget-view+json": {
       "model_id": "5fe78c7009e541f7b6f0abc15b022bb4",
       "version_major": 2,
       "version_minor": 0
      },
      "text/plain": [
       "Validation: 0it [00:00, ?it/s]"
      ]
     },
     "metadata": {},
     "output_type": "display_data"
    },
    {
     "data": {
      "application/vnd.jupyter.widget-view+json": {
       "model_id": "32b06d211e024ffdbc185dd6b2e2eebb",
       "version_major": 2,
       "version_minor": 0
      },
      "text/plain": [
       "Validation: 0it [00:00, ?it/s]"
      ]
     },
     "metadata": {},
     "output_type": "display_data"
    },
    {
     "data": {
      "application/vnd.jupyter.widget-view+json": {
       "model_id": "a0d69c26fd5c40d6a12897ca2c6e8c8a",
       "version_major": 2,
       "version_minor": 0
      },
      "text/plain": [
       "Validation: 0it [00:00, ?it/s]"
      ]
     },
     "metadata": {},
     "output_type": "display_data"
    },
    {
     "data": {
      "application/vnd.jupyter.widget-view+json": {
       "model_id": "7de873e023424f1b80832364a486897f",
       "version_major": 2,
       "version_minor": 0
      },
      "text/plain": [
       "Validation: 0it [00:00, ?it/s]"
      ]
     },
     "metadata": {},
     "output_type": "display_data"
    },
    {
     "data": {
      "application/vnd.jupyter.widget-view+json": {
       "model_id": "a91652842d0847ecbb80a20db0d91290",
       "version_major": 2,
       "version_minor": 0
      },
      "text/plain": [
       "Validation: 0it [00:00, ?it/s]"
      ]
     },
     "metadata": {},
     "output_type": "display_data"
    },
    {
     "data": {
      "application/vnd.jupyter.widget-view+json": {
       "model_id": "f986e72cf3c04aa7ad419e10ceb26346",
       "version_major": 2,
       "version_minor": 0
      },
      "text/plain": [
       "Validation: 0it [00:00, ?it/s]"
      ]
     },
     "metadata": {},
     "output_type": "display_data"
    },
    {
     "data": {
      "application/vnd.jupyter.widget-view+json": {
       "model_id": "3fa272b862e142a29efd22e5bc688dcf",
       "version_major": 2,
       "version_minor": 0
      },
      "text/plain": [
       "Validation: 0it [00:00, ?it/s]"
      ]
     },
     "metadata": {},
     "output_type": "display_data"
    },
    {
     "data": {
      "application/vnd.jupyter.widget-view+json": {
       "model_id": "b47eeddfab53438aa2a0426c70a8dcdb",
       "version_major": 2,
       "version_minor": 0
      },
      "text/plain": [
       "Validation: 0it [00:00, ?it/s]"
      ]
     },
     "metadata": {},
     "output_type": "display_data"
    },
    {
     "data": {
      "application/vnd.jupyter.widget-view+json": {
       "model_id": "9340502d9aa2445ca82c951a208ea979",
       "version_major": 2,
       "version_minor": 0
      },
      "text/plain": [
       "Validation: 0it [00:00, ?it/s]"
      ]
     },
     "metadata": {},
     "output_type": "display_data"
    },
    {
     "data": {
      "application/vnd.jupyter.widget-view+json": {
       "model_id": "2b88c8546be646ea8d58bc1f201513ba",
       "version_major": 2,
       "version_minor": 0
      },
      "text/plain": [
       "Validation: 0it [00:00, ?it/s]"
      ]
     },
     "metadata": {},
     "output_type": "display_data"
    },
    {
     "data": {
      "application/vnd.jupyter.widget-view+json": {
       "model_id": "29792b6591164710abb529159ff3a3e5",
       "version_major": 2,
       "version_minor": 0
      },
      "text/plain": [
       "Validation: 0it [00:00, ?it/s]"
      ]
     },
     "metadata": {},
     "output_type": "display_data"
    },
    {
     "data": {
      "application/vnd.jupyter.widget-view+json": {
       "model_id": "b3c10af875c441b19d9d66db03695475",
       "version_major": 2,
       "version_minor": 0
      },
      "text/plain": [
       "Validation: 0it [00:00, ?it/s]"
      ]
     },
     "metadata": {},
     "output_type": "display_data"
    },
    {
     "data": {
      "application/vnd.jupyter.widget-view+json": {
       "model_id": "4b53bb85a830476ebb45ed1f69258896",
       "version_major": 2,
       "version_minor": 0
      },
      "text/plain": [
       "Validation: 0it [00:00, ?it/s]"
      ]
     },
     "metadata": {},
     "output_type": "display_data"
    },
    {
     "data": {
      "application/vnd.jupyter.widget-view+json": {
       "model_id": "593ac491eefc40fea9271bf5d705c4cd",
       "version_major": 2,
       "version_minor": 0
      },
      "text/plain": [
       "Validation: 0it [00:00, ?it/s]"
      ]
     },
     "metadata": {},
     "output_type": "display_data"
    },
    {
     "data": {
      "application/vnd.jupyter.widget-view+json": {
       "model_id": "5e1e9cbebb5245c39fe71aec800d5edc",
       "version_major": 2,
       "version_minor": 0
      },
      "text/plain": [
       "Validation: 0it [00:00, ?it/s]"
      ]
     },
     "metadata": {},
     "output_type": "display_data"
    },
    {
     "data": {
      "application/vnd.jupyter.widget-view+json": {
       "model_id": "37b4f169be984ff3af5aa0151d30d6b6",
       "version_major": 2,
       "version_minor": 0
      },
      "text/plain": [
       "Validation: 0it [00:00, ?it/s]"
      ]
     },
     "metadata": {},
     "output_type": "display_data"
    },
    {
     "data": {
      "application/vnd.jupyter.widget-view+json": {
       "model_id": "768893f467284aaaa0670017f0cd7707",
       "version_major": 2,
       "version_minor": 0
      },
      "text/plain": [
       "Validation: 0it [00:00, ?it/s]"
      ]
     },
     "metadata": {},
     "output_type": "display_data"
    },
    {
     "data": {
      "application/vnd.jupyter.widget-view+json": {
       "model_id": "945ab896b0dd44e1a05392fb3fb388a5",
       "version_major": 2,
       "version_minor": 0
      },
      "text/plain": [
       "Validation: 0it [00:00, ?it/s]"
      ]
     },
     "metadata": {},
     "output_type": "display_data"
    },
    {
     "data": {
      "application/vnd.jupyter.widget-view+json": {
       "model_id": "d3d56ae0c6d7474db3808bace4bc1adf",
       "version_major": 2,
       "version_minor": 0
      },
      "text/plain": [
       "Validation: 0it [00:00, ?it/s]"
      ]
     },
     "metadata": {},
     "output_type": "display_data"
    },
    {
     "data": {
      "application/vnd.jupyter.widget-view+json": {
       "model_id": "9c3464733f664be8896dd32bdde5a356",
       "version_major": 2,
       "version_minor": 0
      },
      "text/plain": [
       "Validation: 0it [00:00, ?it/s]"
      ]
     },
     "metadata": {},
     "output_type": "display_data"
    },
    {
     "data": {
      "application/vnd.jupyter.widget-view+json": {
       "model_id": "a58db34992f740f094b3ba8b8e3ecd3a",
       "version_major": 2,
       "version_minor": 0
      },
      "text/plain": [
       "Validation: 0it [00:00, ?it/s]"
      ]
     },
     "metadata": {},
     "output_type": "display_data"
    },
    {
     "data": {
      "application/vnd.jupyter.widget-view+json": {
       "model_id": "bd2c677a357142c9bd815f65baff052a",
       "version_major": 2,
       "version_minor": 0
      },
      "text/plain": [
       "Validation: 0it [00:00, ?it/s]"
      ]
     },
     "metadata": {},
     "output_type": "display_data"
    },
    {
     "data": {
      "application/vnd.jupyter.widget-view+json": {
       "model_id": "61a8ae0381c341229890154b6020b9fd",
       "version_major": 2,
       "version_minor": 0
      },
      "text/plain": [
       "Validation: 0it [00:00, ?it/s]"
      ]
     },
     "metadata": {},
     "output_type": "display_data"
    },
    {
     "data": {
      "application/vnd.jupyter.widget-view+json": {
       "model_id": "5dc784bd45bd4ac087c52fdea11436ce",
       "version_major": 2,
       "version_minor": 0
      },
      "text/plain": [
       "Validation: 0it [00:00, ?it/s]"
      ]
     },
     "metadata": {},
     "output_type": "display_data"
    },
    {
     "data": {
      "application/vnd.jupyter.widget-view+json": {
       "model_id": "4dc7d2bcc1f04a34a290c86595b8cd99",
       "version_major": 2,
       "version_minor": 0
      },
      "text/plain": [
       "Validation: 0it [00:00, ?it/s]"
      ]
     },
     "metadata": {},
     "output_type": "display_data"
    },
    {
     "data": {
      "application/vnd.jupyter.widget-view+json": {
       "model_id": "a26e01147c154db78ae5c2c9a7aea6b3",
       "version_major": 2,
       "version_minor": 0
      },
      "text/plain": [
       "Validation: 0it [00:00, ?it/s]"
      ]
     },
     "metadata": {},
     "output_type": "display_data"
    },
    {
     "data": {
      "application/vnd.jupyter.widget-view+json": {
       "model_id": "f42b28d53ac24e61976fe1398eaea473",
       "version_major": 2,
       "version_minor": 0
      },
      "text/plain": [
       "Validation: 0it [00:00, ?it/s]"
      ]
     },
     "metadata": {},
     "output_type": "display_data"
    },
    {
     "data": {
      "application/vnd.jupyter.widget-view+json": {
       "model_id": "355e7c61d8aa4954a67e7b27d3b0fc8c",
       "version_major": 2,
       "version_minor": 0
      },
      "text/plain": [
       "Validation: 0it [00:00, ?it/s]"
      ]
     },
     "metadata": {},
     "output_type": "display_data"
    },
    {
     "data": {
      "application/vnd.jupyter.widget-view+json": {
       "model_id": "eefa7e9609d744d3950a5f5204308b43",
       "version_major": 2,
       "version_minor": 0
      },
      "text/plain": [
       "Validation: 0it [00:00, ?it/s]"
      ]
     },
     "metadata": {},
     "output_type": "display_data"
    },
    {
     "data": {
      "application/vnd.jupyter.widget-view+json": {
       "model_id": "13e9a5b69d104a6d9ecf2c2ddfa75ddb",
       "version_major": 2,
       "version_minor": 0
      },
      "text/plain": [
       "Validation: 0it [00:00, ?it/s]"
      ]
     },
     "metadata": {},
     "output_type": "display_data"
    },
    {
     "data": {
      "application/vnd.jupyter.widget-view+json": {
       "model_id": "2a158b091d3b4536bab8170befa6ad99",
       "version_major": 2,
       "version_minor": 0
      },
      "text/plain": [
       "Validation: 0it [00:00, ?it/s]"
      ]
     },
     "metadata": {},
     "output_type": "display_data"
    },
    {
     "data": {
      "application/vnd.jupyter.widget-view+json": {
       "model_id": "305a8bfbf81e45b19af5afb0e2319b53",
       "version_major": 2,
       "version_minor": 0
      },
      "text/plain": [
       "Validation: 0it [00:00, ?it/s]"
      ]
     },
     "metadata": {},
     "output_type": "display_data"
    },
    {
     "data": {
      "application/vnd.jupyter.widget-view+json": {
       "model_id": "95c574a8dfb84974bc5f4478b7ea77ca",
       "version_major": 2,
       "version_minor": 0
      },
      "text/plain": [
       "Validation: 0it [00:00, ?it/s]"
      ]
     },
     "metadata": {},
     "output_type": "display_data"
    },
    {
     "data": {
      "application/vnd.jupyter.widget-view+json": {
       "model_id": "9d34469e8d104ce8a5475fb3853ba861",
       "version_major": 2,
       "version_minor": 0
      },
      "text/plain": [
       "Validation: 0it [00:00, ?it/s]"
      ]
     },
     "metadata": {},
     "output_type": "display_data"
    },
    {
     "data": {
      "application/vnd.jupyter.widget-view+json": {
       "model_id": "652878475113476a8675c7d4f9832a62",
       "version_major": 2,
       "version_minor": 0
      },
      "text/plain": [
       "Validation: 0it [00:00, ?it/s]"
      ]
     },
     "metadata": {},
     "output_type": "display_data"
    },
    {
     "data": {
      "application/vnd.jupyter.widget-view+json": {
       "model_id": "7a410e830f6a4fafa4438c41de982749",
       "version_major": 2,
       "version_minor": 0
      },
      "text/plain": [
       "Validation: 0it [00:00, ?it/s]"
      ]
     },
     "metadata": {},
     "output_type": "display_data"
    },
    {
     "data": {
      "application/vnd.jupyter.widget-view+json": {
       "model_id": "1a57e530056d487f91272ff35978233b",
       "version_major": 2,
       "version_minor": 0
      },
      "text/plain": [
       "Validation: 0it [00:00, ?it/s]"
      ]
     },
     "metadata": {},
     "output_type": "display_data"
    },
    {
     "data": {
      "application/vnd.jupyter.widget-view+json": {
       "model_id": "d83f54d148644f029c21fca9e2a660d0",
       "version_major": 2,
       "version_minor": 0
      },
      "text/plain": [
       "Validation: 0it [00:00, ?it/s]"
      ]
     },
     "metadata": {},
     "output_type": "display_data"
    },
    {
     "data": {
      "application/vnd.jupyter.widget-view+json": {
       "model_id": "5a9639ad36b349ff8f8ccc4b0825793f",
       "version_major": 2,
       "version_minor": 0
      },
      "text/plain": [
       "Validation: 0it [00:00, ?it/s]"
      ]
     },
     "metadata": {},
     "output_type": "display_data"
    },
    {
     "data": {
      "application/vnd.jupyter.widget-view+json": {
       "model_id": "f7973e3fac124c688cc27c5910b8bbb6",
       "version_major": 2,
       "version_minor": 0
      },
      "text/plain": [
       "Validation: 0it [00:00, ?it/s]"
      ]
     },
     "metadata": {},
     "output_type": "display_data"
    },
    {
     "data": {
      "application/vnd.jupyter.widget-view+json": {
       "model_id": "5a33e526c27b4947861e4e467b64a4f7",
       "version_major": 2,
       "version_minor": 0
      },
      "text/plain": [
       "Validation: 0it [00:00, ?it/s]"
      ]
     },
     "metadata": {},
     "output_type": "display_data"
    },
    {
     "data": {
      "application/vnd.jupyter.widget-view+json": {
       "model_id": "92f1355c56b745e882dab67329eefba1",
       "version_major": 2,
       "version_minor": 0
      },
      "text/plain": [
       "Validation: 0it [00:00, ?it/s]"
      ]
     },
     "metadata": {},
     "output_type": "display_data"
    },
    {
     "data": {
      "application/vnd.jupyter.widget-view+json": {
       "model_id": "310de433aee84d9caec5037a5555b2c2",
       "version_major": 2,
       "version_minor": 0
      },
      "text/plain": [
       "Validation: 0it [00:00, ?it/s]"
      ]
     },
     "metadata": {},
     "output_type": "display_data"
    },
    {
     "data": {
      "application/vnd.jupyter.widget-view+json": {
       "model_id": "ae0f760223c24c4a94d9b971e017c047",
       "version_major": 2,
       "version_minor": 0
      },
      "text/plain": [
       "Validation: 0it [00:00, ?it/s]"
      ]
     },
     "metadata": {},
     "output_type": "display_data"
    },
    {
     "data": {
      "application/vnd.jupyter.widget-view+json": {
       "model_id": "1438154aae114848906e158cffb8f74b",
       "version_major": 2,
       "version_minor": 0
      },
      "text/plain": [
       "Validation: 0it [00:00, ?it/s]"
      ]
     },
     "metadata": {},
     "output_type": "display_data"
    },
    {
     "data": {
      "application/vnd.jupyter.widget-view+json": {
       "model_id": "6fe19594c1014c71a6685bfb435724a8",
       "version_major": 2,
       "version_minor": 0
      },
      "text/plain": [
       "Validation: 0it [00:00, ?it/s]"
      ]
     },
     "metadata": {},
     "output_type": "display_data"
    },
    {
     "data": {
      "application/vnd.jupyter.widget-view+json": {
       "model_id": "e0672b74afcd447c9f6065a80f593ecd",
       "version_major": 2,
       "version_minor": 0
      },
      "text/plain": [
       "Validation: 0it [00:00, ?it/s]"
      ]
     },
     "metadata": {},
     "output_type": "display_data"
    },
    {
     "data": {
      "application/vnd.jupyter.widget-view+json": {
       "model_id": "79ed46d96a9b45da8a781c0b366b9a0f",
       "version_major": 2,
       "version_minor": 0
      },
      "text/plain": [
       "Validation: 0it [00:00, ?it/s]"
      ]
     },
     "metadata": {},
     "output_type": "display_data"
    },
    {
     "data": {
      "application/vnd.jupyter.widget-view+json": {
       "model_id": "3f873f81d7464935a4ba5aed2f30f053",
       "version_major": 2,
       "version_minor": 0
      },
      "text/plain": [
       "Validation: 0it [00:00, ?it/s]"
      ]
     },
     "metadata": {},
     "output_type": "display_data"
    },
    {
     "name": "stderr",
     "output_type": "stream",
     "text": [
      "`Trainer.fit` stopped: `max_epochs=100` reached.\n"
     ]
    }
   ],
   "source": [
    "seed_everything(1)\n",
    "trainer = pl.Trainer(\n",
    "    max_epochs=epochs,\n",
    "    log_every_n_steps=1,\n",
    "    callbacks=[LearningRateFinder(), MetricTracker()],\n",
    ")\n",
    "\n",
    "trainer.fit(model, tr_dl, va_dl)"
   ]
  },
  {
   "cell_type": "code",
   "execution_count": 23,
   "metadata": {
    "execution": {
     "iopub.execute_input": "2023-08-09T14:41:19.416665Z",
     "iopub.status.busy": "2023-08-09T14:41:19.416119Z",
     "iopub.status.idle": "2023-08-09T14:41:19.491564Z",
     "shell.execute_reply": "2023-08-09T14:41:19.489243Z",
     "shell.execute_reply.started": "2023-08-09T14:41:19.416596Z"
    }
   },
   "outputs": [],
   "source": [
    "# %reload_ext tensorboard\n",
    "# %tensorboard --logdir=lightning_logs/"
   ]
  },
  {
   "cell_type": "code",
   "execution_count": 24,
   "metadata": {
    "execution": {
     "iopub.execute_input": "2023-08-09T14:41:19.495544Z",
     "iopub.status.busy": "2023-08-09T14:41:19.494231Z",
     "iopub.status.idle": "2023-08-09T14:41:19.604836Z",
     "shell.execute_reply": "2023-08-09T14:41:19.603248Z",
     "shell.execute_reply.started": "2023-08-09T14:41:19.495450Z"
    }
   },
   "outputs": [],
   "source": [
    "mt = trainer.callbacks[1]"
   ]
  },
  {
   "cell_type": "code",
   "execution_count": 25,
   "metadata": {
    "execution": {
     "iopub.execute_input": "2023-08-09T14:41:19.608446Z",
     "iopub.status.busy": "2023-08-09T14:41:19.607173Z",
     "iopub.status.idle": "2023-08-09T14:41:19.933175Z",
     "shell.execute_reply": "2023-08-09T14:41:19.931846Z",
     "shell.execute_reply.started": "2023-08-09T14:41:19.608341Z"
    }
   },
   "outputs": [],
   "source": [
    "from copy import deepcopy\n",
    "res = deepcopy(mt.collection)\n",
    "for r in res:\n",
    "    for k, v in r.items():\n",
    "        if type(v) == torch.Tensor:\n",
    "            r[k] = np.float32(v.cpu())\n",
    "        else:\n",
    "            r[k] = np.float32(v)\n",
    "res = pd.DataFrame(res)"
   ]
  },
  {
   "cell_type": "code",
   "execution_count": 26,
   "metadata": {
    "execution": {
     "iopub.execute_input": "2023-08-09T14:41:19.936007Z",
     "iopub.status.busy": "2023-08-09T14:41:19.935277Z",
     "iopub.status.idle": "2023-08-09T14:41:23.034079Z",
     "shell.execute_reply": "2023-08-09T14:41:23.032043Z",
     "shell.execute_reply.started": "2023-08-09T14:41:19.935940Z"
    }
   },
   "outputs": [
    {
     "data": {
      "image/png": "[encoded data removed]",
      "text/plain": [
       "<Figure size 800x800 with 4 Axes>"
      ]
     },
     "metadata": {},
     "output_type": "display_data"
    }
   ],
   "source": [
    "fig, axs = plt.subplots(2, 2, figsize=(8, 8))\n",
    "\n",
    "plt.sca(axs[0, 0])\n",
    "plt.plot(res[\"train_loss\"], label=\"Train\")\n",
    "plt.plot(res[\"val_loss\"], label=\"Validation\")\n",
    "plt.title(\"Loss\")\n",
    "plt.xlabel(\"Epoch\")\n",
    "plt.legend()\n",
    "plt.sca(axs[0, 1])\n",
    "plt.plot(res[\"train_f1\"], label=\"Train\")\n",
    "plt.plot(res[\"val_f1\"], label=\"Validation\")\n",
    "plt.title(\"F1\")\n",
    "plt.xlabel(\"Epoch\")\n",
    "plt.legend()\n",
    "plt.sca(axs[1, 0])\n",
    "plt.plot(res[\"train_precision\"], label=\"Train\")\n",
    "plt.plot(res[\"val_precision\"], label=\"Validation\")\n",
    "plt.title(\"Precision\")\n",
    "plt.xlabel(\"Epoch\")\n",
    "plt.legend()\n",
    "plt.sca(axs[1, 1])\n",
    "plt.plot(res[\"train_recall\"], label=\"Train\")\n",
    "plt.plot(res[\"val_recall\"], label=\"Validation\")\n",
    "plt.title(\"Recall\")\n",
    "plt.xlabel(\"Epoch\")\n",
    "plt.legend()\n",
    "fig.tight_layout();"
   ]
  },
  {
   "cell_type": "code",
   "execution_count": 27,
   "metadata": {
    "execution": {
     "iopub.execute_input": "2023-08-09T14:41:23.036109Z",
     "iopub.status.busy": "2023-08-09T14:41:23.035677Z",
     "iopub.status.idle": "2023-08-09T14:41:23.131900Z",
     "shell.execute_reply": "2023-08-09T14:41:23.129372Z",
     "shell.execute_reply.started": "2023-08-09T14:41:23.036073Z"
    }
   },
   "outputs": [
    {
     "data": {
      "text/plain": [
       "TransformerAnomalyDetector(\n",
       "  (front_linear): Linear(in_features=2, out_features=8, bias=True)\n",
       "  (positional_encoder): Identity()\n",
       "  (transformer_encoder): TransformerEncoder(\n",
       "    (layers): ModuleList(\n",
       "      (0): EncoderBlock(\n",
       "        (self_attn): MultiheadAttention(\n",
       "          (qkv_proj): Linear(in_features=8, out_features=24, bias=False)\n",
       "          (o_proj): Linear(in_features=8, out_features=8, bias=True)\n",
       "        )\n",
       "        (linear_net): Sequential(\n",
       "          (0): Linear(in_features=8, out_features=16, bias=True)\n",
       "          (1): Dropout(p=0.0, inplace=False)\n",
       "          (2): ReLU(inplace=True)\n",
       "          (3): Linear(in_features=16, out_features=8, bias=True)\n",
       "        )\n",
       "        (norm1): Identity()\n",
       "        (norm2): Identity()\n",
       "        (dropout): Dropout(p=0.0, inplace=False)\n",
       "      )\n",
       "    )\n",
       "  )\n",
       "  (final_linear): Linear(in_features=8, out_features=1, bias=True)\n",
       "  (loss_fn): BCEWithLogitsLoss()\n",
       ")"
      ]
     },
     "execution_count": 27,
     "metadata": {},
     "output_type": "execute_result"
    }
   ],
   "source": [
    "model"
   ]
  },
  {
   "cell_type": "markdown",
   "metadata": {},
   "source": [
    "### export model weights"
   ]
  },
  {
   "cell_type": "code",
   "execution_count": 28,
   "metadata": {
    "execution": {
     "iopub.execute_input": "2023-08-09T14:41:23.148466Z",
     "iopub.status.busy": "2023-08-09T14:41:23.147716Z",
     "iopub.status.idle": "2023-08-09T14:41:23.245652Z",
     "shell.execute_reply": "2023-08-09T14:41:23.242652Z",
     "shell.execute_reply.started": "2023-08-09T14:41:23.148397Z"
    }
   },
   "outputs": [
    {
     "name": "stdout",
     "output_type": "stream",
     "text": [
      "Model's state_dict:\n",
      "front_linear.weight \t torch.Size([8, 2])\n",
      "front_linear.bias \t torch.Size([8])\n",
      "transformer_encoder.layers.0.self_attn.qkv_proj.weight \t torch.Size([24, 8])\n",
      "transformer_encoder.layers.0.self_attn.o_proj.weight \t torch.Size([8, 8])\n",
      "transformer_encoder.layers.0.self_attn.o_proj.bias \t torch.Size([8])\n",
      "transformer_encoder.layers.0.linear_net.0.weight \t torch.Size([16, 8])\n",
      "transformer_encoder.layers.0.linear_net.0.bias \t torch.Size([16])\n",
      "transformer_encoder.layers.0.linear_net.3.weight \t torch.Size([8, 16])\n",
      "transformer_encoder.layers.0.linear_net.3.bias \t torch.Size([8])\n",
      "final_linear.weight \t torch.Size([1, 8])\n",
      "final_linear.bias \t torch.Size([1])\n",
      "loss_fn.pos_weight \t torch.Size([])\n"
     ]
    }
   ],
   "source": [
    "# Print model's state_dict\n",
    "print(\"Model's state_dict:\")\n",
    "for param_tensor in model.state_dict():\n",
    "    print(param_tensor, \"\\t\", model.state_dict()[param_tensor].size())"
   ]
  },
  {
   "cell_type": "markdown",
   "metadata": {},
   "source": [
    "https://stackoverflow.com/questions/2117313/initializing-constant-static-array-in-header-file"
   ]
  },
  {
   "cell_type": "code",
   "execution_count": 29,
   "metadata": {
    "execution": {
     "iopub.execute_input": "2023-08-09T14:41:23.248946Z",
     "iopub.status.busy": "2023-08-09T14:41:23.248144Z",
     "iopub.status.idle": "2023-08-09T14:41:23.350673Z",
     "shell.execute_reply": "2023-08-09T14:41:23.348350Z",
     "shell.execute_reply.started": "2023-08-09T14:41:23.248868Z"
    }
   },
   "outputs": [],
   "source": [
    "# template_params = 'const static char %s[];'\n",
    "# with open('../vitis_hls/transformer/scaled_dp_params.h', 'w') as f:\n",
    "#     for name, param in model.named_parameters():\n",
    "#         n = name.upper()\n",
    "#         # s = n.split('.')\n",
    "#         n = n.replace('.', '_')\n",
    "#         # p = [f'{x:.6f}' for x in param.ravel().detach().numpy()]\n",
    "#         # p = ', '.join(p)\n",
    "#         print(template_params % (n), file=f)"
   ]
  },
  {
   "cell_type": "code",
   "execution_count": 30,
   "metadata": {
    "execution": {
     "iopub.execute_input": "2023-08-09T14:41:23.354414Z",
     "iopub.status.busy": "2023-08-09T14:41:23.353597Z",
     "iopub.status.idle": "2023-08-09T14:41:23.483985Z",
     "shell.execute_reply": "2023-08-09T14:41:23.482496Z",
     "shell.execute_reply.started": "2023-08-09T14:41:23.354341Z"
    }
   },
   "outputs": [],
   "source": [
    "template_params = 'inline constexpr static double %s[%s] = {%s};'\n",
    "with open('../vitis_hls/transformer/scaled_dp_params.h', 'w') as f:\n",
    "    for name, param in model.named_parameters():\n",
    "        n = name.upper()\n",
    "        # s = param.size()\n",
    "        n = n.replace('.', '_')\n",
    "        p = [f'{x:.6f}' for x in param.ravel().detach().numpy()]\n",
    "        l = len(p)\n",
    "        p = ', '.join(p)\n",
    "        print(template_params % (n, l, p), file=f)"
   ]
  },
  {
   "cell_type": "code",
   "execution_count": 194,
   "metadata": {
    "execution": {
     "iopub.execute_input": "2023-08-09T15:55:55.199803Z",
     "iopub.status.busy": "2023-08-09T15:55:55.198085Z",
     "iopub.status.idle": "2023-08-09T15:55:55.319221Z",
     "shell.execute_reply": "2023-08-09T15:55:55.317636Z",
     "shell.execute_reply.started": "2023-08-09T15:55:55.199709Z"
    }
   },
   "outputs": [
    {
     "data": {
      "text/plain": [
       "tensor([-380.4305], grad_fn=<SelectBackward0>)"
      ]
     },
     "execution_count": 194,
     "metadata": {},
     "output_type": "execute_result"
    }
   ],
   "source": [
    "xx = torch.tensor([[\n",
    "    [-1, -1],\n",
    "    [-1, 0],\n",
    "    [-1, 1],\n",
    "    [0, -1],\n",
    "    [0, 0],\n",
    "    [0, 1],\n",
    "    [1, -1],\n",
    "    [1, 1],\n",
    "]]).float()\n",
    "model(xx)"
   ]
  },
  {
   "cell_type": "code",
   "execution_count": 197,
   "metadata": {
    "execution": {
     "iopub.execute_input": "2023-08-09T15:56:01.436795Z",
     "iopub.status.busy": "2023-08-09T15:56:01.436166Z",
     "iopub.status.idle": "2023-08-09T15:56:01.547312Z",
     "shell.execute_reply": "2023-08-09T15:56:01.545554Z",
     "shell.execute_reply.started": "2023-08-09T15:56:01.436750Z"
    }
   },
   "outputs": [
    {
     "data": {
      "text/plain": [
       "torch.Size([1, 8, 2])"
      ]
     },
     "execution_count": 197,
     "metadata": {},
     "output_type": "execute_result"
    }
   ],
   "source": [
    "xx.shape"
   ]
  },
  {
   "cell_type": "code",
   "execution_count": 198,
   "metadata": {
    "execution": {
     "iopub.execute_input": "2023-08-09T15:56:01.679827Z",
     "iopub.status.busy": "2023-08-09T15:56:01.678887Z",
     "iopub.status.idle": "2023-08-09T15:56:01.758265Z",
     "shell.execute_reply": "2023-08-09T15:56:01.756436Z",
     "shell.execute_reply.started": "2023-08-09T15:56:01.679786Z"
    }
   },
   "outputs": [
    {
     "data": {
      "text/plain": [
       "torch.Size([46471, 8, 2])"
      ]
     },
     "execution_count": 198,
     "metadata": {},
     "output_type": "execute_result"
    }
   ],
   "source": [
    "x.shape"
   ]
  },
  {
   "cell_type": "code",
   "execution_count": 199,
   "metadata": {
    "execution": {
     "iopub.execute_input": "2023-08-09T15:56:01.935861Z",
     "iopub.status.busy": "2023-08-09T15:56:01.935330Z",
     "iopub.status.idle": "2023-08-09T15:56:02.023193Z",
     "shell.execute_reply": "2023-08-09T15:56:02.021130Z",
     "shell.execute_reply.started": "2023-08-09T15:56:01.935799Z"
    }
   },
   "outputs": [
    {
     "data": {
      "text/plain": [
       "Parameter containing:\n",
       "tensor([-1.5798, -1.6944,  1.3281, -1.5924,  1.4990,  1.9689, -2.0515,  1.2272],\n",
       "       requires_grad=True)"
      ]
     },
     "execution_count": 199,
     "metadata": {},
     "output_type": "execute_result"
    }
   ],
   "source": [
    "model.front_linear.bias"
   ]
  },
  {
   "cell_type": "code",
   "execution_count": 200,
   "metadata": {
    "execution": {
     "iopub.execute_input": "2023-08-09T15:56:02.149377Z",
     "iopub.status.busy": "2023-08-09T15:56:02.148923Z",
     "iopub.status.idle": "2023-08-09T15:56:02.235808Z",
     "shell.execute_reply": "2023-08-09T15:56:02.233367Z",
     "shell.execute_reply.started": "2023-08-09T15:56:02.149340Z"
    }
   },
   "outputs": [
    {
     "data": {
      "text/plain": [
       "torch.Size([8, 2])"
      ]
     },
     "execution_count": 200,
     "metadata": {},
     "output_type": "execute_result"
    }
   ],
   "source": [
    "model.front_linear.state_dict()['weight'].shape"
   ]
  },
  {
   "cell_type": "code",
   "execution_count": 201,
   "metadata": {
    "execution": {
     "iopub.execute_input": "2023-08-09T15:56:02.372827Z",
     "iopub.status.busy": "2023-08-09T15:56:02.371531Z",
     "iopub.status.idle": "2023-08-09T15:56:02.462330Z",
     "shell.execute_reply": "2023-08-09T15:56:02.460276Z",
     "shell.execute_reply.started": "2023-08-09T15:56:02.372780Z"
    }
   },
   "outputs": [
    {
     "name": "stdout",
     "output_type": "stream",
     "text": [
      "tensor([[[-3.1913, -2.5451, -0.1931,  0.0404, -0.4566, -7.3933,  2.1645,\n",
      "          -0.3779],\n",
      "         [-3.7782, -1.4112, -0.6727, -0.4517, -0.2209, -2.9857, -0.9900,\n",
      "           0.4062],\n",
      "         [-4.3650, -0.2773, -1.1522, -0.9439,  0.0149,  1.4219, -4.1444,\n",
      "           1.1903],\n",
      "         [-0.9930, -2.8283,  1.8076, -1.1002,  1.2632, -2.4386,  1.1029,\n",
      "           0.4431],\n",
      "         [-1.5798, -1.6944,  1.3281, -1.5924,  1.4990,  1.9689, -2.0515,\n",
      "           1.2272],\n",
      "         [-2.1666, -0.5605,  0.8485, -2.0845,  1.7347,  6.3765, -5.2059,\n",
      "           2.0113],\n",
      "         [ 1.2054, -3.1116,  3.8084, -2.2409,  2.9831,  2.5160,  0.0414,\n",
      "           1.2640],\n",
      "         [ 0.0317, -0.8438,  2.8493, -3.2252,  3.4546, 11.3312, -6.2675,\n",
      "           2.8322]]], grad_fn=<ViewBackward0>)\n"
     ]
    }
   ],
   "source": [
    "yy = model.front_linear(xx)\n",
    "print(yy)"
   ]
  },
  {
   "cell_type": "markdown",
   "metadata": {},
   "source": [
    "done"
   ]
  },
  {
   "cell_type": "code",
   "execution_count": 202,
   "metadata": {
    "execution": {
     "iopub.execute_input": "2023-08-09T15:56:02.884522Z",
     "iopub.status.busy": "2023-08-09T15:56:02.883922Z",
     "iopub.status.idle": "2023-08-09T15:56:02.976097Z",
     "shell.execute_reply": "2023-08-09T15:56:02.974693Z",
     "shell.execute_reply.started": "2023-08-09T15:56:02.884465Z"
    }
   },
   "outputs": [
    {
     "name": "stdout",
     "output_type": "stream",
     "text": [
      "torch.Size([1, 8, 24]) tensor([[[ -33.5481,    9.2566,   25.4986,  -17.2465,   13.1930,   30.2985,\n",
      "           -92.0975,   75.7429,   -3.7517,   29.1503,   50.7910,   -8.9441,\n",
      "            89.1013,   85.7146,  -82.7606,   85.5375,  -95.0498, -100.0984,\n",
      "            95.3735, -102.9694,  -15.1288,   27.6228,   42.6393,  -31.6701],\n",
      "         [ -24.8645,   19.2043,  -10.8935,   15.7514,    3.4433,   16.1635,\n",
      "           -51.8662,   44.5912,   -2.6677,    9.2814,   17.4913,   -2.2519,\n",
      "            40.9407,   37.7256,  -36.2988,   37.0090,  -33.9919,  -42.1526,\n",
      "            38.0220,  -39.9970,   -2.2420,    5.2199,   30.7642,  -11.5242],\n",
      "         [ -16.1810,   29.1519,  -47.2857,   48.7494,   -6.3065,    2.0284,\n",
      "           -11.6348,   13.4396,   -1.5837,  -10.5876,  -15.8084,    4.4402,\n",
      "            -7.2200,  -10.2635,   10.1629,  -11.5196,   27.0661,   15.7932,\n",
      "           -19.3295,   22.9754,   10.6448,  -17.1830,   18.8890,    8.6217],\n",
      "         [ -28.8882,   23.2678,  -14.9680,   17.3817,   12.5814,    3.8383,\n",
      "           -37.7200,   22.8085,  -12.0590,   15.3080,   29.0489,    0.8271,\n",
      "            23.2402,   24.3900,  -22.9398,   22.3835,  -50.5205,  -54.4926,\n",
      "            51.0891,  -55.7221,   -3.4142,    8.6378,   34.6535,  -14.1775],\n",
      "         [ -20.2047,   33.2155,  -51.3601,   50.3796,    2.8316,  -10.2967,\n",
      "             2.5114,   -8.3432,  -10.9750,   -4.5610,   -4.2508,    7.5193,\n",
      "           -24.9204,  -23.5990,   23.5219,  -26.1451,   10.5374,    3.4532,\n",
      "            -6.2625,    7.2503,    9.4726,  -13.7651,   22.7783,    5.9685],\n",
      "         [ -11.5212,   43.1631,  -87.7523,   83.3776,   -6.9181,  -24.4318,\n",
      "            42.7427,  -39.4948,   -9.8910,  -24.4299,  -37.5505,   14.2114,\n",
      "           -73.0811,  -71.5881,   69.9836,  -74.6737,   71.5953,   61.3990,\n",
      "           -63.6140,   70.2226,   22.3594,  -36.1680,   10.9032,   26.1144],\n",
      "         [ -24.2284,   37.2790,  -55.4346,   52.0099,   11.9697,  -22.6219,\n",
      "            16.6576,  -30.1259,  -20.3663,    1.4656,    7.3067,   10.5983,\n",
      "           -42.6209,  -36.9346,   36.8809,  -40.7706,   -5.9913,   -8.8868,\n",
      "             6.8046,   -8.4748,    8.3003,  -10.3473,   26.6677,    3.3152],\n",
      "         [  -6.8614,   57.1742, -128.2189,  118.0058,   -7.5298,  -50.8920,\n",
      "            97.1203,  -92.4292,  -18.1982,  -38.2723,  -59.2927,   23.9826,\n",
      "          -138.9421, -132.9127,  129.8044, -137.8278,  116.1245,  107.0048,\n",
      "          -107.8984,  117.4699,   34.0740,  -55.1530,    2.9174,   43.6071]]],\n",
      "       grad_fn=<UnsafeViewBackward0>)\n"
     ]
    }
   ],
   "source": [
    "qkv = model.transformer_encoder.layers[0].self_attn.qkv_proj(yy)\n",
    "print(qkv.shape, qkv)"
   ]
  },
  {
   "cell_type": "markdown",
   "metadata": {},
   "source": [
    "done"
   ]
  },
  {
   "cell_type": "code",
   "execution_count": 203,
   "metadata": {
    "execution": {
     "iopub.execute_input": "2023-08-09T15:56:04.646826Z",
     "iopub.status.busy": "2023-08-09T15:56:04.646052Z",
     "iopub.status.idle": "2023-08-09T15:56:04.721152Z",
     "shell.execute_reply": "2023-08-09T15:56:04.719303Z",
     "shell.execute_reply.started": "2023-08-09T15:56:04.646788Z"
    }
   },
   "outputs": [
    {
     "data": {
      "text/plain": [
       "torch.Size([1, 8, 24])"
      ]
     },
     "execution_count": 203,
     "metadata": {},
     "output_type": "execute_result"
    }
   ],
   "source": [
    "qkv.shape"
   ]
  },
  {
   "cell_type": "code",
   "execution_count": 204,
   "metadata": {
    "execution": {
     "iopub.execute_input": "2023-08-09T15:56:05.140195Z",
     "iopub.status.busy": "2023-08-09T15:56:05.138819Z",
     "iopub.status.idle": "2023-08-09T15:56:05.245645Z",
     "shell.execute_reply": "2023-08-09T15:56:05.243467Z",
     "shell.execute_reply.started": "2023-08-09T15:56:05.140117Z"
    }
   },
   "outputs": [
    {
     "name": "stdout",
     "output_type": "stream",
     "text": [
      "tensor([[[[ -33.5481,    9.2566,   25.4986,  -17.2465,   13.1930,   30.2985,\n",
      "            -92.0975,   75.7429,   -3.7517,   29.1503,   50.7910,   -8.9441],\n",
      "          [ -24.8645,   19.2043,  -10.8935,   15.7514,    3.4433,   16.1635,\n",
      "            -51.8662,   44.5912,   -2.6677,    9.2814,   17.4913,   -2.2519],\n",
      "          [ -16.1810,   29.1519,  -47.2857,   48.7494,   -6.3065,    2.0284,\n",
      "            -11.6348,   13.4396,   -1.5837,  -10.5876,  -15.8084,    4.4402],\n",
      "          [ -28.8882,   23.2678,  -14.9680,   17.3817,   12.5814,    3.8383,\n",
      "            -37.7200,   22.8085,  -12.0590,   15.3080,   29.0489,    0.8271],\n",
      "          [ -20.2047,   33.2155,  -51.3601,   50.3796,    2.8316,  -10.2967,\n",
      "              2.5114,   -8.3432,  -10.9750,   -4.5610,   -4.2508,    7.5193],\n",
      "          [ -11.5212,   43.1631,  -87.7523,   83.3776,   -6.9181,  -24.4318,\n",
      "             42.7427,  -39.4948,   -9.8910,  -24.4299,  -37.5505,   14.2114],\n",
      "          [ -24.2284,   37.2790,  -55.4346,   52.0099,   11.9697,  -22.6219,\n",
      "             16.6576,  -30.1259,  -20.3663,    1.4656,    7.3067,   10.5983],\n",
      "          [  -6.8614,   57.1742, -128.2189,  118.0058,   -7.5298,  -50.8920,\n",
      "             97.1203,  -92.4292,  -18.1982,  -38.2723,  -59.2927,   23.9826]],\n",
      "\n",
      "         [[  89.1013,   85.7146,  -82.7606,   85.5375,  -95.0498, -100.0984,\n",
      "             95.3735, -102.9694,  -15.1288,   27.6228,   42.6393,  -31.6701],\n",
      "          [  40.9407,   37.7256,  -36.2988,   37.0090,  -33.9919,  -42.1526,\n",
      "             38.0220,  -39.9970,   -2.2420,    5.2199,   30.7642,  -11.5242],\n",
      "          [  -7.2200,  -10.2635,   10.1629,  -11.5196,   27.0661,   15.7932,\n",
      "            -19.3295,   22.9754,   10.6448,  -17.1830,   18.8890,    8.6217],\n",
      "          [  23.2402,   24.3900,  -22.9398,   22.3835,  -50.5205,  -54.4926,\n",
      "             51.0891,  -55.7221,   -3.4142,    8.6378,   34.6535,  -14.1775],\n",
      "          [ -24.9204,  -23.5990,   23.5219,  -26.1451,   10.5374,    3.4532,\n",
      "             -6.2625,    7.2503,    9.4726,  -13.7651,   22.7783,    5.9685],\n",
      "          [ -73.0811,  -71.5881,   69.9836,  -74.6737,   71.5953,   61.3990,\n",
      "            -63.6140,   70.2226,   22.3594,  -36.1680,   10.9032,   26.1144],\n",
      "          [ -42.6209,  -36.9346,   36.8809,  -40.7706,   -5.9913,   -8.8868,\n",
      "              6.8046,   -8.4748,    8.3003,  -10.3473,   26.6677,    3.3152],\n",
      "          [-138.9421, -132.9127,  129.8044, -137.8278,  116.1245,  107.0048,\n",
      "           -107.8984,  117.4699,   34.0740,  -55.1530,    2.9174,   43.6071]]]],\n",
      "       grad_fn=<PermuteBackward0>)\n"
     ]
    }
   ],
   "source": [
    "batch_size = 1\n",
    "seq_length = 8\n",
    "qkv = qkv.reshape(batch_size, seq_length, 2, 3 * 4)\n",
    "# print(qkv)\n",
    "qkv = qkv.permute(0, 2, 1, 3)\n",
    "print(qkv)\n",
    "q, k, v = qkv.chunk(3, dim=-1)"
   ]
  },
  {
   "cell_type": "code",
   "execution_count": 205,
   "metadata": {
    "execution": {
     "iopub.execute_input": "2023-08-09T15:56:06.809327Z",
     "iopub.status.busy": "2023-08-09T15:56:06.808587Z",
     "iopub.status.idle": "2023-08-09T15:56:06.906018Z",
     "shell.execute_reply": "2023-08-09T15:56:06.903928Z",
     "shell.execute_reply.started": "2023-08-09T15:56:06.809262Z"
    }
   },
   "outputs": [
    {
     "data": {
      "text/plain": [
       "torch.Size([1, 2, 8, 4])"
      ]
     },
     "execution_count": 205,
     "metadata": {},
     "output_type": "execute_result"
    }
   ],
   "source": [
    "q.shape"
   ]
  },
  {
   "cell_type": "code",
   "execution_count": 206,
   "metadata": {
    "execution": {
     "iopub.execute_input": "2023-08-09T15:56:07.053108Z",
     "iopub.status.busy": "2023-08-09T15:56:07.051241Z",
     "iopub.status.idle": "2023-08-09T15:56:07.148885Z",
     "shell.execute_reply": "2023-08-09T15:56:07.147285Z",
     "shell.execute_reply.started": "2023-08-09T15:56:07.053042Z"
    }
   },
   "outputs": [
    {
     "data": {
      "text/plain": [
       "tensor([[[[ -33.5481,    9.2566,   25.4986,  -17.2465],\n",
       "          [ -24.8645,   19.2043,  -10.8935,   15.7514],\n",
       "          [ -16.1810,   29.1519,  -47.2857,   48.7494],\n",
       "          [ -28.8882,   23.2678,  -14.9680,   17.3817],\n",
       "          [ -20.2047,   33.2155,  -51.3601,   50.3796],\n",
       "          [ -11.5212,   43.1631,  -87.7523,   83.3776],\n",
       "          [ -24.2284,   37.2790,  -55.4346,   52.0099],\n",
       "          [  -6.8614,   57.1742, -128.2189,  118.0058]],\n",
       "\n",
       "         [[  89.1013,   85.7146,  -82.7606,   85.5375],\n",
       "          [  40.9407,   37.7256,  -36.2988,   37.0090],\n",
       "          [  -7.2200,  -10.2635,   10.1629,  -11.5196],\n",
       "          [  23.2402,   24.3900,  -22.9398,   22.3835],\n",
       "          [ -24.9204,  -23.5990,   23.5219,  -26.1451],\n",
       "          [ -73.0811,  -71.5881,   69.9836,  -74.6737],\n",
       "          [ -42.6209,  -36.9346,   36.8809,  -40.7706],\n",
       "          [-138.9421, -132.9127,  129.8044, -137.8278]]]],\n",
       "       grad_fn=<SplitBackward0>)"
      ]
     },
     "execution_count": 206,
     "metadata": {},
     "output_type": "execute_result"
    }
   ],
   "source": [
    "q"
   ]
  },
  {
   "cell_type": "code",
   "execution_count": 207,
   "metadata": {
    "execution": {
     "iopub.execute_input": "2023-08-09T15:56:07.258273Z",
     "iopub.status.busy": "2023-08-09T15:56:07.256696Z",
     "iopub.status.idle": "2023-08-09T15:56:07.376573Z",
     "shell.execute_reply": "2023-08-09T15:56:07.373968Z",
     "shell.execute_reply.started": "2023-08-09T15:56:07.258213Z"
    }
   },
   "outputs": [
    {
     "data": {
      "text/plain": [
       "tensor([[[[  13.1930,   30.2985,  -92.0975,   75.7429],\n",
       "          [   3.4433,   16.1635,  -51.8662,   44.5912],\n",
       "          [  -6.3065,    2.0284,  -11.6348,   13.4396],\n",
       "          [  12.5814,    3.8383,  -37.7200,   22.8085],\n",
       "          [   2.8316,  -10.2967,    2.5114,   -8.3432],\n",
       "          [  -6.9181,  -24.4318,   42.7427,  -39.4948],\n",
       "          [  11.9697,  -22.6219,   16.6576,  -30.1259],\n",
       "          [  -7.5298,  -50.8920,   97.1203,  -92.4292]],\n",
       "\n",
       "         [[ -95.0498, -100.0984,   95.3735, -102.9694],\n",
       "          [ -33.9919,  -42.1526,   38.0220,  -39.9970],\n",
       "          [  27.0661,   15.7932,  -19.3295,   22.9754],\n",
       "          [ -50.5205,  -54.4926,   51.0891,  -55.7221],\n",
       "          [  10.5374,    3.4532,   -6.2625,    7.2503],\n",
       "          [  71.5953,   61.3990,  -63.6140,   70.2226],\n",
       "          [  -5.9913,   -8.8868,    6.8046,   -8.4748],\n",
       "          [ 116.1245,  107.0048, -107.8984,  117.4699]]]],\n",
       "       grad_fn=<SplitBackward0>)"
      ]
     },
     "execution_count": 207,
     "metadata": {},
     "output_type": "execute_result"
    }
   ],
   "source": [
    "k"
   ]
  },
  {
   "cell_type": "code",
   "execution_count": 208,
   "metadata": {
    "execution": {
     "iopub.execute_input": "2023-08-09T15:56:07.473899Z",
     "iopub.status.busy": "2023-08-09T15:56:07.472719Z",
     "iopub.status.idle": "2023-08-09T15:56:07.570818Z",
     "shell.execute_reply": "2023-08-09T15:56:07.569482Z",
     "shell.execute_reply.started": "2023-08-09T15:56:07.473839Z"
    }
   },
   "outputs": [
    {
     "data": {
      "text/plain": [
       "tensor([[[[ -3.7517,  29.1503,  50.7910,  -8.9441],\n",
       "          [ -2.6677,   9.2814,  17.4913,  -2.2519],\n",
       "          [ -1.5837, -10.5876, -15.8084,   4.4402],\n",
       "          [-12.0590,  15.3080,  29.0489,   0.8271],\n",
       "          [-10.9750,  -4.5610,  -4.2508,   7.5193],\n",
       "          [ -9.8910, -24.4299, -37.5505,  14.2114],\n",
       "          [-20.3663,   1.4656,   7.3067,  10.5983],\n",
       "          [-18.1982, -38.2723, -59.2927,  23.9826]],\n",
       "\n",
       "         [[-15.1288,  27.6228,  42.6393, -31.6701],\n",
       "          [ -2.2420,   5.2199,  30.7642, -11.5242],\n",
       "          [ 10.6448, -17.1830,  18.8890,   8.6217],\n",
       "          [ -3.4142,   8.6378,  34.6535, -14.1775],\n",
       "          [  9.4726, -13.7651,  22.7783,   5.9685],\n",
       "          [ 22.3594, -36.1680,  10.9032,  26.1144],\n",
       "          [  8.3003, -10.3473,  26.6677,   3.3152],\n",
       "          [ 34.0740, -55.1530,   2.9174,  43.6071]]]],\n",
       "       grad_fn=<SplitBackward0>)"
      ]
     },
     "execution_count": 208,
     "metadata": {},
     "output_type": "execute_result"
    }
   ],
   "source": [
    "v"
   ]
  },
  {
   "cell_type": "markdown",
   "metadata": {},
   "source": [
    "done"
   ]
  },
  {
   "cell_type": "code",
   "execution_count": 209,
   "metadata": {
    "execution": {
     "iopub.execute_input": "2023-08-09T15:56:08.883452Z",
     "iopub.status.busy": "2023-08-09T15:56:08.882508Z",
     "iopub.status.idle": "2023-08-09T15:56:08.965691Z",
     "shell.execute_reply": "2023-08-09T15:56:08.963157Z",
     "shell.execute_reply.started": "2023-08-09T15:56:08.883373Z"
    }
   },
   "outputs": [],
   "source": [
    "import math\n",
    "import torch.nn.functional as F\n",
    "d_k = q.size()[-1]\n",
    "attn_logits = torch.matmul(q, k.transpose(-2, -1))  # [Batch, Head, SeqLen, SeqLen]\n",
    "attn_logits = attn_logits / math.sqrt(d_k)\n",
    "attention = F.softmax(attn_logits, dim=-1)  # [Batch, Head, SeqLen, SeqLen]"
   ]
  },
  {
   "cell_type": "code",
   "execution_count": 210,
   "metadata": {
    "execution": {
     "iopub.execute_input": "2023-08-09T15:56:10.072432Z",
     "iopub.status.busy": "2023-08-09T15:56:10.071140Z",
     "iopub.status.idle": "2023-08-09T15:56:10.168419Z",
     "shell.execute_reply": "2023-08-09T15:56:10.166393Z",
     "shell.execute_reply.started": "2023-08-09T15:56:10.072365Z"
    }
   },
   "outputs": [
    {
     "data": {
      "text/plain": [
       "torch.Size([1, 2, 8, 8])"
      ]
     },
     "execution_count": 210,
     "metadata": {},
     "output_type": "execute_result"
    }
   ],
   "source": [
    "attn_logits.shape"
   ]
  },
  {
   "cell_type": "code",
   "execution_count": 211,
   "metadata": {
    "execution": {
     "iopub.execute_input": "2023-08-09T15:56:11.239068Z",
     "iopub.status.busy": "2023-08-09T15:56:11.238259Z",
     "iopub.status.idle": "2023-08-09T15:56:11.327547Z",
     "shell.execute_reply": "2023-08-09T15:56:11.325684Z",
     "shell.execute_reply.started": "2023-08-09T15:56:11.239001Z"
    }
   },
   "outputs": [
    {
     "data": {
      "text/plain": [
       "tensor([[[[-1.9084e+03, -1.0287e+03, -1.4906e+02, -8.7086e+02,  8.8095e+00,\n",
       "            8.8848e+02,  1.6667e+02,  1.9260e+03],\n",
       "          [ 1.2251e+03,  7.4609e+02,  2.6710e+02,  2.6553e+02, -2.1346e+02,\n",
       "           -6.9245e+02, -6.9402e+02, -1.6520e+03],\n",
       "          [ 4.3585e+03,  2.5209e+03,  6.8325e+02,  1.4019e+03, -4.3573e+02,\n",
       "           -2.2734e+03, -1.5547e+03, -5.2300e+03],\n",
       "          [ 1.5095e+03,  9.1401e+02,  3.1857e+02,  3.4345e+02, -2.5200e+02,\n",
       "           -8.4744e+02, -8.2256e+02, -2.0134e+03],\n",
       "          [ 4.6429e+03,  2.6888e+03,  7.3472e+02,  1.4798e+03, -4.7427e+02,\n",
       "           -2.4284e+03, -1.6833e+03, -5.5915e+03],\n",
       "          [ 7.7764e+03,  4.4636e+03,  1.1509e+03,  2.6162e+03, -6.9654e+02,\n",
       "           -4.0093e+03, -2.5440e+03, -9.1695e+03],\n",
       "          [ 4.9273e+03,  2.8567e+03,  7.8619e+02,  1.5578e+03, -5.1280e+02,\n",
       "           -2.5834e+03, -1.8118e+03, -5.9529e+03],\n",
       "          [ 1.1194e+04,  6.4064e+03,  1.6185e+03,  3.8305e+03, -9.5734e+02,\n",
       "           -5.7452e+03, -3.5332e+03, -1.3109e+04]],\n",
       "\n",
       "         [[-1.6875e+04, -6.6049e+03,  3.6652e+03, -9.0834e+03,  1.1867e+03,\n",
       "            1.1457e+04, -1.2918e+03,  1.9248e+04],\n",
       "          [-7.4702e+03, -2.9211e+03,  1.6279e+03, -4.0204e+03,  5.2866e+02,\n",
       "            5.0777e+03, -5.7060e+02,  8.5275e+03],\n",
       "          [ 1.9345e+03,  7.6261e+02, -4.0931e+02,  1.0426e+03, -1.2934e+02,\n",
       "           -1.3013e+03,  1.5062e+02, -2.1932e+03],\n",
       "          [-4.5715e+03, -1.7928e+03,  9.8595e+02, -2.4612e+03,  3.1753e+02,\n",
       "            3.0963e+03, -3.5089e+02,  5.2066e+03],\n",
       "          [ 4.8332e+03,  1.8910e+03, -1.0513e+03,  2.6018e+03, -3.4048e+02,\n",
       "           -3.2827e+03,  3.7033e+02, -5.5142e+03],\n",
       "          [ 1.4238e+04,  5.5747e+03, -3.0885e+03,  7.6647e+03, -9.9848e+02,\n",
       "           -9.6617e+03,  1.0915e+03, -1.6235e+04],\n",
       "          [ 7.7319e+03,  3.0193e+03, -1.6933e+03,  4.1610e+03, -5.5161e+02,\n",
       "           -5.2642e+03,  5.9003e+02, -8.8351e+03],\n",
       "          [ 2.6541e+04,  1.0387e+04, -5.7677e+03,  1.4287e+04, -1.8676e+03,\n",
       "           -1.8022e+04,  2.0325e+03, -3.0277e+04]]]], grad_fn=<DivBackward0>)"
      ]
     },
     "execution_count": 211,
     "metadata": {},
     "output_type": "execute_result"
    }
   ],
   "source": [
    "attn_logits"
   ]
  },
  {
   "cell_type": "code",
   "execution_count": 212,
   "metadata": {
    "execution": {
     "iopub.execute_input": "2023-08-09T15:56:12.425368Z",
     "iopub.status.busy": "2023-08-09T15:56:12.424802Z",
     "iopub.status.idle": "2023-08-09T15:56:12.514798Z",
     "shell.execute_reply": "2023-08-09T15:56:12.513000Z",
     "shell.execute_reply.started": "2023-08-09T15:56:12.425302Z"
    }
   },
   "outputs": [
    {
     "data": {
      "text/plain": [
       "tensor([[[[0., 0., 0., 0., 0., 0., 0., 1.],\n",
       "          [1., 0., 0., 0., 0., 0., 0., 0.],\n",
       "          [1., 0., 0., 0., 0., 0., 0., 0.],\n",
       "          [1., 0., 0., 0., 0., 0., 0., 0.],\n",
       "          [1., 0., 0., 0., 0., 0., 0., 0.],\n",
       "          [1., 0., 0., 0., 0., 0., 0., 0.],\n",
       "          [1., 0., 0., 0., 0., 0., 0., 0.],\n",
       "          [1., 0., 0., 0., 0., 0., 0., 0.]],\n",
       "\n",
       "         [[0., 0., 0., 0., 0., 0., 0., 1.],\n",
       "          [0., 0., 0., 0., 0., 0., 0., 1.],\n",
       "          [1., 0., 0., 0., 0., 0., 0., 0.],\n",
       "          [0., 0., 0., 0., 0., 0., 0., 1.],\n",
       "          [1., 0., 0., 0., 0., 0., 0., 0.],\n",
       "          [1., 0., 0., 0., 0., 0., 0., 0.],\n",
       "          [1., 0., 0., 0., 0., 0., 0., 0.],\n",
       "          [1., 0., 0., 0., 0., 0., 0., 0.]]]], grad_fn=<SoftmaxBackward0>)"
      ]
     },
     "execution_count": 212,
     "metadata": {},
     "output_type": "execute_result"
    }
   ],
   "source": [
    "attention"
   ]
  },
  {
   "cell_type": "markdown",
   "metadata": {},
   "source": [
    "done"
   ]
  },
  {
   "cell_type": "code",
   "execution_count": 215,
   "metadata": {
    "execution": {
     "iopub.execute_input": "2023-08-09T15:56:20.921228Z",
     "iopub.status.busy": "2023-08-09T15:56:20.920198Z",
     "iopub.status.idle": "2023-08-09T15:56:20.993240Z",
     "shell.execute_reply": "2023-08-09T15:56:20.991658Z",
     "shell.execute_reply.started": "2023-08-09T15:56:20.921187Z"
    }
   },
   "outputs": [],
   "source": [
    "values = torch.matmul(attention, v)  # [Batch, Head, SeqLen, Dims]"
   ]
  },
  {
   "cell_type": "code",
   "execution_count": 216,
   "metadata": {
    "execution": {
     "iopub.execute_input": "2023-08-09T15:56:21.827334Z",
     "iopub.status.busy": "2023-08-09T15:56:21.826602Z",
     "iopub.status.idle": "2023-08-09T15:56:21.910288Z",
     "shell.execute_reply": "2023-08-09T15:56:21.908500Z",
     "shell.execute_reply.started": "2023-08-09T15:56:21.827266Z"
    }
   },
   "outputs": [
    {
     "data": {
      "text/plain": [
       "torch.Size([1, 2, 8, 4])"
      ]
     },
     "execution_count": 216,
     "metadata": {},
     "output_type": "execute_result"
    }
   ],
   "source": [
    "values.shape"
   ]
  },
  {
   "cell_type": "code",
   "execution_count": 217,
   "metadata": {
    "execution": {
     "iopub.execute_input": "2023-08-09T15:56:22.839919Z",
     "iopub.status.busy": "2023-08-09T15:56:22.838425Z",
     "iopub.status.idle": "2023-08-09T15:56:22.936986Z",
     "shell.execute_reply": "2023-08-09T15:56:22.935444Z",
     "shell.execute_reply.started": "2023-08-09T15:56:22.839791Z"
    }
   },
   "outputs": [
    {
     "data": {
      "text/plain": [
       "tensor([[[[-18.1982, -38.2723, -59.2927,  23.9826],\n",
       "          [ -3.7517,  29.1503,  50.7910,  -8.9441],\n",
       "          [ -3.7517,  29.1503,  50.7910,  -8.9441],\n",
       "          [ -3.7517,  29.1503,  50.7910,  -8.9441],\n",
       "          [ -3.7517,  29.1503,  50.7910,  -8.9441],\n",
       "          [ -3.7517,  29.1503,  50.7910,  -8.9441],\n",
       "          [ -3.7517,  29.1503,  50.7910,  -8.9441],\n",
       "          [ -3.7517,  29.1503,  50.7910,  -8.9441]],\n",
       "\n",
       "         [[ 34.0740, -55.1530,   2.9174,  43.6071],\n",
       "          [ 34.0740, -55.1530,   2.9174,  43.6071],\n",
       "          [-15.1288,  27.6228,  42.6393, -31.6701],\n",
       "          [ 34.0740, -55.1530,   2.9174,  43.6071],\n",
       "          [-15.1288,  27.6228,  42.6393, -31.6701],\n",
       "          [-15.1288,  27.6228,  42.6393, -31.6701],\n",
       "          [-15.1288,  27.6228,  42.6393, -31.6701],\n",
       "          [-15.1288,  27.6228,  42.6393, -31.6701]]]],\n",
       "       grad_fn=<UnsafeViewBackward0>)"
      ]
     },
     "execution_count": 217,
     "metadata": {},
     "output_type": "execute_result"
    }
   ],
   "source": [
    "values"
   ]
  },
  {
   "cell_type": "markdown",
   "metadata": {},
   "source": [
    "done"
   ]
  },
  {
   "cell_type": "code",
   "execution_count": 218,
   "metadata": {
    "execution": {
     "iopub.execute_input": "2023-08-09T15:56:24.684471Z",
     "iopub.status.busy": "2023-08-09T15:56:24.683467Z",
     "iopub.status.idle": "2023-08-09T15:56:24.828045Z",
     "shell.execute_reply": "2023-08-09T15:56:24.826000Z",
     "shell.execute_reply.started": "2023-08-09T15:56:24.684421Z"
    }
   },
   "outputs": [],
   "source": [
    "values = values.permute(0, 2, 1, 3)  # [Batch, SeqLen, Head, Dims]"
   ]
  },
  {
   "cell_type": "code",
   "execution_count": 219,
   "metadata": {
    "execution": {
     "iopub.execute_input": "2023-08-09T15:56:25.107287Z",
     "iopub.status.busy": "2023-08-09T15:56:25.106612Z",
     "iopub.status.idle": "2023-08-09T15:56:25.211093Z",
     "shell.execute_reply": "2023-08-09T15:56:25.207231Z",
     "shell.execute_reply.started": "2023-08-09T15:56:25.107090Z"
    }
   },
   "outputs": [
    {
     "data": {
      "text/plain": [
       "torch.Size([1, 8, 2, 4])"
      ]
     },
     "execution_count": 219,
     "metadata": {},
     "output_type": "execute_result"
    }
   ],
   "source": [
    "values.shape"
   ]
  },
  {
   "cell_type": "code",
   "execution_count": 220,
   "metadata": {
    "execution": {
     "iopub.execute_input": "2023-08-09T15:56:25.550826Z",
     "iopub.status.busy": "2023-08-09T15:56:25.549429Z",
     "iopub.status.idle": "2023-08-09T15:56:25.692185Z",
     "shell.execute_reply": "2023-08-09T15:56:25.690711Z",
     "shell.execute_reply.started": "2023-08-09T15:56:25.550712Z"
    }
   },
   "outputs": [
    {
     "data": {
      "text/plain": [
       "tensor([[[[-18.1982, -38.2723, -59.2927,  23.9826],\n",
       "          [ 34.0740, -55.1530,   2.9174,  43.6071]],\n",
       "\n",
       "         [[ -3.7517,  29.1503,  50.7910,  -8.9441],\n",
       "          [ 34.0740, -55.1530,   2.9174,  43.6071]],\n",
       "\n",
       "         [[ -3.7517,  29.1503,  50.7910,  -8.9441],\n",
       "          [-15.1288,  27.6228,  42.6393, -31.6701]],\n",
       "\n",
       "         [[ -3.7517,  29.1503,  50.7910,  -8.9441],\n",
       "          [ 34.0740, -55.1530,   2.9174,  43.6071]],\n",
       "\n",
       "         [[ -3.7517,  29.1503,  50.7910,  -8.9441],\n",
       "          [-15.1288,  27.6228,  42.6393, -31.6701]],\n",
       "\n",
       "         [[ -3.7517,  29.1503,  50.7910,  -8.9441],\n",
       "          [-15.1288,  27.6228,  42.6393, -31.6701]],\n",
       "\n",
       "         [[ -3.7517,  29.1503,  50.7910,  -8.9441],\n",
       "          [-15.1288,  27.6228,  42.6393, -31.6701]],\n",
       "\n",
       "         [[ -3.7517,  29.1503,  50.7910,  -8.9441],\n",
       "          [-15.1288,  27.6228,  42.6393, -31.6701]]]],\n",
       "       grad_fn=<PermuteBackward0>)"
      ]
     },
     "execution_count": 220,
     "metadata": {},
     "output_type": "execute_result"
    }
   ],
   "source": [
    "values"
   ]
  },
  {
   "cell_type": "markdown",
   "metadata": {},
   "source": [
    "done"
   ]
  },
  {
   "cell_type": "code",
   "execution_count": 221,
   "metadata": {
    "execution": {
     "iopub.execute_input": "2023-08-09T15:56:26.921413Z",
     "iopub.status.busy": "2023-08-09T15:56:26.920991Z",
     "iopub.status.idle": "2023-08-09T15:56:27.032722Z",
     "shell.execute_reply": "2023-08-09T15:56:27.029338Z",
     "shell.execute_reply.started": "2023-08-09T15:56:26.921375Z"
    }
   },
   "outputs": [],
   "source": [
    "values = values.reshape(batch_size, 8, 8)  # [Batch, SeqLen, Dims]"
   ]
  },
  {
   "cell_type": "code",
   "execution_count": 222,
   "metadata": {
    "execution": {
     "iopub.execute_input": "2023-08-09T15:56:27.138052Z",
     "iopub.status.busy": "2023-08-09T15:56:27.136315Z",
     "iopub.status.idle": "2023-08-09T15:56:27.270940Z",
     "shell.execute_reply": "2023-08-09T15:56:27.269093Z",
     "shell.execute_reply.started": "2023-08-09T15:56:27.137950Z"
    }
   },
   "outputs": [
    {
     "data": {
      "text/plain": [
       "tensor([[[-18.1982, -38.2723, -59.2927,  23.9826,  34.0740, -55.1530,   2.9174,\n",
       "           43.6071],\n",
       "         [ -3.7517,  29.1503,  50.7910,  -8.9441,  34.0740, -55.1530,   2.9174,\n",
       "           43.6071],\n",
       "         [ -3.7517,  29.1503,  50.7910,  -8.9441, -15.1288,  27.6228,  42.6393,\n",
       "          -31.6701],\n",
       "         [ -3.7517,  29.1503,  50.7910,  -8.9441,  34.0740, -55.1530,   2.9174,\n",
       "           43.6071],\n",
       "         [ -3.7517,  29.1503,  50.7910,  -8.9441, -15.1288,  27.6228,  42.6393,\n",
       "          -31.6701],\n",
       "         [ -3.7517,  29.1503,  50.7910,  -8.9441, -15.1288,  27.6228,  42.6393,\n",
       "          -31.6701],\n",
       "         [ -3.7517,  29.1503,  50.7910,  -8.9441, -15.1288,  27.6228,  42.6393,\n",
       "          -31.6701],\n",
       "         [ -3.7517,  29.1503,  50.7910,  -8.9441, -15.1288,  27.6228,  42.6393,\n",
       "          -31.6701]]], grad_fn=<UnsafeViewBackward0>)"
      ]
     },
     "execution_count": 222,
     "metadata": {},
     "output_type": "execute_result"
    }
   ],
   "source": [
    "values"
   ]
  },
  {
   "cell_type": "markdown",
   "metadata": {},
   "source": [
    "done"
   ]
  },
  {
   "cell_type": "code",
   "execution_count": 224,
   "metadata": {
    "execution": {
     "iopub.execute_input": "2023-08-09T15:56:33.597535Z",
     "iopub.status.busy": "2023-08-09T15:56:33.596764Z",
     "iopub.status.idle": "2023-08-09T15:56:33.672308Z",
     "shell.execute_reply": "2023-08-09T15:56:33.671070Z",
     "shell.execute_reply.started": "2023-08-09T15:56:33.597496Z"
    }
   },
   "outputs": [
    {
     "data": {
      "text/plain": [
       "-172.8445919900001"
      ]
     },
     "execution_count": 224,
     "metadata": {},
     "output_type": "execute_result"
    }
   ],
   "source": [
    "np.array([-18.1982, -38.2723, -59.2927,  23.9826,  34.0740, -55.1530,   2.9174,\n",
    "           43.6071]).dot(np.array([ 0.8812,  1.5822,  3.1899, -1.9023, -0.4501, -2.3163,  2.2023,  0.4510]))"
   ]
  },
  {
   "cell_type": "code",
   "execution_count": 225,
   "metadata": {
    "execution": {
     "iopub.execute_input": "2023-08-09T15:56:36.272061Z",
     "iopub.status.busy": "2023-08-09T15:56:36.271683Z",
     "iopub.status.idle": "2023-08-09T15:56:36.356543Z",
     "shell.execute_reply": "2023-08-09T15:56:36.354854Z",
     "shell.execute_reply.started": "2023-08-09T15:56:36.272028Z"
    }
   },
   "outputs": [
    {
     "data": {
      "text/plain": [
       "OrderedDict([('weight',\n",
       "              tensor([[ 0.8812,  1.5822,  3.1899, -1.9023, -0.4501, -2.3163,  2.2023,  0.4510],\n",
       "                      [-2.1166, -0.6853, -1.3101,  1.5371,  2.6179, -5.5489, -1.4696,  4.6941],\n",
       "                      [-0.3142, -1.5917, -1.8355,  0.7890, -0.1000,  2.5319, -1.0407, -1.9817],\n",
       "                      [-0.8057, -1.0180, -1.9774,  0.1884,  0.2185,  2.2383, -1.6860, -0.4012],\n",
       "                      [-0.9655, -1.3822, -2.1438,  1.3596, -0.0094,  0.1711,  1.9295,  0.2219],\n",
       "                      [-1.3656, -2.0702, -3.0907,  1.8149, -0.3196,  2.3354, -1.0173, -0.4376],\n",
       "                      [ 2.5781,  3.1880,  3.3986, -3.1654, -0.1654,  1.0603,  0.6521, -2.2033],\n",
       "                      [ 2.2536,  2.1201,  3.5360, -1.6665,  0.5568, -2.0041,  2.5654, -0.7159]])),\n",
       "             ('bias',\n",
       "              tensor([-4.7419,  1.7148,  4.3738,  4.6287,  4.8435,  5.3920, -3.0889, -6.3820]))])"
      ]
     },
     "execution_count": 225,
     "metadata": {},
     "output_type": "execute_result"
    }
   ],
   "source": [
    "model.transformer_encoder.layers[0].self_attn.o_proj.state_dict()"
   ]
  },
  {
   "cell_type": "code",
   "execution_count": 227,
   "metadata": {
    "execution": {
     "iopub.execute_input": "2023-08-09T15:56:40.148309Z",
     "iopub.status.busy": "2023-08-09T15:56:40.147143Z",
     "iopub.status.idle": "2023-08-09T15:56:40.245558Z",
     "shell.execute_reply": "2023-08-09T15:56:40.243106Z",
     "shell.execute_reply.started": "2023-08-09T15:56:40.148259Z"
    }
   },
   "outputs": [
    {
     "data": {
      "text/plain": [
       "torch.Size([8, 8])"
      ]
     },
     "execution_count": 227,
     "metadata": {},
     "output_type": "execute_result"
    }
   ],
   "source": [
    "model.transformer_encoder.layers[0].self_attn.o_proj.state_dict()['weight'].shape"
   ]
  },
  {
   "cell_type": "code",
   "execution_count": 228,
   "metadata": {
    "execution": {
     "iopub.execute_input": "2023-08-09T15:56:40.455098Z",
     "iopub.status.busy": "2023-08-09T15:56:40.454719Z",
     "iopub.status.idle": "2023-08-09T15:56:40.534955Z",
     "shell.execute_reply": "2023-08-09T15:56:40.532879Z",
     "shell.execute_reply.started": "2023-08-09T15:56:40.455064Z"
    }
   },
   "outputs": [
    {
     "data": {
      "text/plain": [
       "torch.Size([1, 8, 8])"
      ]
     },
     "execution_count": 228,
     "metadata": {},
     "output_type": "execute_result"
    }
   ],
   "source": [
    "values.shape"
   ]
  },
  {
   "cell_type": "code",
   "execution_count": 229,
   "metadata": {
    "execution": {
     "iopub.execute_input": "2023-08-09T15:56:42.459995Z",
     "iopub.status.busy": "2023-08-09T15:56:42.459282Z",
     "iopub.status.idle": "2023-08-09T15:56:42.565441Z",
     "shell.execute_reply": "2023-08-09T15:56:42.563988Z",
     "shell.execute_reply.started": "2023-08-09T15:56:42.459928Z"
    }
   },
   "outputs": [
    {
     "data": {
      "text/plain": [
       "tensor([[[-172.8429,  360.3557,  244.2957,  360.3557,  244.2957,  244.2957,\n",
       "           244.2957,  244.2957],\n",
       "         [ 774.9355,  503.3209, -496.5317,  503.3209, -496.5317, -496.5317,\n",
       "          -496.5317, -496.5317],\n",
       "         [ -38.1104, -378.0001,  -55.6690, -378.0001,  -55.6690,  -55.6690,\n",
       "           -55.6690,  -55.6690],\n",
       "         [  36.9698, -267.1915, -129.4316, -267.1915, -129.4316, -129.4316,\n",
       "          -129.4316, -129.4316],\n",
       "         [ 235.7406, -152.1627,  -77.6039, -152.1627,  -77.6039,  -77.6039,\n",
       "           -77.6039,  -77.6039],\n",
       "         [ 169.1238, -390.1793, -188.6126, -390.1793, -188.6126, -188.6126,\n",
       "          -188.6126, -188.6126],\n",
       "         [-604.6507,  125.8998,  413.5649,  125.8998,  413.5649,  413.5649,\n",
       "           413.5649,  413.5649],\n",
       "         [-266.0077,  353.6203,  316.1262,  353.6203,  316.1262,  316.1262,\n",
       "           316.1262,  316.1262]]], grad_fn=<UnsafeViewBackward0>)"
      ]
     },
     "execution_count": 229,
     "metadata": {},
     "output_type": "execute_result"
    }
   ],
   "source": [
    "torch.matmul(model.transformer_encoder.layers[0].self_attn.o_proj.state_dict()['weight'], values.transpose(-1, -2))"
   ]
  },
  {
   "cell_type": "code",
   "execution_count": 230,
   "metadata": {
    "execution": {
     "iopub.execute_input": "2023-08-09T15:56:50.073409Z",
     "iopub.status.busy": "2023-08-09T15:56:50.072798Z",
     "iopub.status.idle": "2023-08-09T15:56:50.170595Z",
     "shell.execute_reply": "2023-08-09T15:56:50.168059Z",
     "shell.execute_reply.started": "2023-08-09T15:56:50.073352Z"
    }
   },
   "outputs": [
    {
     "data": {
      "text/plain": [
       "tensor([[[-18.1982, -38.2723, -59.2927,  23.9826,  34.0740, -55.1530,   2.9174,\n",
       "           43.6071],\n",
       "         [ -3.7517,  29.1503,  50.7910,  -8.9441,  34.0740, -55.1530,   2.9174,\n",
       "           43.6071],\n",
       "         [ -3.7517,  29.1503,  50.7910,  -8.9441, -15.1288,  27.6228,  42.6393,\n",
       "          -31.6701],\n",
       "         [ -3.7517,  29.1503,  50.7910,  -8.9441,  34.0740, -55.1530,   2.9174,\n",
       "           43.6071],\n",
       "         [ -3.7517,  29.1503,  50.7910,  -8.9441, -15.1288,  27.6228,  42.6393,\n",
       "          -31.6701],\n",
       "         [ -3.7517,  29.1503,  50.7910,  -8.9441, -15.1288,  27.6228,  42.6393,\n",
       "          -31.6701],\n",
       "         [ -3.7517,  29.1503,  50.7910,  -8.9441, -15.1288,  27.6228,  42.6393,\n",
       "          -31.6701],\n",
       "         [ -3.7517,  29.1503,  50.7910,  -8.9441, -15.1288,  27.6228,  42.6393,\n",
       "          -31.6701]]], grad_fn=<UnsafeViewBackward0>)"
      ]
     },
     "execution_count": 230,
     "metadata": {},
     "output_type": "execute_result"
    }
   ],
   "source": [
    "values"
   ]
  },
  {
   "cell_type": "code",
   "execution_count": 231,
   "metadata": {
    "execution": {
     "iopub.execute_input": "2023-08-09T15:56:51.239795Z",
     "iopub.status.busy": "2023-08-09T15:56:51.238588Z",
     "iopub.status.idle": "2023-08-09T15:56:51.323235Z",
     "shell.execute_reply": "2023-08-09T15:56:51.321439Z",
     "shell.execute_reply.started": "2023-08-09T15:56:51.239689Z"
    }
   },
   "outputs": [
    {
     "data": {
      "text/plain": [
       "OrderedDict([('weight',\n",
       "              tensor([[ 0.8812,  1.5822,  3.1899, -1.9023, -0.4501, -2.3163,  2.2023,  0.4510],\n",
       "                      [-2.1166, -0.6853, -1.3101,  1.5371,  2.6179, -5.5489, -1.4696,  4.6941],\n",
       "                      [-0.3142, -1.5917, -1.8355,  0.7890, -0.1000,  2.5319, -1.0407, -1.9817],\n",
       "                      [-0.8057, -1.0180, -1.9774,  0.1884,  0.2185,  2.2383, -1.6860, -0.4012],\n",
       "                      [-0.9655, -1.3822, -2.1438,  1.3596, -0.0094,  0.1711,  1.9295,  0.2219],\n",
       "                      [-1.3656, -2.0702, -3.0907,  1.8149, -0.3196,  2.3354, -1.0173, -0.4376],\n",
       "                      [ 2.5781,  3.1880,  3.3986, -3.1654, -0.1654,  1.0603,  0.6521, -2.2033],\n",
       "                      [ 2.2536,  2.1201,  3.5360, -1.6665,  0.5568, -2.0041,  2.5654, -0.7159]])),\n",
       "             ('bias',\n",
       "              tensor([-4.7419,  1.7148,  4.3738,  4.6287,  4.8435,  5.3920, -3.0889, -6.3820]))])"
      ]
     },
     "execution_count": 231,
     "metadata": {},
     "output_type": "execute_result"
    }
   ],
   "source": [
    "model.transformer_encoder.layers[0].self_attn.o_proj.state_dict()"
   ]
  },
  {
   "cell_type": "markdown",
   "metadata": {},
   "source": [
    "this layer behaves slightly weird?"
   ]
  },
  {
   "cell_type": "code",
   "execution_count": 232,
   "metadata": {
    "execution": {
     "iopub.execute_input": "2023-08-09T15:56:55.385059Z",
     "iopub.status.busy": "2023-08-09T15:56:55.384669Z",
     "iopub.status.idle": "2023-08-09T15:56:55.484807Z",
     "shell.execute_reply": "2023-08-09T15:56:55.482250Z",
     "shell.execute_reply.started": "2023-08-09T15:56:55.385024Z"
    }
   },
   "outputs": [
    {
     "data": {
      "text/plain": [
       "array([[-177.58481 ,  776.6503  ,  -33.736603,   41.598446,  240.58415 ,\n",
       "         174.51584 , -607.73956 , -272.38974 ],\n",
       "       [ 355.61374 ,  505.03568 , -373.62634 , -262.56287 , -147.31921 ,\n",
       "        -384.78723 ,  122.81089 ,  347.23825 ],\n",
       "       [ 239.55379 , -494.81693 ,  -51.295258, -124.80298 ,  -72.760376,\n",
       "        -183.22061 ,  410.47607 ,  309.74417 ],\n",
       "       [ 355.61374 ,  505.03568 , -373.62634 , -262.56287 , -147.31921 ,\n",
       "        -384.78723 ,  122.81089 ,  347.23825 ],\n",
       "       [ 239.55379 , -494.81693 ,  -51.295258, -124.80298 ,  -72.760376,\n",
       "        -183.22061 ,  410.47607 ,  309.74417 ],\n",
       "       [ 239.55379 , -494.81693 ,  -51.295258, -124.80298 ,  -72.760376,\n",
       "        -183.22061 ,  410.47607 ,  309.74417 ],\n",
       "       [ 239.55379 , -494.81693 ,  -51.295258, -124.80298 ,  -72.760376,\n",
       "        -183.22061 ,  410.47607 ,  309.74417 ],\n",
       "       [ 239.55379 , -494.81693 ,  -51.295258, -124.80298 ,  -72.760376,\n",
       "        -183.22061 ,  410.47607 ,  309.74417 ]], dtype=float32)"
      ]
     },
     "execution_count": 232,
     "metadata": {},
     "output_type": "execute_result"
    }
   ],
   "source": [
    "W = model.transformer_encoder.layers[0].self_attn.o_proj.state_dict()['weight'].detach().numpy()\n",
    "b = model.transformer_encoder.layers[0].self_attn.o_proj.state_dict()['bias'].detach().numpy()\n",
    "v = values.detach().numpy()[0]\n",
    "(W@v.T).T + b"
   ]
  },
  {
   "cell_type": "code",
   "execution_count": 120,
   "metadata": {
    "execution": {
     "iopub.execute_input": "2023-08-09T15:08:30.601732Z",
     "iopub.status.busy": "2023-08-09T15:08:30.600965Z",
     "iopub.status.idle": "2023-08-09T15:08:30.709759Z",
     "shell.execute_reply": "2023-08-09T15:08:30.708190Z",
     "shell.execute_reply.started": "2023-08-09T15:08:30.601657Z"
    }
   },
   "outputs": [
    {
     "data": {
      "text/plain": [
       "tensor([[[-177.5848,  776.6503,  -33.7366,   41.5984,  240.5842,  174.5158,\n",
       "          -607.7396, -272.3897],\n",
       "         [ 355.6137,  505.0357, -373.6263, -262.5629, -147.3192, -384.7872,\n",
       "           122.8109,  347.2383],\n",
       "         [ 239.5538, -494.8169,  -51.2953, -124.8030,  -72.7604, -183.2206,\n",
       "           410.4761,  309.7442],\n",
       "         [ 355.6137,  505.0357, -373.6263, -262.5629, -147.3192, -384.7872,\n",
       "           122.8109,  347.2383],\n",
       "         [ 239.5538, -494.8169,  -51.2953, -124.8030,  -72.7604, -183.2206,\n",
       "           410.4761,  309.7442],\n",
       "         [ 239.5538, -494.8169,  -51.2953, -124.8030,  -72.7604, -183.2206,\n",
       "           410.4761,  309.7442],\n",
       "         [ 239.5538, -494.8169,  -51.2953, -124.8030,  -72.7604, -183.2206,\n",
       "           410.4761,  309.7442],\n",
       "         [ 239.5538, -494.8169,  -51.2953, -124.8030,  -72.7604, -183.2206,\n",
       "           410.4761,  309.7442]]], grad_fn=<ViewBackward0>)"
      ]
     },
     "execution_count": 120,
     "metadata": {},
     "output_type": "execute_result"
    }
   ],
   "source": [
    "model.transformer_encoder.layers[0].self_attn.o_proj(values) #- model.transformer_encoder.layers[0].self_attn.o_proj.state_dict()['bias']"
   ]
  },
  {
   "cell_type": "code",
   "execution_count": 132,
   "metadata": {
    "execution": {
     "iopub.execute_input": "2023-08-09T15:15:53.370208Z",
     "iopub.status.busy": "2023-08-09T15:15:53.369151Z",
     "iopub.status.idle": "2023-08-09T15:15:53.463438Z",
     "shell.execute_reply": "2023-08-09T15:15:53.461339Z",
     "shell.execute_reply.started": "2023-08-09T15:15:53.370119Z"
    }
   },
   "outputs": [],
   "source": [
    "o_proj = model.transformer_encoder.layers[0].self_attn.o_proj(values)\n",
    "o_proj = o_proj + yy"
   ]
  },
  {
   "cell_type": "code",
   "execution_count": 133,
   "metadata": {
    "execution": {
     "iopub.execute_input": "2023-08-09T15:15:58.018899Z",
     "iopub.status.busy": "2023-08-09T15:15:58.018168Z",
     "iopub.status.idle": "2023-08-09T15:15:58.119002Z",
     "shell.execute_reply": "2023-08-09T15:15:58.116038Z",
     "shell.execute_reply.started": "2023-08-09T15:15:58.018830Z"
    }
   },
   "outputs": [
    {
     "data": {
      "text/plain": [
       "tensor([[[-180.7761,  774.1052,  -33.9297,   41.6389,  240.1275,  167.1226,\n",
       "          -605.5751, -272.7676],\n",
       "         [ 351.8356,  503.6245, -374.2990, -263.0146, -147.5401, -387.7729,\n",
       "           121.8209,  347.6445],\n",
       "         [ 235.1888, -495.0942,  -52.4475, -125.7468,  -72.7455, -181.7987,\n",
       "           406.3317,  310.9345],\n",
       "         [ 354.6208,  502.2073, -371.8187, -263.6631, -146.0560, -387.2259,\n",
       "           123.9138,  347.6813],\n",
       "         [ 237.9740, -496.5114,  -49.9672, -126.3953,  -71.2614, -181.2517,\n",
       "           408.4246,  310.9713],\n",
       "         [ 237.3872, -495.3775,  -50.4467, -126.8875,  -71.0256, -176.8441,\n",
       "           405.2701,  311.7555],\n",
       "         [ 240.7592, -497.9285,  -47.4869, -127.0439,  -69.7773, -180.7046,\n",
       "           410.5175,  311.0082],\n",
       "         [ 239.5855, -495.6607,  -48.4460, -128.0282,  -69.3058, -171.8894,\n",
       "           404.2086,  312.5764]]], grad_fn=<AddBackward0>)"
      ]
     },
     "execution_count": 133,
     "metadata": {},
     "output_type": "execute_result"
    }
   ],
   "source": [
    "o_proj"
   ]
  },
  {
   "cell_type": "markdown",
   "metadata": {},
   "source": [
    "done"
   ]
  },
  {
   "cell_type": "code",
   "execution_count": 143,
   "metadata": {
    "execution": {
     "iopub.execute_input": "2023-08-09T15:22:13.011393Z",
     "iopub.status.busy": "2023-08-09T15:22:13.009813Z",
     "iopub.status.idle": "2023-08-09T15:22:13.125701Z",
     "shell.execute_reply": "2023-08-09T15:22:13.123342Z",
     "shell.execute_reply.started": "2023-08-09T15:22:13.011292Z"
    }
   },
   "outputs": [
    {
     "data": {
      "text/plain": [
       "OrderedDict([('weight',\n",
       "              tensor([[ 1.8973, -2.5249, -0.6333, -0.3513, -2.1907, -2.9145,  2.7446,  2.0545],\n",
       "                      [ 1.2530, -3.1024, -2.4023, -2.1135, -1.7349, -2.1865,  2.4948,  2.0809],\n",
       "                      [-2.2036, -2.5838, -0.1935,  0.2175,  0.0211,  0.6490,  1.5549, -0.1569],\n",
       "                      [-1.0415, -2.5998, -1.7279, -2.7002,  0.2463, -0.1346,  2.6472, -1.9883],\n",
       "                      [-1.0985, -1.2399, -0.1756,  0.6024, -0.5447, -0.5131,  0.8103, -0.1584],\n",
       "                      [ 5.3294, -1.1314,  0.3273,  1.3913, -1.0590, -5.9909,  1.8427,  4.7967],\n",
       "                      [-1.1299, -2.5831, -2.6171, -2.2565,  0.1747,  0.8037,  2.5942, -0.7968],\n",
       "                      [-1.8857, -2.9068, -0.7854, -2.0935,  0.5868,  0.0166,  2.8552,  0.7477],\n",
       "                      [ 1.0191, -3.9820,  0.3012, -0.6117, -1.4433, -2.0197,  4.3633,  0.9026],\n",
       "                      [ 3.2793, -1.7426, -0.5007, -0.8198,  0.5399, -3.3145,  2.8447,  6.1998],\n",
       "                      [ 2.4354, -2.3412, -0.0671, -0.1414, -2.0414, -2.8088,  2.9614,  1.6058],\n",
       "                      [ 1.7098, -2.6661, -2.2887, -2.0635, -1.5017, -0.9895,  2.1024,  2.0101],\n",
       "                      [-0.7771, -2.3631, -0.3233, -0.2495,  0.8434,  1.6448,  1.4751,  0.9746],\n",
       "                      [-1.5638, -2.6760, -1.3567, -1.4803,  3.1229,  1.2809,  2.8505, -0.8858],\n",
       "                      [-1.3807, -1.9633,  0.5775,  0.6884, -0.8083,  1.0955,  1.6926,  0.1968],\n",
       "                      [-1.6229, -3.3023, -0.4993, -0.8020, -0.6681,  1.6513,  3.6089, -0.1103]])),\n",
       "             ('bias',\n",
       "              tensor([-5.4025, -2.6101, -1.2515, -2.3917, -2.8067, -2.2448, -2.2126, -1.5943,\n",
       "                      -3.9456, -0.6921, -5.2414, -2.3280, -1.4871, -7.2161, -0.3906, -3.6165]))])"
      ]
     },
     "execution_count": 143,
     "metadata": {},
     "output_type": "execute_result"
    }
   ],
   "source": [
    "model.transformer_encoder.layers[0].linear_net[0].state_dict()"
   ]
  },
  {
   "cell_type": "code",
   "execution_count": 152,
   "metadata": {
    "execution": {
     "iopub.execute_input": "2023-08-09T15:34:05.902430Z",
     "iopub.status.busy": "2023-08-09T15:34:05.901205Z",
     "iopub.status.idle": "2023-08-09T15:34:05.999803Z",
     "shell.execute_reply": "2023-08-09T15:34:05.996658Z",
     "shell.execute_reply.started": "2023-08-09T15:34:05.902353Z"
    }
   },
   "outputs": [
    {
     "data": {
      "text/plain": [
       "array([[-180.77614 ,  351.83557 ,  235.18881 ,  354.62076 ,  237.974   ,\n",
       "         237.38718 ,  240.75919 ,  239.58554 ],\n",
       "       [ 774.1052  ,  503.62448 , -495.09424 ,  502.20734 , -496.51135 ,\n",
       "        -495.37747 , -497.9285  , -495.6607  ],\n",
       "       [ -33.929718, -374.299   ,  -52.447506, -371.8187  ,  -49.967182,\n",
       "         -50.446747,  -47.48687 ,  -48.446003],\n",
       "       [  41.638878, -263.0146  , -125.74683 , -263.6631  , -126.39535 ,\n",
       "        -126.88749 , -127.04387 , -128.02815 ],\n",
       "       [ 240.12755 , -147.54008 ,  -72.7455  , -146.05597 ,  -71.26139 ,\n",
       "         -71.02564 ,  -69.777275,  -69.305786],\n",
       "       [ 167.12256 , -387.77292 , -181.79874 , -387.22586 , -181.25166 ,\n",
       "        -176.84409 , -180.70459 , -171.88943 ],\n",
       "       [-605.5751  ,  121.82094 ,  406.33167 ,  123.913826,  408.42456 ,\n",
       "         405.2701  ,  410.51746 ,  404.2086  ],\n",
       "       [-272.7676  ,  347.64447 ,  310.93448 ,  347.68134 ,  310.97134 ,\n",
       "         311.75546 ,  311.0082  ,  312.57642 ]], dtype=float32)"
      ]
     },
     "execution_count": 152,
     "metadata": {},
     "output_type": "execute_result"
    }
   ],
   "source": [
    "v.T"
   ]
  },
  {
   "cell_type": "code",
   "execution_count": 146,
   "metadata": {
    "execution": {
     "iopub.execute_input": "2023-08-09T15:26:46.028091Z",
     "iopub.status.busy": "2023-08-09T15:26:46.027155Z",
     "iopub.status.idle": "2023-08-09T15:26:46.181929Z",
     "shell.execute_reply": "2023-08-09T15:26:46.177188Z",
     "shell.execute_reply.started": "2023-08-09T15:26:46.028008Z"
    }
   },
   "outputs": [
    {
     "data": {
      "text/plain": [
       "-5526.253415899001"
      ]
     },
     "execution_count": 146,
     "metadata": {},
     "output_type": "execute_result"
    }
   ],
   "source": [
    "np.array([ 1.8973, -2.5249, -0.6333, -0.3513, -2.1907, -2.9145,  2.7446,  2.0545]).dot(np.array([-180.77614 ,  774.1052  ,  -33.929718,   41.638878,  240.12755 ,\n",
    "         167.12256 , -605.5751  , -272.7676  ]))"
   ]
  },
  {
   "cell_type": "code",
   "execution_count": 162,
   "metadata": {
    "execution": {
     "iopub.execute_input": "2023-08-09T15:41:58.594725Z",
     "iopub.status.busy": "2023-08-09T15:41:58.593431Z",
     "iopub.status.idle": "2023-08-09T15:41:58.684167Z",
     "shell.execute_reply": "2023-08-09T15:41:58.681144Z",
     "shell.execute_reply.started": "2023-08-09T15:41:58.594650Z"
    }
   },
   "outputs": [
    {
     "data": {
      "text/plain": [
       "array([[-5526.301  ,  2227.3071 ,  4216.9478 ,  2235.8008 ,  4225.4414 ,\n",
       "         4201.532  ,  4233.935  ,  4186.117  ],\n",
       "       [-5494.949  ,  2464.5913 ,  4406.838  ,  2469.417  ,  4411.663  ,\n",
       "         4393.319  ,  4416.489  ,  4379.7993 ],\n",
       "       [-2371.4167 , -2181.1997 ,  1207.256  , -2180.6616 ,  1207.7941 ,\n",
       "         1203.9808 ,  1208.332  ,  1200.7057 ],\n",
       "       [-2902.1133 ,  -671.72473,  1936.309  ,  -667.7168 ,  1940.3168 ,\n",
       "         1929.6932 ,  1944.3245 ,  1923.0773 ],\n",
       "       [-1394.1898 ,  -780.646  ,   701.85547,  -782.1737 ,   700.3277 ,\n",
       "          694.2839 ,   698.8    ,   686.7123 ],\n",
       "       [-5472.2046 ,  5188.241  ,  5027.831  ,  5203.7817 ,  5043.3716 ,\n",
       "         5009.413  ,  5058.9116 ,  4990.9946 ],\n",
       "       [-2977.8806 ,  -423.76175,  2081.6836 ,  -422.17722,  2083.268  ,\n",
       "         2078.143  ,  2084.8525 ,  2074.6025 ],\n",
       "       [-3759.0837 ,  -768.083  ,  2647.0078 ,  -762.9229 ,  2652.168  ,\n",
       "         2643.1768 ,  2657.328  ,  2639.346  ],\n",
       "       [-6875.0576 ,   242.68617,  4798.0483 ,   258.22958,  4813.5913 ,\n",
       "         4786.337  ,  4829.1357 ,  4774.6255 ],\n",
       "       [-5797.0044 ,  4386.714  ,  5410.2866 ,  4402.777  ,  5426.3496 ,\n",
       "         5404.4995 ,  5442.4126 ,  5398.7114 ],\n",
       "       [-5447.242  ,  2049.438  ,  4114.978  ,  2061.155  ,  4126.6953 ,\n",
       "         4101.769  ,  4138.4126 ,  4088.5603 ],\n",
       "       [-4728.6064 ,  2218.4243 ,  3870.0193 ,  2224.3303 ,  3875.9258 ,\n",
       "         3864.241  ,  3881.8315 ,  3858.4624 ],\n",
       "       [-2369.9727 , -1520.6329 ,  1577.5791 , -1514.8135 ,  1583.3982 ,\n",
       "         1585.012  ,  1589.2174 ,  1592.445  ],\n",
       "       [-2325.0542 , -1918.9202 ,  1637.1736 , -1910.6195 ,  1645.474  ,\n",
       "         1641.432  ,  1653.7747 ,  1645.6906 ],\n",
       "       [-2350.81   , -1902.7532 ,  1139.0145 , -1899.8809 ,  1141.8867 ,\n",
       "         1139.3083 ,  1144.7588 ,  1139.602  ],\n",
       "       [-4319.267  , -1976.7936 ,  2560.827  , -1969.8916 ,  2567.729  ,\n",
       "         2561.2212 ,  2574.6313 ,  2561.6157 ]], dtype=float32)"
      ]
     },
     "execution_count": 162,
     "metadata": {},
     "output_type": "execute_result"
    }
   ],
   "source": [
    "W = model.transformer_encoder.layers[0].linear_net[0].state_dict()['weight'].detach().numpy()\n",
    "b = model.transformer_encoder.layers[0].linear_net[0].state_dict()['bias'].detach().numpy()\n",
    "v = o_proj.detach().numpy()[0]\n",
    "(W@v.T) #.T #+ b"
   ]
  },
  {
   "cell_type": "markdown",
   "metadata": {},
   "source": [
    "v*W^T + b^T"
   ]
  },
  {
   "cell_type": "markdown",
   "metadata": {},
   "source": [
    "done"
   ]
  },
  {
   "cell_type": "code",
   "execution_count": 172,
   "metadata": {
    "execution": {
     "iopub.execute_input": "2023-08-09T15:48:52.200837Z",
     "iopub.status.busy": "2023-08-09T15:48:52.199884Z",
     "iopub.status.idle": "2023-08-09T15:48:52.367387Z",
     "shell.execute_reply": "2023-08-09T15:48:52.363445Z",
     "shell.execute_reply.started": "2023-08-09T15:48:52.200781Z"
    }
   },
   "outputs": [
    {
     "data": {
      "text/plain": [
       "OrderedDict([('weight',\n",
       "              tensor([[ 0.7021,  1.3230, -0.6996, -0.2175,  0.5197, -3.0695,  0.1941,  0.7662,\n",
       "                       -0.8999, -2.7006,  2.0197, -1.6839, -0.6826, -0.7801,  0.6150,  0.3622],\n",
       "                      [ 0.8390, -0.4661,  0.0783,  1.6085,  0.6876,  2.3044,  1.6257,  1.9720,\n",
       "                        3.6037, -0.0258,  0.9129,  1.0536,  0.4366,  2.5428, -0.4408, -0.2091],\n",
       "                      [-2.1097,  1.2436, -0.9899,  1.3941,  0.1894,  0.0067,  1.3496,  1.0518,\n",
       "                       -1.6762,  1.8132, -2.9770, -0.8474, -1.6540, -0.9213,  1.0723,  1.4335],\n",
       "                      [ 0.7580, -0.4049,  1.5520, -1.5881,  0.3982,  0.8761, -1.1096,  0.0255,\n",
       "                        0.5195, -0.0974, -0.0529,  1.7055,  0.9967,  1.0567, -0.5369,  0.5335],\n",
       "                      [ 0.9837,  0.4878, -2.8644,  1.0059, -0.6396, -6.0539, -0.0375,  0.5396,\n",
       "                        0.2335, -2.0446,  1.3731, -3.0353, -0.5398, -1.4698,  0.9691,  1.2838],\n",
       "                      [ 1.5852, -0.5307,  1.1836, -0.8185, -0.1566,  0.0960, -0.3640, -0.1815,\n",
       "                        1.3829, -0.3390,  0.5511,  1.0509,  1.5935,  1.5548, -0.9585,  0.0832],\n",
       "                      [ 2.5735, -0.9904,  1.4395, -1.4556,  0.1424,  0.2027, -1.7273, -1.4610,\n",
       "                        0.9559, -2.2412,  2.4884, -2.6614,  0.8665,  0.8097, -0.6029, -1.0584],\n",
       "                      [-2.9613,  0.5641, -0.8066,  1.4773, -1.1348,  1.5498,  1.1086, -0.0966,\n",
       "                       -2.4343, -0.1502, -2.0345, -0.9380, -1.5500, -0.7949,  1.2053, -0.2375]])),\n",
       "             ('bias',\n",
       "              tensor([ 1.0841,  0.6797, -2.5913, -0.6990, -2.2020, -1.2493,  1.9980,  0.2905]))])"
      ]
     },
     "execution_count": 172,
     "metadata": {},
     "output_type": "execute_result"
    }
   ],
   "source": [
    "model.transformer_encoder.layers[0].linear_net[3].state_dict()"
   ]
  },
  {
   "cell_type": "code",
   "execution_count": 174,
   "metadata": {
    "execution": {
     "iopub.execute_input": "2023-08-09T15:48:58.072196Z",
     "iopub.status.busy": "2023-08-09T15:48:58.069595Z",
     "iopub.status.idle": "2023-08-09T15:48:58.196293Z",
     "shell.execute_reply": "2023-08-09T15:48:58.194651Z",
     "shell.execute_reply.started": "2023-08-09T15:48:58.072063Z"
    }
   },
   "outputs": [
    {
     "data": {
      "text/plain": [
       "array([[ 22981.79   , -72400.35   ,  13463.788  , -19840.594  ,\n",
       "         41867.246  , -25858.387  ,   8847.635  ,  37934.227  ],\n",
       "       [-21515.424  ,   9302.877  ,  -2904.2407 ,   2835.7    ,\n",
       "        -35901.883  ,   -363.84747,  -6126.2227 ,  -1308.3481 ],\n",
       "       [-22968.469  ,  54105.426  ,  -9114.356  ,  15039.238  ,\n",
       "        -39639.633  ,  18610.592  ,  -9254.957  , -26503.834  ],\n",
       "       [-21598.389  ,   9455.211  ,  -2944.8364 ,   2878.7087 ,\n",
       "        -36013.805  ,   -306.65558,  -6126.5215 ,  -1381.6401 ],\n",
       "       [-23051.434  ,  54257.76   ,  -9154.95   ,  15082.25   ,\n",
       "        -39751.562  ,  18667.785  ,  -9255.256  , -26577.127  ],\n",
       "       [-22943.322  ,  53980.6    ,  -9076.974  ,  15020.415  ,\n",
       "        -39545.24   ,  18586.9    ,  -9275.844  , -26449.424  ],\n",
       "       [-23134.395  ,  54410.098  ,  -9195.55   ,  15125.26   ,\n",
       "        -39863.49   ,  18724.977  ,  -9255.5625 , -26650.428  ],\n",
       "       [-22918.176  ,  53855.766  ,  -9039.593  ,  15001.593  ,\n",
       "        -39450.844  ,  18563.213  ,  -9296.73   , -26395.012  ]],\n",
       "      dtype=float32)"
      ]
     },
     "execution_count": 174,
     "metadata": {},
     "output_type": "execute_result"
    }
   ],
   "source": [
    "W = model.transformer_encoder.layers[0].linear_net[3].state_dict()['weight'].detach().numpy()\n",
    "b = model.transformer_encoder.layers[0].linear_net[3].state_dict()['bias'].detach().numpy()\n",
    "v = model.transformer_encoder.layers[0].linear_net[0](o_proj).detach().numpy()[0]\n",
    "(W@v.T).T + b"
   ]
  },
  {
   "cell_type": "code",
   "execution_count": 179,
   "metadata": {
    "execution": {
     "iopub.execute_input": "2023-08-09T15:50:35.864334Z",
     "iopub.status.busy": "2023-08-09T15:50:35.862668Z",
     "iopub.status.idle": "2023-08-09T15:50:35.986883Z",
     "shell.execute_reply": "2023-08-09T15:50:35.984604Z",
     "shell.execute_reply.started": "2023-08-09T15:50:35.864242Z"
    },
    "scrolled": true
   },
   "outputs": [],
   "source": [
    "ff2 = model.transformer_encoder.layers[0].linear_net[3](model.transformer_encoder.layers[0].linear_net[0](o_proj))"
   ]
  },
  {
   "cell_type": "code",
   "execution_count": 180,
   "metadata": {
    "execution": {
     "iopub.execute_input": "2023-08-09T15:50:37.160026Z",
     "iopub.status.busy": "2023-08-09T15:50:37.159209Z",
     "iopub.status.idle": "2023-08-09T15:50:37.293101Z",
     "shell.execute_reply": "2023-08-09T15:50:37.291277Z",
     "shell.execute_reply.started": "2023-08-09T15:50:37.159958Z"
    }
   },
   "outputs": [
    {
     "data": {
      "text/plain": [
       "tensor([[[ 22981.7891, -72400.3516,  13463.7881, -19840.5938,  41867.2461,\n",
       "          -25858.3867,   8847.6348,  37934.2266],\n",
       "         [-21515.4238,   9302.8770,  -2904.2407,   2835.7000, -35901.8828,\n",
       "            -363.8475,  -6126.2227,  -1308.3481],\n",
       "         [-22968.4688,  54105.4258,  -9114.3564,  15039.2383, -39639.6328,\n",
       "           18610.5918,  -9254.9570, -26503.8340],\n",
       "         [-21598.3887,   9455.2109,  -2944.8364,   2878.7087, -36013.8047,\n",
       "            -306.6556,  -6126.5215,  -1381.6401],\n",
       "         [-23051.4336,  54257.7617,  -9154.9502,  15082.2500, -39751.5625,\n",
       "           18667.7852,  -9255.2559, -26577.1270],\n",
       "         [-22943.3223,  53980.6016,  -9076.9736,  15020.4150, -39545.2383,\n",
       "           18586.9004,  -9275.8438, -26449.4238],\n",
       "         [-23134.3965,  54410.0977,  -9195.5459,  15125.2598, -39863.4883,\n",
       "           18724.9766,  -9255.5625, -26650.4277],\n",
       "         [-22918.1738,  53855.7656,  -9039.5928,  15001.5938, -39450.8438,\n",
       "           18563.2129,  -9296.7266, -26395.0117]]], grad_fn=<ViewBackward0>)"
      ]
     },
     "execution_count": 180,
     "metadata": {},
     "output_type": "execute_result"
    }
   ],
   "source": [
    "ff2"
   ]
  },
  {
   "cell_type": "markdown",
   "metadata": {},
   "source": [
    "done"
   ]
  },
  {
   "cell_type": "code",
   "execution_count": 184,
   "metadata": {
    "execution": {
     "iopub.execute_input": "2023-08-09T15:55:09.664372Z",
     "iopub.status.busy": "2023-08-09T15:55:09.663226Z",
     "iopub.status.idle": "2023-08-09T15:55:09.750836Z",
     "shell.execute_reply": "2023-08-09T15:55:09.748369Z",
     "shell.execute_reply.started": "2023-08-09T15:55:09.664285Z"
    }
   },
   "outputs": [],
   "source": [
    "o = ff2 + o_proj"
   ]
  },
  {
   "cell_type": "code",
   "execution_count": 185,
   "metadata": {
    "execution": {
     "iopub.execute_input": "2023-08-09T15:55:11.572739Z",
     "iopub.status.busy": "2023-08-09T15:55:11.571600Z",
     "iopub.status.idle": "2023-08-09T15:55:11.666986Z",
     "shell.execute_reply": "2023-08-09T15:55:11.665918Z",
     "shell.execute_reply.started": "2023-08-09T15:55:11.572671Z"
    }
   },
   "outputs": [
    {
     "data": {
      "text/plain": [
       "tensor([[[ 22801.0137, -71626.2500,  13429.8584, -19798.9551,  42107.3750,\n",
       "          -25691.2637,   8242.0596,  37661.4570],\n",
       "         [-21163.5879,   9806.5010,  -3278.5398,   2572.6853, -36049.4219,\n",
       "            -751.6204,  -6004.4019,   -960.7037],\n",
       "         [-22733.2793,  53610.3320,  -9166.8037,  14913.4912, -39712.3789,\n",
       "           18428.7930,  -8848.6250, -26192.9004],\n",
       "         [-21243.7676,   9957.4180,  -3316.6550,   2615.0457, -36159.8594,\n",
       "            -693.8815,  -6002.6074,  -1033.9587],\n",
       "         [-22813.4590,  53761.2500,  -9204.9170,  14955.8545, -39822.8242,\n",
       "           18486.5332,  -8846.8311, -26266.1562],\n",
       "         [-22705.9355,  53485.2227,  -9127.4199,  14893.5273, -39616.2656,\n",
       "           18410.0566,  -8870.5732, -26137.6680],\n",
       "         [-22893.6367,  53912.1680,  -9243.0332,  14998.2158, -39933.2656,\n",
       "           18544.2715,  -8845.0449, -26339.4199],\n",
       "         [-22678.5879,  53360.1055,  -9088.0391,  14873.5654, -39520.1484,\n",
       "           18391.3242,  -8892.5176, -26082.4355]]], grad_fn=<AddBackward0>)"
      ]
     },
     "execution_count": 185,
     "metadata": {},
     "output_type": "execute_result"
    }
   ],
   "source": [
    "o"
   ]
  },
  {
   "cell_type": "markdown",
   "metadata": {},
   "source": [
    "done"
   ]
  },
  {
   "cell_type": "code",
   "execution_count": 235,
   "metadata": {
    "execution": {
     "iopub.execute_input": "2023-08-09T16:00:16.550193Z",
     "iopub.status.busy": "2023-08-09T16:00:16.548996Z",
     "iopub.status.idle": "2023-08-09T16:00:16.669196Z",
     "shell.execute_reply": "2023-08-09T16:00:16.667883Z",
     "shell.execute_reply.started": "2023-08-09T16:00:16.550116Z"
    }
   },
   "outputs": [
    {
     "data": {
      "text/plain": [
       "torch.Size([1, 8, 8])"
      ]
     },
     "execution_count": 235,
     "metadata": {},
     "output_type": "execute_result"
    }
   ],
   "source": [
    "o.shape"
   ]
  },
  {
   "cell_type": "code",
   "execution_count": 240,
   "metadata": {
    "execution": {
     "iopub.execute_input": "2023-08-09T16:05:25.086761Z",
     "iopub.status.busy": "2023-08-09T16:05:25.085840Z",
     "iopub.status.idle": "2023-08-09T16:05:25.279933Z",
     "shell.execute_reply": "2023-08-09T16:05:25.275220Z",
     "shell.execute_reply.started": "2023-08-09T16:05:25.086668Z"
    }
   },
   "outputs": [
    {
     "data": {
      "text/plain": [
       "array([[ 204802.03 ],\n",
       "       [-128337.445],\n",
       "       [-182552.48 ],\n",
       "       [-128859.36 ],\n",
       "       [-183074.44 ],\n",
       "       [-182178.66 ],\n",
       "       [-183596.36 ],\n",
       "       [-181804.8  ]], dtype=float32)"
      ]
     },
     "execution_count": 240,
     "metadata": {},
     "output_type": "execute_result"
    }
   ],
   "source": [
    "W = model.final_linear.state_dict()['weight'].detach().numpy()\n",
    "b = model.final_linear.state_dict()['bias'].detach().numpy()\n",
    "v = o.detach().numpy()[0]\n",
    "(W@v.T).T + b"
   ]
  },
  {
   "cell_type": "code",
   "execution_count": 251,
   "metadata": {
    "execution": {
     "iopub.execute_input": "2023-08-09T16:09:39.869205Z",
     "iopub.status.busy": "2023-08-09T16:09:39.867563Z",
     "iopub.status.idle": "2023-08-09T16:09:39.971771Z",
     "shell.execute_reply": "2023-08-09T16:09:39.969540Z",
     "shell.execute_reply.started": "2023-08-09T16:09:39.869120Z"
    }
   },
   "outputs": [
    {
     "data": {
      "text/plain": [
       "204805.02"
      ]
     },
     "execution_count": 251,
     "metadata": {},
     "output_type": "execute_result"
    }
   ],
   "source": [
    "W[0]@(v.T[:, 0])"
   ]
  },
  {
   "cell_type": "code",
   "execution_count": 238,
   "metadata": {
    "execution": {
     "iopub.execute_input": "2023-08-09T16:04:17.589622Z",
     "iopub.status.busy": "2023-08-09T16:04:17.588849Z",
     "iopub.status.idle": "2023-08-09T16:04:17.697725Z",
     "shell.execute_reply": "2023-08-09T16:04:17.695231Z",
     "shell.execute_reply.started": "2023-08-09T16:04:17.589553Z"
    }
   },
   "outputs": [
    {
     "data": {
      "text/plain": [
       "tensor([[[ 204802.0312],\n",
       "         [-128337.4375],\n",
       "         [-182552.4844],\n",
       "         [-128859.3594],\n",
       "         [-183074.4531],\n",
       "         [-182178.6562],\n",
       "         [-183596.3594],\n",
       "         [-181804.7969]]], grad_fn=<ViewBackward0>)"
      ]
     },
     "execution_count": 238,
     "metadata": {},
     "output_type": "execute_result"
    }
   ],
   "source": [
    "model.final_linear(o)"
   ]
  },
  {
   "cell_type": "code",
   "execution_count": 237,
   "metadata": {
    "execution": {
     "iopub.execute_input": "2023-08-09T16:00:52.131170Z",
     "iopub.status.busy": "2023-08-09T16:00:52.129319Z",
     "iopub.status.idle": "2023-08-09T16:00:52.243636Z",
     "shell.execute_reply": "2023-08-09T16:00:52.241443Z",
     "shell.execute_reply.started": "2023-08-09T16:00:52.131050Z"
    }
   },
   "outputs": [
    {
     "data": {
      "text/plain": [
       "tensor([204802.0312], grad_fn=<SelectBackward0>)"
      ]
     },
     "execution_count": 237,
     "metadata": {},
     "output_type": "execute_result"
    }
   ],
   "source": [
    "model.final_linear(o)[:, 0, 0]"
   ]
  },
  {
   "cell_type": "code",
   "execution_count": null,
   "metadata": {},
   "outputs": [],
   "source": []
  },
  {
   "cell_type": "code",
   "execution_count": null,
   "metadata": {},
   "outputs": [],
   "source": []
  },
  {
   "cell_type": "code",
   "execution_count": null,
   "metadata": {},
   "outputs": [],
   "source": []
  },
  {
   "cell_type": "code",
   "execution_count": 90,
   "metadata": {
    "execution": {
     "iopub.execute_input": "2023-08-09T10:41:36.790007Z",
     "iopub.status.busy": "2023-08-09T10:41:36.788178Z",
     "iopub.status.idle": "2023-08-09T10:41:36.874146Z",
     "shell.execute_reply": "2023-08-09T10:41:36.872678Z",
     "shell.execute_reply.started": "2023-08-09T10:41:36.789857Z"
    }
   },
   "outputs": [
    {
     "data": {
      "text/plain": [
       "TransformerAnomalyDetector(\n",
       "  (front_linear): Linear(in_features=2, out_features=8, bias=True)\n",
       "  (positional_encoder): Identity()\n",
       "  (transformer_encoder): TransformerEncoder(\n",
       "    (layers): ModuleList(\n",
       "      (0): EncoderBlock(\n",
       "        (self_attn): MultiheadAttention(\n",
       "          (qkv_proj): Linear(in_features=8, out_features=24, bias=False)\n",
       "          (o_proj): Linear(in_features=8, out_features=8, bias=True)\n",
       "        )\n",
       "        (linear_net): Sequential(\n",
       "          (0): Linear(in_features=8, out_features=16, bias=True)\n",
       "          (1): Dropout(p=0.0, inplace=False)\n",
       "          (2): ReLU(inplace=True)\n",
       "          (3): Linear(in_features=16, out_features=8, bias=True)\n",
       "        )\n",
       "        (norm1): Identity()\n",
       "        (norm2): Identity()\n",
       "        (dropout): Dropout(p=0.0, inplace=False)\n",
       "      )\n",
       "    )\n",
       "  )\n",
       "  (final_linear): Linear(in_features=8, out_features=1, bias=True)\n",
       "  (loss_fn): BCEWithLogitsLoss()\n",
       ")"
      ]
     },
     "execution_count": 90,
     "metadata": {},
     "output_type": "execute_result"
    }
   ],
   "source": [
    "model"
   ]
  },
  {
   "cell_type": "code",
   "execution_count": null,
   "metadata": {},
   "outputs": [],
   "source": []
  },
  {
   "cell_type": "markdown",
   "metadata": {
    "execution": {
     "iopub.execute_input": "2023-08-07T09:03:00.632622Z",
     "iopub.status.busy": "2023-08-07T09:03:00.631935Z",
     "iopub.status.idle": "2023-08-07T09:03:00.707795Z",
     "shell.execute_reply": "2023-08-07T09:03:00.707353Z",
     "shell.execute_reply.started": "2023-08-07T09:03:00.632589Z"
    }
   },
   "source": [
    "## compare to Linear regression"
   ]
  },
  {
   "cell_type": "code",
   "execution_count": null,
   "metadata": {},
   "outputs": [],
   "source": [
    "from src.transformer import LinearRegressionAnomalyDetector"
   ]
  },
  {
   "cell_type": "code",
   "execution_count": null,
   "metadata": {},
   "outputs": [],
   "source": [
    "window_size = 8\n",
    "train_proportion = 0.9\n",
    "batch_size = 2 * 4096\n",
    "epochs = 250"
   ]
  },
  {
   "cell_type": "code",
   "execution_count": null,
   "metadata": {},
   "outputs": [],
   "source": [
    "seed_everything(1)\n",
    "\n",
    "tr_dl = DataLoader(tr_dataset, batch_size=batch_size, shuffle=False)\n",
    "va_dl = DataLoader(va_dataset, batch_size=batch_size, shuffle=False)"
   ]
  },
  {
   "cell_type": "code",
   "execution_count": null,
   "metadata": {},
   "outputs": [],
   "source": [
    "seed_everything(1)\n",
    "\n",
    "input_dim = len(tr_cols) * window_size\n",
    "\n",
    "loss_fn = nn.BCEWithLogitsLoss(pos_weight=torch.tensor(5))\n",
    "# loss_fn = nn.BCEWithLogitsLoss()\n",
    "\n",
    "model_params = {\n",
    "    \"input_dim\": input_dim,\n",
    "    \"learning_rate\": 1e-5,\n",
    "    \"loss_fn\": loss_fn,\n",
    "}\n",
    "\n",
    "model = LinearRegressionAnomalyDetector(\n",
    "    **model_params,\n",
    ")"
   ]
  },
  {
   "cell_type": "code",
   "execution_count": null,
   "metadata": {},
   "outputs": [],
   "source": [
    "# https://lightning.ai/docs/pytorch/stable/api/lightning.pytorch.callbacks.LearningRateFinder.html#learningratefinder\n",
    "\n",
    "from lightning.pytorch.callbacks import LearningRateFinder"
   ]
  },
  {
   "cell_type": "code",
   "execution_count": null,
   "metadata": {},
   "outputs": [],
   "source": [
    "seed_everything(1)\n",
    "trainer = pl.Trainer(\n",
    "    max_epochs=epochs,\n",
    "    log_every_n_steps=1,\n",
    "    callbacks=[LearningRateFinder(), MetricTracker()],\n",
    ")\n",
    "\n",
    "trainer.fit(model, tr_dl, va_dl)"
   ]
  },
  {
   "cell_type": "code",
   "execution_count": null,
   "metadata": {},
   "outputs": [],
   "source": [
    "# %reload_ext tensorboard\n",
    "# %tensorboard --logdir=lightning_logs/"
   ]
  },
  {
   "cell_type": "code",
   "execution_count": null,
   "metadata": {},
   "outputs": [],
   "source": [
    "# dir(trainer)"
   ]
  },
  {
   "cell_type": "code",
   "execution_count": null,
   "metadata": {},
   "outputs": [],
   "source": [
    "mt = trainer.callbacks[1]"
   ]
  },
  {
   "cell_type": "code",
   "execution_count": null,
   "metadata": {},
   "outputs": [],
   "source": [
    "from copy import deepcopy\n",
    "res = deepcopy(mt.collection)\n",
    "for r in res:\n",
    "    for k, v in r.items():\n",
    "        if type(v) == torch.Tensor:\n",
    "            r[k] = np.float32(v.cpu())\n",
    "        else:\n",
    "            r[k] = np.float32(v)\n",
    "res = pd.DataFrame(res)"
   ]
  },
  {
   "cell_type": "code",
   "execution_count": null,
   "metadata": {},
   "outputs": [],
   "source": [
    "fig, axs = plt.subplots(2, 2, figsize=(8, 8))\n",
    "\n",
    "plt.sca(axs[0, 0])\n",
    "plt.plot(res[\"train_loss\"], label=\"Train\")\n",
    "plt.plot(res[\"val_loss\"], label=\"Validation\")\n",
    "plt.title(\"Loss\")\n",
    "plt.xlabel(\"Epoch\")\n",
    "plt.legend()\n",
    "plt.sca(axs[0, 1])\n",
    "plt.plot(res[\"train_f1\"], label=\"Train\")\n",
    "plt.plot(res[\"val_f1\"], label=\"Validation\")\n",
    "plt.title(\"F1\")\n",
    "plt.xlabel(\"Epoch\")\n",
    "plt.legend()\n",
    "plt.sca(axs[1, 0])\n",
    "plt.plot(res[\"train_precision\"], label=\"Train\")\n",
    "plt.plot(res[\"val_precision\"], label=\"Validation\")\n",
    "plt.title(\"Precision\")\n",
    "plt.xlabel(\"Epoch\")\n",
    "plt.legend()\n",
    "plt.sca(axs[1, 1])\n",
    "plt.plot(res[\"train_recall\"], label=\"Train\")\n",
    "plt.plot(res[\"val_recall\"], label=\"Validation\")\n",
    "plt.title(\"Recall\")\n",
    "plt.xlabel(\"Epoch\")\n",
    "plt.legend()\n",
    "fig.tight_layout();"
   ]
  },
  {
   "cell_type": "markdown",
   "metadata": {},
   "source": [
    "slightly worse, but works :)"
   ]
  },
  {
   "cell_type": "code",
   "execution_count": null,
   "metadata": {},
   "outputs": [],
   "source": []
  }
 ],
 "metadata": {
  "kernelspec": {
   "display_name": "Python 3 (ipykernel)",
   "language": "python",
   "name": "python3"
  },
  "language_info": {
   "codemirror_mode": {
    "name": "ipython",
    "version": 3
   },
   "file_extension": ".py",
   "mimetype": "text/x-python",
   "name": "python",
   "nbconvert_exporter": "python",
   "pygments_lexer": "ipython3",
   "version": "3.10.12"
  }
 },
 "nbformat": 4,
 "nbformat_minor": 4
}
