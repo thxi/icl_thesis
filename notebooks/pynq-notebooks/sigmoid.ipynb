{
 "cells": [
  {
   "cell_type": "code",
   "execution_count": 1,
   "id": "ea1353a1",
   "metadata": {},
   "outputs": [],
   "source": [
    "from pynq import Overlay"
   ]
  },
  {
   "cell_type": "code",
   "execution_count": 2,
   "id": "3331686e",
   "metadata": {},
   "outputs": [
    {
     "name": "stdout",
     "output_type": "stream",
     "text": [
      "adder\t     dma_sequel    fir_accel3\tmatmul1  matmul6\t__pycache__\r\n",
      "add_vec      dma_sequel_2  __init__.py\tmatmul3  move_ab\tsigmoid\r\n",
      "base\t     fir_accel\t   linreg_vadd\tmatmul4  new_adder\tsigmoid2\r\n",
      "dma_prequel  fir_accel2    logictools\tmatmul5  new_fir_accel\r\n"
     ]
    }
   ],
   "source": [
    "!ls /home/xilinx/pynq/overlays/"
   ]
  },
  {
   "cell_type": "code",
   "execution_count": 3,
   "id": "b2ee2e75",
   "metadata": {},
   "outputs": [
    {
     "name": "stdout",
     "output_type": "stream",
     "text": [
      "sigmoid.bit  sigmoid.hwh  sigmoid.tcl\r\n"
     ]
    }
   ],
   "source": [
    "!ls /home/xilinx/pynq/overlays/sigmoid2"
   ]
  },
  {
   "cell_type": "code",
   "execution_count": 4,
   "id": "4e75b6c2",
   "metadata": {},
   "outputs": [
    {
     "data": {
      "application/javascript": [
       "\n",
       "try {\n",
       "require(['notebook/js/codecell'], function(codecell) {\n",
       "  codecell.CodeCell.options_default.highlight_modes[\n",
       "      'magic_text/x-csrc'] = {'reg':[/^%%microblaze/]};\n",
       "  Jupyter.notebook.events.one('kernel_ready.Kernel', function(){\n",
       "      Jupyter.notebook.get_cells().map(function(cell){\n",
       "          if (cell.cell_type == 'code'){ cell.auto_highlight(); } }) ;\n",
       "  });\n",
       "});\n",
       "} catch (e) {};\n"
      ]
     },
     "metadata": {},
     "output_type": "display_data"
    },
    {
     "data": {
      "application/javascript": [
       "\n",
       "try {\n",
       "require(['notebook/js/codecell'], function(codecell) {\n",
       "  codecell.CodeCell.options_default.highlight_modes[\n",
       "      'magic_text/x-csrc'] = {'reg':[/^%%pybind11/]};\n",
       "  Jupyter.notebook.events.one('kernel_ready.Kernel', function(){\n",
       "      Jupyter.notebook.get_cells().map(function(cell){\n",
       "          if (cell.cell_type == 'code'){ cell.auto_highlight(); } }) ;\n",
       "  });\n",
       "});\n",
       "} catch (e) {};\n"
      ]
     },
     "metadata": {},
     "output_type": "display_data"
    }
   ],
   "source": [
    "ol = Overlay(\"/home/xilinx/pynq/overlays/sigmoid2/sigmoid.bit\")"
   ]
  },
  {
   "cell_type": "code",
   "execution_count": 5,
   "id": "a807a51f",
   "metadata": {
    "scrolled": true
   },
   "outputs": [
    {
     "name": "stdout",
     "output_type": "stream",
     "text": [
      "Help on Overlay in module pynq.overlay:\n",
      "\n",
      "<pynq.overlay.Overlay object>\n",
      "    Default documentation for overlay /home/xilinx/pynq/overlays/sigmoid2/sigmoid.bit. The following\n",
      "    attributes are available on this overlay:\n",
      "    \n",
      "    IP Blocks\n",
      "    ----------\n",
      "    toplevelsigmoid_0    : pynq.overlay.DefaultIP\n",
      "    processing_system7_0 : pynq.overlay.DefaultIP\n",
      "    \n",
      "    Hierarchies\n",
      "    -----------\n",
      "    None\n",
      "    \n",
      "    Interrupts\n",
      "    ----------\n",
      "    None\n",
      "    \n",
      "    GPIO Outputs\n",
      "    ------------\n",
      "    None\n",
      "    \n",
      "    Memories\n",
      "    ------------\n",
      "    PSDDR                : Memory\n",
      "\n"
     ]
    }
   ],
   "source": [
    "help(ol)"
   ]
  },
  {
   "cell_type": "code",
   "execution_count": 6,
   "id": "5834db01",
   "metadata": {},
   "outputs": [],
   "source": [
    "tl = ol.toplevelsigmoid_0"
   ]
  },
  {
   "cell_type": "code",
   "execution_count": 7,
   "id": "5c0de19e",
   "metadata": {},
   "outputs": [
    {
     "data": {
      "text/plain": [
       "RegisterMap {\n",
       "  a = Register(a=write-only),\n",
       "  b = Register(b=1056964608),\n",
       "  b_ctrl = Register(b_ap_vld=1, RESERVED=0)\n",
       "}"
      ]
     },
     "execution_count": 7,
     "metadata": {},
     "output_type": "execute_result"
    }
   ],
   "source": [
    "tl.register_map"
   ]
  },
  {
   "cell_type": "code",
   "execution_count": 8,
   "id": "f30ef9a2",
   "metadata": {},
   "outputs": [],
   "source": [
    "# tl.write(0x10, 0.1)\n",
    "\n",
    "# cannot simply write float, have to pack it in bytes\n",
    "# from pynq import allocate\n",
    "# a = allocate(shape=(1,), dtype=np.float32)\n",
    "# a[0] = 0.1"
   ]
  },
  {
   "cell_type": "code",
   "execution_count": 9,
   "id": "fbcc29ed",
   "metadata": {},
   "outputs": [],
   "source": [
    "import struct"
   ]
  },
  {
   "cell_type": "code",
   "execution_count": 27,
   "id": "120e2a99",
   "metadata": {},
   "outputs": [],
   "source": [
    "a = -0.5\n",
    "a_data = struct.unpack(\"!I\", struct.pack(\"!f\", a))[0]"
   ]
  },
  {
   "cell_type": "code",
   "execution_count": 28,
   "id": "2342bdec",
   "metadata": {},
   "outputs": [
    {
     "data": {
      "text/plain": [
       "(3204448256, -0.5)"
      ]
     },
     "execution_count": 28,
     "metadata": {},
     "output_type": "execute_result"
    }
   ],
   "source": [
    "a_data, a"
   ]
  },
  {
   "cell_type": "code",
   "execution_count": 29,
   "id": "a283e1e1",
   "metadata": {},
   "outputs": [],
   "source": [
    "tl.write(0x10, a_data)"
   ]
  },
  {
   "cell_type": "code",
   "execution_count": 30,
   "id": "44195ded",
   "metadata": {},
   "outputs": [],
   "source": [
    "res = tl.read(0x18)"
   ]
  },
  {
   "cell_type": "code",
   "execution_count": 31,
   "id": "7485d480",
   "metadata": {},
   "outputs": [],
   "source": [
    "res_float = struct.unpack(\"!f\", struct.pack(\"!I\", res))[0]"
   ]
  },
  {
   "cell_type": "code",
   "execution_count": 32,
   "id": "007d2c03",
   "metadata": {},
   "outputs": [
    {
     "data": {
      "text/plain": [
       "0.4018288850784302"
      ]
     },
     "execution_count": 32,
     "metadata": {},
     "output_type": "execute_result"
    }
   ],
   "source": [
    "res_float"
   ]
  },
  {
   "cell_type": "code",
   "execution_count": 33,
   "id": "e0cf7ff7",
   "metadata": {},
   "outputs": [],
   "source": [
    "import numpy as np"
   ]
  },
  {
   "cell_type": "code",
   "execution_count": 34,
   "id": "ffc49f99",
   "metadata": {},
   "outputs": [],
   "source": [
    "def sigmoid(x):\n",
    "    return 1 / (1 + np.exp(-x))"
   ]
  },
  {
   "cell_type": "code",
   "execution_count": 35,
   "id": "5184f493",
   "metadata": {},
   "outputs": [
    {
     "data": {
      "text/plain": [
       "0.3775406687981454"
      ]
     },
     "execution_count": 35,
     "metadata": {},
     "output_type": "execute_result"
    }
   ],
   "source": [
    "sigmoid(a)"
   ]
  },
  {
   "cell_type": "markdown",
   "id": "8d6cb02d",
   "metadata": {},
   "source": [
    "it works!!!"
   ]
  },
  {
   "cell_type": "markdown",
   "id": "ca21cd37",
   "metadata": {},
   "source": [
    "lets try a different value"
   ]
  },
  {
   "cell_type": "code",
   "execution_count": 36,
   "id": "a8f81d17",
   "metadata": {},
   "outputs": [],
   "source": [
    "a = 1\n",
    "a_data = struct.unpack(\"!I\", struct.pack(\"!f\", a))[0]"
   ]
  },
  {
   "cell_type": "code",
   "execution_count": 37,
   "id": "ec9be4bf",
   "metadata": {},
   "outputs": [
    {
     "data": {
      "text/plain": [
       "(1065353216, 1)"
      ]
     },
     "execution_count": 37,
     "metadata": {},
     "output_type": "execute_result"
    }
   ],
   "source": [
    "a_data, a"
   ]
  },
  {
   "cell_type": "code",
   "execution_count": 38,
   "id": "a037ef29",
   "metadata": {},
   "outputs": [],
   "source": [
    "tl.write(0x10, a_data)"
   ]
  },
  {
   "cell_type": "code",
   "execution_count": 39,
   "id": "308cfd6f",
   "metadata": {},
   "outputs": [],
   "source": [
    "res = tl.read(0x18)"
   ]
  },
  {
   "cell_type": "code",
   "execution_count": 40,
   "id": "696f8f41",
   "metadata": {},
   "outputs": [],
   "source": [
    "res_float = struct.unpack(\"!f\", struct.pack(\"!I\", res))[0]"
   ]
  },
  {
   "cell_type": "code",
   "execution_count": 41,
   "id": "0ba1e553",
   "metadata": {},
   "outputs": [
    {
     "data": {
      "text/plain": [
       "0.6930490136146545"
      ]
     },
     "execution_count": 41,
     "metadata": {},
     "output_type": "execute_result"
    }
   ],
   "source": [
    "res_float"
   ]
  },
  {
   "cell_type": "code",
   "execution_count": 42,
   "id": "2e7d92b0",
   "metadata": {},
   "outputs": [
    {
     "data": {
      "text/plain": [
       "0.7310585786300049"
      ]
     },
     "execution_count": 42,
     "metadata": {},
     "output_type": "execute_result"
    }
   ],
   "source": [
    "sigmoid(a)"
   ]
  },
  {
   "cell_type": "markdown",
   "id": "3716c27d",
   "metadata": {},
   "source": [
    "quite close!"
   ]
  },
  {
   "cell_type": "code",
   "execution_count": null,
   "id": "782e931d",
   "metadata": {},
   "outputs": [],
   "source": []
  },
  {
   "cell_type": "code",
   "execution_count": null,
   "id": "56d2c4c0",
   "metadata": {},
   "outputs": [],
   "source": []
  },
  {
   "cell_type": "code",
   "execution_count": null,
   "id": "896213ea",
   "metadata": {},
   "outputs": [],
   "source": []
  },
  {
   "cell_type": "code",
   "execution_count": null,
   "id": "338c881a",
   "metadata": {},
   "outputs": [],
   "source": []
  },
  {
   "cell_type": "code",
   "execution_count": null,
   "id": "06da84ca",
   "metadata": {},
   "outputs": [],
   "source": []
  },
  {
   "cell_type": "code",
   "execution_count": null,
   "id": "b7e450b1",
   "metadata": {},
   "outputs": [],
   "source": []
  },
  {
   "cell_type": "markdown",
   "id": "9f490d9d",
   "metadata": {},
   "source": [
    "# OLD"
   ]
  },
  {
   "cell_type": "markdown",
   "id": "1bfb5c86",
   "metadata": {},
   "source": [
    "## send to board"
   ]
  },
  {
   "cell_type": "code",
   "execution_count": null,
   "id": "d89bc7f8",
   "metadata": {},
   "outputs": [],
   "source": [
    "from pynq import allocate\n",
    "import numpy as np\n",
    "\n",
    "data_size = len(m2_to_board)\n",
    "input_buffer = allocate(shape=(data_size,), dtype=np.int32)"
   ]
  },
  {
   "cell_type": "code",
   "execution_count": null,
   "id": "de008b00",
   "metadata": {},
   "outputs": [],
   "source": [
    "print(\"py_buffer physical address {}\".format(hex(input_buffer.physical_address)))"
   ]
  },
  {
   "cell_type": "code",
   "execution_count": null,
   "id": "2c815a84",
   "metadata": {},
   "outputs": [],
   "source": [
    "out_size = len(m3.ravel())\n",
    "output_buffer = allocate(shape=(out_size,), dtype=np.int32)"
   ]
  },
  {
   "cell_type": "code",
   "execution_count": null,
   "id": "308af2a7",
   "metadata": {},
   "outputs": [],
   "source": [
    "print(\"py_buffer physical address {}\".format(hex(output_buffer.physical_address)))"
   ]
  },
  {
   "cell_type": "code",
   "execution_count": null,
   "id": "b9df31a1",
   "metadata": {},
   "outputs": [],
   "source": [
    "tl = ol.toplevelmatmul_0"
   ]
  },
  {
   "cell_type": "code",
   "execution_count": null,
   "id": "95494ed9",
   "metadata": {},
   "outputs": [],
   "source": [
    "tl.register_map"
   ]
  },
  {
   "cell_type": "code",
   "execution_count": null,
   "id": "c36e73a9",
   "metadata": {},
   "outputs": [],
   "source": [
    "tl.register_map.in_mat_1 = input_buffer.physical_address\n",
    "tl.register_map.result_1 = output_buffer.physical_address"
   ]
  },
  {
   "cell_type": "markdown",
   "id": "2ea473b5",
   "metadata": {},
   "source": [
    "## Start the IP"
   ]
  },
  {
   "cell_type": "code",
   "execution_count": null,
   "id": "4768a9f2",
   "metadata": {},
   "outputs": [],
   "source": [
    "tl.register_map.CTRL.AP_START = 1"
   ]
  },
  {
   "cell_type": "markdown",
   "id": "77a1c635",
   "metadata": {},
   "source": [
    "If we start the IP once, when the IP completes an iteration DONE will go high once. While the IP is working, AP_IDLE will be 0. In this example, the time for an iteration of the HLS IP is very low so you will probably not see AP_IDLE = 0.\n",
    "\n",
    "Done is cleared when it is read. There is a limitation with the register_map. Multiple reads to the same register may be made to collect the information required for the register_map. This may mean DONE is cleared while the values of some of the other bits and registers are being read and consequentally will not show as high in the register m"
   ]
  },
  {
   "cell_type": "code",
   "execution_count": null,
   "id": "18fc65ba",
   "metadata": {},
   "outputs": [],
   "source": [
    "tl.register_map.CTRL.AP_DONE"
   ]
  },
  {
   "cell_type": "code",
   "execution_count": null,
   "id": "bf1cf34a",
   "metadata": {},
   "outputs": [],
   "source": [
    "tl.register_map.CTRL.AP_IDLE"
   ]
  },
  {
   "cell_type": "code",
   "execution_count": null,
   "id": "2f16e333",
   "metadata": {},
   "outputs": [],
   "source": [
    "output_buffer"
   ]
  },
  {
   "cell_type": "code",
   "execution_count": null,
   "id": "7afbe107",
   "metadata": {},
   "outputs": [],
   "source": []
  },
  {
   "cell_type": "code",
   "execution_count": null,
   "id": "97073589",
   "metadata": {},
   "outputs": [],
   "source": []
  },
  {
   "cell_type": "code",
   "execution_count": null,
   "id": "b9d5d912",
   "metadata": {},
   "outputs": [],
   "source": []
  },
  {
   "cell_type": "code",
   "execution_count": null,
   "id": "cad7cf66",
   "metadata": {},
   "outputs": [],
   "source": []
  },
  {
   "cell_type": "code",
   "execution_count": null,
   "id": "d2ff22e2",
   "metadata": {},
   "outputs": [],
   "source": []
  },
  {
   "cell_type": "code",
   "execution_count": null,
   "id": "607045dd",
   "metadata": {},
   "outputs": [],
   "source": []
  },
  {
   "cell_type": "code",
   "execution_count": null,
   "id": "43b07d41",
   "metadata": {},
   "outputs": [],
   "source": []
  },
  {
   "cell_type": "markdown",
   "id": "21894f5f",
   "metadata": {},
   "source": [
    "# With DMA"
   ]
  },
  {
   "cell_type": "code",
   "execution_count": null,
   "id": "b91b37c0",
   "metadata": {},
   "outputs": [],
   "source": [
    "dma = ol.axi_dma_0"
   ]
  },
  {
   "cell_type": "code",
   "execution_count": null,
   "id": "32b16b6f",
   "metadata": {},
   "outputs": [],
   "source": [
    "help(dma)"
   ]
  },
  {
   "cell_type": "code",
   "execution_count": null,
   "id": "41d48155",
   "metadata": {},
   "outputs": [],
   "source": [
    "dma.buffer_max_size"
   ]
  },
  {
   "cell_type": "code",
   "execution_count": null,
   "id": "e12e7aa2",
   "metadata": {},
   "outputs": [],
   "source": [
    "e = ol.toplevelmatmul_0"
   ]
  },
  {
   "cell_type": "code",
   "execution_count": null,
   "id": "53287ea6",
   "metadata": {},
   "outputs": [],
   "source": [
    "help(e)"
   ]
  },
  {
   "cell_type": "code",
   "execution_count": null,
   "id": "08aa383d",
   "metadata": {},
   "outputs": [],
   "source": [
    "e.register_map"
   ]
  },
  {
   "cell_type": "markdown",
   "id": "5a6a3668",
   "metadata": {},
   "source": [
    "## Create aliases"
   ]
  },
  {
   "cell_type": "code",
   "execution_count": null,
   "id": "e26c1914",
   "metadata": {},
   "outputs": [],
   "source": [
    "dma = ol.axi_dma_0\n",
    "dma_send = ol.axi_dma_0.sendchannel\n",
    "dma_recv = ol.axi_dma_0.recvchannel\n",
    "\n",
    "hls_ip = ol.toplevelmatmul_0"
   ]
  },
  {
   "cell_type": "code",
   "execution_count": null,
   "id": "bcc2126e",
   "metadata": {},
   "outputs": [],
   "source": [
    "hls_ip.register_map"
   ]
  },
  {
   "cell_type": "markdown",
   "id": "e79603a2",
   "metadata": {},
   "source": [
    "Note that the HLS IP is not started yet (AP_START=0). You can also see the IP is idle (AP_IDLE=1).\n",
    "\n",
    "We will start the HLS IP and then start some transfers from the DMA.\n",
    "\n",
    "We could initiate the DMA transfers first if we preferred. The DMA transfers would stall until the IP is started.\n"
   ]
  },
  {
   "cell_type": "markdown",
   "id": "50c3ddeb",
   "metadata": {},
   "source": [
    "## Start the HLS IP"
   ]
  },
  {
   "cell_type": "markdown",
   "id": "f4e65716",
   "metadata": {},
   "source": [
    "We can start the HLS IP by writing 0x81 to the control register. This will set bit 0 (AP_START) to “1” and bit 7 (AUTO_RESTART) to “1”. AUTO_RESTART means the IP will run continuously. If we don’t set this then after the IP completes one full operation or iteration, it will stop and wait until AP_START is set again. We would have to set this every time we want the IP to process some data."
   ]
  },
  {
   "cell_type": "code",
   "execution_count": null,
   "id": "eedc32ad",
   "metadata": {},
   "outputs": [],
   "source": [
    "CONTROL_REGISTER = 0x0\n",
    "hls_ip.write(CONTROL_REGISTER, 0x81)  # 0x81 will set bit 0"
   ]
  },
  {
   "cell_type": "markdown",
   "id": "8cbe8cc2",
   "metadata": {},
   "source": [
    "Check the correct bits have been set.\n",
    "\n"
   ]
  },
  {
   "cell_type": "code",
   "execution_count": null,
   "id": "301fe39f",
   "metadata": {},
   "outputs": [],
   "source": [
    "hls_ip.register_map"
   ]
  },
  {
   "cell_type": "markdown",
   "id": "d6070c9d",
   "metadata": {},
   "source": [
    "## numpy calculate"
   ]
  },
  {
   "cell_type": "code",
   "execution_count": null,
   "id": "5f9774b4",
   "metadata": {},
   "outputs": [],
   "source": [
    "import numpy as np"
   ]
  },
  {
   "cell_type": "code",
   "execution_count": null,
   "id": "c40dcd0f",
   "metadata": {},
   "outputs": [],
   "source": [
    "# multiply m1 by m2\n",
    "m1 = np.zeros(shape=(6, 5))\n",
    "m2 = np.zeros(shape=(5, 4))\n",
    "for i in range(6):\n",
    "    for j in range(5):\n",
    "        m1[i, j] = i * 5 + j\n",
    "\n",
    "for i in range(5):\n",
    "    for j in range(4):\n",
    "        m2[i, j] = i * 4 + j + 1"
   ]
  },
  {
   "cell_type": "markdown",
   "id": "5dcc0631",
   "metadata": {},
   "source": [
    "the matrix that is on the board:"
   ]
  },
  {
   "cell_type": "code",
   "execution_count": null,
   "id": "cc0eb4ed",
   "metadata": {},
   "outputs": [],
   "source": [
    "res = []\n",
    "for r in m1:\n",
    "    res.append(\", \".join([f\"{x:.0f}\" for x in r]))\n",
    "print(\",\\n\".join(res))"
   ]
  },
  {
   "cell_type": "markdown",
   "id": "917c06c0",
   "metadata": {},
   "source": [
    "the matrix that we will send to the board:"
   ]
  },
  {
   "cell_type": "code",
   "execution_count": null,
   "id": "a3d51dc1",
   "metadata": {},
   "outputs": [],
   "source": [
    "res = []\n",
    "for r in m2:\n",
    "    res.append(\", \".join([f\"{x:.0f}\" for x in r]))\n",
    "print(\",\\n\".join(res))"
   ]
  },
  {
   "cell_type": "markdown",
   "id": "0905ae06",
   "metadata": {},
   "source": [
    "the result"
   ]
  },
  {
   "cell_type": "code",
   "execution_count": null,
   "id": "39dd557b",
   "metadata": {},
   "outputs": [],
   "source": [
    "m3 = np.matmul(m1, m2)"
   ]
  },
  {
   "cell_type": "code",
   "execution_count": null,
   "id": "d5a570f5",
   "metadata": {},
   "outputs": [],
   "source": [
    "res = []\n",
    "for r in m3:\n",
    "    res.append(\", \".join([f\"{x:.0f}\" for x in r]))\n",
    "print(\",\\n\".join(res))"
   ]
  },
  {
   "cell_type": "markdown",
   "id": "cc74a36c",
   "metadata": {},
   "source": [
    "### flatten the matrix"
   ]
  },
  {
   "cell_type": "code",
   "execution_count": null,
   "id": "8013c4ce",
   "metadata": {},
   "outputs": [],
   "source": [
    "m2_to_board = m2.ravel()\n",
    "m2_to_board = m2_to_board.astype(np.int32)"
   ]
  },
  {
   "cell_type": "code",
   "execution_count": null,
   "id": "928d5fd9",
   "metadata": {},
   "outputs": [],
   "source": [
    "m2_to_board"
   ]
  },
  {
   "cell_type": "markdown",
   "id": "dc7cb503",
   "metadata": {},
   "source": [
    "## DMA send"
   ]
  },
  {
   "cell_type": "code",
   "execution_count": null,
   "id": "29f80101",
   "metadata": {},
   "outputs": [],
   "source": [
    "from pynq import allocate\n",
    "import numpy as np\n",
    "\n",
    "data_size = len(m2_to_board)\n",
    "input_buffer = allocate(shape=(data_size,), dtype=np.int32)"
   ]
  },
  {
   "cell_type": "code",
   "execution_count": null,
   "id": "9ac1db01",
   "metadata": {},
   "outputs": [],
   "source": [
    "for i in range(data_size):\n",
    "    input_buffer[i] = m2_to_board[i]"
   ]
  },
  {
   "cell_type": "code",
   "execution_count": null,
   "id": "f508afdf",
   "metadata": {},
   "outputs": [],
   "source": [
    "input_buffer"
   ]
  },
  {
   "cell_type": "code",
   "execution_count": null,
   "id": "a5a545fb",
   "metadata": {},
   "outputs": [],
   "source": [
    "dma_send.transfer(input_buffer)"
   ]
  },
  {
   "cell_type": "code",
   "execution_count": null,
   "id": "e588b1b5",
   "metadata": {},
   "outputs": [],
   "source": [
    "dma_send.idle"
   ]
  },
  {
   "cell_type": "code",
   "execution_count": null,
   "id": "228f013e",
   "metadata": {},
   "outputs": [],
   "source": [
    "dma_recv.idle"
   ]
  },
  {
   "cell_type": "markdown",
   "id": "e6051046",
   "metadata": {},
   "source": [
    "## DMA receive"
   ]
  },
  {
   "cell_type": "markdown",
   "id": "4aa75d65",
   "metadata": {},
   "source": [
    "Readback data from the HLS IP and store in DRAM. Start by creating the output buffer\n",
    "\n"
   ]
  },
  {
   "cell_type": "code",
   "execution_count": null,
   "id": "dc9a1669",
   "metadata": {},
   "outputs": [],
   "source": [
    "output_buffer = allocate(shape=(data_size,), dtype=np.int32)"
   ]
  },
  {
   "cell_type": "code",
   "execution_count": null,
   "id": "f19328dd",
   "metadata": {},
   "outputs": [],
   "source": [
    "dma_recv.transfer(output_buffer)"
   ]
  },
  {
   "cell_type": "code",
   "execution_count": null,
   "id": "a625f161",
   "metadata": {},
   "outputs": [],
   "source": [
    "output_buffer"
   ]
  },
  {
   "cell_type": "code",
   "execution_count": null,
   "id": "82f1d1a0",
   "metadata": {},
   "outputs": [],
   "source": [
    "dma_recv.error"
   ]
  },
  {
   "cell_type": "code",
   "execution_count": null,
   "id": "ae6bcd0e",
   "metadata": {},
   "outputs": [],
   "source": [
    "dma_recv.idle"
   ]
  },
  {
   "cell_type": "code",
   "execution_count": null,
   "id": "51c27e75",
   "metadata": {},
   "outputs": [],
   "source": [
    "dma_recv.transferred"
   ]
  },
  {
   "cell_type": "code",
   "execution_count": null,
   "id": "80aeaa20",
   "metadata": {},
   "outputs": [],
   "source": [
    "hls_ip.register_map"
   ]
  },
  {
   "cell_type": "code",
   "execution_count": null,
   "id": "0dd87cc9",
   "metadata": {},
   "outputs": [],
   "source": []
  },
  {
   "cell_type": "code",
   "execution_count": null,
   "id": "70d6719d",
   "metadata": {},
   "outputs": [],
   "source": []
  },
  {
   "cell_type": "code",
   "execution_count": null,
   "id": "23edea00",
   "metadata": {},
   "outputs": [],
   "source": []
  },
  {
   "cell_type": "code",
   "execution_count": null,
   "id": "b5b8f131",
   "metadata": {},
   "outputs": [],
   "source": [
    "print(\"Arrays are equal: {}\".format(np.array_equal(input_buffer, output_buffer - 5)))"
   ]
  },
  {
   "cell_type": "code",
   "execution_count": null,
   "id": "9efc6535",
   "metadata": {},
   "outputs": [],
   "source": [
    "input_buffer"
   ]
  },
  {
   "cell_type": "code",
   "execution_count": null,
   "id": "5bdbe289",
   "metadata": {},
   "outputs": [],
   "source": [
    "output_buffer"
   ]
  },
  {
   "cell_type": "markdown",
   "id": "5f11f571",
   "metadata": {},
   "source": [
    "problem: we are transferring 64 bits => notice that 0 goes to 5, but the second number is 7 (2+5)"
   ]
  },
  {
   "cell_type": "code",
   "execution_count": null,
   "id": "3a36f72d",
   "metadata": {
    "scrolled": true
   },
   "outputs": [],
   "source": [
    "hls_ip.register_map"
   ]
  },
  {
   "cell_type": "code",
   "execution_count": null,
   "id": "4879303d",
   "metadata": {},
   "outputs": [],
   "source": []
  },
  {
   "cell_type": "code",
   "execution_count": null,
   "id": "b8c6793e",
   "metadata": {},
   "outputs": [],
   "source": []
  },
  {
   "cell_type": "code",
   "execution_count": null,
   "id": "eaf44b39",
   "metadata": {},
   "outputs": [],
   "source": [
    "del input_buffer, output_buffer"
   ]
  },
  {
   "cell_type": "code",
   "execution_count": null,
   "id": "d10acbdc",
   "metadata": {},
   "outputs": [],
   "source": [
    "ol.free()"
   ]
  },
  {
   "cell_type": "code",
   "execution_count": null,
   "id": "f58e700f",
   "metadata": {},
   "outputs": [],
   "source": []
  },
  {
   "cell_type": "markdown",
   "id": "be467ae2",
   "metadata": {},
   "source": [
    "# OLD"
   ]
  },
  {
   "cell_type": "code",
   "execution_count": null,
   "id": "499eb15c",
   "metadata": {},
   "outputs": [],
   "source": [
    "dma_send = ol.axi_dma_0.sendchannel\n",
    "dma_recv = ol.axi_dma_0.recvchannel"
   ]
  },
  {
   "cell_type": "code",
   "execution_count": null,
   "id": "72739623",
   "metadata": {},
   "outputs": [],
   "source": [
    "from pynq import allocate\n",
    "import numpy as np\n",
    "\n",
    "data_size = 1000\n",
    "input_buffer = allocate(shape=(data_size,), dtype=np.uint32)"
   ]
  },
  {
   "cell_type": "code",
   "execution_count": null,
   "id": "56c09b84",
   "metadata": {},
   "outputs": [],
   "source": [
    "for i in range(data_size):\n",
    "    input_buffer[i] = i + 0xCAFE0000"
   ]
  },
  {
   "cell_type": "markdown",
   "id": "bc32e429",
   "metadata": {},
   "source": [
    "Let’s check the contents of the array. The data in the following cell will be sent from PS (DDR memory) to PL (streaming FIFO)."
   ]
  },
  {
   "cell_type": "code",
   "execution_count": null,
   "id": "1d958cee",
   "metadata": {},
   "outputs": [],
   "source": [
    "for i in range(10):\n",
    "    print(hex(input_buffer[i]))"
   ]
  },
  {
   "cell_type": "markdown",
   "id": "dc94aeda",
   "metadata": {},
   "source": [
    "Now we are ready to carry out DMA transfer from a memory block in DDR to FIFO.\n",
    "\n"
   ]
  },
  {
   "cell_type": "code",
   "execution_count": null,
   "id": "1a20a078",
   "metadata": {},
   "outputs": [],
   "source": [
    "dma_send.transfer(input_buffer)"
   ]
  },
  {
   "cell_type": "markdown",
   "id": "0b05632c",
   "metadata": {},
   "source": [
    "Let’s read the data back from FIFO stream, and write to MM memory. The steps are similar.\n",
    "\n",
    "We will prepare an empty array before reading data back from FIFO.\n",
    "\n"
   ]
  },
  {
   "cell_type": "code",
   "execution_count": null,
   "id": "ae3bc218",
   "metadata": {},
   "outputs": [],
   "source": [
    "output_buffer = allocate(shape=(data_size,), dtype=np.uint32)\n",
    "\n",
    "for i in range(10):\n",
    "    print(\"0x\" + format(output_buffer[i], \"02x\"))"
   ]
  },
  {
   "cell_type": "code",
   "execution_count": null,
   "id": "6fa3b14c",
   "metadata": {},
   "outputs": [],
   "source": [
    "dma_recv.transfer(output_buffer)"
   ]
  },
  {
   "cell_type": "code",
   "execution_count": null,
   "id": "625eedc1",
   "metadata": {},
   "outputs": [],
   "source": [
    "for i in range(10):\n",
    "    print(\"0x\" + format(output_buffer[i], \"02x\"))"
   ]
  },
  {
   "cell_type": "code",
   "execution_count": null,
   "id": "88b91558",
   "metadata": {},
   "outputs": [],
   "source": [
    "print(\"Arrays are equal: {}\".format(np.array_equal(input_buffer, output_buffer)))"
   ]
  },
  {
   "cell_type": "code",
   "execution_count": null,
   "id": "ebfe4a6e",
   "metadata": {},
   "outputs": [],
   "source": [
    "input_buffer"
   ]
  },
  {
   "cell_type": "code",
   "execution_count": null,
   "id": "9b6de263",
   "metadata": {},
   "outputs": [],
   "source": [
    "output_buffer"
   ]
  },
  {
   "cell_type": "markdown",
   "id": "f40b72d0",
   "metadata": {},
   "source": [
    "## Check DMA status, and trigger an error\n"
   ]
  },
  {
   "cell_type": "code",
   "execution_count": null,
   "id": "d4527f36",
   "metadata": {},
   "outputs": [],
   "source": [
    "dma_recv.error"
   ]
  },
  {
   "cell_type": "code",
   "execution_count": null,
   "id": "07e78f0c",
   "metadata": {},
   "outputs": [],
   "source": [
    "dma_recv.idle"
   ]
  },
  {
   "cell_type": "code",
   "execution_count": null,
   "id": "f3afd23d",
   "metadata": {},
   "outputs": [],
   "source": [
    "dma_recv.transfer(output_buffer)"
   ]
  },
  {
   "cell_type": "code",
   "execution_count": null,
   "id": "baf6927b",
   "metadata": {},
   "outputs": [],
   "source": [
    "dma_recv.idle"
   ]
  },
  {
   "cell_type": "markdown",
   "id": "eb391c7e",
   "metadata": {},
   "source": [
    "Start another receive transfer while the DMA is not idle\n",
    "\n"
   ]
  },
  {
   "cell_type": "code",
   "execution_count": null,
   "id": "40897185",
   "metadata": {},
   "outputs": [],
   "source": [
    "dma_recv.transfer(output_buffer)"
   ]
  },
  {
   "cell_type": "markdown",
   "id": "3d0c15fd",
   "metadata": {},
   "source": [
    "We can check the running state of the DMA\n",
    "\n"
   ]
  },
  {
   "cell_type": "code",
   "execution_count": null,
   "id": "9d0c745a",
   "metadata": {},
   "outputs": [],
   "source": [
    "dma_recv.running"
   ]
  },
  {
   "cell_type": "code",
   "execution_count": null,
   "id": "b4555d0a",
   "metadata": {},
   "outputs": [],
   "source": [
    "dma_recv.idle"
   ]
  },
  {
   "cell_type": "code",
   "execution_count": null,
   "id": "aa3e8848",
   "metadata": {},
   "outputs": [],
   "source": [
    "dma_send.idle"
   ]
  },
  {
   "cell_type": "markdown",
   "id": "7b9dd013",
   "metadata": {},
   "source": [
    "## Check the DMA register map\n"
   ]
  },
  {
   "cell_type": "markdown",
   "id": "0c949e04",
   "metadata": {},
   "source": [
    "We can read back individual status bits as show above. It can be useful to read back the full register map which will give details on all control and status bits. The meaning of each register and each bit will not be covered. For more details you can refer to the product guide for the DMA.\n",
    "\n"
   ]
  },
  {
   "cell_type": "code",
   "execution_count": null,
   "id": "28030d33",
   "metadata": {},
   "outputs": [],
   "source": [
    "dma.register_map"
   ]
  },
  {
   "cell_type": "code",
   "execution_count": null,
   "id": "a401de6d",
   "metadata": {},
   "outputs": [],
   "source": [
    "print(\"Input buffer address   :\", hex(input_buffer.physical_address))\n",
    "print(\"Output buffer address  :\", hex(output_buffer.physical_address))\n",
    "print(\"---\")\n",
    "print(\"DMA Source address     :\", hex(dma.register_map.MM2S_SA.Source_Address))\n",
    "print(\"DMA Destination address:\", hex(dma.register_map.S2MM_DA.Destination_Address))"
   ]
  },
  {
   "cell_type": "markdown",
   "id": "91bc2789",
   "metadata": {},
   "source": [
    "## Free all memory"
   ]
  },
  {
   "cell_type": "code",
   "execution_count": null,
   "id": "681f96f0",
   "metadata": {},
   "outputs": [],
   "source": [
    "del input_buffer, output_buffer"
   ]
  },
  {
   "cell_type": "code",
   "execution_count": null,
   "id": "037f359a",
   "metadata": {},
   "outputs": [],
   "source": [
    "ol.free()"
   ]
  },
  {
   "cell_type": "code",
   "execution_count": null,
   "id": "3ac0b5b2",
   "metadata": {},
   "outputs": [],
   "source": [
    "help(ol.free)"
   ]
  },
  {
   "cell_type": "code",
   "execution_count": null,
   "id": "9e38646d",
   "metadata": {},
   "outputs": [],
   "source": [
    "help(ol)"
   ]
  },
  {
   "cell_type": "code",
   "execution_count": null,
   "id": "1756c36f",
   "metadata": {},
   "outputs": [],
   "source": []
  },
  {
   "cell_type": "code",
   "execution_count": null,
   "id": "12b43da3",
   "metadata": {},
   "outputs": [],
   "source": []
  },
  {
   "cell_type": "markdown",
   "id": "dcd31493",
   "metadata": {},
   "source": [
    "# OLD"
   ]
  },
  {
   "cell_type": "code",
   "execution_count": null,
   "id": "c975f115",
   "metadata": {},
   "outputs": [],
   "source": [
    "tl = overlay.toplevel_0\n",
    "help(tl)"
   ]
  },
  {
   "cell_type": "code",
   "execution_count": null,
   "id": "470ef9d0",
   "metadata": {},
   "outputs": [],
   "source": [
    "tl.register_map"
   ]
  },
  {
   "cell_type": "code",
   "execution_count": null,
   "id": "dfafc54c",
   "metadata": {},
   "outputs": [],
   "source": [
    "from pynq import allocate\n",
    "import numpy as np\n",
    "\n",
    "py_buffer = allocate(shape=(100,), dtype=np.int32)"
   ]
  },
  {
   "cell_type": "code",
   "execution_count": null,
   "id": "734c9b9b",
   "metadata": {},
   "outputs": [],
   "source": [
    "print(\"py_buffer physical address {}\".format(hex(py_buffer.physical_address)))"
   ]
  },
  {
   "cell_type": "markdown",
   "id": "3b688400",
   "metadata": {},
   "source": [
    "## Configure the IP\n",
    "\n",
    "Write the values of the memory address, the length, and the value to be added to each location. You must make sure that length doesn't exceed the lendth of the memory that we allocated earlier AND the maximum value that can be set in the HLS IP. The buffe"
   ]
  },
  {
   "cell_type": "code",
   "execution_count": null,
   "id": "4c6e9730",
   "metadata": {},
   "outputs": [],
   "source": [
    "tl.register_map.a_1 = py_buffer.physical_address\n",
    "tl.register_map.length_r = 100\n",
    "tl.register_map.value_r = 7"
   ]
  },
  {
   "cell_type": "markdown",
   "id": "47148dec",
   "metadata": {},
   "source": [
    "## Start the IP"
   ]
  },
  {
   "cell_type": "code",
   "execution_count": null,
   "id": "d6b96fb7",
   "metadata": {},
   "outputs": [],
   "source": [
    "tl.register_map.CTRL.AP_START = 1"
   ]
  },
  {
   "cell_type": "markdown",
   "id": "3f0c231a",
   "metadata": {},
   "source": [
    "If we start the IP once, when the IP completes an iteration DONE will go high once. While the IP is working, AP_IDLE will be 0. In this example, the time for an iteration of the HLS IP is very low so you will probably not see AP_IDLE = 0.\n",
    "\n",
    "Done is cleared when it is read. There is a limitation with the register_map. Multiple reads to the same register may be made to collect the information required for the register_map. This may mean DONE is cleared while the values of some of the other bits and registers are being read and consequentally will not show as high in the register m"
   ]
  },
  {
   "cell_type": "code",
   "execution_count": null,
   "id": "221dd6ee",
   "metadata": {},
   "outputs": [],
   "source": [
    "tl.register_map.CTRL.AP_DONE"
   ]
  },
  {
   "cell_type": "code",
   "execution_count": null,
   "id": "2df1fffc",
   "metadata": {},
   "outputs": [],
   "source": [
    "tl.register_map.CTRL.AP_IDLE"
   ]
  },
  {
   "cell_type": "markdown",
   "id": "9da5d454",
   "metadata": {},
   "source": [
    "If you have a long running HLS IP, you can poll on the DONE bit before continuing with your application."
   ]
  },
  {
   "cell_type": "markdown",
   "id": "e3248ff5",
   "metadata": {},
   "source": [
    "## Check the contents of the memory"
   ]
  },
  {
   "cell_type": "code",
   "execution_count": null,
   "id": "f78bb870",
   "metadata": {},
   "outputs": [],
   "source": [
    "py_buffer"
   ]
  },
  {
   "cell_type": "code",
   "execution_count": null,
   "id": "fb8d8511",
   "metadata": {},
   "outputs": [],
   "source": [
    "len(py_buffer)"
   ]
  },
  {
   "cell_type": "code",
   "execution_count": null,
   "id": "1b0b2303",
   "metadata": {},
   "outputs": [],
   "source": [
    "my_ip.register_map.CTRL.AUTO_RESTART = 1"
   ]
  },
  {
   "cell_type": "code",
   "execution_count": null,
   "id": "c257804f",
   "metadata": {},
   "outputs": [],
   "source": [
    "# %xdel in1_vadd\n",
    "# %xdel in2_vadd\n",
    "# %xdel out\n",
    "overlay.free()"
   ]
  },
  {
   "cell_type": "code",
   "execution_count": null,
   "id": "c253c5a4",
   "metadata": {},
   "outputs": [],
   "source": []
  },
  {
   "cell_type": "code",
   "execution_count": null,
   "id": "e812a436",
   "metadata": {},
   "outputs": [],
   "source": []
  },
  {
   "cell_type": "code",
   "execution_count": null,
   "id": "00bcca97",
   "metadata": {},
   "outputs": [],
   "source": []
  },
  {
   "cell_type": "code",
   "execution_count": null,
   "id": "91f88ba9",
   "metadata": {},
   "outputs": [],
   "source": []
  },
  {
   "cell_type": "code",
   "execution_count": null,
   "id": "f90c52dd",
   "metadata": {},
   "outputs": [],
   "source": []
  },
  {
   "cell_type": "markdown",
   "id": "3104455b",
   "metadata": {},
   "source": [
    "# OLD"
   ]
  },
  {
   "cell_type": "code",
   "execution_count": null,
   "id": "4f6ce153",
   "metadata": {},
   "outputs": [],
   "source": [
    "overlay.scalar_add.add(15, 20)"
   ]
  },
  {
   "cell_type": "code",
   "execution_count": null,
   "id": "bf52c620",
   "metadata": {},
   "outputs": [],
   "source": [
    "add_ip.write(0x10, 4)\n",
    "add_ip.write(0x18, 5)\n",
    "add_ip.read(0x20)"
   ]
  },
  {
   "cell_type": "code",
   "execution_count": null,
   "id": "b9422897",
   "metadata": {},
   "outputs": [],
   "source": [
    "from pynq import DefaultIP\n",
    "\n",
    "\n",
    "class AddDriver(DefaultIP):\n",
    "    def __init__(self, description):\n",
    "        super().__init__(description=description)\n",
    "\n",
    "    bindto = [\"xilinx.com:hls:add:1.0\"]\n",
    "\n",
    "    def add(self, a, b):\n",
    "        self.write(0x10, a)\n",
    "        self.write(0x18, b)\n",
    "        return self.read(0x20)"
   ]
  },
  {
   "cell_type": "code",
   "execution_count": null,
   "id": "cfe97db4",
   "metadata": {},
   "outputs": [],
   "source": [
    "overlay = Overlay(\"/home/xilinx/pynq/overlays/adder/adder.bit\")"
   ]
  },
  {
   "cell_type": "code",
   "execution_count": null,
   "id": "0e88f4fe",
   "metadata": {},
   "outputs": [],
   "source": [
    "help(overlay)"
   ]
  }
 ],
 "metadata": {
  "kernelspec": {
   "display_name": "Python 3 (ipykernel)",
   "language": "python",
   "name": "python3"
  },
  "language_info": {
   "codemirror_mode": {
    "name": "ipython",
    "version": 3
   },
   "file_extension": ".py",
   "mimetype": "text/x-python",
   "name": "python",
   "nbconvert_exporter": "python",
   "pygments_lexer": "ipython3",
   "version": "3.10.4"
  }
 },
 "nbformat": 4,
 "nbformat_minor": 5
}
