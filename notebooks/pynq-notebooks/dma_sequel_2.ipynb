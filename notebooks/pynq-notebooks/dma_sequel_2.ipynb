{
 "cells": [
  {
   "cell_type": "markdown",
   "id": "348770d6",
   "metadata": {},
   "source": [
    "following: https://discuss.pynq.io/t/tutorial-using-a-hls-stream-ip-with-dma-part-3-using-the-hls-ip-from-pynq/3346"
   ]
  },
  {
   "cell_type": "code",
   "execution_count": 1,
   "id": "ea1353a1",
   "metadata": {},
   "outputs": [],
   "source": [
    "from pynq import Overlay"
   ]
  },
  {
   "cell_type": "code",
   "execution_count": 2,
   "id": "3331686e",
   "metadata": {},
   "outputs": [
    {
     "name": "stdout",
     "output_type": "stream",
     "text": [
      "adder\t dma_prequel   fir_accel   __init__.py\tmove_ab        __pycache__\r\n",
      "add_vec  dma_sequel    fir_accel2  linreg_vadd\tnew_adder\r\n",
      "base\t dma_sequel_2  fir_accel3  logictools\tnew_fir_accel\r\n"
     ]
    }
   ],
   "source": [
    "!ls /home/xilinx/pynq/overlays/"
   ]
  },
  {
   "cell_type": "code",
   "execution_count": 3,
   "id": "b2ee2e75",
   "metadata": {},
   "outputs": [
    {
     "name": "stdout",
     "output_type": "stream",
     "text": [
      "dma_sequel.bit\tdma_sequel.hwh\tdma_sequel.tcl\r\n"
     ]
    }
   ],
   "source": [
    "!ls /home/xilinx/pynq/overlays/dma_sequel_2"
   ]
  },
  {
   "cell_type": "code",
   "execution_count": 4,
   "id": "4e75b6c2",
   "metadata": {},
   "outputs": [
    {
     "data": {
      "application/javascript": [
       "\n",
       "try {\n",
       "require(['notebook/js/codecell'], function(codecell) {\n",
       "  codecell.CodeCell.options_default.highlight_modes[\n",
       "      'magic_text/x-csrc'] = {'reg':[/^%%microblaze/]};\n",
       "  Jupyter.notebook.events.one('kernel_ready.Kernel', function(){\n",
       "      Jupyter.notebook.get_cells().map(function(cell){\n",
       "          if (cell.cell_type == 'code'){ cell.auto_highlight(); } }) ;\n",
       "  });\n",
       "});\n",
       "} catch (e) {};\n"
      ]
     },
     "metadata": {},
     "output_type": "display_data"
    },
    {
     "data": {
      "application/javascript": [
       "\n",
       "try {\n",
       "require(['notebook/js/codecell'], function(codecell) {\n",
       "  codecell.CodeCell.options_default.highlight_modes[\n",
       "      'magic_text/x-csrc'] = {'reg':[/^%%pybind11/]};\n",
       "  Jupyter.notebook.events.one('kernel_ready.Kernel', function(){\n",
       "      Jupyter.notebook.get_cells().map(function(cell){\n",
       "          if (cell.cell_type == 'code'){ cell.auto_highlight(); } }) ;\n",
       "  });\n",
       "});\n",
       "} catch (e) {};\n"
      ]
     },
     "metadata": {},
     "output_type": "display_data"
    }
   ],
   "source": [
    "ol = Overlay(\"/home/xilinx/pynq/overlays/dma_sequel_2/dma_sequel.bit\")"
   ]
  },
  {
   "cell_type": "code",
   "execution_count": 5,
   "id": "a807a51f",
   "metadata": {
    "scrolled": true
   },
   "outputs": [
    {
     "name": "stdout",
     "output_type": "stream",
     "text": [
      "Help on Overlay in module pynq.overlay:\n",
      "\n",
      "<pynq.overlay.Overlay object>\n",
      "    Default documentation for overlay /home/xilinx/pynq/overlays/dma_sequel_2/dma_sequel.bit. The following\n",
      "    attributes are available on this overlay:\n",
      "    \n",
      "    IP Blocks\n",
      "    ----------\n",
      "    example_0            : pynq.overlay.DefaultIP\n",
      "    axi_dma_0            : pynq.lib.dma.DMA\n",
      "    processing_system7_0 : pynq.overlay.DefaultIP\n",
      "    \n",
      "    Hierarchies\n",
      "    -----------\n",
      "    None\n",
      "    \n",
      "    Interrupts\n",
      "    ----------\n",
      "    None\n",
      "    \n",
      "    GPIO Outputs\n",
      "    ------------\n",
      "    None\n",
      "    \n",
      "    Memories\n",
      "    ------------\n",
      "    PSDDR                : Memory\n",
      "\n"
     ]
    }
   ],
   "source": [
    "help(ol)"
   ]
  },
  {
   "cell_type": "code",
   "execution_count": 7,
   "id": "b91b37c0",
   "metadata": {},
   "outputs": [],
   "source": [
    "dma = ol.axi_dma_0"
   ]
  },
  {
   "cell_type": "code",
   "execution_count": 8,
   "id": "32b16b6f",
   "metadata": {},
   "outputs": [
    {
     "name": "stdout",
     "output_type": "stream",
     "text": [
      "Help on DMA in module pynq.lib.dma object:\n",
      "\n",
      "class DMA(pynq.overlay.DefaultIP)\n",
      " |  DMA(description, *args, **kwargs)\n",
      " |  \n",
      " |  Class for Interacting with the AXI Simple DMA Engine\n",
      " |  \n",
      " |  This class provides two attributes for the read and write channels.\n",
      " |  The read channel copies data from the stream into memory and\n",
      " |  the write channel copies data from memory to the output stream.\n",
      " |  Both channels have an identical API consisting of `transfer` and\n",
      " |  `wait` functions. If interrupts have been enabled and connected\n",
      " |  for the DMA engine then `wait_async` is also present.\n",
      " |  \n",
      " |  Buffers to be transferred must be a `PynqBuffer` object allocated\n",
      " |  through `pynq.allocate()` function either directly or indirectly. This\n",
      " |  means that Frames from the video subsystem can be transferred using\n",
      " |  this class.\n",
      " |  \n",
      " |  Attributes\n",
      " |  ----------\n",
      " |  recvchannel : _SDMAChannel / _SGDMAChannel\n",
      " |      The stream to memory channel  (if enabled in hardware)\n",
      " |  sendchannel : _SDMAChannel / _SGDMAChannel\n",
      " |      The memory to stream channel  (if enabled in hardware)\n",
      " |  buffer_max_size : int\n",
      " |      The maximum DMA transfer length.\n",
      " |  \n",
      " |  Method resolution order:\n",
      " |      DMA\n",
      " |      pynq.overlay.DefaultIP\n",
      " |      builtins.object\n",
      " |  \n",
      " |  Methods defined here:\n",
      " |  \n",
      " |  __init__(self, description, *args, **kwargs)\n",
      " |      Create an instance of the DMA Driver\n",
      " |      \n",
      " |      For DMA, max transfer length is (2^sg_length_width -1).\n",
      " |      See PG021 tables 2-15, 2-25, 2-31 and 2-38.\n",
      " |      \n",
      " |      Parameters\n",
      " |      ----------\n",
      " |      description : dict\n",
      " |          The entry in the IP dict describing the DMA engine\n",
      " |  \n",
      " |  set_up_rx_channel(self)\n",
      " |      Set up the receive channel.\n",
      " |      \n",
      " |      If receive channel is enabled, we will work out the max transfer\n",
      " |      size first. Then depending on (1) whether interrupt is enabled,\n",
      " |      and (2) whether SG mode is used, we will create the receive channel.\n",
      " |  \n",
      " |  set_up_tx_channel(self)\n",
      " |      Set up the transmit channel.\n",
      " |      \n",
      " |      If transmit channel is enabled, we will work out the max transfer\n",
      " |      size first. Then depending on (1) whether interrupt is enabled,\n",
      " |      and (2) whether SG mode is used, we will create the transmit channel.\n",
      " |  \n",
      " |  ----------------------------------------------------------------------\n",
      " |  Data and other attributes defined here:\n",
      " |  \n",
      " |  bindto = ['xilinx.com:ip:axi_dma:7.1']\n",
      " |  \n",
      " |  ----------------------------------------------------------------------\n",
      " |  Methods inherited from pynq.overlay.DefaultIP:\n",
      " |  \n",
      " |  read(self, offset=0)\n",
      " |      Read from the MMIO device\n",
      " |      \n",
      " |      Parameters\n",
      " |      ----------\n",
      " |      offset : int\n",
      " |          Address to read\n",
      " |  \n",
      " |  write(self, offset, value)\n",
      " |      Write to the MMIO device\n",
      " |      \n",
      " |      Parameters\n",
      " |      ----------\n",
      " |      offset : int\n",
      " |          Address to write to\n",
      " |      value : int or bytes\n",
      " |          Data to write\n",
      " |  \n",
      " |  ----------------------------------------------------------------------\n",
      " |  Readonly properties inherited from pynq.overlay.DefaultIP:\n",
      " |  \n",
      " |  register_map\n",
      " |  \n",
      " |  signature\n",
      " |      The signature of the `call` method\n",
      " |  \n",
      " |  ----------------------------------------------------------------------\n",
      " |  Data descriptors inherited from pynq.overlay.DefaultIP:\n",
      " |  \n",
      " |  __dict__\n",
      " |      dictionary for instance variables (if defined)\n",
      " |  \n",
      " |  __weakref__\n",
      " |      list of weak references to the object (if defined)\n",
      "\n"
     ]
    }
   ],
   "source": [
    "help(dma)"
   ]
  },
  {
   "cell_type": "code",
   "execution_count": 9,
   "id": "41d48155",
   "metadata": {},
   "outputs": [
    {
     "data": {
      "text/plain": [
       "67108863"
      ]
     },
     "execution_count": 9,
     "metadata": {},
     "output_type": "execute_result"
    }
   ],
   "source": [
    "dma.buffer_max_size"
   ]
  },
  {
   "cell_type": "code",
   "execution_count": 10,
   "id": "e12e7aa2",
   "metadata": {},
   "outputs": [],
   "source": [
    "e = ol.example_0"
   ]
  },
  {
   "cell_type": "code",
   "execution_count": 11,
   "id": "53287ea6",
   "metadata": {},
   "outputs": [
    {
     "name": "stdout",
     "output_type": "stream",
     "text": [
      "Help on DefaultIP in module pynq.overlay object:\n",
      "\n",
      "class DefaultIP(builtins.object)\n",
      " |  DefaultIP(description)\n",
      " |  \n",
      " |  Driver for an IP without a more specific driver\n",
      " |  \n",
      " |  This driver wraps an MMIO device and provides a base class\n",
      " |  for more specific drivers written later. It also provides\n",
      " |  access to GPIO outputs and interrupts inputs via attributes. More specific\n",
      " |  drivers should inherit from `DefaultIP` and include a\n",
      " |  `bindto` entry containing all of the IP that the driver\n",
      " |  should bind to. Subclasses meeting these requirements will\n",
      " |  automatically be registered.\n",
      " |  \n",
      " |  Attributes\n",
      " |  ----------\n",
      " |  mmio : pynq.MMIO\n",
      " |      Underlying MMIO driver for the device\n",
      " |  _interrupts : dict\n",
      " |      Subset of the PL.interrupt_pins related to this IP\n",
      " |  _gpio : dict\n",
      " |      Subset of the PL.gpio_dict related to this IP\n",
      " |  \n",
      " |  Methods defined here:\n",
      " |  \n",
      " |  __init__(self, description)\n",
      " |      Initialize self.  See help(type(self)) for accurate signature.\n",
      " |  \n",
      " |  read(self, offset=0)\n",
      " |      Read from the MMIO device\n",
      " |      \n",
      " |      Parameters\n",
      " |      ----------\n",
      " |      offset : int\n",
      " |          Address to read\n",
      " |  \n",
      " |  write(self, offset, value)\n",
      " |      Write to the MMIO device\n",
      " |      \n",
      " |      Parameters\n",
      " |      ----------\n",
      " |      offset : int\n",
      " |          Address to write to\n",
      " |      value : int or bytes\n",
      " |          Data to write\n",
      " |  \n",
      " |  ----------------------------------------------------------------------\n",
      " |  Readonly properties defined here:\n",
      " |  \n",
      " |  register_map\n",
      " |  \n",
      " |  signature\n",
      " |      The signature of the `call` method\n",
      " |  \n",
      " |  ----------------------------------------------------------------------\n",
      " |  Data descriptors defined here:\n",
      " |  \n",
      " |  __dict__\n",
      " |      dictionary for instance variables (if defined)\n",
      " |  \n",
      " |  __weakref__\n",
      " |      list of weak references to the object (if defined)\n",
      "\n"
     ]
    }
   ],
   "source": [
    "help(e)"
   ]
  },
  {
   "cell_type": "code",
   "execution_count": 12,
   "id": "08aa383d",
   "metadata": {},
   "outputs": [
    {
     "data": {
      "text/plain": [
       "RegisterMap {\n",
       "  CTRL = Register(AP_START=0, AP_DONE=0, AP_IDLE=1, AP_READY=0, RESERVED_1=0, AUTO_RESTART=0, RESERVED_2=0, INTERRUPT=0, RESERVED_3=0),\n",
       "  GIER = Register(Enable=0, RESERVED=0),\n",
       "  IP_IER = Register(CHAN0_INT_EN=0, CHAN1_INT_EN=0, RESERVED_0=0),\n",
       "  IP_ISR = Register(CHAN0_INT_ST=0, CHAN1_INT_ST=0, RESERVED_0=0)\n",
       "}"
      ]
     },
     "execution_count": 12,
     "metadata": {},
     "output_type": "execute_result"
    }
   ],
   "source": [
    "e.register_map"
   ]
  },
  {
   "cell_type": "markdown",
   "id": "5a6a3668",
   "metadata": {},
   "source": [
    "## Create aliases"
   ]
  },
  {
   "cell_type": "code",
   "execution_count": 13,
   "id": "e26c1914",
   "metadata": {},
   "outputs": [],
   "source": [
    "dma = ol.axi_dma_0\n",
    "dma_send = ol.axi_dma_0.sendchannel\n",
    "dma_recv = ol.axi_dma_0.recvchannel\n",
    "\n",
    "hls_ip = ol.example_0"
   ]
  },
  {
   "cell_type": "code",
   "execution_count": 14,
   "id": "bcc2126e",
   "metadata": {},
   "outputs": [
    {
     "data": {
      "text/plain": [
       "RegisterMap {\n",
       "  CTRL = Register(AP_START=0, AP_DONE=0, AP_IDLE=1, AP_READY=0, RESERVED_1=0, AUTO_RESTART=0, RESERVED_2=0, INTERRUPT=0, RESERVED_3=0),\n",
       "  GIER = Register(Enable=0, RESERVED=0),\n",
       "  IP_IER = Register(CHAN0_INT_EN=0, CHAN1_INT_EN=0, RESERVED_0=0),\n",
       "  IP_ISR = Register(CHAN0_INT_ST=0, CHAN1_INT_ST=0, RESERVED_0=0)\n",
       "}"
      ]
     },
     "execution_count": 14,
     "metadata": {},
     "output_type": "execute_result"
    }
   ],
   "source": [
    "hls_ip.register_map"
   ]
  },
  {
   "cell_type": "markdown",
   "id": "e79603a2",
   "metadata": {},
   "source": [
    "Note that the HLS IP is not started yet (AP_START=0). You can also see the IP is idle (AP_IDLE=1).\n",
    "\n",
    "We will start the HLS IP and then start some transfers from the DMA.\n",
    "\n",
    "We could initiate the DMA transfers first if we preferred. The DMA transfers would stall until the IP is started.\n"
   ]
  },
  {
   "cell_type": "markdown",
   "id": "50c3ddeb",
   "metadata": {},
   "source": [
    "## Start the HLS IP"
   ]
  },
  {
   "cell_type": "markdown",
   "id": "f4e65716",
   "metadata": {},
   "source": [
    "We can start the HLS IP by writing 0x81 to the control register. This will set bit 0 (AP_START) to “1” and bit 7 (AUTO_RESTART) to “1”. AUTO_RESTART means the IP will run continuously. If we don’t set this then after the IP completes one full operation or iteration, it will stop and wait until AP_START is set again. We would have to set this every time we want the IP to process some data."
   ]
  },
  {
   "cell_type": "code",
   "execution_count": 15,
   "id": "eedc32ad",
   "metadata": {},
   "outputs": [],
   "source": [
    "CONTROL_REGISTER = 0x0\n",
    "hls_ip.write(CONTROL_REGISTER, 0x81)  # 0x81 will set bit 0"
   ]
  },
  {
   "cell_type": "markdown",
   "id": "8cbe8cc2",
   "metadata": {},
   "source": [
    "Check the correct bits have been set.\n",
    "\n"
   ]
  },
  {
   "cell_type": "code",
   "execution_count": 16,
   "id": "301fe39f",
   "metadata": {},
   "outputs": [
    {
     "data": {
      "text/plain": [
       "RegisterMap {\n",
       "  CTRL = Register(AP_START=1, AP_DONE=0, AP_IDLE=0, AP_READY=0, RESERVED_1=0, AUTO_RESTART=1, RESERVED_2=0, INTERRUPT=0, RESERVED_3=0),\n",
       "  GIER = Register(Enable=0, RESERVED=0),\n",
       "  IP_IER = Register(CHAN0_INT_EN=0, CHAN1_INT_EN=0, RESERVED_0=0),\n",
       "  IP_ISR = Register(CHAN0_INT_ST=0, CHAN1_INT_ST=0, RESERVED_0=0)\n",
       "}"
      ]
     },
     "execution_count": 16,
     "metadata": {},
     "output_type": "execute_result"
    }
   ],
   "source": [
    "hls_ip.register_map"
   ]
  },
  {
   "cell_type": "markdown",
   "id": "d6070c9d",
   "metadata": {},
   "source": [
    "## DMA send"
   ]
  },
  {
   "cell_type": "code",
   "execution_count": 17,
   "id": "17b0add8",
   "metadata": {},
   "outputs": [],
   "source": [
    "from pynq import allocate\n",
    "import numpy as np\n",
    "\n",
    "data_size = 100\n",
    "input_buffer = allocate(shape=(data_size,), dtype=np.uint32)"
   ]
  },
  {
   "cell_type": "code",
   "execution_count": 18,
   "id": "9ac1db01",
   "metadata": {},
   "outputs": [],
   "source": [
    "for i in range(data_size):\n",
    "    input_buffer[i] = i"
   ]
  },
  {
   "cell_type": "code",
   "execution_count": 19,
   "id": "a5a545fb",
   "metadata": {},
   "outputs": [],
   "source": [
    "dma_send.transfer(input_buffer)"
   ]
  },
  {
   "cell_type": "code",
   "execution_count": 21,
   "id": "ce016598",
   "metadata": {
    "scrolled": true
   },
   "outputs": [
    {
     "name": "stdout",
     "output_type": "stream",
     "text": [
      "0x00\n",
      "0x01\n",
      "0x02\n",
      "0x03\n",
      "0x04\n",
      "0x05\n",
      "0x06\n",
      "0x07\n",
      "0x08\n",
      "0x09\n"
     ]
    }
   ],
   "source": [
    "for i in range(10):\n",
    "    print(\"0x\" + format(input_buffer[i], \"02x\"))"
   ]
  },
  {
   "cell_type": "markdown",
   "id": "e6051046",
   "metadata": {},
   "source": [
    "## DMA receive"
   ]
  },
  {
   "cell_type": "markdown",
   "id": "4aa75d65",
   "metadata": {},
   "source": [
    "Readback data from the HLS IP and store in DRAM. Start by creating the output buffer\n",
    "\n"
   ]
  },
  {
   "cell_type": "code",
   "execution_count": 22,
   "id": "dc9a1669",
   "metadata": {},
   "outputs": [],
   "source": [
    "output_buffer = allocate(shape=(data_size,), dtype=np.uint32)"
   ]
  },
  {
   "cell_type": "code",
   "execution_count": 23,
   "id": "f19328dd",
   "metadata": {},
   "outputs": [],
   "source": [
    "dma_recv.transfer(output_buffer)"
   ]
  },
  {
   "cell_type": "code",
   "execution_count": 24,
   "id": "b057c3f7",
   "metadata": {},
   "outputs": [
    {
     "name": "stdout",
     "output_type": "stream",
     "text": [
      "0x05\n",
      "0x06\n",
      "0x07\n",
      "0x08\n",
      "0x09\n",
      "0x0a\n",
      "0x0b\n",
      "0x0c\n",
      "0x0d\n",
      "0x0e\n"
     ]
    }
   ],
   "source": [
    "for i in range(10):\n",
    "    print(\"0x\" + format(output_buffer[i], \"02x\"))"
   ]
  },
  {
   "cell_type": "code",
   "execution_count": 25,
   "id": "b5b8f131",
   "metadata": {},
   "outputs": [
    {
     "name": "stdout",
     "output_type": "stream",
     "text": [
      "Arrays are equal: True\n"
     ]
    }
   ],
   "source": [
    "print(\"Arrays are equal: {}\".format(np.array_equal(input_buffer, output_buffer - 5)))"
   ]
  },
  {
   "cell_type": "code",
   "execution_count": 26,
   "id": "9efc6535",
   "metadata": {},
   "outputs": [
    {
     "data": {
      "text/plain": [
       "PynqBuffer([ 0,  1,  2,  3,  4,  5,  6,  7,  8,  9, 10, 11, 12, 13, 14,\n",
       "            15, 16, 17, 18, 19, 20, 21, 22, 23, 24, 25, 26, 27, 28, 29,\n",
       "            30, 31, 32, 33, 34, 35, 36, 37, 38, 39, 40, 41, 42, 43, 44,\n",
       "            45, 46, 47, 48, 49, 50, 51, 52, 53, 54, 55, 56, 57, 58, 59,\n",
       "            60, 61, 62, 63, 64, 65, 66, 67, 68, 69, 70, 71, 72, 73, 74,\n",
       "            75, 76, 77, 78, 79, 80, 81, 82, 83, 84, 85, 86, 87, 88, 89,\n",
       "            90, 91, 92, 93, 94, 95, 96, 97, 98, 99], dtype=uint32)"
      ]
     },
     "execution_count": 26,
     "metadata": {},
     "output_type": "execute_result"
    }
   ],
   "source": [
    "input_buffer"
   ]
  },
  {
   "cell_type": "code",
   "execution_count": 27,
   "id": "5bdbe289",
   "metadata": {},
   "outputs": [
    {
     "data": {
      "text/plain": [
       "PynqBuffer([  5,   6,   7,   8,   9,  10,  11,  12,  13,  14,  15,  16,\n",
       "             17,  18,  19,  20,  21,  22,  23,  24,  25,  26,  27,  28,\n",
       "             29,  30,  31,  32,  33,  34,  35,  36,  37,  38,  39,  40,\n",
       "             41,  42,  43,  44,  45,  46,  47,  48,  49,  50,  51,  52,\n",
       "             53,  54,  55,  56,  57,  58,  59,  60,  61,  62,  63,  64,\n",
       "             65,  66,  67,  68,  69,  70,  71,  72,  73,  74,  75,  76,\n",
       "             77,  78,  79,  80,  81,  82,  83,  84,  85,  86,  87,  88,\n",
       "             89,  90,  91,  92,  93,  94,  95,  96,  97,  98,  99, 100,\n",
       "            101, 102, 103, 104], dtype=uint32)"
      ]
     },
     "execution_count": 27,
     "metadata": {},
     "output_type": "execute_result"
    }
   ],
   "source": [
    "output_buffer"
   ]
  },
  {
   "cell_type": "markdown",
   "id": "5f11f571",
   "metadata": {},
   "source": [
    "**there was a problem**: we are transferring 64 bits => notice that 0 goes to 5, but the second number is 7 (2+5)\n",
    "\n",
    "fixed somehow:\n",
    "- memory map data width is 64\n",
    "- stream data width is 32"
   ]
  },
  {
   "cell_type": "code",
   "execution_count": 28,
   "id": "3a36f72d",
   "metadata": {
    "scrolled": true
   },
   "outputs": [
    {
     "data": {
      "text/plain": [
       "RegisterMap {\n",
       "  CTRL = Register(AP_START=1, AP_DONE=0, AP_IDLE=0, AP_READY=0, RESERVED_1=0, AUTO_RESTART=1, RESERVED_2=0, INTERRUPT=0, RESERVED_3=0),\n",
       "  GIER = Register(Enable=0, RESERVED=0),\n",
       "  IP_IER = Register(CHAN0_INT_EN=0, CHAN1_INT_EN=0, RESERVED_0=0),\n",
       "  IP_ISR = Register(CHAN0_INT_ST=0, CHAN1_INT_ST=0, RESERVED_0=0)\n",
       "}"
      ]
     },
     "execution_count": 28,
     "metadata": {},
     "output_type": "execute_result"
    }
   ],
   "source": [
    "hls_ip.register_map"
   ]
  },
  {
   "cell_type": "code",
   "execution_count": 40,
   "id": "eaf44b39",
   "metadata": {},
   "outputs": [],
   "source": [
    "del input_buffer, output_buffer"
   ]
  },
  {
   "cell_type": "code",
   "execution_count": 41,
   "id": "d10acbdc",
   "metadata": {},
   "outputs": [],
   "source": [
    "ol.free()"
   ]
  },
  {
   "cell_type": "code",
   "execution_count": 42,
   "id": "98221d6b",
   "metadata": {},
   "outputs": [
    {
     "data": {
      "text/plain": [
       "925"
      ]
     },
     "execution_count": 42,
     "metadata": {},
     "output_type": "execute_result"
    }
   ],
   "source": [
    "import gc\n",
    "\n",
    "gc.collect()"
   ]
  },
  {
   "cell_type": "code",
   "execution_count": null,
   "id": "fe2b02b9",
   "metadata": {},
   "outputs": [],
   "source": []
  },
  {
   "cell_type": "code",
   "execution_count": null,
   "id": "f58e700f",
   "metadata": {},
   "outputs": [],
   "source": []
  },
  {
   "cell_type": "markdown",
   "id": "be467ae2",
   "metadata": {},
   "source": [
    "# OLD"
   ]
  },
  {
   "cell_type": "code",
   "execution_count": 23,
   "id": "499eb15c",
   "metadata": {},
   "outputs": [],
   "source": [
    "dma_send = ol.axi_dma_0.sendchannel\n",
    "dma_recv = ol.axi_dma_0.recvchannel"
   ]
  },
  {
   "cell_type": "code",
   "execution_count": 24,
   "id": "72739623",
   "metadata": {},
   "outputs": [],
   "source": [
    "from pynq import allocate\n",
    "import numpy as np\n",
    "\n",
    "data_size = 1000\n",
    "input_buffer = allocate(shape=(data_size,), dtype=np.uint32)"
   ]
  },
  {
   "cell_type": "code",
   "execution_count": 25,
   "id": "56c09b84",
   "metadata": {},
   "outputs": [],
   "source": [
    "for i in range(data_size):\n",
    "    input_buffer[i] = i + 0xCAFE0000"
   ]
  },
  {
   "cell_type": "markdown",
   "id": "bc32e429",
   "metadata": {},
   "source": [
    "Let’s check the contents of the array. The data in the following cell will be sent from PS (DDR memory) to PL (streaming FIFO)."
   ]
  },
  {
   "cell_type": "code",
   "execution_count": 26,
   "id": "1d958cee",
   "metadata": {},
   "outputs": [
    {
     "name": "stdout",
     "output_type": "stream",
     "text": [
      "0xcafe0000\n",
      "0xcafe0001\n",
      "0xcafe0002\n",
      "0xcafe0003\n",
      "0xcafe0004\n",
      "0xcafe0005\n",
      "0xcafe0006\n",
      "0xcafe0007\n",
      "0xcafe0008\n",
      "0xcafe0009\n"
     ]
    }
   ],
   "source": [
    "for i in range(10):\n",
    "    print(hex(input_buffer[i]))"
   ]
  },
  {
   "cell_type": "markdown",
   "id": "dc94aeda",
   "metadata": {},
   "source": [
    "Now we are ready to carry out DMA transfer from a memory block in DDR to FIFO.\n",
    "\n"
   ]
  },
  {
   "cell_type": "code",
   "execution_count": 27,
   "id": "1a20a078",
   "metadata": {},
   "outputs": [],
   "source": [
    "dma_send.transfer(input_buffer)"
   ]
  },
  {
   "cell_type": "markdown",
   "id": "0b05632c",
   "metadata": {},
   "source": [
    "Let’s read the data back from FIFO stream, and write to MM memory. The steps are similar.\n",
    "\n",
    "We will prepare an empty array before reading data back from FIFO.\n",
    "\n"
   ]
  },
  {
   "cell_type": "code",
   "execution_count": 28,
   "id": "ae3bc218",
   "metadata": {},
   "outputs": [
    {
     "name": "stdout",
     "output_type": "stream",
     "text": [
      "0x00\n",
      "0x00\n",
      "0x00\n",
      "0x00\n",
      "0x00\n",
      "0x00\n",
      "0x00\n",
      "0x00\n",
      "0x00\n",
      "0x00\n"
     ]
    }
   ],
   "source": [
    "output_buffer = allocate(shape=(data_size,), dtype=np.uint32)\n",
    "\n",
    "for i in range(10):\n",
    "    print(\"0x\" + format(output_buffer[i], \"02x\"))"
   ]
  },
  {
   "cell_type": "code",
   "execution_count": 29,
   "id": "6fa3b14c",
   "metadata": {},
   "outputs": [],
   "source": [
    "dma_recv.transfer(output_buffer)"
   ]
  },
  {
   "cell_type": "code",
   "execution_count": 30,
   "id": "625eedc1",
   "metadata": {},
   "outputs": [
    {
     "name": "stdout",
     "output_type": "stream",
     "text": [
      "0xcafe0000\n",
      "0xcafe0001\n",
      "0xcafe0002\n",
      "0xcafe0003\n",
      "0xcafe0004\n",
      "0xcafe0005\n",
      "0xcafe0006\n",
      "0xcafe0007\n",
      "0xcafe0008\n",
      "0xcafe0009\n"
     ]
    }
   ],
   "source": [
    "for i in range(10):\n",
    "    print(\"0x\" + format(output_buffer[i], \"02x\"))"
   ]
  },
  {
   "cell_type": "code",
   "execution_count": 31,
   "id": "88b91558",
   "metadata": {},
   "outputs": [
    {
     "name": "stdout",
     "output_type": "stream",
     "text": [
      "Arrays are equal: True\n"
     ]
    }
   ],
   "source": [
    "print(\"Arrays are equal: {}\".format(np.array_equal(input_buffer, output_buffer)))"
   ]
  },
  {
   "cell_type": "code",
   "execution_count": 32,
   "id": "ebfe4a6e",
   "metadata": {},
   "outputs": [
    {
     "data": {
      "text/plain": [
       "PynqBuffer([3405643776, 3405643777, 3405643778, 3405643779, 3405643780,\n",
       "            3405643781, 3405643782, 3405643783, 3405643784, 3405643785,\n",
       "            3405643786, 3405643787, 3405643788, 3405643789, 3405643790,\n",
       "            3405643791, 3405643792, 3405643793, 3405643794, 3405643795,\n",
       "            3405643796, 3405643797, 3405643798, 3405643799, 3405643800,\n",
       "            3405643801, 3405643802, 3405643803, 3405643804, 3405643805,\n",
       "            3405643806, 3405643807, 3405643808, 3405643809, 3405643810,\n",
       "            3405643811, 3405643812, 3405643813, 3405643814, 3405643815,\n",
       "            3405643816, 3405643817, 3405643818, 3405643819, 3405643820,\n",
       "            3405643821, 3405643822, 3405643823, 3405643824, 3405643825,\n",
       "            3405643826, 3405643827, 3405643828, 3405643829, 3405643830,\n",
       "            3405643831, 3405643832, 3405643833, 3405643834, 3405643835,\n",
       "            3405643836, 3405643837, 3405643838, 3405643839, 3405643840,\n",
       "            3405643841, 3405643842, 3405643843, 3405643844, 3405643845,\n",
       "            3405643846, 3405643847, 3405643848, 3405643849, 3405643850,\n",
       "            3405643851, 3405643852, 3405643853, 3405643854, 3405643855,\n",
       "            3405643856, 3405643857, 3405643858, 3405643859, 3405643860,\n",
       "            3405643861, 3405643862, 3405643863, 3405643864, 3405643865,\n",
       "            3405643866, 3405643867, 3405643868, 3405643869, 3405643870,\n",
       "            3405643871, 3405643872, 3405643873, 3405643874, 3405643875,\n",
       "            3405643876, 3405643877, 3405643878, 3405643879, 3405643880,\n",
       "            3405643881, 3405643882, 3405643883, 3405643884, 3405643885,\n",
       "            3405643886, 3405643887, 3405643888, 3405643889, 3405643890,\n",
       "            3405643891, 3405643892, 3405643893, 3405643894, 3405643895,\n",
       "            3405643896, 3405643897, 3405643898, 3405643899, 3405643900,\n",
       "            3405643901, 3405643902, 3405643903, 3405643904, 3405643905,\n",
       "            3405643906, 3405643907, 3405643908, 3405643909, 3405643910,\n",
       "            3405643911, 3405643912, 3405643913, 3405643914, 3405643915,\n",
       "            3405643916, 3405643917, 3405643918, 3405643919, 3405643920,\n",
       "            3405643921, 3405643922, 3405643923, 3405643924, 3405643925,\n",
       "            3405643926, 3405643927, 3405643928, 3405643929, 3405643930,\n",
       "            3405643931, 3405643932, 3405643933, 3405643934, 3405643935,\n",
       "            3405643936, 3405643937, 3405643938, 3405643939, 3405643940,\n",
       "            3405643941, 3405643942, 3405643943, 3405643944, 3405643945,\n",
       "            3405643946, 3405643947, 3405643948, 3405643949, 3405643950,\n",
       "            3405643951, 3405643952, 3405643953, 3405643954, 3405643955,\n",
       "            3405643956, 3405643957, 3405643958, 3405643959, 3405643960,\n",
       "            3405643961, 3405643962, 3405643963, 3405643964, 3405643965,\n",
       "            3405643966, 3405643967, 3405643968, 3405643969, 3405643970,\n",
       "            3405643971, 3405643972, 3405643973, 3405643974, 3405643975,\n",
       "            3405643976, 3405643977, 3405643978, 3405643979, 3405643980,\n",
       "            3405643981, 3405643982, 3405643983, 3405643984, 3405643985,\n",
       "            3405643986, 3405643987, 3405643988, 3405643989, 3405643990,\n",
       "            3405643991, 3405643992, 3405643993, 3405643994, 3405643995,\n",
       "            3405643996, 3405643997, 3405643998, 3405643999, 3405644000,\n",
       "            3405644001, 3405644002, 3405644003, 3405644004, 3405644005,\n",
       "            3405644006, 3405644007, 3405644008, 3405644009, 3405644010,\n",
       "            3405644011, 3405644012, 3405644013, 3405644014, 3405644015,\n",
       "            3405644016, 3405644017, 3405644018, 3405644019, 3405644020,\n",
       "            3405644021, 3405644022, 3405644023, 3405644024, 3405644025,\n",
       "            3405644026, 3405644027, 3405644028, 3405644029, 3405644030,\n",
       "            3405644031, 3405644032, 3405644033, 3405644034, 3405644035,\n",
       "            3405644036, 3405644037, 3405644038, 3405644039, 3405644040,\n",
       "            3405644041, 3405644042, 3405644043, 3405644044, 3405644045,\n",
       "            3405644046, 3405644047, 3405644048, 3405644049, 3405644050,\n",
       "            3405644051, 3405644052, 3405644053, 3405644054, 3405644055,\n",
       "            3405644056, 3405644057, 3405644058, 3405644059, 3405644060,\n",
       "            3405644061, 3405644062, 3405644063, 3405644064, 3405644065,\n",
       "            3405644066, 3405644067, 3405644068, 3405644069, 3405644070,\n",
       "            3405644071, 3405644072, 3405644073, 3405644074, 3405644075,\n",
       "            3405644076, 3405644077, 3405644078, 3405644079, 3405644080,\n",
       "            3405644081, 3405644082, 3405644083, 3405644084, 3405644085,\n",
       "            3405644086, 3405644087, 3405644088, 3405644089, 3405644090,\n",
       "            3405644091, 3405644092, 3405644093, 3405644094, 3405644095,\n",
       "            3405644096, 3405644097, 3405644098, 3405644099, 3405644100,\n",
       "            3405644101, 3405644102, 3405644103, 3405644104, 3405644105,\n",
       "            3405644106, 3405644107, 3405644108, 3405644109, 3405644110,\n",
       "            3405644111, 3405644112, 3405644113, 3405644114, 3405644115,\n",
       "            3405644116, 3405644117, 3405644118, 3405644119, 3405644120,\n",
       "            3405644121, 3405644122, 3405644123, 3405644124, 3405644125,\n",
       "            3405644126, 3405644127, 3405644128, 3405644129, 3405644130,\n",
       "            3405644131, 3405644132, 3405644133, 3405644134, 3405644135,\n",
       "            3405644136, 3405644137, 3405644138, 3405644139, 3405644140,\n",
       "            3405644141, 3405644142, 3405644143, 3405644144, 3405644145,\n",
       "            3405644146, 3405644147, 3405644148, 3405644149, 3405644150,\n",
       "            3405644151, 3405644152, 3405644153, 3405644154, 3405644155,\n",
       "            3405644156, 3405644157, 3405644158, 3405644159, 3405644160,\n",
       "            3405644161, 3405644162, 3405644163, 3405644164, 3405644165,\n",
       "            3405644166, 3405644167, 3405644168, 3405644169, 3405644170,\n",
       "            3405644171, 3405644172, 3405644173, 3405644174, 3405644175,\n",
       "            3405644176, 3405644177, 3405644178, 3405644179, 3405644180,\n",
       "            3405644181, 3405644182, 3405644183, 3405644184, 3405644185,\n",
       "            3405644186, 3405644187, 3405644188, 3405644189, 3405644190,\n",
       "            3405644191, 3405644192, 3405644193, 3405644194, 3405644195,\n",
       "            3405644196, 3405644197, 3405644198, 3405644199, 3405644200,\n",
       "            3405644201, 3405644202, 3405644203, 3405644204, 3405644205,\n",
       "            3405644206, 3405644207, 3405644208, 3405644209, 3405644210,\n",
       "            3405644211, 3405644212, 3405644213, 3405644214, 3405644215,\n",
       "            3405644216, 3405644217, 3405644218, 3405644219, 3405644220,\n",
       "            3405644221, 3405644222, 3405644223, 3405644224, 3405644225,\n",
       "            3405644226, 3405644227, 3405644228, 3405644229, 3405644230,\n",
       "            3405644231, 3405644232, 3405644233, 3405644234, 3405644235,\n",
       "            3405644236, 3405644237, 3405644238, 3405644239, 3405644240,\n",
       "            3405644241, 3405644242, 3405644243, 3405644244, 3405644245,\n",
       "            3405644246, 3405644247, 3405644248, 3405644249, 3405644250,\n",
       "            3405644251, 3405644252, 3405644253, 3405644254, 3405644255,\n",
       "            3405644256, 3405644257, 3405644258, 3405644259, 3405644260,\n",
       "            3405644261, 3405644262, 3405644263, 3405644264, 3405644265,\n",
       "            3405644266, 3405644267, 3405644268, 3405644269, 3405644270,\n",
       "            3405644271, 3405644272, 3405644273, 3405644274, 3405644275,\n",
       "            3405644276, 3405644277, 3405644278, 3405644279, 3405644280,\n",
       "            3405644281, 3405644282, 3405644283, 3405644284, 3405644285,\n",
       "            3405644286, 3405644287, 3405644288, 3405644289, 3405644290,\n",
       "            3405644291, 3405644292, 3405644293, 3405644294, 3405644295,\n",
       "            3405644296, 3405644297, 3405644298, 3405644299, 3405644300,\n",
       "            3405644301, 3405644302, 3405644303, 3405644304, 3405644305,\n",
       "            3405644306, 3405644307, 3405644308, 3405644309, 3405644310,\n",
       "            3405644311, 3405644312, 3405644313, 3405644314, 3405644315,\n",
       "            3405644316, 3405644317, 3405644318, 3405644319, 3405644320,\n",
       "            3405644321, 3405644322, 3405644323, 3405644324, 3405644325,\n",
       "            3405644326, 3405644327, 3405644328, 3405644329, 3405644330,\n",
       "            3405644331, 3405644332, 3405644333, 3405644334, 3405644335,\n",
       "            3405644336, 3405644337, 3405644338, 3405644339, 3405644340,\n",
       "            3405644341, 3405644342, 3405644343, 3405644344, 3405644345,\n",
       "            3405644346, 3405644347, 3405644348, 3405644349, 3405644350,\n",
       "            3405644351, 3405644352, 3405644353, 3405644354, 3405644355,\n",
       "            3405644356, 3405644357, 3405644358, 3405644359, 3405644360,\n",
       "            3405644361, 3405644362, 3405644363, 3405644364, 3405644365,\n",
       "            3405644366, 3405644367, 3405644368, 3405644369, 3405644370,\n",
       "            3405644371, 3405644372, 3405644373, 3405644374, 3405644375,\n",
       "            3405644376, 3405644377, 3405644378, 3405644379, 3405644380,\n",
       "            3405644381, 3405644382, 3405644383, 3405644384, 3405644385,\n",
       "            3405644386, 3405644387, 3405644388, 3405644389, 3405644390,\n",
       "            3405644391, 3405644392, 3405644393, 3405644394, 3405644395,\n",
       "            3405644396, 3405644397, 3405644398, 3405644399, 3405644400,\n",
       "            3405644401, 3405644402, 3405644403, 3405644404, 3405644405,\n",
       "            3405644406, 3405644407, 3405644408, 3405644409, 3405644410,\n",
       "            3405644411, 3405644412, 3405644413, 3405644414, 3405644415,\n",
       "            3405644416, 3405644417, 3405644418, 3405644419, 3405644420,\n",
       "            3405644421, 3405644422, 3405644423, 3405644424, 3405644425,\n",
       "            3405644426, 3405644427, 3405644428, 3405644429, 3405644430,\n",
       "            3405644431, 3405644432, 3405644433, 3405644434, 3405644435,\n",
       "            3405644436, 3405644437, 3405644438, 3405644439, 3405644440,\n",
       "            3405644441, 3405644442, 3405644443, 3405644444, 3405644445,\n",
       "            3405644446, 3405644447, 3405644448, 3405644449, 3405644450,\n",
       "            3405644451, 3405644452, 3405644453, 3405644454, 3405644455,\n",
       "            3405644456, 3405644457, 3405644458, 3405644459, 3405644460,\n",
       "            3405644461, 3405644462, 3405644463, 3405644464, 3405644465,\n",
       "            3405644466, 3405644467, 3405644468, 3405644469, 3405644470,\n",
       "            3405644471, 3405644472, 3405644473, 3405644474, 3405644475,\n",
       "            3405644476, 3405644477, 3405644478, 3405644479, 3405644480,\n",
       "            3405644481, 3405644482, 3405644483, 3405644484, 3405644485,\n",
       "            3405644486, 3405644487, 3405644488, 3405644489, 3405644490,\n",
       "            3405644491, 3405644492, 3405644493, 3405644494, 3405644495,\n",
       "            3405644496, 3405644497, 3405644498, 3405644499, 3405644500,\n",
       "            3405644501, 3405644502, 3405644503, 3405644504, 3405644505,\n",
       "            3405644506, 3405644507, 3405644508, 3405644509, 3405644510,\n",
       "            3405644511, 3405644512, 3405644513, 3405644514, 3405644515,\n",
       "            3405644516, 3405644517, 3405644518, 3405644519, 3405644520,\n",
       "            3405644521, 3405644522, 3405644523, 3405644524, 3405644525,\n",
       "            3405644526, 3405644527, 3405644528, 3405644529, 3405644530,\n",
       "            3405644531, 3405644532, 3405644533, 3405644534, 3405644535,\n",
       "            3405644536, 3405644537, 3405644538, 3405644539, 3405644540,\n",
       "            3405644541, 3405644542, 3405644543, 3405644544, 3405644545,\n",
       "            3405644546, 3405644547, 3405644548, 3405644549, 3405644550,\n",
       "            3405644551, 3405644552, 3405644553, 3405644554, 3405644555,\n",
       "            3405644556, 3405644557, 3405644558, 3405644559, 3405644560,\n",
       "            3405644561, 3405644562, 3405644563, 3405644564, 3405644565,\n",
       "            3405644566, 3405644567, 3405644568, 3405644569, 3405644570,\n",
       "            3405644571, 3405644572, 3405644573, 3405644574, 3405644575,\n",
       "            3405644576, 3405644577, 3405644578, 3405644579, 3405644580,\n",
       "            3405644581, 3405644582, 3405644583, 3405644584, 3405644585,\n",
       "            3405644586, 3405644587, 3405644588, 3405644589, 3405644590,\n",
       "            3405644591, 3405644592, 3405644593, 3405644594, 3405644595,\n",
       "            3405644596, 3405644597, 3405644598, 3405644599, 3405644600,\n",
       "            3405644601, 3405644602, 3405644603, 3405644604, 3405644605,\n",
       "            3405644606, 3405644607, 3405644608, 3405644609, 3405644610,\n",
       "            3405644611, 3405644612, 3405644613, 3405644614, 3405644615,\n",
       "            3405644616, 3405644617, 3405644618, 3405644619, 3405644620,\n",
       "            3405644621, 3405644622, 3405644623, 3405644624, 3405644625,\n",
       "            3405644626, 3405644627, 3405644628, 3405644629, 3405644630,\n",
       "            3405644631, 3405644632, 3405644633, 3405644634, 3405644635,\n",
       "            3405644636, 3405644637, 3405644638, 3405644639, 3405644640,\n",
       "            3405644641, 3405644642, 3405644643, 3405644644, 3405644645,\n",
       "            3405644646, 3405644647, 3405644648, 3405644649, 3405644650,\n",
       "            3405644651, 3405644652, 3405644653, 3405644654, 3405644655,\n",
       "            3405644656, 3405644657, 3405644658, 3405644659, 3405644660,\n",
       "            3405644661, 3405644662, 3405644663, 3405644664, 3405644665,\n",
       "            3405644666, 3405644667, 3405644668, 3405644669, 3405644670,\n",
       "            3405644671, 3405644672, 3405644673, 3405644674, 3405644675,\n",
       "            3405644676, 3405644677, 3405644678, 3405644679, 3405644680,\n",
       "            3405644681, 3405644682, 3405644683, 3405644684, 3405644685,\n",
       "            3405644686, 3405644687, 3405644688, 3405644689, 3405644690,\n",
       "            3405644691, 3405644692, 3405644693, 3405644694, 3405644695,\n",
       "            3405644696, 3405644697, 3405644698, 3405644699, 3405644700,\n",
       "            3405644701, 3405644702, 3405644703, 3405644704, 3405644705,\n",
       "            3405644706, 3405644707, 3405644708, 3405644709, 3405644710,\n",
       "            3405644711, 3405644712, 3405644713, 3405644714, 3405644715,\n",
       "            3405644716, 3405644717, 3405644718, 3405644719, 3405644720,\n",
       "            3405644721, 3405644722, 3405644723, 3405644724, 3405644725,\n",
       "            3405644726, 3405644727, 3405644728, 3405644729, 3405644730,\n",
       "            3405644731, 3405644732, 3405644733, 3405644734, 3405644735,\n",
       "            3405644736, 3405644737, 3405644738, 3405644739, 3405644740,\n",
       "            3405644741, 3405644742, 3405644743, 3405644744, 3405644745,\n",
       "            3405644746, 3405644747, 3405644748, 3405644749, 3405644750,\n",
       "            3405644751, 3405644752, 3405644753, 3405644754, 3405644755,\n",
       "            3405644756, 3405644757, 3405644758, 3405644759, 3405644760,\n",
       "            3405644761, 3405644762, 3405644763, 3405644764, 3405644765,\n",
       "            3405644766, 3405644767, 3405644768, 3405644769, 3405644770,\n",
       "            3405644771, 3405644772, 3405644773, 3405644774, 3405644775],\n",
       "           dtype=uint32)"
      ]
     },
     "execution_count": 32,
     "metadata": {},
     "output_type": "execute_result"
    }
   ],
   "source": [
    "input_buffer"
   ]
  },
  {
   "cell_type": "code",
   "execution_count": 33,
   "id": "9b6de263",
   "metadata": {},
   "outputs": [
    {
     "data": {
      "text/plain": [
       "PynqBuffer([3405643776, 3405643777, 3405643778, 3405643779, 3405643780,\n",
       "            3405643781, 3405643782, 3405643783, 3405643784, 3405643785,\n",
       "            3405643786, 3405643787, 3405643788, 3405643789, 3405643790,\n",
       "            3405643791, 3405643792, 3405643793, 3405643794, 3405643795,\n",
       "            3405643796, 3405643797, 3405643798, 3405643799, 3405643800,\n",
       "            3405643801, 3405643802, 3405643803, 3405643804, 3405643805,\n",
       "            3405643806, 3405643807, 3405643808, 3405643809, 3405643810,\n",
       "            3405643811, 3405643812, 3405643813, 3405643814, 3405643815,\n",
       "            3405643816, 3405643817, 3405643818, 3405643819, 3405643820,\n",
       "            3405643821, 3405643822, 3405643823, 3405643824, 3405643825,\n",
       "            3405643826, 3405643827, 3405643828, 3405643829, 3405643830,\n",
       "            3405643831, 3405643832, 3405643833, 3405643834, 3405643835,\n",
       "            3405643836, 3405643837, 3405643838, 3405643839, 3405643840,\n",
       "            3405643841, 3405643842, 3405643843, 3405643844, 3405643845,\n",
       "            3405643846, 3405643847, 3405643848, 3405643849, 3405643850,\n",
       "            3405643851, 3405643852, 3405643853, 3405643854, 3405643855,\n",
       "            3405643856, 3405643857, 3405643858, 3405643859, 3405643860,\n",
       "            3405643861, 3405643862, 3405643863, 3405643864, 3405643865,\n",
       "            3405643866, 3405643867, 3405643868, 3405643869, 3405643870,\n",
       "            3405643871, 3405643872, 3405643873, 3405643874, 3405643875,\n",
       "            3405643876, 3405643877, 3405643878, 3405643879, 3405643880,\n",
       "            3405643881, 3405643882, 3405643883, 3405643884, 3405643885,\n",
       "            3405643886, 3405643887, 3405643888, 3405643889, 3405643890,\n",
       "            3405643891, 3405643892, 3405643893, 3405643894, 3405643895,\n",
       "            3405643896, 3405643897, 3405643898, 3405643899, 3405643900,\n",
       "            3405643901, 3405643902, 3405643903, 3405643904, 3405643905,\n",
       "            3405643906, 3405643907, 3405643908, 3405643909, 3405643910,\n",
       "            3405643911, 3405643912, 3405643913, 3405643914, 3405643915,\n",
       "            3405643916, 3405643917, 3405643918, 3405643919, 3405643920,\n",
       "            3405643921, 3405643922, 3405643923, 3405643924, 3405643925,\n",
       "            3405643926, 3405643927, 3405643928, 3405643929, 3405643930,\n",
       "            3405643931, 3405643932, 3405643933, 3405643934, 3405643935,\n",
       "            3405643936, 3405643937, 3405643938, 3405643939, 3405643940,\n",
       "            3405643941, 3405643942, 3405643943, 3405643944, 3405643945,\n",
       "            3405643946, 3405643947, 3405643948, 3405643949, 3405643950,\n",
       "            3405643951, 3405643952, 3405643953, 3405643954, 3405643955,\n",
       "            3405643956, 3405643957, 3405643958, 3405643959, 3405643960,\n",
       "            3405643961, 3405643962, 3405643963, 3405643964, 3405643965,\n",
       "            3405643966, 3405643967, 3405643968, 3405643969, 3405643970,\n",
       "            3405643971, 3405643972, 3405643973, 3405643974, 3405643975,\n",
       "            3405643976, 3405643977, 3405643978, 3405643979, 3405643980,\n",
       "            3405643981, 3405643982, 3405643983, 3405643984, 3405643985,\n",
       "            3405643986, 3405643987, 3405643988, 3405643989, 3405643990,\n",
       "            3405643991, 3405643992, 3405643993, 3405643994, 3405643995,\n",
       "            3405643996, 3405643997, 3405643998, 3405643999, 3405644000,\n",
       "            3405644001, 3405644002, 3405644003, 3405644004, 3405644005,\n",
       "            3405644006, 3405644007, 3405644008, 3405644009, 3405644010,\n",
       "            3405644011, 3405644012, 3405644013, 3405644014, 3405644015,\n",
       "            3405644016, 3405644017, 3405644018, 3405644019, 3405644020,\n",
       "            3405644021, 3405644022, 3405644023, 3405644024, 3405644025,\n",
       "            3405644026, 3405644027, 3405644028, 3405644029, 3405644030,\n",
       "            3405644031, 3405644032, 3405644033, 3405644034, 3405644035,\n",
       "            3405644036, 3405644037, 3405644038, 3405644039, 3405644040,\n",
       "            3405644041, 3405644042, 3405644043, 3405644044, 3405644045,\n",
       "            3405644046, 3405644047, 3405644048, 3405644049, 3405644050,\n",
       "            3405644051, 3405644052, 3405644053, 3405644054, 3405644055,\n",
       "            3405644056, 3405644057, 3405644058, 3405644059, 3405644060,\n",
       "            3405644061, 3405644062, 3405644063, 3405644064, 3405644065,\n",
       "            3405644066, 3405644067, 3405644068, 3405644069, 3405644070,\n",
       "            3405644071, 3405644072, 3405644073, 3405644074, 3405644075,\n",
       "            3405644076, 3405644077, 3405644078, 3405644079, 3405644080,\n",
       "            3405644081, 3405644082, 3405644083, 3405644084, 3405644085,\n",
       "            3405644086, 3405644087, 3405644088, 3405644089, 3405644090,\n",
       "            3405644091, 3405644092, 3405644093, 3405644094, 3405644095,\n",
       "            3405644096, 3405644097, 3405644098, 3405644099, 3405644100,\n",
       "            3405644101, 3405644102, 3405644103, 3405644104, 3405644105,\n",
       "            3405644106, 3405644107, 3405644108, 3405644109, 3405644110,\n",
       "            3405644111, 3405644112, 3405644113, 3405644114, 3405644115,\n",
       "            3405644116, 3405644117, 3405644118, 3405644119, 3405644120,\n",
       "            3405644121, 3405644122, 3405644123, 3405644124, 3405644125,\n",
       "            3405644126, 3405644127, 3405644128, 3405644129, 3405644130,\n",
       "            3405644131, 3405644132, 3405644133, 3405644134, 3405644135,\n",
       "            3405644136, 3405644137, 3405644138, 3405644139, 3405644140,\n",
       "            3405644141, 3405644142, 3405644143, 3405644144, 3405644145,\n",
       "            3405644146, 3405644147, 3405644148, 3405644149, 3405644150,\n",
       "            3405644151, 3405644152, 3405644153, 3405644154, 3405644155,\n",
       "            3405644156, 3405644157, 3405644158, 3405644159, 3405644160,\n",
       "            3405644161, 3405644162, 3405644163, 3405644164, 3405644165,\n",
       "            3405644166, 3405644167, 3405644168, 3405644169, 3405644170,\n",
       "            3405644171, 3405644172, 3405644173, 3405644174, 3405644175,\n",
       "            3405644176, 3405644177, 3405644178, 3405644179, 3405644180,\n",
       "            3405644181, 3405644182, 3405644183, 3405644184, 3405644185,\n",
       "            3405644186, 3405644187, 3405644188, 3405644189, 3405644190,\n",
       "            3405644191, 3405644192, 3405644193, 3405644194, 3405644195,\n",
       "            3405644196, 3405644197, 3405644198, 3405644199, 3405644200,\n",
       "            3405644201, 3405644202, 3405644203, 3405644204, 3405644205,\n",
       "            3405644206, 3405644207, 3405644208, 3405644209, 3405644210,\n",
       "            3405644211, 3405644212, 3405644213, 3405644214, 3405644215,\n",
       "            3405644216, 3405644217, 3405644218, 3405644219, 3405644220,\n",
       "            3405644221, 3405644222, 3405644223, 3405644224, 3405644225,\n",
       "            3405644226, 3405644227, 3405644228, 3405644229, 3405644230,\n",
       "            3405644231, 3405644232, 3405644233, 3405644234, 3405644235,\n",
       "            3405644236, 3405644237, 3405644238, 3405644239, 3405644240,\n",
       "            3405644241, 3405644242, 3405644243, 3405644244, 3405644245,\n",
       "            3405644246, 3405644247, 3405644248, 3405644249, 3405644250,\n",
       "            3405644251, 3405644252, 3405644253, 3405644254, 3405644255,\n",
       "            3405644256, 3405644257, 3405644258, 3405644259, 3405644260,\n",
       "            3405644261, 3405644262, 3405644263, 3405644264, 3405644265,\n",
       "            3405644266, 3405644267, 3405644268, 3405644269, 3405644270,\n",
       "            3405644271, 3405644272, 3405644273, 3405644274, 3405644275,\n",
       "            3405644276, 3405644277, 3405644278, 3405644279, 3405644280,\n",
       "            3405644281, 3405644282, 3405644283, 3405644284, 3405644285,\n",
       "            3405644286, 3405644287, 3405644288, 3405644289, 3405644290,\n",
       "            3405644291, 3405644292, 3405644293, 3405644294, 3405644295,\n",
       "            3405644296, 3405644297, 3405644298, 3405644299, 3405644300,\n",
       "            3405644301, 3405644302, 3405644303, 3405644304, 3405644305,\n",
       "            3405644306, 3405644307, 3405644308, 3405644309, 3405644310,\n",
       "            3405644311, 3405644312, 3405644313, 3405644314, 3405644315,\n",
       "            3405644316, 3405644317, 3405644318, 3405644319, 3405644320,\n",
       "            3405644321, 3405644322, 3405644323, 3405644324, 3405644325,\n",
       "            3405644326, 3405644327, 3405644328, 3405644329, 3405644330,\n",
       "            3405644331, 3405644332, 3405644333, 3405644334, 3405644335,\n",
       "            3405644336, 3405644337, 3405644338, 3405644339, 3405644340,\n",
       "            3405644341, 3405644342, 3405644343, 3405644344, 3405644345,\n",
       "            3405644346, 3405644347, 3405644348, 3405644349, 3405644350,\n",
       "            3405644351, 3405644352, 3405644353, 3405644354, 3405644355,\n",
       "            3405644356, 3405644357, 3405644358, 3405644359, 3405644360,\n",
       "            3405644361, 3405644362, 3405644363, 3405644364, 3405644365,\n",
       "            3405644366, 3405644367, 3405644368, 3405644369, 3405644370,\n",
       "            3405644371, 3405644372, 3405644373, 3405644374, 3405644375,\n",
       "            3405644376, 3405644377, 3405644378, 3405644379, 3405644380,\n",
       "            3405644381, 3405644382, 3405644383, 3405644384, 3405644385,\n",
       "            3405644386, 3405644387, 3405644388, 3405644389, 3405644390,\n",
       "            3405644391, 3405644392, 3405644393, 3405644394, 3405644395,\n",
       "            3405644396, 3405644397, 3405644398, 3405644399, 3405644400,\n",
       "            3405644401, 3405644402, 3405644403, 3405644404, 3405644405,\n",
       "            3405644406, 3405644407, 3405644408, 3405644409, 3405644410,\n",
       "            3405644411, 3405644412, 3405644413, 3405644414, 3405644415,\n",
       "            3405644416, 3405644417, 3405644418, 3405644419, 3405644420,\n",
       "            3405644421, 3405644422, 3405644423, 3405644424, 3405644425,\n",
       "            3405644426, 3405644427, 3405644428, 3405644429, 3405644430,\n",
       "            3405644431, 3405644432, 3405644433, 3405644434, 3405644435,\n",
       "            3405644436, 3405644437, 3405644438, 3405644439, 3405644440,\n",
       "            3405644441, 3405644442, 3405644443, 3405644444, 3405644445,\n",
       "            3405644446, 3405644447, 3405644448, 3405644449, 3405644450,\n",
       "            3405644451, 3405644452, 3405644453, 3405644454, 3405644455,\n",
       "            3405644456, 3405644457, 3405644458, 3405644459, 3405644460,\n",
       "            3405644461, 3405644462, 3405644463, 3405644464, 3405644465,\n",
       "            3405644466, 3405644467, 3405644468, 3405644469, 3405644470,\n",
       "            3405644471, 3405644472, 3405644473, 3405644474, 3405644475,\n",
       "            3405644476, 3405644477, 3405644478, 3405644479, 3405644480,\n",
       "            3405644481, 3405644482, 3405644483, 3405644484, 3405644485,\n",
       "            3405644486, 3405644487, 3405644488, 3405644489, 3405644490,\n",
       "            3405644491, 3405644492, 3405644493, 3405644494, 3405644495,\n",
       "            3405644496, 3405644497, 3405644498, 3405644499, 3405644500,\n",
       "            3405644501, 3405644502, 3405644503, 3405644504, 3405644505,\n",
       "            3405644506, 3405644507, 3405644508, 3405644509, 3405644510,\n",
       "            3405644511, 3405644512, 3405644513, 3405644514, 3405644515,\n",
       "            3405644516, 3405644517, 3405644518, 3405644519, 3405644520,\n",
       "            3405644521, 3405644522, 3405644523, 3405644524, 3405644525,\n",
       "            3405644526, 3405644527, 3405644528, 3405644529, 3405644530,\n",
       "            3405644531, 3405644532, 3405644533, 3405644534, 3405644535,\n",
       "            3405644536, 3405644537, 3405644538, 3405644539, 3405644540,\n",
       "            3405644541, 3405644542, 3405644543, 3405644544, 3405644545,\n",
       "            3405644546, 3405644547, 3405644548, 3405644549, 3405644550,\n",
       "            3405644551, 3405644552, 3405644553, 3405644554, 3405644555,\n",
       "            3405644556, 3405644557, 3405644558, 3405644559, 3405644560,\n",
       "            3405644561, 3405644562, 3405644563, 3405644564, 3405644565,\n",
       "            3405644566, 3405644567, 3405644568, 3405644569, 3405644570,\n",
       "            3405644571, 3405644572, 3405644573, 3405644574, 3405644575,\n",
       "            3405644576, 3405644577, 3405644578, 3405644579, 3405644580,\n",
       "            3405644581, 3405644582, 3405644583, 3405644584, 3405644585,\n",
       "            3405644586, 3405644587, 3405644588, 3405644589, 3405644590,\n",
       "            3405644591, 3405644592, 3405644593, 3405644594, 3405644595,\n",
       "            3405644596, 3405644597, 3405644598, 3405644599, 3405644600,\n",
       "            3405644601, 3405644602, 3405644603, 3405644604, 3405644605,\n",
       "            3405644606, 3405644607, 3405644608, 3405644609, 3405644610,\n",
       "            3405644611, 3405644612, 3405644613, 3405644614, 3405644615,\n",
       "            3405644616, 3405644617, 3405644618, 3405644619, 3405644620,\n",
       "            3405644621, 3405644622, 3405644623, 3405644624, 3405644625,\n",
       "            3405644626, 3405644627, 3405644628, 3405644629, 3405644630,\n",
       "            3405644631, 3405644632, 3405644633, 3405644634, 3405644635,\n",
       "            3405644636, 3405644637, 3405644638, 3405644639, 3405644640,\n",
       "            3405644641, 3405644642, 3405644643, 3405644644, 3405644645,\n",
       "            3405644646, 3405644647, 3405644648, 3405644649, 3405644650,\n",
       "            3405644651, 3405644652, 3405644653, 3405644654, 3405644655,\n",
       "            3405644656, 3405644657, 3405644658, 3405644659, 3405644660,\n",
       "            3405644661, 3405644662, 3405644663, 3405644664, 3405644665,\n",
       "            3405644666, 3405644667, 3405644668, 3405644669, 3405644670,\n",
       "            3405644671, 3405644672, 3405644673, 3405644674, 3405644675,\n",
       "            3405644676, 3405644677, 3405644678, 3405644679, 3405644680,\n",
       "            3405644681, 3405644682, 3405644683, 3405644684, 3405644685,\n",
       "            3405644686, 3405644687, 3405644688, 3405644689, 3405644690,\n",
       "            3405644691, 3405644692, 3405644693, 3405644694, 3405644695,\n",
       "            3405644696, 3405644697, 3405644698, 3405644699, 3405644700,\n",
       "            3405644701, 3405644702, 3405644703, 3405644704, 3405644705,\n",
       "            3405644706, 3405644707, 3405644708, 3405644709, 3405644710,\n",
       "            3405644711, 3405644712, 3405644713, 3405644714, 3405644715,\n",
       "            3405644716, 3405644717, 3405644718, 3405644719, 3405644720,\n",
       "            3405644721, 3405644722, 3405644723, 3405644724, 3405644725,\n",
       "            3405644726, 3405644727, 3405644728, 3405644729, 3405644730,\n",
       "            3405644731, 3405644732, 3405644733, 3405644734, 3405644735,\n",
       "            3405644736, 3405644737, 3405644738, 3405644739, 3405644740,\n",
       "            3405644741, 3405644742, 3405644743, 3405644744, 3405644745,\n",
       "            3405644746, 3405644747, 3405644748, 3405644749, 3405644750,\n",
       "            3405644751, 3405644752, 3405644753, 3405644754, 3405644755,\n",
       "            3405644756, 3405644757, 3405644758, 3405644759, 3405644760,\n",
       "            3405644761, 3405644762, 3405644763, 3405644764, 3405644765,\n",
       "            3405644766, 3405644767, 3405644768, 3405644769, 3405644770,\n",
       "            3405644771, 3405644772, 3405644773, 3405644774, 3405644775],\n",
       "           dtype=uint32)"
      ]
     },
     "execution_count": 33,
     "metadata": {},
     "output_type": "execute_result"
    }
   ],
   "source": [
    "output_buffer"
   ]
  },
  {
   "cell_type": "markdown",
   "id": "f40b72d0",
   "metadata": {},
   "source": [
    "## Check DMA status, and trigger an error\n"
   ]
  },
  {
   "cell_type": "code",
   "execution_count": 36,
   "id": "d4527f36",
   "metadata": {},
   "outputs": [
    {
     "data": {
      "text/plain": [
       "False"
      ]
     },
     "execution_count": 36,
     "metadata": {},
     "output_type": "execute_result"
    }
   ],
   "source": [
    "dma_recv.error"
   ]
  },
  {
   "cell_type": "code",
   "execution_count": 38,
   "id": "07e78f0c",
   "metadata": {},
   "outputs": [
    {
     "data": {
      "text/plain": [
       "True"
      ]
     },
     "execution_count": 38,
     "metadata": {},
     "output_type": "execute_result"
    }
   ],
   "source": [
    "dma_recv.idle"
   ]
  },
  {
   "cell_type": "code",
   "execution_count": 39,
   "id": "f3afd23d",
   "metadata": {},
   "outputs": [],
   "source": [
    "dma_recv.transfer(output_buffer)"
   ]
  },
  {
   "cell_type": "code",
   "execution_count": 40,
   "id": "baf6927b",
   "metadata": {},
   "outputs": [
    {
     "data": {
      "text/plain": [
       "False"
      ]
     },
     "execution_count": 40,
     "metadata": {},
     "output_type": "execute_result"
    }
   ],
   "source": [
    "dma_recv.idle"
   ]
  },
  {
   "cell_type": "markdown",
   "id": "eb391c7e",
   "metadata": {},
   "source": [
    "Start another receive transfer while the DMA is not idle\n",
    "\n"
   ]
  },
  {
   "cell_type": "code",
   "execution_count": 41,
   "id": "40897185",
   "metadata": {},
   "outputs": [
    {
     "ename": "RuntimeError",
     "evalue": "DMA channel not idle",
     "output_type": "error",
     "traceback": [
      "\u001b[0;31m---------------------------------------------------------------------------\u001b[0m",
      "\u001b[0;31mRuntimeError\u001b[0m                              Traceback (most recent call last)",
      "Input \u001b[0;32mIn [41]\u001b[0m, in \u001b[0;36m<cell line: 1>\u001b[0;34m()\u001b[0m\n\u001b[0;32m----> 1\u001b[0m \u001b[43mdma_recv\u001b[49m\u001b[38;5;241;43m.\u001b[39;49m\u001b[43mtransfer\u001b[49m\u001b[43m(\u001b[49m\u001b[43moutput_buffer\u001b[49m\u001b[43m)\u001b[49m\n",
      "File \u001b[0;32m/usr/local/share/pynq-venv/lib/python3.10/site-packages/pynq/lib/dma.py:138\u001b[0m, in \u001b[0;36m_SDMAChannel.transfer\u001b[0;34m(self, array, start, nbytes)\u001b[0m\n\u001b[1;32m    136\u001b[0m     \u001b[38;5;28;01mraise\u001b[39;00m \u001b[38;5;167;01mRuntimeError\u001b[39;00m(\u001b[38;5;124m\"\u001b[39m\u001b[38;5;124mDMA channel not started\u001b[39m\u001b[38;5;124m\"\u001b[39m)\n\u001b[1;32m    137\u001b[0m \u001b[38;5;28;01mif\u001b[39;00m \u001b[38;5;129;01mnot\u001b[39;00m \u001b[38;5;28mself\u001b[39m\u001b[38;5;241m.\u001b[39midle \u001b[38;5;129;01mand\u001b[39;00m \u001b[38;5;129;01mnot\u001b[39;00m \u001b[38;5;28mself\u001b[39m\u001b[38;5;241m.\u001b[39m_first_transfer:\n\u001b[0;32m--> 138\u001b[0m     \u001b[38;5;28;01mraise\u001b[39;00m \u001b[38;5;167;01mRuntimeError\u001b[39;00m(\u001b[38;5;124m\"\u001b[39m\u001b[38;5;124mDMA channel not idle\u001b[39m\u001b[38;5;124m\"\u001b[39m)\n\u001b[1;32m    139\u001b[0m \u001b[38;5;28;01mif\u001b[39;00m nbytes \u001b[38;5;241m==\u001b[39m \u001b[38;5;241m0\u001b[39m:\n\u001b[1;32m    140\u001b[0m     nbytes \u001b[38;5;241m=\u001b[39m array\u001b[38;5;241m.\u001b[39mnbytes \u001b[38;5;241m-\u001b[39m start\n",
      "\u001b[0;31mRuntimeError\u001b[0m: DMA channel not idle"
     ]
    }
   ],
   "source": [
    "dma_recv.transfer(output_buffer)"
   ]
  },
  {
   "cell_type": "markdown",
   "id": "3d0c15fd",
   "metadata": {},
   "source": [
    "We can check the running state of the DMA\n",
    "\n"
   ]
  },
  {
   "cell_type": "code",
   "execution_count": 42,
   "id": "9d0c745a",
   "metadata": {},
   "outputs": [
    {
     "data": {
      "text/plain": [
       "True"
      ]
     },
     "execution_count": 42,
     "metadata": {},
     "output_type": "execute_result"
    }
   ],
   "source": [
    "dma_recv.running"
   ]
  },
  {
   "cell_type": "code",
   "execution_count": 43,
   "id": "b4555d0a",
   "metadata": {},
   "outputs": [
    {
     "data": {
      "text/plain": [
       "False"
      ]
     },
     "execution_count": 43,
     "metadata": {},
     "output_type": "execute_result"
    }
   ],
   "source": [
    "dma_recv.idle"
   ]
  },
  {
   "cell_type": "code",
   "execution_count": 44,
   "id": "aa3e8848",
   "metadata": {},
   "outputs": [
    {
     "data": {
      "text/plain": [
       "True"
      ]
     },
     "execution_count": 44,
     "metadata": {},
     "output_type": "execute_result"
    }
   ],
   "source": [
    "dma_send.idle"
   ]
  },
  {
   "cell_type": "markdown",
   "id": "7b9dd013",
   "metadata": {},
   "source": [
    "## Check the DMA register map\n"
   ]
  },
  {
   "cell_type": "markdown",
   "id": "0c949e04",
   "metadata": {},
   "source": [
    "We can read back individual status bits as show above. It can be useful to read back the full register map which will give details on all control and status bits. The meaning of each register and each bit will not be covered. For more details you can refer to the product guide for the DMA.\n",
    "\n"
   ]
  },
  {
   "cell_type": "code",
   "execution_count": 45,
   "id": "28030d33",
   "metadata": {},
   "outputs": [
    {
     "data": {
      "text/plain": [
       "RegisterMap {\n",
       "  MM2S_DMACR = Register(RS=1, Reset=0, Keyhole=0, Cyclic_BD_Enable=0, IOC_IrqEn=0, Dly_IrqEn=0, Err_IrqEn=0, IRQThreshold=1, IRQDelay=0),\n",
       "  MM2S_DMASR = Register(Halted=0, Idle=1, SGIncld=0, DMAIntErr=0, DMASlvErr=0, DMADecErr=0, SGIntErr=0, SGSlvErr=0, SGDecErr=0, IOC_Irq=1, Dly_Irq=0, Err_Irq=0, IRQThresholdSts=0, IRQDelaySts=0),\n",
       "  MM2S_CURDESC = Register(Current_Descriptor_Pointer=0),\n",
       "  MM2S_CURDESC_MSB = Register(Current_Descriptor_Pointer=0),\n",
       "  MM2S_TAILDESC = Register(Tail_Descriptor_Pointer=0),\n",
       "  MM2S_TAILDESC_MSB = Register(Tail_Descriptor_Pointer=0),\n",
       "  MM2S_SA = Register(Source_Address=377786368),\n",
       "  MM2S_SA_MSB = Register(Source_Address=0),\n",
       "  MM2S_LENGTH = Register(Length=4000),\n",
       "  SG_CTL = Register(SG_CACHE=0, SG_USER=0),\n",
       "  S2MM_DMACR = Register(RS=1, Reset=0, Keyhole=0, Cyclic_BD_Enable=0, IOC_IrqEn=0, Dly_IrqEn=0, Err_IrqEn=0, IRQThreshold=1, IRQDelay=0),\n",
       "  S2MM_DMASR = Register(Halted=0, Idle=0, SGIncld=0, DMAIntErr=0, DMASlvErr=0, DMADecErr=0, SGIntErr=0, SGSlvErr=0, SGDecErr=0, IOC_Irq=1, Dly_Irq=0, Err_Irq=0, IRQThresholdSts=0, IRQDelaySts=0),\n",
       "  S2MM_CURDESC = Register(Current_Descriptor_Pointer=0),\n",
       "  S2MM_CURDESC_MSB = Register(Current_Descriptor_Pointer=0),\n",
       "  S2MM_TAILDESC = Register(Tail_Descriptor_Pointer=0),\n",
       "  S2MM_TAILDESC_MSB = Register(Tail_Descriptor_Pointer=0),\n",
       "  S2MM_DA = Register(Destination_Address=377790464),\n",
       "  S2MM_DA_MSB = Register(Destination_Address=0),\n",
       "  S2MM_LENGTH = Register(Length=4000)\n",
       "}"
      ]
     },
     "execution_count": 45,
     "metadata": {},
     "output_type": "execute_result"
    }
   ],
   "source": [
    "dma.register_map"
   ]
  },
  {
   "cell_type": "code",
   "execution_count": 46,
   "id": "a401de6d",
   "metadata": {},
   "outputs": [
    {
     "name": "stdout",
     "output_type": "stream",
     "text": [
      "Input buffer address   : 0x16849000\n",
      "Output buffer address  : 0x1684a000\n",
      "---\n",
      "DMA Source address     : 0x16849000\n",
      "DMA Destination address: 0x1684a000\n"
     ]
    }
   ],
   "source": [
    "print(\"Input buffer address   :\", hex(input_buffer.physical_address))\n",
    "print(\"Output buffer address  :\", hex(output_buffer.physical_address))\n",
    "print(\"---\")\n",
    "print(\"DMA Source address     :\", hex(dma.register_map.MM2S_SA.Source_Address))\n",
    "print(\"DMA Destination address:\", hex(dma.register_map.S2MM_DA.Destination_Address))"
   ]
  },
  {
   "cell_type": "markdown",
   "id": "91bc2789",
   "metadata": {},
   "source": [
    "## Free all memory"
   ]
  },
  {
   "cell_type": "code",
   "execution_count": 47,
   "id": "681f96f0",
   "metadata": {},
   "outputs": [],
   "source": [
    "del input_buffer, output_buffer"
   ]
  },
  {
   "cell_type": "code",
   "execution_count": 49,
   "id": "037f359a",
   "metadata": {},
   "outputs": [],
   "source": [
    "ol.free()"
   ]
  },
  {
   "cell_type": "code",
   "execution_count": 50,
   "id": "3ac0b5b2",
   "metadata": {},
   "outputs": [
    {
     "name": "stdout",
     "output_type": "stream",
     "text": [
      "Help on method free in module pynq.overlay:\n",
      "\n",
      "free() method of pynq.overlay.Overlay instance\n",
      "\n"
     ]
    }
   ],
   "source": [
    "help(ol.free)"
   ]
  },
  {
   "cell_type": "code",
   "execution_count": 52,
   "id": "9e38646d",
   "metadata": {},
   "outputs": [
    {
     "name": "stdout",
     "output_type": "stream",
     "text": [
      "Help on Overlay in module pynq.overlay:\n",
      "\n",
      "<pynq.overlay.Overlay object>\n",
      "    Default documentation for overlay /home/xilinx/pynq/overlays/dma_prequel/dma_prequel.bit. The following\n",
      "    attributes are available on this overlay:\n",
      "    \n",
      "    IP Blocks\n",
      "    ----------\n",
      "    axi_dma_0            : pynq.lib.dma.DMA\n",
      "    processing_system7_0 : pynq.overlay.DefaultIP\n",
      "    \n",
      "    Hierarchies\n",
      "    -----------\n",
      "    None\n",
      "    \n",
      "    Interrupts\n",
      "    ----------\n",
      "    None\n",
      "    \n",
      "    GPIO Outputs\n",
      "    ------------\n",
      "    None\n",
      "    \n",
      "    Memories\n",
      "    ------------\n",
      "    PSDDR                : Memory\n",
      "\n"
     ]
    }
   ],
   "source": [
    "help(ol)"
   ]
  },
  {
   "cell_type": "code",
   "execution_count": null,
   "id": "1756c36f",
   "metadata": {},
   "outputs": [],
   "source": []
  },
  {
   "cell_type": "code",
   "execution_count": null,
   "id": "12b43da3",
   "metadata": {},
   "outputs": [],
   "source": []
  },
  {
   "cell_type": "markdown",
   "id": "dcd31493",
   "metadata": {},
   "source": [
    "# OLD"
   ]
  },
  {
   "cell_type": "code",
   "execution_count": 16,
   "id": "c975f115",
   "metadata": {},
   "outputs": [
    {
     "name": "stdout",
     "output_type": "stream",
     "text": [
      "Help on DefaultIP in module pynq.overlay object:\n",
      "\n",
      "class DefaultIP(builtins.object)\n",
      " |  DefaultIP(description)\n",
      " |  \n",
      " |  Driver for an IP without a more specific driver\n",
      " |  \n",
      " |  This driver wraps an MMIO device and provides a base class\n",
      " |  for more specific drivers written later. It also provides\n",
      " |  access to GPIO outputs and interrupts inputs via attributes. More specific\n",
      " |  drivers should inherit from `DefaultIP` and include a\n",
      " |  `bindto` entry containing all of the IP that the driver\n",
      " |  should bind to. Subclasses meeting these requirements will\n",
      " |  automatically be registered.\n",
      " |  \n",
      " |  Attributes\n",
      " |  ----------\n",
      " |  mmio : pynq.MMIO\n",
      " |      Underlying MMIO driver for the device\n",
      " |  _interrupts : dict\n",
      " |      Subset of the PL.interrupt_pins related to this IP\n",
      " |  _gpio : dict\n",
      " |      Subset of the PL.gpio_dict related to this IP\n",
      " |  \n",
      " |  Methods defined here:\n",
      " |  \n",
      " |  __init__(self, description)\n",
      " |      Initialize self.  See help(type(self)) for accurate signature.\n",
      " |  \n",
      " |  read(self, offset=0)\n",
      " |      Read from the MMIO device\n",
      " |      \n",
      " |      Parameters\n",
      " |      ----------\n",
      " |      offset : int\n",
      " |          Address to read\n",
      " |  \n",
      " |  write(self, offset, value)\n",
      " |      Write to the MMIO device\n",
      " |      \n",
      " |      Parameters\n",
      " |      ----------\n",
      " |      offset : int\n",
      " |          Address to write to\n",
      " |      value : int or bytes\n",
      " |          Data to write\n",
      " |  \n",
      " |  ----------------------------------------------------------------------\n",
      " |  Readonly properties defined here:\n",
      " |  \n",
      " |  register_map\n",
      " |  \n",
      " |  signature\n",
      " |      The signature of the `call` method\n",
      " |  \n",
      " |  ----------------------------------------------------------------------\n",
      " |  Data descriptors defined here:\n",
      " |  \n",
      " |  __dict__\n",
      " |      dictionary for instance variables (if defined)\n",
      " |  \n",
      " |  __weakref__\n",
      " |      list of weak references to the object (if defined)\n",
      "\n"
     ]
    }
   ],
   "source": [
    "tl = overlay.toplevel_0\n",
    "help(tl)"
   ]
  },
  {
   "cell_type": "code",
   "execution_count": 17,
   "id": "470ef9d0",
   "metadata": {},
   "outputs": [
    {
     "data": {
      "text/plain": [
       "RegisterMap {\n",
       "  CTRL = Register(AP_START=0, AP_DONE=0, AP_IDLE=1, AP_READY=0, RESERVED_1=0, AUTO_RESTART=0, RESERVED_2=0, INTERRUPT=0, RESERVED_3=0),\n",
       "  GIER = Register(Enable=0, RESERVED=0),\n",
       "  IP_IER = Register(CHAN0_INT_EN=0, CHAN1_INT_EN=0, RESERVED_0=0),\n",
       "  IP_ISR = Register(CHAN0_INT_ST=0, CHAN1_INT_ST=0, RESERVED_0=0),\n",
       "  a_1 = Register(a=write-only),\n",
       "  a_2 = Register(a=write-only),\n",
       "  length_r = Register(length_r=write-only),\n",
       "  value_r = Register(value_r=write-only)\n",
       "}"
      ]
     },
     "execution_count": 17,
     "metadata": {},
     "output_type": "execute_result"
    }
   ],
   "source": [
    "tl.register_map"
   ]
  },
  {
   "cell_type": "code",
   "execution_count": 18,
   "id": "dfafc54c",
   "metadata": {},
   "outputs": [],
   "source": [
    "from pynq import allocate\n",
    "import numpy as np\n",
    "\n",
    "py_buffer = allocate(shape=(100,), dtype=np.int32)"
   ]
  },
  {
   "cell_type": "code",
   "execution_count": 19,
   "id": "734c9b9b",
   "metadata": {},
   "outputs": [
    {
     "name": "stdout",
     "output_type": "stream",
     "text": [
      "py_buffer physical address 0x1684a000\n"
     ]
    }
   ],
   "source": [
    "print(\"py_buffer physical address {}\".format(hex(py_buffer.physical_address)))"
   ]
  },
  {
   "cell_type": "markdown",
   "id": "3b688400",
   "metadata": {},
   "source": [
    "## Configure the IP\n",
    "\n",
    "Write the values of the memory address, the length, and the value to be added to each location. You must make sure that length doesn't exceed the lendth of the memory that we allocated earlier AND the maximum value that can be set in the HLS IP. The buffe"
   ]
  },
  {
   "cell_type": "code",
   "execution_count": 21,
   "id": "4c6e9730",
   "metadata": {},
   "outputs": [],
   "source": [
    "tl.register_map.a_1 = py_buffer.physical_address\n",
    "tl.register_map.length_r = 100\n",
    "tl.register_map.value_r = 7"
   ]
  },
  {
   "cell_type": "markdown",
   "id": "2ea473b5",
   "metadata": {},
   "source": [
    "## Start the IP"
   ]
  },
  {
   "cell_type": "code",
   "execution_count": 22,
   "id": "4768a9f2",
   "metadata": {},
   "outputs": [],
   "source": [
    "tl.register_map.CTRL.AP_START = 1"
   ]
  },
  {
   "cell_type": "markdown",
   "id": "77a1c635",
   "metadata": {},
   "source": [
    "If we start the IP once, when the IP completes an iteration DONE will go high once. While the IP is working, AP_IDLE will be 0. In this example, the time for an iteration of the HLS IP is very low so you will probably not see AP_IDLE = 0.\n",
    "\n",
    "Done is cleared when it is read. There is a limitation with the register_map. Multiple reads to the same register may be made to collect the information required for the register_map. This may mean DONE is cleared while the values of some of the other bits and registers are being read and consequentally will not show as high in the register m"
   ]
  },
  {
   "cell_type": "code",
   "execution_count": 23,
   "id": "18fc65ba",
   "metadata": {},
   "outputs": [
    {
     "data": {
      "text/plain": [
       "1"
      ]
     },
     "execution_count": 23,
     "metadata": {},
     "output_type": "execute_result"
    }
   ],
   "source": [
    "tl.register_map.CTRL.AP_DONE"
   ]
  },
  {
   "cell_type": "code",
   "execution_count": 24,
   "id": "bf1cf34a",
   "metadata": {},
   "outputs": [
    {
     "data": {
      "text/plain": [
       "1"
      ]
     },
     "execution_count": 24,
     "metadata": {},
     "output_type": "execute_result"
    }
   ],
   "source": [
    "tl.register_map.CTRL.AP_IDLE"
   ]
  },
  {
   "cell_type": "markdown",
   "id": "9da5d454",
   "metadata": {},
   "source": [
    "If you have a long running HLS IP, you can poll on the DONE bit before continuing with your application."
   ]
  },
  {
   "cell_type": "markdown",
   "id": "e3248ff5",
   "metadata": {},
   "source": [
    "## Check the contents of the memory"
   ]
  },
  {
   "cell_type": "code",
   "execution_count": 25,
   "id": "f78bb870",
   "metadata": {},
   "outputs": [
    {
     "data": {
      "text/plain": [
       "PynqBuffer([7, 7, 7, 7, 7, 7, 7, 7, 7, 7, 7, 7, 7, 7, 7, 7, 7, 7, 7, 7, 7,\n",
       "            7, 7, 7, 7, 7, 7, 7, 7, 7, 7, 7, 7, 7, 7, 7, 7, 7, 7, 7, 7, 7,\n",
       "            7, 7, 7, 7, 7, 7, 7, 7, 7, 7, 7, 7, 7, 7, 7, 7, 7, 7, 7, 7, 7,\n",
       "            7, 7, 7, 7, 7, 7, 7, 7, 7, 7, 7, 7, 7, 7, 7, 7, 7, 7, 7, 7, 7,\n",
       "            7, 7, 7, 7, 7, 7, 7, 7, 7, 7, 7, 7, 7, 7, 7, 7])"
      ]
     },
     "execution_count": 25,
     "metadata": {},
     "output_type": "execute_result"
    }
   ],
   "source": [
    "py_buffer"
   ]
  },
  {
   "cell_type": "code",
   "execution_count": 26,
   "id": "fb8d8511",
   "metadata": {},
   "outputs": [
    {
     "data": {
      "text/plain": [
       "100"
      ]
     },
     "execution_count": 26,
     "metadata": {},
     "output_type": "execute_result"
    }
   ],
   "source": [
    "len(py_buffer)"
   ]
  },
  {
   "cell_type": "code",
   "execution_count": null,
   "id": "1b0b2303",
   "metadata": {},
   "outputs": [],
   "source": [
    "my_ip.register_map.CTRL.AUTO_RESTART = 1"
   ]
  },
  {
   "cell_type": "code",
   "execution_count": null,
   "id": "c257804f",
   "metadata": {},
   "outputs": [],
   "source": [
    "# %xdel in1_vadd\n",
    "# %xdel in2_vadd\n",
    "# %xdel out\n",
    "overlay.free()"
   ]
  },
  {
   "cell_type": "code",
   "execution_count": null,
   "id": "c253c5a4",
   "metadata": {},
   "outputs": [],
   "source": []
  },
  {
   "cell_type": "code",
   "execution_count": null,
   "id": "e812a436",
   "metadata": {},
   "outputs": [],
   "source": []
  },
  {
   "cell_type": "code",
   "execution_count": null,
   "id": "00bcca97",
   "metadata": {},
   "outputs": [],
   "source": []
  },
  {
   "cell_type": "code",
   "execution_count": null,
   "id": "91f88ba9",
   "metadata": {},
   "outputs": [],
   "source": []
  },
  {
   "cell_type": "code",
   "execution_count": null,
   "id": "f90c52dd",
   "metadata": {},
   "outputs": [],
   "source": []
  },
  {
   "cell_type": "markdown",
   "id": "3104455b",
   "metadata": {},
   "source": [
    "# OLD"
   ]
  },
  {
   "cell_type": "code",
   "execution_count": 21,
   "id": "4f6ce153",
   "metadata": {},
   "outputs": [
    {
     "data": {
      "text/plain": [
       "35"
      ]
     },
     "execution_count": 21,
     "metadata": {},
     "output_type": "execute_result"
    }
   ],
   "source": [
    "overlay.scalar_add.add(15, 20)"
   ]
  },
  {
   "cell_type": "code",
   "execution_count": 8,
   "id": "bf52c620",
   "metadata": {},
   "outputs": [
    {
     "data": {
      "text/plain": [
       "9"
      ]
     },
     "execution_count": 8,
     "metadata": {},
     "output_type": "execute_result"
    }
   ],
   "source": [
    "add_ip.write(0x10, 4)\n",
    "add_ip.write(0x18, 5)\n",
    "add_ip.read(0x20)"
   ]
  },
  {
   "cell_type": "code",
   "execution_count": 18,
   "id": "b9422897",
   "metadata": {},
   "outputs": [],
   "source": [
    "from pynq import DefaultIP\n",
    "\n",
    "\n",
    "class AddDriver(DefaultIP):\n",
    "    def __init__(self, description):\n",
    "        super().__init__(description=description)\n",
    "\n",
    "    bindto = [\"xilinx.com:hls:add:1.0\"]\n",
    "\n",
    "    def add(self, a, b):\n",
    "        self.write(0x10, a)\n",
    "        self.write(0x18, b)\n",
    "        return self.read(0x20)"
   ]
  },
  {
   "cell_type": "code",
   "execution_count": 19,
   "id": "cfe97db4",
   "metadata": {},
   "outputs": [],
   "source": [
    "overlay = Overlay(\"/home/xilinx/pynq/overlays/adder/adder.bit\")"
   ]
  },
  {
   "cell_type": "code",
   "execution_count": 20,
   "id": "0e88f4fe",
   "metadata": {},
   "outputs": [
    {
     "name": "stdout",
     "output_type": "stream",
     "text": [
      "Help on Overlay in module pynq.overlay:\n",
      "\n",
      "<pynq.overlay.Overlay object>\n",
      "    Default documentation for overlay /home/xilinx/pynq/overlays/adder/adder.bit. The following\n",
      "    attributes are available on this overlay:\n",
      "    \n",
      "    IP Blocks\n",
      "    ----------\n",
      "    scalar_add           : __main__.AddDriver\n",
      "    processing_system7_0 : pynq.overlay.DefaultIP\n",
      "    \n",
      "    Hierarchies\n",
      "    -----------\n",
      "    None\n",
      "    \n",
      "    Interrupts\n",
      "    ----------\n",
      "    None\n",
      "    \n",
      "    GPIO Outputs\n",
      "    ------------\n",
      "    None\n",
      "    \n",
      "    Memories\n",
      "    ------------\n",
      "    PSDDR                : Memory\n",
      "\n"
     ]
    }
   ],
   "source": [
    "help(overlay)"
   ]
  }
 ],
 "metadata": {
  "kernelspec": {
   "display_name": "Python 3 (ipykernel)",
   "language": "python",
   "name": "python3"
  },
  "language_info": {
   "codemirror_mode": {
    "name": "ipython",
    "version": 3
   },
   "file_extension": ".py",
   "mimetype": "text/x-python",
   "name": "python",
   "nbconvert_exporter": "python",
   "pygments_lexer": "ipython3",
   "version": "3.10.4"
  }
 },
 "nbformat": 4,
 "nbformat_minor": 5
}
