{
 "cells": [
  {
   "cell_type": "markdown",
   "id": "348770d6",
   "metadata": {},
   "source": [
    "following: https://github.com/cathalmccabe/PYNQ_tutorials/blob/master/hls_m_axi/hls_m_axi_example.ipynb"
   ]
  },
  {
   "cell_type": "code",
   "execution_count": 8,
   "id": "ea1353a1",
   "metadata": {},
   "outputs": [],
   "source": [
    "from pynq import Overlay"
   ]
  },
  {
   "cell_type": "code",
   "execution_count": 11,
   "id": "3331686e",
   "metadata": {},
   "outputs": [
    {
     "name": "stdout",
     "output_type": "stream",
     "text": [
      "adder\t fir_accel   __init__.py  move_ab\t __pycache__\r\n",
      "add_vec  fir_accel2  linreg_vadd  new_adder\r\n",
      "base\t fir_accel3  logictools   new_fir_accel\r\n"
     ]
    }
   ],
   "source": [
    "!ls /home/xilinx/pynq/overlays/"
   ]
  },
  {
   "cell_type": "code",
   "execution_count": 12,
   "id": "b2ee2e75",
   "metadata": {},
   "outputs": [
    {
     "name": "stdout",
     "output_type": "stream",
     "text": [
      "move_ab_1.bit  move_ab_1.hwh  move_ab_1.tcl\r\n"
     ]
    }
   ],
   "source": [
    "!ls /home/xilinx/pynq/overlays/move_ab"
   ]
  },
  {
   "cell_type": "code",
   "execution_count": 14,
   "id": "4e75b6c2",
   "metadata": {},
   "outputs": [],
   "source": [
    "overlay = Overlay(\"/home/xilinx/pynq/overlays/move_ab/move_ab_1.bit\")"
   ]
  },
  {
   "cell_type": "code",
   "execution_count": 15,
   "id": "a807a51f",
   "metadata": {},
   "outputs": [
    {
     "name": "stdout",
     "output_type": "stream",
     "text": [
      "Help on Overlay in module pynq.overlay:\n",
      "\n",
      "<pynq.overlay.Overlay object>\n",
      "    Default documentation for overlay /home/xilinx/pynq/overlays/move_ab/move_ab_1.bit. The following\n",
      "    attributes are available on this overlay:\n",
      "    \n",
      "    IP Blocks\n",
      "    ----------\n",
      "    toplevel_0           : pynq.overlay.DefaultIP\n",
      "    processing_system7_0 : pynq.overlay.DefaultIP\n",
      "    \n",
      "    Hierarchies\n",
      "    -----------\n",
      "    None\n",
      "    \n",
      "    Interrupts\n",
      "    ----------\n",
      "    None\n",
      "    \n",
      "    GPIO Outputs\n",
      "    ------------\n",
      "    None\n",
      "    \n",
      "    Memories\n",
      "    ------------\n",
      "    PSDDR                : Memory\n",
      "\n"
     ]
    }
   ],
   "source": [
    "help(overlay)"
   ]
  },
  {
   "cell_type": "code",
   "execution_count": 16,
   "id": "c975f115",
   "metadata": {},
   "outputs": [
    {
     "name": "stdout",
     "output_type": "stream",
     "text": [
      "Help on DefaultIP in module pynq.overlay object:\n",
      "\n",
      "class DefaultIP(builtins.object)\n",
      " |  DefaultIP(description)\n",
      " |  \n",
      " |  Driver for an IP without a more specific driver\n",
      " |  \n",
      " |  This driver wraps an MMIO device and provides a base class\n",
      " |  for more specific drivers written later. It also provides\n",
      " |  access to GPIO outputs and interrupts inputs via attributes. More specific\n",
      " |  drivers should inherit from `DefaultIP` and include a\n",
      " |  `bindto` entry containing all of the IP that the driver\n",
      " |  should bind to. Subclasses meeting these requirements will\n",
      " |  automatically be registered.\n",
      " |  \n",
      " |  Attributes\n",
      " |  ----------\n",
      " |  mmio : pynq.MMIO\n",
      " |      Underlying MMIO driver for the device\n",
      " |  _interrupts : dict\n",
      " |      Subset of the PL.interrupt_pins related to this IP\n",
      " |  _gpio : dict\n",
      " |      Subset of the PL.gpio_dict related to this IP\n",
      " |  \n",
      " |  Methods defined here:\n",
      " |  \n",
      " |  __init__(self, description)\n",
      " |      Initialize self.  See help(type(self)) for accurate signature.\n",
      " |  \n",
      " |  read(self, offset=0)\n",
      " |      Read from the MMIO device\n",
      " |      \n",
      " |      Parameters\n",
      " |      ----------\n",
      " |      offset : int\n",
      " |          Address to read\n",
      " |  \n",
      " |  write(self, offset, value)\n",
      " |      Write to the MMIO device\n",
      " |      \n",
      " |      Parameters\n",
      " |      ----------\n",
      " |      offset : int\n",
      " |          Address to write to\n",
      " |      value : int or bytes\n",
      " |          Data to write\n",
      " |  \n",
      " |  ----------------------------------------------------------------------\n",
      " |  Readonly properties defined here:\n",
      " |  \n",
      " |  register_map\n",
      " |  \n",
      " |  signature\n",
      " |      The signature of the `call` method\n",
      " |  \n",
      " |  ----------------------------------------------------------------------\n",
      " |  Data descriptors defined here:\n",
      " |  \n",
      " |  __dict__\n",
      " |      dictionary for instance variables (if defined)\n",
      " |  \n",
      " |  __weakref__\n",
      " |      list of weak references to the object (if defined)\n",
      "\n"
     ]
    }
   ],
   "source": [
    "tl = overlay.toplevel_0\n",
    "help(tl)"
   ]
  },
  {
   "cell_type": "code",
   "execution_count": 17,
   "id": "470ef9d0",
   "metadata": {},
   "outputs": [
    {
     "data": {
      "text/plain": [
       "RegisterMap {\n",
       "  CTRL = Register(AP_START=0, AP_DONE=0, AP_IDLE=1, AP_READY=0, RESERVED_1=0, AUTO_RESTART=0, RESERVED_2=0, INTERRUPT=0, RESERVED_3=0),\n",
       "  GIER = Register(Enable=0, RESERVED=0),\n",
       "  IP_IER = Register(CHAN0_INT_EN=0, CHAN1_INT_EN=0, RESERVED_0=0),\n",
       "  IP_ISR = Register(CHAN0_INT_ST=0, CHAN1_INT_ST=0, RESERVED_0=0),\n",
       "  a_1 = Register(a=write-only),\n",
       "  a_2 = Register(a=write-only),\n",
       "  length_r = Register(length_r=write-only),\n",
       "  value_r = Register(value_r=write-only)\n",
       "}"
      ]
     },
     "execution_count": 17,
     "metadata": {},
     "output_type": "execute_result"
    }
   ],
   "source": [
    "tl.register_map"
   ]
  },
  {
   "cell_type": "code",
   "execution_count": 18,
   "id": "dfafc54c",
   "metadata": {},
   "outputs": [],
   "source": [
    "from pynq import allocate\n",
    "import numpy as np\n",
    "\n",
    "py_buffer = allocate(shape=(100,), dtype=np.int32)"
   ]
  },
  {
   "cell_type": "code",
   "execution_count": 19,
   "id": "734c9b9b",
   "metadata": {},
   "outputs": [
    {
     "name": "stdout",
     "output_type": "stream",
     "text": [
      "py_buffer physical address 0x1684a000\n"
     ]
    }
   ],
   "source": [
    "print(\"py_buffer physical address {}\".format(hex(py_buffer.physical_address)))"
   ]
  },
  {
   "cell_type": "markdown",
   "id": "3b688400",
   "metadata": {},
   "source": [
    "## Configure the IP\n",
    "\n",
    "Write the values of the memory address, the length, and the value to be added to each location. You must make sure that length doesn't exceed the lendth of the memory that we allocated earlier AND the maximum value that can be set in the HLS IP. The buffe"
   ]
  },
  {
   "cell_type": "code",
   "execution_count": 21,
   "id": "4c6e9730",
   "metadata": {},
   "outputs": [],
   "source": [
    "tl.register_map.a_1 = py_buffer.physical_address\n",
    "tl.register_map.length_r = 100\n",
    "tl.register_map.value_r = 7"
   ]
  },
  {
   "cell_type": "markdown",
   "id": "2ea473b5",
   "metadata": {},
   "source": [
    "## Start the IP"
   ]
  },
  {
   "cell_type": "code",
   "execution_count": 22,
   "id": "4768a9f2",
   "metadata": {},
   "outputs": [],
   "source": [
    "tl.register_map.CTRL.AP_START = 1"
   ]
  },
  {
   "cell_type": "markdown",
   "id": "77a1c635",
   "metadata": {},
   "source": [
    "If we start the IP once, when the IP completes an iteration DONE will go high once. While the IP is working, AP_IDLE will be 0. In this example, the time for an iteration of the HLS IP is very low so you will probably not see AP_IDLE = 0.\n",
    "\n",
    "Done is cleared when it is read. There is a limitation with the register_map. Multiple reads to the same register may be made to collect the information required for the register_map. This may mean DONE is cleared while the values of some of the other bits and registers are being read and consequentally will not show as high in the register m"
   ]
  },
  {
   "cell_type": "code",
   "execution_count": 23,
   "id": "18fc65ba",
   "metadata": {},
   "outputs": [
    {
     "data": {
      "text/plain": [
       "1"
      ]
     },
     "execution_count": 23,
     "metadata": {},
     "output_type": "execute_result"
    }
   ],
   "source": [
    "tl.register_map.CTRL.AP_DONE"
   ]
  },
  {
   "cell_type": "code",
   "execution_count": 24,
   "id": "bf1cf34a",
   "metadata": {},
   "outputs": [
    {
     "data": {
      "text/plain": [
       "1"
      ]
     },
     "execution_count": 24,
     "metadata": {},
     "output_type": "execute_result"
    }
   ],
   "source": [
    "tl.register_map.CTRL.AP_IDLE"
   ]
  },
  {
   "cell_type": "markdown",
   "id": "9da5d454",
   "metadata": {},
   "source": [
    "If you have a long running HLS IP, you can poll on the DONE bit before continuing with your application."
   ]
  },
  {
   "cell_type": "markdown",
   "id": "e3248ff5",
   "metadata": {},
   "source": [
    "## Check the contents of the memory"
   ]
  },
  {
   "cell_type": "code",
   "execution_count": 25,
   "id": "f78bb870",
   "metadata": {},
   "outputs": [
    {
     "data": {
      "text/plain": [
       "PynqBuffer([7, 7, 7, 7, 7, 7, 7, 7, 7, 7, 7, 7, 7, 7, 7, 7, 7, 7, 7, 7, 7,\n",
       "            7, 7, 7, 7, 7, 7, 7, 7, 7, 7, 7, 7, 7, 7, 7, 7, 7, 7, 7, 7, 7,\n",
       "            7, 7, 7, 7, 7, 7, 7, 7, 7, 7, 7, 7, 7, 7, 7, 7, 7, 7, 7, 7, 7,\n",
       "            7, 7, 7, 7, 7, 7, 7, 7, 7, 7, 7, 7, 7, 7, 7, 7, 7, 7, 7, 7, 7,\n",
       "            7, 7, 7, 7, 7, 7, 7, 7, 7, 7, 7, 7, 7, 7, 7, 7])"
      ]
     },
     "execution_count": 25,
     "metadata": {},
     "output_type": "execute_result"
    }
   ],
   "source": [
    "py_buffer"
   ]
  },
  {
   "cell_type": "code",
   "execution_count": 26,
   "id": "fb8d8511",
   "metadata": {},
   "outputs": [
    {
     "data": {
      "text/plain": [
       "100"
      ]
     },
     "execution_count": 26,
     "metadata": {},
     "output_type": "execute_result"
    }
   ],
   "source": [
    "len(py_buffer)"
   ]
  },
  {
   "cell_type": "code",
   "execution_count": null,
   "id": "1b0b2303",
   "metadata": {},
   "outputs": [],
   "source": [
    "my_ip.register_map.CTRL.AUTO_RESTART = 1"
   ]
  },
  {
   "cell_type": "code",
   "execution_count": null,
   "id": "c257804f",
   "metadata": {},
   "outputs": [],
   "source": [
    "# %xdel in1_vadd\n",
    "# %xdel in2_vadd\n",
    "# %xdel out\n",
    "overlay.free()"
   ]
  },
  {
   "cell_type": "code",
   "execution_count": null,
   "id": "c253c5a4",
   "metadata": {},
   "outputs": [],
   "source": []
  },
  {
   "cell_type": "code",
   "execution_count": null,
   "id": "e812a436",
   "metadata": {},
   "outputs": [],
   "source": []
  },
  {
   "cell_type": "code",
   "execution_count": null,
   "id": "00bcca97",
   "metadata": {},
   "outputs": [],
   "source": []
  },
  {
   "cell_type": "code",
   "execution_count": null,
   "id": "91f88ba9",
   "metadata": {},
   "outputs": [],
   "source": []
  },
  {
   "cell_type": "code",
   "execution_count": null,
   "id": "f90c52dd",
   "metadata": {},
   "outputs": [],
   "source": []
  },
  {
   "cell_type": "markdown",
   "id": "3104455b",
   "metadata": {},
   "source": [
    "# OLD"
   ]
  },
  {
   "cell_type": "code",
   "execution_count": 21,
   "id": "4f6ce153",
   "metadata": {},
   "outputs": [
    {
     "data": {
      "text/plain": [
       "35"
      ]
     },
     "execution_count": 21,
     "metadata": {},
     "output_type": "execute_result"
    }
   ],
   "source": [
    "overlay.scalar_add.add(15, 20)"
   ]
  },
  {
   "cell_type": "code",
   "execution_count": 8,
   "id": "bf52c620",
   "metadata": {},
   "outputs": [
    {
     "data": {
      "text/plain": [
       "9"
      ]
     },
     "execution_count": 8,
     "metadata": {},
     "output_type": "execute_result"
    }
   ],
   "source": [
    "add_ip.write(0x10, 4)\n",
    "add_ip.write(0x18, 5)\n",
    "add_ip.read(0x20)"
   ]
  },
  {
   "cell_type": "code",
   "execution_count": 18,
   "id": "b9422897",
   "metadata": {},
   "outputs": [],
   "source": [
    "from pynq import DefaultIP\n",
    "\n",
    "\n",
    "class AddDriver(DefaultIP):\n",
    "    def __init__(self, description):\n",
    "        super().__init__(description=description)\n",
    "\n",
    "    bindto = [\"xilinx.com:hls:add:1.0\"]\n",
    "\n",
    "    def add(self, a, b):\n",
    "        self.write(0x10, a)\n",
    "        self.write(0x18, b)\n",
    "        return self.read(0x20)"
   ]
  },
  {
   "cell_type": "code",
   "execution_count": 19,
   "id": "cfe97db4",
   "metadata": {},
   "outputs": [],
   "source": [
    "overlay = Overlay(\"/home/xilinx/pynq/overlays/adder/adder.bit\")"
   ]
  },
  {
   "cell_type": "code",
   "execution_count": 20,
   "id": "0e88f4fe",
   "metadata": {},
   "outputs": [
    {
     "name": "stdout",
     "output_type": "stream",
     "text": [
      "Help on Overlay in module pynq.overlay:\n",
      "\n",
      "<pynq.overlay.Overlay object>\n",
      "    Default documentation for overlay /home/xilinx/pynq/overlays/adder/adder.bit. The following\n",
      "    attributes are available on this overlay:\n",
      "    \n",
      "    IP Blocks\n",
      "    ----------\n",
      "    scalar_add           : __main__.AddDriver\n",
      "    processing_system7_0 : pynq.overlay.DefaultIP\n",
      "    \n",
      "    Hierarchies\n",
      "    -----------\n",
      "    None\n",
      "    \n",
      "    Interrupts\n",
      "    ----------\n",
      "    None\n",
      "    \n",
      "    GPIO Outputs\n",
      "    ------------\n",
      "    None\n",
      "    \n",
      "    Memories\n",
      "    ------------\n",
      "    PSDDR                : Memory\n",
      "\n"
     ]
    }
   ],
   "source": [
    "help(overlay)"
   ]
  }
 ],
 "metadata": {
  "kernelspec": {
   "display_name": "Python 3 (ipykernel)",
   "language": "python",
   "name": "python3"
  },
  "language_info": {
   "codemirror_mode": {
    "name": "ipython",
    "version": 3
   },
   "file_extension": ".py",
   "mimetype": "text/x-python",
   "name": "python",
   "nbconvert_exporter": "python",
   "pygments_lexer": "ipython3",
   "version": "3.10.4"
  }
 },
 "nbformat": 4,
 "nbformat_minor": 5
}
