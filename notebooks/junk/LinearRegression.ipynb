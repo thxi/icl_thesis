{
 "cells": [
  {
   "cell_type": "code",
   "execution_count": 1,
   "id": "a92225ac-e89a-4bef-bafb-3558cad5bbc6",
   "metadata": {
    "execution": {
     "iopub.execute_input": "2023-07-11T19:08:46.511621Z",
     "iopub.status.busy": "2023-07-11T19:08:46.508014Z",
     "iopub.status.idle": "2023-07-11T19:08:46.560941Z",
     "shell.execute_reply": "2023-07-11T19:08:46.559565Z",
     "shell.execute_reply.started": "2023-07-11T19:08:46.511434Z"
    }
   },
   "outputs": [],
   "source": [
    "%load_ext autoreload\n",
    "%autoreload 2\n",
    "\n",
    "import sys\n",
    "sys.path.append('..')"
   ]
  },
  {
   "cell_type": "code",
   "execution_count": 3,
   "id": "e49d6af6-8a02-46e4-995f-fb33985c9015",
   "metadata": {
    "execution": {
     "iopub.execute_input": "2023-07-11T19:08:54.717541Z",
     "iopub.status.busy": "2023-07-11T19:08:54.716954Z",
     "iopub.status.idle": "2023-07-11T19:08:55.678455Z",
     "shell.execute_reply": "2023-07-11T19:08:55.677275Z",
     "shell.execute_reply.started": "2023-07-11T19:08:54.717504Z"
    }
   },
   "outputs": [],
   "source": [
    "import numpy as np\n",
    "import pandas as pd\n",
    "import matplotlib.pyplot as plt\n",
    "import seaborn as sns"
   ]
  },
  {
   "cell_type": "code",
   "execution_count": 55,
   "id": "07cbfd10-d0dd-4bf1-9c55-faf09ab55a6f",
   "metadata": {
    "execution": {
     "iopub.execute_input": "2023-07-11T19:16:56.129770Z",
     "iopub.status.busy": "2023-07-11T19:16:56.129365Z",
     "iopub.status.idle": "2023-07-11T19:16:56.161829Z",
     "shell.execute_reply": "2023-07-11T19:16:56.160241Z",
     "shell.execute_reply.started": "2023-07-11T19:16:56.129736Z"
    }
   },
   "outputs": [],
   "source": [
    "from sklearn import datasets, linear_model"
   ]
  },
  {
   "cell_type": "code",
   "execution_count": 60,
   "id": "aa6e8e9c-f0e3-4e9a-b2ff-93a1d22406c3",
   "metadata": {
    "execution": {
     "iopub.execute_input": "2023-07-11T19:17:29.283595Z",
     "iopub.status.busy": "2023-07-11T19:17:29.282645Z",
     "iopub.status.idle": "2023-07-11T19:17:29.322157Z",
     "shell.execute_reply": "2023-07-11T19:17:29.319313Z",
     "shell.execute_reply.started": "2023-07-11T19:17:29.283532Z"
    }
   },
   "outputs": [],
   "source": [
    "np.random.seed(1)\n",
    "\n",
    "N = 1000\n",
    "X = np.random.normal(size=(N, 3), scale=4)\n",
    "# X = np.c_[X, np.ones(N)]\n",
    "beta = np.array([1, 2, 3, 2.5])\n",
    "eps = np.random.normal(size=N, scale=0.1)\n",
    "Y = X.dot(beta[:-1]) + beta[-1] + eps "
   ]
  },
  {
   "cell_type": "code",
   "execution_count": 61,
   "id": "052e2b41-f935-4ce4-96c5-c68b277e5420",
   "metadata": {
    "execution": {
     "iopub.execute_input": "2023-07-11T19:17:31.192173Z",
     "iopub.status.busy": "2023-07-11T19:17:31.191777Z",
     "iopub.status.idle": "2023-07-11T19:17:31.493462Z",
     "shell.execute_reply": "2023-07-11T19:17:31.491845Z",
     "shell.execute_reply.started": "2023-07-11T19:17:31.192138Z"
    }
   },
   "outputs": [
    {
     "data": {
      "image/png": "[encoded data removed]",
      "text/plain": [
       "<Figure size 400x400 with 1 Axes>"
      ]
     },
     "metadata": {},
     "output_type": "display_data"
    }
   ],
   "source": [
    "fig,axs=plt.subplots(1, 1, figsize=(4, 4))\n",
    "plt.scatter(X[:, 2], Y);\n",
    "plt.tight_layout();"
   ]
  },
  {
   "cell_type": "code",
   "execution_count": 62,
   "id": "685e08db-e4d8-4b18-a300-2948830553eb",
   "metadata": {
    "execution": {
     "iopub.execute_input": "2023-07-11T19:17:31.854380Z",
     "iopub.status.busy": "2023-07-11T19:17:31.853912Z",
     "iopub.status.idle": "2023-07-11T19:17:31.891418Z",
     "shell.execute_reply": "2023-07-11T19:17:31.889641Z",
     "shell.execute_reply.started": "2023-07-11T19:17:31.854341Z"
    }
   },
   "outputs": [
    {
     "name": "stdout",
     "output_type": "stream",
     "text": [
      "[1.00032787 2.00059057 3.00034005]\n",
      "2.500290593549309\n"
     ]
    }
   ],
   "source": [
    "from sklearn.linear_model import LinearRegression\n",
    "reg = LinearRegression().fit(X, Y)\n",
    "print(reg.coef_)\n",
    "print(reg.intercept_)"
   ]
  },
  {
   "cell_type": "markdown",
   "id": "4a8242d1-c57f-42b6-82d0-7aea84f58d9b",
   "metadata": {},
   "source": [
    "now move those weights onto the design"
   ]
  },
  {
   "cell_type": "markdown",
   "id": "a5cf1785-68bf-43c0-8352-427ab0341d67",
   "metadata": {},
   "source": [
    "firstly, create a Vitis HLS project"
   ]
  },
  {
   "cell_type": "code",
   "execution_count": null,
   "id": "9467ae3e-d8e3-442e-988d-878449881904",
   "metadata": {},
   "outputs": [],
   "source": []
  }
 ],
 "metadata": {
  "kernelspec": {
   "display_name": "Python 3 (ipykernel)",
   "language": "python",
   "name": "python3"
  },
  "language_info": {
   "codemirror_mode": {
    "name": "ipython",
    "version": 3
   },
   "file_extension": ".py",
   "mimetype": "text/x-python",
   "name": "python",
   "nbconvert_exporter": "python",
   "pygments_lexer": "ipython3",
   "version": "3.10.12"
  }
 },
 "nbformat": 4,
 "nbformat_minor": 5
}
