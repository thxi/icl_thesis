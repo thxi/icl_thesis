{
 "cells": [
  {
   "cell_type": "code",
   "execution_count": 1,
   "id": "05469c9b-ecdc-4147-9cda-97529851345b",
   "metadata": {
    "execution": {
     "iopub.execute_input": "2023-07-19T16:50:37.727680Z",
     "iopub.status.busy": "2023-07-19T16:50:37.727287Z",
     "iopub.status.idle": "2023-07-19T16:50:37.766175Z",
     "shell.execute_reply": "2023-07-19T16:50:37.764976Z",
     "shell.execute_reply.started": "2023-07-19T16:50:37.727646Z"
    }
   },
   "outputs": [],
   "source": [
    "%load_ext autoreload\n",
    "%autoreload 2\n",
    "\n",
    "import sys\n",
    "\n",
    "sys.path.append(\"..\")"
   ]
  },
  {
   "cell_type": "code",
   "execution_count": 2,
   "id": "00a4078a-7811-4cdb-85ec-460ed1ccbde6",
   "metadata": {
    "execution": {
     "iopub.execute_input": "2023-07-19T16:50:37.767610Z",
     "iopub.status.busy": "2023-07-19T16:50:37.767303Z",
     "iopub.status.idle": "2023-07-19T16:50:39.822011Z",
     "shell.execute_reply": "2023-07-19T16:50:39.820909Z",
     "shell.execute_reply.started": "2023-07-19T16:50:37.767580Z"
    }
   },
   "outputs": [],
   "source": [
    "import matplotlib.pyplot as plt\n",
    "import numpy as np\n",
    "import pandas as pd\n",
    "import seaborn as sns"
   ]
  },
  {
   "cell_type": "code",
   "execution_count": 3,
   "id": "3a42bfb8-8897-43ae-81ce-47886ee63fdc",
   "metadata": {
    "execution": {
     "iopub.execute_input": "2023-07-19T16:50:39.823631Z",
     "iopub.status.busy": "2023-07-19T16:50:39.823209Z",
     "iopub.status.idle": "2023-07-19T16:50:39.867504Z",
     "shell.execute_reply": "2023-07-19T16:50:39.866192Z",
     "shell.execute_reply.started": "2023-07-19T16:50:39.823598Z"
    }
   },
   "outputs": [],
   "source": [
    "from tqdm.auto import tqdm"
   ]
  },
  {
   "cell_type": "markdown",
   "id": "8c1aac91-2977-49d0-83a4-12811a925dcf",
   "metadata": {},
   "source": [
    "## tf"
   ]
  },
  {
   "cell_type": "markdown",
   "id": "ee2d60d9-dc33-42e2-8872-0755778dea1f",
   "metadata": {},
   "source": [
    "https://sebastianraschka.com/blog/2023/self-attention-from-scratch.html"
   ]
  },
  {
   "cell_type": "code",
   "execution_count": 4,
   "id": "44661c05-667b-4b36-b4f6-b49b0d789daf",
   "metadata": {
    "execution": {
     "iopub.execute_input": "2023-07-19T16:50:39.871244Z",
     "iopub.status.busy": "2023-07-19T16:50:39.870892Z",
     "iopub.status.idle": "2023-07-19T16:50:39.902949Z",
     "shell.execute_reply": "2023-07-19T16:50:39.901353Z",
     "shell.execute_reply.started": "2023-07-19T16:50:39.871210Z"
    }
   },
   "outputs": [
    {
     "name": "stdout",
     "output_type": "stream",
     "text": [
      "{'Life': 0, 'dessert': 1, 'eat': 2, 'first': 3, 'is': 4, 'short': 5}\n"
     ]
    }
   ],
   "source": [
    "sentence = 'Life is short, eat dessert first'\n",
    "\n",
    "dc = {s:i for i,s in enumerate(sorted(sentence.replace(',', '').split()))}\n",
    "print(dc)"
   ]
  },
  {
   "cell_type": "code",
   "execution_count": 5,
   "id": "c57b6fdc-7750-4397-81c9-b3b8014cafdf",
   "metadata": {
    "execution": {
     "iopub.execute_input": "2023-07-19T16:50:39.905583Z",
     "iopub.status.busy": "2023-07-19T16:50:39.904686Z",
     "iopub.status.idle": "2023-07-19T16:50:42.321403Z",
     "shell.execute_reply": "2023-07-19T16:50:42.319926Z",
     "shell.execute_reply.started": "2023-07-19T16:50:39.905547Z"
    }
   },
   "outputs": [
    {
     "name": "stdout",
     "output_type": "stream",
     "text": [
      "tensor([0, 4, 5, 2, 1, 3])\n"
     ]
    }
   ],
   "source": [
    "import torch\n",
    "\n",
    "sentence_int = torch.tensor([dc[s] for s in sentence.replace(',', '').split()])\n",
    "print(sentence_int)"
   ]
  },
  {
   "cell_type": "code",
   "execution_count": 6,
   "id": "849abbaa-ee84-4944-b19b-b4b18bc3f1ab",
   "metadata": {
    "execution": {
     "iopub.execute_input": "2023-07-19T16:50:42.324093Z",
     "iopub.status.busy": "2023-07-19T16:50:42.323335Z",
     "iopub.status.idle": "2023-07-19T16:50:42.400259Z",
     "shell.execute_reply": "2023-07-19T16:50:42.399042Z",
     "shell.execute_reply.started": "2023-07-19T16:50:42.324042Z"
    }
   },
   "outputs": [
    {
     "name": "stdout",
     "output_type": "stream",
     "text": [
      "tensor([[ 0.3374, -0.1778, -0.3035, -0.5880],\n",
      "        [-0.7849, -1.4096, -0.4076,  0.7953],\n",
      "        [ 0.9985,  0.2212,  1.8319, -0.3378],\n",
      "        [-0.1606, -0.4015,  0.6957, -1.8061],\n",
      "        [ 0.3486,  0.6603, -0.2196, -0.3792],\n",
      "        [ 1.8960, -0.1750,  1.3689, -1.6033]])\n",
      "torch.Size([6, 4])\n"
     ]
    }
   ],
   "source": [
    "torch.manual_seed(123)\n",
    "embed = torch.nn.Embedding(6, 4)\n",
    "embedded_sentence = embed(sentence_int).detach()\n",
    "\n",
    "print(embedded_sentence)\n",
    "print(embedded_sentence.shape)"
   ]
  },
  {
   "cell_type": "code",
   "execution_count": 7,
   "id": "f1f3a3a9-bc84-4421-9aca-f0e623f9d0de",
   "metadata": {
    "execution": {
     "iopub.execute_input": "2023-07-19T16:50:42.401818Z",
     "iopub.status.busy": "2023-07-19T16:50:42.401461Z",
     "iopub.status.idle": "2023-07-19T16:50:42.471549Z",
     "shell.execute_reply": "2023-07-19T16:50:42.469921Z",
     "shell.execute_reply.started": "2023-07-19T16:50:42.401785Z"
    }
   },
   "outputs": [],
   "source": [
    "torch.manual_seed(123)\n",
    "\n",
    "d = embedded_sentence.shape[1]\n",
    "\n",
    "d_q, d_k, d_v = 5, 5, 7\n",
    "\n",
    "W_query = torch.nn.Parameter(torch.rand(d_q, d))\n",
    "W_key = torch.nn.Parameter(torch.rand(d_k, d))\n",
    "W_value = torch.nn.Parameter(torch.rand(d_v, d))"
   ]
  },
  {
   "cell_type": "code",
   "execution_count": 8,
   "id": "81a966af-9234-4e0f-82bb-78b2b2809b64",
   "metadata": {
    "execution": {
     "iopub.execute_input": "2023-07-19T16:50:42.473191Z",
     "iopub.status.busy": "2023-07-19T16:50:42.472838Z",
     "iopub.status.idle": "2023-07-19T16:50:42.523939Z",
     "shell.execute_reply": "2023-07-19T16:50:42.522781Z",
     "shell.execute_reply.started": "2023-07-19T16:50:42.473157Z"
    }
   },
   "outputs": [
    {
     "data": {
      "text/plain": [
       "(torch.Size([5, 4]), torch.Size([6, 4]))"
      ]
     },
     "execution_count": 8,
     "metadata": {},
     "output_type": "execute_result"
    }
   ],
   "source": [
    "W_query.shape, embedded_sentence.shape"
   ]
  },
  {
   "cell_type": "code",
   "execution_count": 9,
   "id": "73b129b9-4fd5-44a7-bf33-8d276d3ce72b",
   "metadata": {
    "execution": {
     "iopub.execute_input": "2023-07-19T16:50:42.525530Z",
     "iopub.status.busy": "2023-07-19T16:50:42.525189Z",
     "iopub.status.idle": "2023-07-19T16:50:42.583159Z",
     "shell.execute_reply": "2023-07-19T16:50:42.582059Z",
     "shell.execute_reply.started": "2023-07-19T16:50:42.525498Z"
    }
   },
   "outputs": [
    {
     "name": "stdout",
     "output_type": "stream",
     "text": [
      "torch.Size([5])\n",
      "torch.Size([5])\n",
      "torch.Size([7])\n"
     ]
    }
   ],
   "source": [
    "x_2 = embedded_sentence[1]\n",
    "query_2 = W_query.matmul(x_2)\n",
    "key_2 = W_key.matmul(x_2)\n",
    "value_2 = W_value.matmul(x_2)\n",
    "\n",
    "print(query_2.shape)\n",
    "print(key_2.shape)\n",
    "print(value_2.shape)"
   ]
  },
  {
   "cell_type": "code",
   "execution_count": 10,
   "id": "dee2d58f-acb7-497f-ab8a-fc9fec415657",
   "metadata": {
    "execution": {
     "iopub.execute_input": "2023-07-19T16:50:42.585502Z",
     "iopub.status.busy": "2023-07-19T16:50:42.584646Z",
     "iopub.status.idle": "2023-07-19T16:50:42.647939Z",
     "shell.execute_reply": "2023-07-19T16:50:42.645715Z",
     "shell.execute_reply.started": "2023-07-19T16:50:42.585443Z"
    }
   },
   "outputs": [
    {
     "name": "stdout",
     "output_type": "stream",
     "text": [
      "queries.shape: torch.Size([6, 5])\n",
      "keys.shape: torch.Size([6, 5])\n",
      "values.shape: torch.Size([6, 7])\n"
     ]
    }
   ],
   "source": [
    "queries = W_query.matmul(embedded_sentence.T).T\n",
    "keys = W_key.matmul(embedded_sentence.T).T\n",
    "values = W_value.matmul(embedded_sentence.T).T\n",
    "\n",
    "print(\"queries.shape:\", queries.shape)\n",
    "print(\"keys.shape:\", keys.shape)\n",
    "print(\"values.shape:\", values.shape)"
   ]
  },
  {
   "cell_type": "markdown",
   "id": "3bedff0f-1fac-4213-9f6c-1bd7c2323ac1",
   "metadata": {},
   "source": [
    "for a single observation"
   ]
  },
  {
   "cell_type": "code",
   "execution_count": 11,
   "id": "311c4c04-9656-4dc5-8459-ca62963a7823",
   "metadata": {
    "execution": {
     "iopub.execute_input": "2023-07-19T16:50:42.649690Z",
     "iopub.status.busy": "2023-07-19T16:50:42.649331Z",
     "iopub.status.idle": "2023-07-19T16:50:42.695583Z",
     "shell.execute_reply": "2023-07-19T16:50:42.694161Z",
     "shell.execute_reply.started": "2023-07-19T16:50:42.649656Z"
    }
   },
   "outputs": [],
   "source": [
    "x_2 = embedded_sentence[1]\n",
    "query_2 = W_query.matmul(x_2)\n",
    "key_2 = W_key.matmul(x_2)\n",
    "value_2 = W_value.matmul(x_2)"
   ]
  },
  {
   "cell_type": "code",
   "execution_count": 12,
   "id": "becab95a-8f46-4d7c-9113-170370a58ba4",
   "metadata": {
    "execution": {
     "iopub.execute_input": "2023-07-19T16:50:42.698719Z",
     "iopub.status.busy": "2023-07-19T16:50:42.698202Z",
     "iopub.status.idle": "2023-07-19T16:50:42.744018Z",
     "shell.execute_reply": "2023-07-19T16:50:42.742502Z",
     "shell.execute_reply.started": "2023-07-19T16:50:42.698659Z"
    }
   },
   "outputs": [
    {
     "name": "stdout",
     "output_type": "stream",
     "text": [
      "tensor([ 1.7991,  2.0504, -4.0754,  4.5862, -0.2397, -0.7732],\n",
      "       grad_fn=<SqueezeBackward4>)\n"
     ]
    }
   ],
   "source": [
    "omega_2 = query_2.matmul(keys.T)\n",
    "print(omega_2)"
   ]
  },
  {
   "cell_type": "code",
   "execution_count": 13,
   "id": "d112229f-5104-4684-8cc2-4c83befc60cf",
   "metadata": {
    "execution": {
     "iopub.execute_input": "2023-07-19T16:50:42.751951Z",
     "iopub.status.busy": "2023-07-19T16:50:42.751313Z",
     "iopub.status.idle": "2023-07-19T16:50:42.797221Z",
     "shell.execute_reply": "2023-07-19T16:50:42.795987Z",
     "shell.execute_reply.started": "2023-07-19T16:50:42.751893Z"
    }
   },
   "outputs": [
    {
     "name": "stdout",
     "output_type": "stream",
     "text": [
      "tensor([0.1566, 0.1752, 0.0113, 0.5445, 0.0629, 0.0496],\n",
      "       grad_fn=<SoftmaxBackward0>)\n"
     ]
    }
   ],
   "source": [
    "import torch.nn.functional as F\n",
    "\n",
    "attention_weights_2 = F.softmax(omega_2 / d_k**0.5, dim=0)\n",
    "print(attention_weights_2)"
   ]
  },
  {
   "cell_type": "code",
   "execution_count": 14,
   "id": "ed270625-3a12-45a9-bed9-39057f0d7a8f",
   "metadata": {
    "execution": {
     "iopub.execute_input": "2023-07-19T16:50:42.799316Z",
     "iopub.status.busy": "2023-07-19T16:50:42.798970Z",
     "iopub.status.idle": "2023-07-19T16:50:42.844204Z",
     "shell.execute_reply": "2023-07-19T16:50:42.842575Z",
     "shell.execute_reply.started": "2023-07-19T16:50:42.799283Z"
    }
   },
   "outputs": [
    {
     "data": {
      "text/plain": [
       "torch.Size([7, 4])"
      ]
     },
     "execution_count": 14,
     "metadata": {},
     "output_type": "execute_result"
    }
   ],
   "source": [
    "W_value.shape"
   ]
  },
  {
   "cell_type": "code",
   "execution_count": 15,
   "id": "56d4eef0-8026-4377-b6f7-c0a9629928bd",
   "metadata": {
    "execution": {
     "iopub.execute_input": "2023-07-19T16:50:42.848280Z",
     "iopub.status.busy": "2023-07-19T16:50:42.846499Z",
     "iopub.status.idle": "2023-07-19T16:50:42.920799Z",
     "shell.execute_reply": "2023-07-19T16:50:42.918537Z",
     "shell.execute_reply.started": "2023-07-19T16:50:42.848213Z"
    }
   },
   "outputs": [
    {
     "data": {
      "text/plain": [
       "torch.Size([6, 7])"
      ]
     },
     "execution_count": 15,
     "metadata": {},
     "output_type": "execute_result"
    }
   ],
   "source": [
    "values.shape"
   ]
  },
  {
   "cell_type": "code",
   "execution_count": 16,
   "id": "429f4ae5-30bf-42f4-abd9-1034bb3d5082",
   "metadata": {
    "execution": {
     "iopub.execute_input": "2023-07-19T16:50:42.924102Z",
     "iopub.status.busy": "2023-07-19T16:50:42.923408Z",
     "iopub.status.idle": "2023-07-19T16:50:42.984591Z",
     "shell.execute_reply": "2023-07-19T16:50:42.982776Z",
     "shell.execute_reply.started": "2023-07-19T16:50:42.924041Z"
    }
   },
   "outputs": [
    {
     "name": "stdout",
     "output_type": "stream",
     "text": [
      "torch.Size([6, 7])\n",
      "torch.Size([7])\n",
      "tensor([-0.9881, -0.7193, -0.8198, -0.2363, -0.3548, -0.6055, -0.5877],\n",
      "       grad_fn=<SqueezeBackward4>)\n"
     ]
    }
   ],
   "source": [
    "context_vector_2 = attention_weights_2.matmul(values)\n",
    "\n",
    "print(values.shape)\n",
    "print(context_vector_2.shape)\n",
    "print(context_vector_2)"
   ]
  },
  {
   "attachments": {
    "4538a0d8-aaa1-4e7a-95e5-e61af44d048a.png": {
     "image/png": "[encoded data removed]"
    }
   },
   "cell_type": "markdown",
   "id": "92261658-02da-418b-836c-a015af6ff77a",
   "metadata": {},
   "source": [
    "![image.png](attachment:4538a0d8-aaa1-4e7a-95e5-e61af44d048a.png)"
   ]
  },
  {
   "cell_type": "code",
   "execution_count": 17,
   "id": "d51b9440-3372-4119-966c-d2bb64eea586",
   "metadata": {
    "execution": {
     "iopub.execute_input": "2023-07-19T16:50:42.987065Z",
     "iopub.status.busy": "2023-07-19T16:50:42.986513Z",
     "iopub.status.idle": "2023-07-19T16:50:43.041021Z",
     "shell.execute_reply": "2023-07-19T16:50:43.039573Z",
     "shell.execute_reply.started": "2023-07-19T16:50:42.986998Z"
    }
   },
   "outputs": [],
   "source": [
    "# attention_weights = keys.T.matmul(queries).T\n",
    "\n",
    "unnorm_attention_weights = queries.matmul(keys.T)"
   ]
  },
  {
   "cell_type": "code",
   "execution_count": 18,
   "id": "31cfd9fe-f76a-4485-b0c5-a7f4345b064e",
   "metadata": {
    "execution": {
     "iopub.execute_input": "2023-07-19T16:50:43.042501Z",
     "iopub.status.busy": "2023-07-19T16:50:43.042165Z",
     "iopub.status.idle": "2023-07-19T16:50:43.102374Z",
     "shell.execute_reply": "2023-07-19T16:50:43.100821Z",
     "shell.execute_reply.started": "2023-07-19T16:50:43.042469Z"
    }
   },
   "outputs": [
    {
     "data": {
      "text/plain": [
       "tensor([[ 1.0418,  1.5747, -3.3146,  2.4804, -0.1719, -1.5238],\n",
       "        [ 1.7991,  2.0504, -4.0754,  4.5862, -0.2397, -0.7732],\n",
       "        [-1.5021, -2.3332,  4.6376, -3.5735,  0.3017,  2.0320],\n",
       "        [ 2.3717,  3.5021, -7.6047,  5.7713, -0.3497, -3.5458],\n",
       "        [-0.5622, -0.4945,  0.9795, -1.5021,  0.0521, -0.0882],\n",
       "        [ 0.5737,  0.7771, -1.9304,  1.3730, -0.0330, -0.9634]],\n",
       "       grad_fn=<MmBackward0>)"
      ]
     },
     "execution_count": 18,
     "metadata": {},
     "output_type": "execute_result"
    }
   ],
   "source": [
    "unnorm_attention_weights"
   ]
  },
  {
   "cell_type": "code",
   "execution_count": 19,
   "id": "9c874f4a-bac0-4c04-9960-cd938492bf25",
   "metadata": {
    "execution": {
     "iopub.execute_input": "2023-07-19T16:50:43.104330Z",
     "iopub.status.busy": "2023-07-19T16:50:43.103979Z",
     "iopub.status.idle": "2023-07-19T16:50:43.160111Z",
     "shell.execute_reply": "2023-07-19T16:50:43.158532Z",
     "shell.execute_reply.started": "2023-07-19T16:50:43.104296Z"
    }
   },
   "outputs": [],
   "source": [
    "attention_weights = F.softmax(unnorm_attention_weights / d_k**0.5, dim=1)"
   ]
  },
  {
   "cell_type": "code",
   "execution_count": 20,
   "id": "2a452ce1-9a70-4e51-81b3-ff929c9b83d4",
   "metadata": {
    "execution": {
     "iopub.execute_input": "2023-07-19T16:50:43.162402Z",
     "iopub.status.busy": "2023-07-19T16:50:43.162038Z",
     "iopub.status.idle": "2023-07-19T16:50:43.207128Z",
     "shell.execute_reply": "2023-07-19T16:50:43.205489Z",
     "shell.execute_reply.started": "2023-07-19T16:50:43.162370Z"
    }
   },
   "outputs": [
    {
     "data": {
      "text/plain": [
       "tensor([[0.1918, 0.2434, 0.0273, 0.3650, 0.1115, 0.0609],\n",
       "        [0.1566, 0.1752, 0.0113, 0.5445, 0.0629, 0.0496],\n",
       "        [0.0404, 0.0279, 0.6291, 0.0160, 0.0905, 0.1962],\n",
       "        [0.1314, 0.2178, 0.0015, 0.6010, 0.0389, 0.0093],\n",
       "        [0.1383, 0.1425, 0.2755, 0.0908, 0.1820, 0.1709],\n",
       "        [0.1954, 0.2141, 0.0638, 0.2794, 0.1490, 0.0983]],\n",
       "       grad_fn=<SoftmaxBackward0>)"
      ]
     },
     "execution_count": 20,
     "metadata": {},
     "output_type": "execute_result"
    }
   ],
   "source": [
    "attention_weights"
   ]
  },
  {
   "cell_type": "code",
   "execution_count": 21,
   "id": "7109d258-c0bf-4794-af7a-dda64eeb3e6f",
   "metadata": {
    "execution": {
     "iopub.execute_input": "2023-07-19T16:50:43.209808Z",
     "iopub.status.busy": "2023-07-19T16:50:43.209181Z",
     "iopub.status.idle": "2023-07-19T16:50:43.265802Z",
     "shell.execute_reply": "2023-07-19T16:50:43.264447Z",
     "shell.execute_reply.started": "2023-07-19T16:50:43.209753Z"
    }
   },
   "outputs": [
    {
     "name": "stdout",
     "output_type": "stream",
     "text": [
      "tensor([0.1918, 0.2434, 0.0273, 0.3650, 0.1115, 0.0609],\n",
      "       grad_fn=<SoftmaxBackward0>)\n",
      "tensor([0.1566, 0.1752, 0.0113, 0.5445, 0.0629, 0.0496],\n",
      "       grad_fn=<SoftmaxBackward0>)\n",
      "tensor([0.0404, 0.0279, 0.6291, 0.0160, 0.0905, 0.1962],\n",
      "       grad_fn=<SoftmaxBackward0>)\n",
      "tensor([0.1314, 0.2178, 0.0015, 0.6010, 0.0389, 0.0093],\n",
      "       grad_fn=<SoftmaxBackward0>)\n",
      "tensor([0.1383, 0.1425, 0.2755, 0.0908, 0.1820, 0.1709],\n",
      "       grad_fn=<SoftmaxBackward0>)\n",
      "tensor([0.1954, 0.2141, 0.0638, 0.2794, 0.1490, 0.0983],\n",
      "       grad_fn=<SoftmaxBackward0>)\n"
     ]
    }
   ],
   "source": [
    "for j in range(6):\n",
    "    a = F.softmax(unnorm_attention_weights[j] / d_k**0.5, dim=0)\n",
    "    print(a)"
   ]
  },
  {
   "cell_type": "code",
   "execution_count": 22,
   "id": "9ca9d6ee-1652-410a-9c9e-8fb2aee5350b",
   "metadata": {
    "execution": {
     "iopub.execute_input": "2023-07-19T16:50:43.268015Z",
     "iopub.status.busy": "2023-07-19T16:50:43.267181Z",
     "iopub.status.idle": "2023-07-19T16:50:43.319486Z",
     "shell.execute_reply": "2023-07-19T16:50:43.317839Z",
     "shell.execute_reply.started": "2023-07-19T16:50:43.267974Z"
    }
   },
   "outputs": [],
   "source": [
    "z = attention_weights.matmul(values)"
   ]
  },
  {
   "cell_type": "code",
   "execution_count": 23,
   "id": "0be686c1-8b27-4740-bb04-59934ed0eb69",
   "metadata": {
    "execution": {
     "iopub.execute_input": "2023-07-19T16:50:43.321647Z",
     "iopub.status.busy": "2023-07-19T16:50:43.321133Z",
     "iopub.status.idle": "2023-07-19T16:50:43.373843Z",
     "shell.execute_reply": "2023-07-19T16:50:43.372182Z",
     "shell.execute_reply.started": "2023-07-19T16:50:43.321599Z"
    }
   },
   "outputs": [
    {
     "name": "stdout",
     "output_type": "stream",
     "text": [
      "torch.Size([6, 7])\n"
     ]
    }
   ],
   "source": [
    "print(z.shape)"
   ]
  },
  {
   "cell_type": "code",
   "execution_count": 40,
   "id": "bfaeeb0d-c04c-462d-80cb-a26e39913f81",
   "metadata": {
    "execution": {
     "iopub.execute_input": "2023-07-19T17:22:07.909016Z",
     "iopub.status.busy": "2023-07-19T17:22:07.905730Z",
     "iopub.status.idle": "2023-07-19T17:22:07.981785Z",
     "shell.execute_reply": "2023-07-19T17:22:07.980359Z",
     "shell.execute_reply.started": "2023-07-19T17:22:07.908900Z"
    }
   },
   "outputs": [
    {
     "data": {
      "text/plain": [
       "tensor([[-0.7218, -0.5704, -0.6733, -0.2535, -0.3824, -0.5305, -0.4826],\n",
       "        [-0.9881, -0.7193, -0.8198, -0.2363, -0.3548, -0.6055, -0.5877],\n",
       "        [ 0.4959,  0.7714,  1.6358,  1.2920,  0.9780,  0.6345,  0.6342],\n",
       "        [-1.0624, -0.8349, -1.0408, -0.4040, -0.4833, -0.7684, -0.6821],\n",
       "        [-0.0410,  0.1619,  0.5644,  0.5515,  0.3053,  0.1617,  0.1187],\n",
       "        [-0.5647, -0.3948, -0.3745, -0.0573, -0.2218, -0.3375, -0.3398]],\n",
       "       grad_fn=<MmBackward0>)"
      ]
     },
     "execution_count": 40,
     "metadata": {},
     "output_type": "execute_result"
    }
   ],
   "source": [
    "z"
   ]
  },
  {
   "cell_type": "markdown",
   "id": "66630d5f-4698-48ba-9f24-199717907eee",
   "metadata": {
    "execution": {
     "iopub.execute_input": "2023-07-19T16:09:58.077684Z",
     "iopub.status.busy": "2023-07-19T16:09:58.076568Z",
     "iopub.status.idle": "2023-07-19T16:09:58.127220Z",
     "shell.execute_reply": "2023-07-19T16:09:58.125068Z",
     "shell.execute_reply.started": "2023-07-19T16:09:58.077615Z"
    }
   },
   "source": [
    "## export weights to file"
   ]
  },
  {
   "cell_type": "code",
   "execution_count": 24,
   "id": "b1146e62-7930-41d0-a9e0-ccbc6fc545f5",
   "metadata": {
    "execution": {
     "iopub.execute_input": "2023-07-19T16:50:43.377051Z",
     "iopub.status.busy": "2023-07-19T16:50:43.376423Z",
     "iopub.status.idle": "2023-07-19T16:50:43.432453Z",
     "shell.execute_reply": "2023-07-19T16:50:43.430466Z",
     "shell.execute_reply.started": "2023-07-19T16:50:43.376990Z"
    }
   },
   "outputs": [],
   "source": [
    "from pathlib import Path\n",
    "\n",
    "DATA_DIR = Path(\"../data/vitis_hls\")"
   ]
  },
  {
   "cell_type": "code",
   "execution_count": 25,
   "id": "c1dd6c96-e2ab-4e03-903c-f69131440282",
   "metadata": {
    "execution": {
     "iopub.execute_input": "2023-07-19T16:50:43.434903Z",
     "iopub.status.busy": "2023-07-19T16:50:43.434465Z",
     "iopub.status.idle": "2023-07-19T16:50:43.483172Z",
     "shell.execute_reply": "2023-07-19T16:50:43.482115Z",
     "shell.execute_reply.started": "2023-07-19T16:50:43.434848Z"
    }
   },
   "outputs": [],
   "source": [
    "to_export = [\n",
    "    (W_query, 'W_query'),\n",
    "    (W_key, 'W_key'),\n",
    "    (W_value, 'W_value'),\n",
    "    (z, 'z'),\n",
    "    (embedded_sentence, 'x')\n",
    "]"
   ]
  },
  {
   "cell_type": "code",
   "execution_count": 26,
   "id": "0313e5a2-78aa-41b3-a5a0-50d9f800acee",
   "metadata": {
    "execution": {
     "iopub.execute_input": "2023-07-19T16:50:43.485426Z",
     "iopub.status.busy": "2023-07-19T16:50:43.484697Z",
     "iopub.status.idle": "2023-07-19T16:50:43.537461Z",
     "shell.execute_reply": "2023-07-19T16:50:43.535488Z",
     "shell.execute_reply.started": "2023-07-19T16:50:43.485374Z"
    }
   },
   "outputs": [],
   "source": [
    "def array_to_file(p):\n",
    "    a = p[0].detach().numpy()\n",
    "    filename = p[1]\n",
    "    with open(DATA_DIR / filename, 'w') as f:\n",
    "        a.tofile(f, sep=' ')"
   ]
  },
  {
   "cell_type": "code",
   "execution_count": 27,
   "id": "262dfe57-9901-4d4d-83c5-9145af7c5916",
   "metadata": {
    "execution": {
     "iopub.execute_input": "2023-07-19T16:50:43.540649Z",
     "iopub.status.busy": "2023-07-19T16:50:43.539924Z",
     "iopub.status.idle": "2023-07-19T16:50:43.612599Z",
     "shell.execute_reply": "2023-07-19T16:50:43.610554Z",
     "shell.execute_reply.started": "2023-07-19T16:50:43.540583Z"
    }
   },
   "outputs": [],
   "source": [
    "for p in to_export:\n",
    "    array_to_file(p)"
   ]
  },
  {
   "cell_type": "code",
   "execution_count": 39,
   "id": "7e0a98b1-da86-4407-b461-4a8862c58c20",
   "metadata": {
    "execution": {
     "iopub.execute_input": "2023-07-19T17:10:35.805868Z",
     "iopub.status.busy": "2023-07-19T17:10:35.803533Z",
     "iopub.status.idle": "2023-07-19T17:10:35.859718Z",
     "shell.execute_reply": "2023-07-19T17:10:35.857907Z",
     "shell.execute_reply.started": "2023-07-19T17:10:35.805714Z"
    }
   },
   "outputs": [
    {
     "data": {
      "text/plain": [
       "tensor([[-0.7218, -0.5704, -0.6733, -0.2535, -0.3824, -0.5305, -0.4826],\n",
       "        [-0.9881, -0.7193, -0.8198, -0.2363, -0.3548, -0.6055, -0.5877],\n",
       "        [ 0.4959,  0.7714,  1.6358,  1.2920,  0.9780,  0.6345,  0.6342],\n",
       "        [-1.0624, -0.8349, -1.0408, -0.4040, -0.4833, -0.7684, -0.6821],\n",
       "        [-0.0410,  0.1619,  0.5644,  0.5515,  0.3053,  0.1617,  0.1187],\n",
       "        [-0.5647, -0.3948, -0.3745, -0.0573, -0.2218, -0.3375, -0.3398]],\n",
       "       grad_fn=<MmBackward0>)"
      ]
     },
     "execution_count": 39,
     "metadata": {},
     "output_type": "execute_result"
    }
   ],
   "source": [
    "z"
   ]
  },
  {
   "cell_type": "code",
   "execution_count": null,
   "id": "69f2f5d7-5bb1-41c6-ad09-afd33f26c7da",
   "metadata": {},
   "outputs": [],
   "source": []
  }
 ],
 "metadata": {
  "kernelspec": {
   "display_name": "Python 3 (ipykernel)",
   "language": "python",
   "name": "python3"
  },
  "language_info": {
   "codemirror_mode": {
    "name": "ipython",
    "version": 3
   },
   "file_extension": ".py",
   "mimetype": "text/x-python",
   "name": "python",
   "nbconvert_exporter": "python",
   "pygments_lexer": "ipython3",
   "version": "3.10.12"
  }
 },
 "nbformat": 4,
 "nbformat_minor": 5
}
